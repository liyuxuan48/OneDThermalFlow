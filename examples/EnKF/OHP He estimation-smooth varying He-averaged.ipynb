{
 "cells": [
  {
   "cell_type": "markdown",
   "metadata": {},
   "source": [
    "## OHP He estimation-smooth varying He-averaged"
   ]
  },
  {
   "cell_type": "markdown",
   "metadata": {},
   "source": [
    "In this notebook, each EnKF has 30 ensemble members. But we perform the EnKF 10 times to get a smoother He curve, thus we have 300 ensemble members in total.\n",
    "\n",
    "The data is post-processed as if we perform one single 300-ensemble-member EnKF."
   ]
  },
  {
   "cell_type": "code",
   "execution_count": 1,
   "metadata": {
    "scrolled": true
   },
   "outputs": [
    {
     "data": {
      "text/plain": [
       "Plots.PyPlotBackend()"
      ]
     },
     "execution_count": 1,
     "metadata": {},
     "output_type": "execute_result"
    }
   ],
   "source": [
    "using Plots\n",
    "pyplot()"
   ]
  },
  {
   "cell_type": "code",
   "execution_count": 2,
   "metadata": {},
   "outputs": [],
   "source": [
    "using Revise\n",
    "using EnKF\n",
    "using Distributions\n",
    "using DocStringExtensions\n",
    "using LinearAlgebra\n",
    "using ProgressMeter\n",
    "using DifferentialEquations\n",
    "using Images"
   ]
  },
  {
   "cell_type": "code",
   "execution_count": 3,
   "metadata": {},
   "outputs": [],
   "source": [
    "cd(dirname(pwd()))\n",
    "cd(dirname(pwd()))\n",
    "cd(\"src\") \n",
    "\n",
    "\n",
    "include(\"Systems.jl\")\n",
    "using ..Systems\n",
    "\n",
    "include(\"Tools.jl\")\n",
    "using ..Tools\n",
    "\n",
    "\n",
    "include(\"Thermomodel.jl\")\n",
    "using ..Thermomodel\n",
    "\n",
    "include(\"Postprocessing.jl\")\n",
    "using ..Postprocessing\n"
   ]
  },
  {
   "cell_type": "markdown",
   "metadata": {},
   "source": [
    "## Standard deviation function"
   ]
  },
  {
   "cell_type": "code",
   "execution_count": 4,
   "metadata": {},
   "outputs": [
    {
     "data": {
      "text/plain": [
       "std_EnKF (generic function with 1 method)"
      ]
     },
     "execution_count": 4,
     "metadata": {},
     "output_type": "execute_result"
    }
   ],
   "source": [
    "    function std_EnKF(estimation_state)\n",
    "\n",
    "    matr_state = zeros(Float64, (length(estimation_state),length(estimation_state[1]),length(estimation_state[1][1])))\n",
    "    \n",
    "    # filter_state = zeros(length(estimation_state),size(estimation_state[1]))\n",
    "    for i = 1:length(estimation_state)\n",
    "        matr_state[i,:,:] = collect(deepcopy(hcat(estimation_state[i]...)'))\n",
    "    end\n",
    "\n",
    "    std_state = zeros(Float64, (length(estimation_state), length(estimation_state[1][1])))\n",
    "    for i = 1:size(matr_state,1)\n",
    "        for j = 1:size(matr_state,3)\n",
    "            std_state[i,j] = std(matr_state[i,:,j])\n",
    "        end\n",
    "    end\n",
    "    return std_state\n",
    "end"
   ]
  },
  {
   "cell_type": "markdown",
   "metadata": {},
   "source": [
    "## Median filter function"
   ]
  },
  {
   "cell_type": "code",
   "execution_count": 127,
   "metadata": {},
   "outputs": [
    {
     "data": {
      "text/plain": [
       "3"
      ]
     },
     "execution_count": 127,
     "metadata": {},
     "output_type": "execute_result"
    }
   ],
   "source": [
    "patch_size = 3"
   ]
  },
  {
   "cell_type": "code",
   "execution_count": 128,
   "metadata": {},
   "outputs": [
    {
     "data": {
      "text/plain": [
       "medianfilter (generic function with 1 method)"
      ]
     },
     "execution_count": 128,
     "metadata": {},
     "output_type": "execute_result"
    }
   ],
   "source": [
    "function medianfilter(estimation_state, patch_size)\n",
    "    \n",
    "    filter_state = zeros(Float64, (length(estimation_state),length(estimation_state[1]),length(estimation_state[1][1])))\n",
    "    \n",
    "    # filter_state = zeros(length(estimation_state),size(estimation_state[1]))\n",
    "    for i = 1:length(estimation_state)\n",
    "        filter_state[i,:,:] = collect(deepcopy(hcat(estimation_state[i]...)'))\n",
    "    end\n",
    "    \n",
    "    for i = 1:size(filter_state,1)\n",
    "        for j = 1:size(filter_state,3)\n",
    "            filter_state[i,:,j] = deepcopy(mapwindow(median, filter_state[i,:,j], patch_size))\n",
    "        end\n",
    "    end\n",
    "    \n",
    "    filtered_state = deepcopy(estimation_state)\n",
    "\n",
    "    for i = 1:size(filtered_state,1)\n",
    "        for j = 1:size(filtered_state[1],1)\n",
    "            filtered_state[i][j] = deepcopy(filter_state[i,j,:])\n",
    "        end\n",
    "    end\n",
    "    \n",
    "    \n",
    "    return filtered_state\n",
    "end"
   ]
  },
  {
   "cell_type": "markdown",
   "metadata": {},
   "source": [
    "## A function to compress ensemble of ensembles"
   ]
  },
  {
   "cell_type": "code",
   "execution_count": 5,
   "metadata": {},
   "outputs": [
    {
     "data": {
      "text/plain": [
       "compress_ens (generic function with 1 method)"
      ]
     },
     "execution_count": 5,
     "metadata": {},
     "output_type": "execute_result"
    }
   ],
   "source": [
    "function compress_ens(ens_ensemble)\n",
    "\n",
    "app = deepcopy(ens_ensemble[1])\n",
    "\n",
    "for i in 2:size(ens_ensemble,1)\n",
    "    for j in 1:size(ens_ensemble[1],1)\n",
    "        append!(app[j],ens_ensemble[i][j])\n",
    "    end\n",
    "end\n",
    "\n",
    "return app\n",
    "end"
   ]
  },
  {
   "cell_type": "markdown",
   "metadata": {},
   "source": [
    "## 'Truth' Function"
   ]
  },
  {
   "cell_type": "code",
   "execution_count": 6,
   "metadata": {},
   "outputs": [
    {
     "data": {
      "text/plain": [
       "zhang2002modelEnKFtruth! (generic function with 1 method)"
      ]
     },
     "execution_count": 6,
     "metadata": {},
     "output_type": "execute_result"
    }
   ],
   "source": [
    "function zhang2002modelEnKFtruth!(du::Array{Float64,1},uEnKF::Array{Float64,1},p::PHPSystem,t::Float64)\n",
    "\n",
    "    sys = p\n",
    "\n",
    "    # added He as a state vector entry\n",
    "    u = uEnKF[1:end-1]\n",
    "#     uHe = deepcopy(uEnKF[end]) + 9*deepcopy(uEnKF[end])*heaviside.(t-tspan[end]/2)\n",
    "    uHe = deepcopy(uEnKF[end]) .* (sin(4*2*π*t/(tspan[end]))+1)\n",
    "\n",
    "    numofliquidslug =  Integer( (length(u) - 1)/5 )\n",
    "    \n",
    "    (Xp,dXdt0,M)=vectoXM(u)\n",
    "\n",
    "    γ = sys.liquidslug.γ\n",
    "    ω0 = sys.liquidslug.ω0\n",
    "    ℘ = sys.liquidslug.℘\n",
    "    Lvaporplug = XptoLvaporplug(Xp,sys.tube.L)\n",
    "#     Lliquidslug = XptoLliquidslug(Xp)\n",
    "    height = getheight(Xp,sys.tube.L2D,sys.tube.alpha)\n",
    "    Xpvapor = getXpvapor(Xp,sys.tube.L)\n",
    "\n",
    "\n",
    "    P = real.((M./Lvaporplug .+ 0im).^(γ))\n",
    "\n",
    "    θ = real.((P .+ 0im).^((γ-1)/γ))\n",
    "\n",
    "\n",
    "    for i = 1:numofliquidslug\n",
    "        du[2*i-1] = u[2*numofliquidslug+2*i-1]\n",
    "        du[2*i] = du[2*i-1]\n",
    "\n",
    "        du[2*numofliquidslug + 2*i-1] = -32*u[2*numofliquidslug + 2*i-1] - (ω0[i]^2)*(0.5*(height[i][end]-height[i][1])) + ℘[i]*(P[i]-P[i+1])\n",
    "        du[2*numofliquidslug + 2*i] = du[2*numofliquidslug + 2*i-1]\n",
    "\n",
    "    end\n",
    "\n",
    "\n",
    "        du[4*numofliquidslug+1:5*numofliquidslug+1] .= dMdtzhang2002modelEnKF(Xpvapor,θ,sys,uHe)\n",
    "    \n",
    "    du[end]=0.0\n",
    "\n",
    "    return du\n",
    "\n",
    "end"
   ]
  },
  {
   "cell_type": "markdown",
   "metadata": {},
   "source": [
    "## EnKF Propagation Function"
   ]
  },
  {
   "cell_type": "code",
   "execution_count": 7,
   "metadata": {},
   "outputs": [
    {
     "data": {
      "text/plain": [
       "dMdtzhang2002modelEnKF (generic function with 1 method)"
      ]
     },
     "execution_count": 7,
     "metadata": {},
     "output_type": "execute_result"
    }
   ],
   "source": [
    "function zhang2002modelEnKF!(du::Array{Float64,1},uEnKF::Array{Float64,1},p::PHPSystem,t::Float64)\n",
    "\n",
    "    sys = p\n",
    "\n",
    "    # added He as a state vector entry\n",
    "    u = uEnKF[1:end-1]\n",
    "    uHe = deepcopy(uEnKF[end])\n",
    "\n",
    "    numofliquidslug =  Integer( (length(u) - 1)/5 )\n",
    "    \n",
    "    (Xp,dXdt0,M)=vectoXM(u)\n",
    "\n",
    "    γ = sys.liquidslug.γ\n",
    "    ω0 = sys.liquidslug.ω0\n",
    "    ℘ = sys.liquidslug.℘\n",
    "    Lvaporplug = XptoLvaporplug(Xp,sys.tube.L)\n",
    "#     Lliquidslug = XptoLliquidslug(Xp)\n",
    "    height = getheight(Xp,sys.tube.L2D,sys.tube.alpha)\n",
    "    Xpvapor = getXpvapor(Xp,sys.tube.L)\n",
    "\n",
    "\n",
    "    P = real.((M./Lvaporplug .+ 0im).^(γ))\n",
    "\n",
    "    θ = real.((P .+ 0im).^((γ-1)/γ))\n",
    "\n",
    "\n",
    "    for i = 1:numofliquidslug\n",
    "        du[2*i-1] = u[2*numofliquidslug+2*i-1]\n",
    "        du[2*i] = du[2*i-1]\n",
    "\n",
    "        du[2*numofliquidslug + 2*i-1] = -32*u[2*numofliquidslug + 2*i-1] - (ω0[i]^2)*(0.5*(height[i][end]-height[i][1])) + ℘[i]*(P[i]-P[i+1])\n",
    "        du[2*numofliquidslug + 2*i] = du[2*numofliquidslug + 2*i-1]\n",
    "\n",
    "    end\n",
    "\n",
    "\n",
    "        du[4*numofliquidslug+1:5*numofliquidslug+1] .= dMdtzhang2002modelEnKF(Xpvapor,θ,sys,uHe)\n",
    "    \n",
    "    du[end]=0.0\n",
    "\n",
    "    return du\n",
    "\n",
    "end\n",
    "\n",
    "\n",
    "function dMdtzhang2002modelEnKF(Xpvapor::Array{Tuple{Float64,Float64},1},θ::Array{Float64,1},sys::PHPSystem,uHe)\n",
    "\n",
    "    dMdt=zeros(length(Xpvapor))\n",
    "\n",
    "\n",
    "    Xe = sys.evaporator.Xe\n",
    "    He = uHe\n",
    "    θe = sys.evaporator.θe\n",
    "\n",
    "    Xc = sys.condenser.Xc\n",
    "    Hc = sys.condenser.Hc\n",
    "    θc = sys.condenser.θc\n",
    "\n",
    "    Levapoverlap=XpvaportoLoverlap(Xpvapor,Xe)\n",
    "    Lcondoverlap=XpvaportoLoverlap(Xpvapor,Xc)\n",
    "\n",
    "\n",
    "    # May not be right for multi liquid flow\n",
    "    for i = 1:length(Xpvapor)\n",
    "        if Lcondoverlap[i] < 1e-8\n",
    "            dMdt[i] = He * Levapoverlap[i] * (θe-θ[i])\n",
    "        else\n",
    "            dMdt[i] = -Hc * Lcondoverlap[i] * (θ[i]-θc)\n",
    "        end\n",
    "    end\n",
    "\n",
    "    return dMdt\n",
    "\n",
    "end"
   ]
  },
  {
   "cell_type": "markdown",
   "metadata": {},
   "source": [
    "## Initialization of ‘truth’ calculation"
   ]
  },
  {
   "cell_type": "code",
   "execution_count": 49,
   "metadata": {},
   "outputs": [],
   "source": [
    "    ω0 = [sqrt(1.2e004)];\n",
    "    ℘ = [1.2e005];\n",
    "\n",
    "\n",
    "    Θ = 0.15;\n",
    "    θe = 1 + Θ;\n",
    "    θc = 1 - Θ;\n",
    "    \n",
    "    He = 3000.0;\n",
    "    Hc = 3000.0;\n",
    "\n",
    "\n",
    "    γ = 1.3;#not 1.4!!!!! maybe 1.33?"
   ]
  },
  {
   "cell_type": "code",
   "execution_count": 50,
   "metadata": {},
   "outputs": [
    {
     "data": {
      "text/plain": [
       "1.5707963267948966"
      ]
     },
     "execution_count": 50,
     "metadata": {},
     "output_type": "execute_result"
    }
   ],
   "source": [
    "    L = 4.0  # total length of the pipe when streched to a 1D pipe\n",
    "    L2D = 2.0 # the actual length of the bended pipe in the real world\n",
    "    alpha = pi/2 # inclination angle "
   ]
  },
  {
   "cell_type": "code",
   "execution_count": 51,
   "metadata": {},
   "outputs": [
    {
     "data": {
      "text/plain": [
       "Tube(4.0, 2.0, 1.5707963267948966)"
      ]
     },
     "execution_count": 51,
     "metadata": {},
     "output_type": "execute_result"
    }
   ],
   "source": [
    "tube = Tube(L,L2D,alpha)"
   ]
  },
  {
   "cell_type": "code",
   "execution_count": 52,
   "metadata": {},
   "outputs": [
    {
     "data": {
      "text/plain": [
       "Evaporator(3000.0, 1.15, Tuple{Float64,Float64}[(0.0, 1.0), (3.0, 4.0)])"
      ]
     },
     "execution_count": 52,
     "metadata": {},
     "output_type": "execute_result"
    }
   ],
   "source": [
    "Xe = map(tuple, [0.0; 3.0], [1.0; 4.0])\n",
    "evap = Evaporator(He,θe,Xe)"
   ]
  },
  {
   "cell_type": "code",
   "execution_count": 53,
   "metadata": {},
   "outputs": [
    {
     "data": {
      "text/plain": [
       "Condenser(3000.0, 0.85, Tuple{Float64,Float64}[(1.0, 3.0)])"
      ]
     },
     "execution_count": 53,
     "metadata": {},
     "output_type": "execute_result"
    }
   ],
   "source": [
    "Xc = map(tuple, [1.0], [3.0])\n",
    "cond = Condenser(Hc,θc,Xc)"
   ]
  },
  {
   "cell_type": "code",
   "execution_count": 54,
   "metadata": {},
   "outputs": [
    {
     "data": {
      "text/plain": [
       "LiquidSlug(1.3, [109.54451150103323], [120000.0], Tuple{Float64,Float64}[(1.5, 3.5)], Tuple{Float64,Float64}[(0.0, 0.0)])"
      ]
     },
     "execution_count": 54,
     "metadata": {},
     "output_type": "execute_result"
    }
   ],
   "source": [
    "X0 = [(1.5,3.5)]\n",
    "dXdt0 = [(0.0,0.0)]\n",
    "liquids=LiquidSlug(γ,ω0,℘,X0,dXdt0)"
   ]
  },
  {
   "cell_type": "code",
   "execution_count": 55,
   "metadata": {},
   "outputs": [
    {
     "data": {
      "text/plain": [
       "VaporPlug(1.3, [1.0, 1.0])"
      ]
     },
     "execution_count": 55,
     "metadata": {},
     "output_type": "execute_result"
    }
   ],
   "source": [
    "P = [1.0,1.0]\n",
    "\n",
    "vapors=VaporPlug(γ,P)"
   ]
  },
  {
   "cell_type": "code",
   "execution_count": 56,
   "metadata": {
    "scrolled": true
   },
   "outputs": [
    {
     "data": {
      "text/plain": [
       "PHPSystem(Tube(4.0, 2.0, 1.5707963267948966), Evaporator(3000.0, 1.15, Tuple{Float64,Float64}[(0.0, 1.0), (3.0, 4.0)]), Condenser(3000.0, 0.85, Tuple{Float64,Float64}[(1.0, 3.0)]), LiquidSlug(1.3, [109.54451150103323], [120000.0], Tuple{Float64,Float64}[(1.5, 3.5)], Tuple{Float64,Float64}[(0.0, 0.0)]), VaporPlug(1.3, [1.0, 1.0]))"
      ]
     },
     "execution_count": 56,
     "metadata": {},
     "output_type": "execute_result"
    }
   ],
   "source": [
    "sys0 = PHPSystem(tube,evap,cond,liquids,vapors)"
   ]
  },
  {
   "cell_type": "markdown",
   "metadata": {},
   "source": [
    "## Get numerical solution"
   ]
  },
  {
   "cell_type": "code",
   "execution_count": 57,
   "metadata": {
    "scrolled": true
   },
   "outputs": [
    {
     "data": {
      "text/plain": [
       "7-element Array{Float64,1}:\n",
       "    1.5\n",
       "    3.5\n",
       "    0.0\n",
       "    0.0\n",
       "    1.5\n",
       "    0.5\n",
       " 3000.0"
      ]
     },
     "execution_count": 57,
     "metadata": {},
     "output_type": "execute_result"
    }
   ],
   "source": [
    "Lvaporplug = XptoLvaporplug(X0,L)\n",
    "M = P.^(1/γ).* Lvaporplug\n",
    "\n",
    "u=vcat(XMtovec(sys0.liquidslug.Xp,sys0.liquidslug.dXdt,M), He...)"
   ]
  },
  {
   "cell_type": "code",
   "execution_count": 58,
   "metadata": {},
   "outputs": [
    {
     "data": {
      "text/plain": [
       "t: 0.0\n",
       "u: 7-element Array{Float64,1}:\n",
       "    1.5\n",
       "    3.5\n",
       "    0.0\n",
       "    0.0\n",
       "    1.5\n",
       "    0.5\n",
       " 3000.0"
      ]
     },
     "execution_count": 58,
     "metadata": {},
     "output_type": "execute_result"
    }
   ],
   "source": [
    "tstep=1.0e-5\n",
    "\n",
    "p = sys0\n",
    "tspan = (0.0, 0.1);\n",
    "T = tspan[1]:tstep:tspan[end]\n",
    "\n",
    "prob = ODEProblem(zhang2002modelEnKFtruth!, u, tspan, p)\n",
    "sol = solve(prob, RK4(), adaptive=false, dt=tstep);\n",
    "integrator = init(prob, RK4(), adaptive =false, dt = tstep, save_everystep=false)"
   ]
  },
  {
   "cell_type": "markdown",
   "metadata": {},
   "source": [
    "## EnKF Construction"
   ]
  },
  {
   "cell_type": "code",
   "execution_count": 154,
   "metadata": {},
   "outputs": [
    {
     "data": {
      "text/plain": [
       "t: 0.0\n",
       "u: 7-element Array{Float64,1}:\n",
       "    1.5\n",
       "    3.5\n",
       "    0.0\n",
       "    0.0\n",
       "    1.5\n",
       "    0.5\n",
       " 3000.0"
      ]
     },
     "execution_count": 154,
     "metadata": {},
     "output_type": "execute_result"
    }
   ],
   "source": [
    "probEnKF = ODEProblem(zhang2002modelEnKF!, u, tspan, p)\n",
    "solEnKF = solve(probEnKF, RK4(), adaptive=false, dt=tstep);\n",
    "integrator = init(probEnKF, RK4(), adaptive =false, dt = tstep, save_everystep=false)"
   ]
  },
  {
   "cell_type": "code",
   "execution_count": 155,
   "metadata": {},
   "outputs": [
    {
     "data": {
      "text/plain": [
       "0.0"
      ]
     },
     "execution_count": 155,
     "metadata": {},
     "output_type": "execute_result"
    }
   ],
   "source": [
    "newHe = 0.0"
   ]
  },
  {
   "cell_type": "code",
   "execution_count": 156,
   "metadata": {},
   "outputs": [],
   "source": [
    "function (::PropagationFunction)(t::Float64, ENS::EnsembleState{N, TS}) where {N, TS}\n",
    "    for (i,s) in enumerate(ENS.S)\n",
    "        \n",
    "        set_t!(integrator, deepcopy(t))\n",
    "        set_u!(integrator, deepcopy(s))\n",
    "#         for j=1:10\n",
    "        step!(integrator)\n",
    "#         end\n",
    "        ENS.S[i] = deepcopy(integrator.u)\n",
    "\n",
    "    end\n",
    "    \n",
    "    return ENS\n",
    "end"
   ]
  },
  {
   "cell_type": "code",
   "execution_count": 157,
   "metadata": {
    "scrolled": true
   },
   "outputs": [
    {
     "data": {
      "text/plain": [
       "PropagationFunction()"
      ]
     },
     "execution_count": 157,
     "metadata": {},
     "output_type": "execute_result"
    }
   ],
   "source": [
    "fprop = PropagationFunction()"
   ]
  },
  {
   "cell_type": "code",
   "execution_count": 158,
   "metadata": {},
   "outputs": [],
   "source": [
    "function (::MeasurementFunction)(t::Float64, s::TS) where TS\n",
    "    result=soltoResult(s[1:end-1],sys0);\n",
    "#     return [s[3]]\n",
    "    return [deepcopy(result.θ[1]),deepcopy(result.θ[2])]\n",
    "end"
   ]
  },
  {
   "cell_type": "code",
   "execution_count": 159,
   "metadata": {},
   "outputs": [],
   "source": [
    "function (::MeasurementFunction)(t::Float64) \n",
    "#     return reshape([0.0, 0.0, 1.0, 0.0, 0.0, 0.0],(1,6))\n",
    "    return reshape([1.0, 0.0, 0.0, 1.0, 0.0, 0.0, 0.0, 0.0, 0.0, 0.0, 0.0, 0.0,0.0,0.0],(2,7))\n",
    "end"
   ]
  },
  {
   "cell_type": "code",
   "execution_count": 160,
   "metadata": {},
   "outputs": [
    {
     "data": {
      "text/plain": [
       "MeasurementFunction()"
      ]
     },
     "execution_count": 160,
     "metadata": {},
     "output_type": "execute_result"
    }
   ],
   "source": [
    "m = MeasurementFunction()"
   ]
  },
  {
   "cell_type": "code",
   "execution_count": 161,
   "metadata": {},
   "outputs": [],
   "source": [
    "function (::RealMeasurementFunction)(t::Float64, ENS::EnsembleState{N, TZ}) where {N, TZ}\n",
    "    let s = sol(t)\n",
    "#     fill!(ENS, [deepcopy(s[3])])\n",
    "        result=soltoResult(s[1:end-1],sys0);\n",
    "    fill!(ENS, [deepcopy(result.θ[1]),deepcopy(result.θ[2])])\n",
    "    end\n",
    "    return ENS\n",
    "end"
   ]
  },
  {
   "cell_type": "code",
   "execution_count": 162,
   "metadata": {},
   "outputs": [
    {
     "data": {
      "text/plain": [
       "RealMeasurementFunction()"
      ]
     },
     "execution_count": 162,
     "metadata": {},
     "output_type": "execute_result"
    }
   ],
   "source": [
    "z = RealMeasurementFunction()"
   ]
  },
  {
   "cell_type": "code",
   "execution_count": 163,
   "metadata": {},
   "outputs": [
    {
     "data": {
      "text/plain": [
       "MultiAdditiveInflation{7}(1.001, DiagNormal(\n",
       "dim: 7\n",
       "μ: [0.0, 0.0, 0.0, 0.0, 0.0, 0.0, 0.0]\n",
       "Σ: [1.0e-5 0.0 … 0.0 0.0; 0.0 1.0e-5 … 0.0 0.0; … ; 0.0 0.0 … 1.0e-5 0.0; 0.0 0.0 … 0.0 100000.00000000001]\n",
       ")\n",
       ")"
      ]
     },
     "execution_count": 163,
     "metadata": {},
     "output_type": "execute_result"
    }
   ],
   "source": [
    "# A = MultiAdditiveInflation(2, 1.05, MvNormal(zeros(1), 2.0*I))\n",
    "A = MultiAdditiveInflation(7, 1.001, MvNormal(zeros(7), 0.00001*Diagonal([1.0,1.0,100000.0,100000.0,1.0,1.0,10000000000.0])))\n",
    "# A = IdentityInflation()"
   ]
  },
  {
   "cell_type": "code",
   "execution_count": 164,
   "metadata": {},
   "outputs": [
    {
     "data": {
      "text/plain": [
       "AdditiveInflation{2}(IsoNormal(\n",
       "dim: 2\n",
       "μ: [0.0, 0.0]\n",
       "Σ: [1.0e-5 0.0; 0.0 1.0e-5]\n",
       ")\n",
       ")"
      ]
     },
     "execution_count": 164,
     "metadata": {},
     "output_type": "execute_result"
    }
   ],
   "source": [
    "# this is measurement noise!!!!!!!!\n",
    "# ϵ = AdditiveInflation(MvNormal(zeros(1), 1.0*I))\n",
    "ϵ = AdditiveInflation(MvNormal(zeros(2), 0.00001*I))"
   ]
  },
  {
   "cell_type": "code",
   "execution_count": 165,
   "metadata": {},
   "outputs": [
    {
     "data": {
      "text/plain": [
       "true"
      ]
     },
     "execution_count": 165,
     "metadata": {},
     "output_type": "execute_result"
    }
   ],
   "source": [
    "N = 30\n",
    "# NZ = 1\n",
    "NZ = 2\n",
    "isinflated = true\n",
    "isfiltered = false\n",
    "isaugmented = true"
   ]
  },
  {
   "cell_type": "code",
   "execution_count": 166,
   "metadata": {},
   "outputs": [
    {
     "data": {
      "text/plain": [
       "FilteringFunction()"
      ]
     },
     "execution_count": 166,
     "metadata": {},
     "output_type": "execute_result"
    }
   ],
   "source": [
    "g = FilteringFunction()"
   ]
  },
  {
   "cell_type": "code",
   "execution_count": 167,
   "metadata": {
    "scrolled": true
   },
   "outputs": [
    {
     "data": {
      "text/plain": [
       "ENKF{30,2}(PropagationFunction(), MultiAdditiveInflation{7}(1.001, DiagNormal(\n",
       "dim: 7\n",
       "μ: [0.0, 0.0, 0.0, 0.0, 0.0, 0.0, 0.0]\n",
       "Σ: [1.0e-5 0.0 … 0.0 0.0; 0.0 1.0e-5 … 0.0 0.0; … ; 0.0 0.0 … 1.0e-5 0.0; 0.0 0.0 … 0.0 100000.00000000001]\n",
       ")\n",
       "), FilteringFunction(), MeasurementFunction(), RealMeasurementFunction(), AdditiveInflation{2}(IsoNormal(\n",
       "dim: 2\n",
       "μ: [0.0, 0.0]\n",
       "Σ: [1.0e-5 0.0; 0.0 1.0e-5]\n",
       ")\n",
       "), true, false, true)"
      ]
     },
     "execution_count": 167,
     "metadata": {},
     "output_type": "execute_result"
    }
   ],
   "source": [
    "enkf = ENKF(N, NZ, fprop, A, g, m, z, ϵ, isinflated, isfiltered, isaugmented)"
   ]
  },
  {
   "cell_type": "markdown",
   "metadata": {},
   "source": [
    "## Get EnKF solutions (ensemble of ensembles)"
   ]
  },
  {
   "cell_type": "code",
   "execution_count": 168,
   "metadata": {},
   "outputs": [
    {
     "name": "stdout",
     "output_type": "stream",
     "text": [
      "i= 1\n",
      "i= 2\n",
      "i= 3\n",
      "i= 4\n",
      "i= 5\n",
      "i= 6\n",
      "i= 7\n",
      "i= 8\n",
      "i= 9\n",
      "i= 10\n"
     ]
    }
   ],
   "source": [
    "Δt = 1e-5\n",
    "Tsub = 0.0:Δt:0.1-Δt\n",
    "\n",
    "times = 1:10\n",
    "ens_ensemble = []\n",
    "\n",
    "for i in times\n",
    "    \n",
    "x₀ = [1.0, 3.0, 0.0, 0.0, 1.0, 1.0, newHe]\n",
    "ens = initialize(N, MvNormal(x₀, 1^2*Diagonal([1.0,1.0,100.0,100.0,1.0,1.0,500.0].^2)))\n",
    "estimation_state = [deepcopy(ens.S)]\n",
    "\n",
    "true_state = [deepcopy(x₀)]\n",
    "covs = []\n",
    "    \n",
    "for (n,t) in enumerate(Tsub)\n",
    "\n",
    "#     global ens\n",
    "    \n",
    "    t, ens, cov = enkf(t, Δt, ens)\n",
    "    \n",
    "    push!(estimation_state, deepcopy(ens.S))\n",
    "    push!(covs, deepcopy(cov))\n",
    "    \n",
    "\n",
    "end\n",
    "    push!(ens_ensemble, deepcopy(estimation_state))\n",
    "    println(\"i= \",i)\n",
    "end"
   ]
  },
  {
   "cell_type": "markdown",
   "metadata": {},
   "source": [
    "## Compress them into on ensemble and get the standard deviations"
   ]
  },
  {
   "cell_type": "code",
   "execution_count": 169,
   "metadata": {},
   "outputs": [],
   "source": [
    "compress_state = compress_ens(ens_ensemble);"
   ]
  },
  {
   "cell_type": "code",
   "execution_count": 170,
   "metadata": {},
   "outputs": [],
   "source": [
    "filtered_state = deepcopy(medianfilter(compress_state, patch_size));"
   ]
  },
  {
   "cell_type": "code",
   "execution_count": 171,
   "metadata": {},
   "outputs": [],
   "source": [
    "std_state = std_EnKF(filtered_state);"
   ]
  },
  {
   "cell_type": "markdown",
   "metadata": {},
   "source": [
    "## Show the results"
   ]
  },
  {
   "cell_type": "code",
   "execution_count": 178,
   "metadata": {},
   "outputs": [],
   "source": [
    "s =  hcat(sol(T).u...)\n",
    "ŝ =  hcat(mean.(compress_state)...)\n",
    "\n",
    "results=soltoResult(sol[1:end-1,:],sys0);\n",
    "resultŝ=soltoResult(ŝ[1:end-1,:],sys0);\n",
    "\n"
   ]
  },
  {
   "cell_type": "code",
   "execution_count": 179,
   "metadata": {
    "scrolled": true
   },
   "outputs": [
    {
     "data": {
      "image/png": "[encoded data removed]"
     },
     "execution_count": 179,
     "metadata": {},
     "output_type": "execute_result"
    }
   ],
   "source": [
    "plt1 = plot(layout = (2, 1), legend = :bottomright)\n",
    "plot!(plt1[1], T, results.Xp[1][1:end-1], linewidth = 3, label = \"truth\")\n",
    "plot!(plt1[1], Tsub, ŝ[1,1:end-1], linewidth = 3,ribbon = 2*std_state[:,1], markersize = 2, label = \"EnKF mean\", xlabel = \"t\", linestyle =:dash,title=\"Xp1 location\",ylim=(0.0, 2.0))\n",
    "\n",
    "plot!(plt1[2], T, results.M[1][1:end-1], linewidth = 3, label = \"truth\")\n",
    "plot!(plt1[2], Tsub,  ŝ[5,1:end-1], linewidth = 3,ribbon = 2*std_state[:,5], markersize = 2, label = \"EnKF mean\", xlabel = \"t\", linestyle =:dash,title=\"M1\",ylim=(0.0, 2.0))"
   ]
  },
  {
   "cell_type": "code",
   "execution_count": 180,
   "metadata": {
    "scrolled": true
   },
   "outputs": [
    {
     "data": {
      "image/png": "[encoded data removed]"
     },
     "execution_count": 180,
     "metadata": {},
     "output_type": "execute_result"
    }
   ],
   "source": [
    "plt2 = plot(layout = (2, 1), legend = :bottomright)\n",
    "\n",
    "plot!(plt2[1], T, results.θ[1][1:end-1], linewidth = 3, label = \"truth\")\n",
    "plot!(plt2[1], Tsub, resultŝ.θ[1][1:end-1], linewidth = 3, markersize = 2, label = \"EnKF mean\", xlabel = \"t\",  linestyle =:dash,title=\"Temperature 1\")\n",
    "\n",
    "plot!(plt2[2], T, (sol[end,1:end-1] .* (sin.(4*2*π.*T./(T[end])) .+ 1)), linewidth = 3, label = \"truth\")\n",
    "plot!(plt2[2], Tsub, ŝ[7,1:end-1], linewidth = 3, markersize = 2, ribbon = 2*std_state[:,7], label = \"EnKF mean\", xlabel = \"t\", linestyle =:dash,title=\"He\", ylim=(-5000.0, 20000.0))\n",
    "# plot!(plt2[2], T, (sol[end,1:end-1] .* (sin.(4*2*π.*T./(T[end])) .+ 1)), linewidth = 3, label = \"truth\")"
   ]
  }
 ],
 "metadata": {
  "kernelspec": {
   "display_name": "Julia 1.3.1",
   "language": "julia",
   "name": "julia-1.3"
  },
  "language_info": {
   "file_extension": ".jl",
   "mimetype": "application/julia",
   "name": "julia",
   "version": "1.3.1"
  }
 },
 "nbformat": 4,
 "nbformat_minor": 2
}
