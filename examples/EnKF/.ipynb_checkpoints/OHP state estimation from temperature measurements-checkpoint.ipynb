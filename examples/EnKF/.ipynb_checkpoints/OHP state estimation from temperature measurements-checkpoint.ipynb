{
 "cells": [
  {
   "cell_type": "markdown",
   "metadata": {},
   "source": [
    "## U shape PHP dynamics"
   ]
  },
  {
   "cell_type": "code",
   "execution_count": 1,
   "metadata": {
    "scrolled": true
   },
   "outputs": [
    {
     "data": {
      "text/plain": [
       "Plots.PyPlotBackend()"
      ]
     },
     "execution_count": 1,
     "metadata": {},
     "output_type": "execute_result"
    }
   ],
   "source": [
    "using Plots\n",
    "pyplot()"
   ]
  },
  {
   "cell_type": "code",
   "execution_count": null,
   "metadata": {},
   "outputs": [],
   "source": [
    "using Revise\n",
    "using EnKF\n",
    "using Distributions\n",
    "using DocStringExtensions\n",
    "using LinearAlgebra\n",
    "using ProgressMeter\n",
    "using DifferentialEquations"
   ]
  },
  {
   "cell_type": "code",
   "execution_count": null,
   "metadata": {},
   "outputs": [],
   "source": [
    "cd(dirname(pwd()))\n",
    "cd(dirname(pwd()))\n",
    "cd(\"src\") \n",
    "\n",
    "\n",
    "include(\"Systems.jl\")\n",
    "using ..Systems\n",
    "\n",
    "include(\"Tools.jl\")\n",
    "using ..Tools\n",
    "\n",
    "\n",
    "include(\"Thermomodel.jl\")\n",
    "using ..Thermomodel\n",
    "\n",
    "include(\"Postprocessing.jl\")\n",
    "using ..Postprocessing\n"
   ]
  },
  {
   "cell_type": "markdown",
   "metadata": {},
   "source": [
    "## Initialization"
   ]
  },
  {
   "cell_type": "code",
   "execution_count": null,
   "metadata": {},
   "outputs": [],
   "source": [
    "    ω0 = [sqrt(1.2e004)];\n",
    "    ℘ = [1.2e005];\n",
    "\n",
    "\n",
    "    Θ = 0.15;\n",
    "    θe = 1 + Θ;\n",
    "    θc = 1 - Θ;\n",
    "    \n",
    "    He = 3000.0;\n",
    "    Hc = 3000.0;\n",
    "\n",
    "\n",
    "    γ = 1.3;#not 1.4!!!!! maybe 1.33?"
   ]
  },
  {
   "cell_type": "code",
   "execution_count": null,
   "metadata": {},
   "outputs": [],
   "source": [
    "    L = 4.0  # total length of the pipe when streched to a 1D pipe\n",
    "    L2D = 2.0 # the actual length of the bended pipe in the real world\n",
    "    alpha = pi/2 # inclination angle "
   ]
  },
  {
   "cell_type": "code",
   "execution_count": null,
   "metadata": {},
   "outputs": [],
   "source": [
    "tube = Tube(L,L2D,alpha)"
   ]
  },
  {
   "cell_type": "code",
   "execution_count": null,
   "metadata": {},
   "outputs": [],
   "source": [
    "Xe = map(tuple, [0.0; 3.0], [1.0; 4.0])\n",
    "evap = Evaporator(He,θe,Xe)"
   ]
  },
  {
   "cell_type": "code",
   "execution_count": null,
   "metadata": {},
   "outputs": [],
   "source": [
    "Xc = map(tuple, [1.0], [3.0])\n",
    "cond = Condenser(Hc,θc,Xc)"
   ]
  },
  {
   "cell_type": "code",
   "execution_count": null,
   "metadata": {},
   "outputs": [],
   "source": [
    "X0 = [(1.5,3.5)]\n",
    "dXdt0 = [(0.0,0.0)]\n",
    "liquids=LiquidSlug(γ,ω0,℘,X0,dXdt0)"
   ]
  },
  {
   "cell_type": "code",
   "execution_count": null,
   "metadata": {},
   "outputs": [],
   "source": [
    "P = [1.0,1.0]\n",
    "\n",
    "vapors=VaporPlug(γ,P)"
   ]
  },
  {
   "cell_type": "code",
   "execution_count": null,
   "metadata": {},
   "outputs": [],
   "source": [
    "sys0 = PHPSystem(tube,evap,cond,liquids,vapors)"
   ]
  },
  {
   "cell_type": "markdown",
   "metadata": {},
   "source": [
    "## Get numerical solution"
   ]
  },
  {
   "cell_type": "code",
   "execution_count": null,
   "metadata": {
    "scrolled": true
   },
   "outputs": [],
   "source": [
    "Lvaporplug = XptoLvaporplug(X0,L)\n",
    "M = P.^(1/γ).* Lvaporplug\n",
    "\n",
    "u=XMtovec(sys0.liquidslug.Xp,sys0.liquidslug.dXdt,M)"
   ]
  },
  {
   "cell_type": "code",
   "execution_count": null,
   "metadata": {},
   "outputs": [],
   "source": [
    "tstep=1.0e-5\n",
    "\n",
    "p = sys0\n",
    "tspan = (0.0, 0.1);\n",
    "T = tspan[1]:tstep:tspan[end]\n",
    "\n",
    "prob = ODEProblem(zhang2002model!, u, tspan, p)\n",
    "sol = solve(prob, RK4(), adaptive=false, dt=tstep);\n",
    "integrator = init(prob, RK4(), adaptive =false, dt = tstep, save_everystep=false)"
   ]
  },
  {
   "cell_type": "markdown",
   "metadata": {},
   "source": [
    "## EnKF construction"
   ]
  },
  {
   "cell_type": "code",
   "execution_count": null,
   "metadata": {},
   "outputs": [],
   "source": [
    "function (::PropagationFunction)(t::Float64, ENS::EnsembleState{N, TS}) where {N, TS}\n",
    "    for (i,s) in enumerate(ENS.S)\n",
    "        \n",
    "        set_t!(integrator, deepcopy(t))\n",
    "        set_u!(integrator, deepcopy(s))\n",
    "#         for j=1:10\n",
    "        step!(integrator)\n",
    "#         end\n",
    "        ENS.S[i] = deepcopy(integrator.u)\n",
    "\n",
    "    end\n",
    "    \n",
    "    return ENS\n",
    "end"
   ]
  },
  {
   "cell_type": "code",
   "execution_count": null,
   "metadata": {
    "scrolled": true
   },
   "outputs": [],
   "source": [
    "fprop = PropagationFunction()"
   ]
  },
  {
   "cell_type": "code",
   "execution_count": null,
   "metadata": {},
   "outputs": [],
   "source": [
    "function (::MeasurementFunction)(t::Float64, s::TS) where TS\n",
    "    result=soltoResult(s,sys0);\n",
    "#     return [s[3]]\n",
    "    return [result.θ[1],result.θ[2]]\n",
    "end"
   ]
  },
  {
   "cell_type": "code",
   "execution_count": null,
   "metadata": {},
   "outputs": [],
   "source": [
    "function (::MeasurementFunction)(t::Float64) \n",
    "#     return reshape([0.0, 0.0, 1.0, 0.0, 0.0, 0.0],(1,6))\n",
    "    return reshape([0.0, 0.0, 0.0, 0.0, 0.0, 0.0, 0.0, 0.0, 0.0, 0.0, 0.0, 0.0],(2,6))\n",
    "end"
   ]
  },
  {
   "cell_type": "code",
   "execution_count": null,
   "metadata": {},
   "outputs": [],
   "source": [
    "m = MeasurementFunction()"
   ]
  },
  {
   "cell_type": "code",
   "execution_count": null,
   "metadata": {},
   "outputs": [],
   "source": [
    "function (::RealMeasurementFunction)(t::Float64, ENS::EnsembleState{N, TZ}) where {N, TZ}\n",
    "    let s = sol(t)\n",
    "#     fill!(ENS, [deepcopy(s[3])])\n",
    "    result=soltoResult(s,sys0);\n",
    "    fill!(ENS, [deepcopy(result.θ[1]),deepcopy(result.θ[2])])\n",
    "    end\n",
    "    return ENS\n",
    "end"
   ]
  },
  {
   "cell_type": "code",
   "execution_count": null,
   "metadata": {},
   "outputs": [],
   "source": [
    "z = RealMeasurementFunction()"
   ]
  },
  {
   "cell_type": "code",
   "execution_count": null,
   "metadata": {},
   "outputs": [],
   "source": [
    "# A = MultiAdditiveInflation(2, 1.05, MvNormal(zeros(1), 2.0*I))\n",
    "A = MultiAdditiveInflation(6, 1.001, MvNormal(zeros(6), 0.001*Diagonal([0.1,0.1,10.0,10.0,0.1,0.1])))\n",
    "# A = IdentityInflation()"
   ]
  },
  {
   "cell_type": "code",
   "execution_count": null,
   "metadata": {},
   "outputs": [],
   "source": [
    "# ϵ = AdditiveInflation(MvNormal(zeros(1), 1.0*I))\n",
    "ϵ = AdditiveInflation(MvNormal(zeros(2), 0.001*Diagonal([0.1,0.1])))"
   ]
  },
  {
   "cell_type": "code",
   "execution_count": null,
   "metadata": {},
   "outputs": [],
   "source": [
    "N = 50\n",
    "# NZ = 1\n",
    "NZ = 2\n",
    "isinflated = true\n",
    "isfiltered = false\n",
    "isaugmented = true"
   ]
  },
  {
   "cell_type": "code",
   "execution_count": null,
   "metadata": {},
   "outputs": [],
   "source": [
    "x₀ = [1.0, 2.0, 0.0, 0.0, 1.0, 1.0]\n",
    "ens = initialize(N, MvNormal(x₀, 0.001*Diagonal([0.1,0.1,10.0,10.0,0.1,0.1])))\n",
    "estimation_state = [deepcopy(ens.S)]\n",
    "\n",
    "true_state = [deepcopy(x₀)]\n",
    "covs = []"
   ]
  },
  {
   "cell_type": "code",
   "execution_count": null,
   "metadata": {},
   "outputs": [],
   "source": [
    "g = FilteringFunction()"
   ]
  },
  {
   "cell_type": "code",
   "execution_count": null,
   "metadata": {},
   "outputs": [],
   "source": [
    "enkf = ENKF(N, NZ, fprop, A, g, m, z, ϵ, isinflated, isfiltered, isaugmented)"
   ]
  },
  {
   "cell_type": "markdown",
   "metadata": {},
   "source": [
    "## Get EnKF result"
   ]
  },
  {
   "cell_type": "code",
   "execution_count": null,
   "metadata": {},
   "outputs": [],
   "source": [
    "Δt = 1e-5\n",
    "Tsub = 0.0:Δt:0.1-Δt\n",
    "\n",
    "for (n,t) in enumerate(Tsub)\n",
    "\n",
    "    global ens\n",
    "    \n",
    "    t, ens, cov = enkf(t, Δt, ens)\n",
    "    \n",
    "    push!(estimation_state, deepcopy(ens.S))\n",
    "    push!(covs, deepcopy(cov))\n",
    "    \n",
    "\n",
    "end"
   ]
  },
  {
   "cell_type": "code",
   "execution_count": null,
   "metadata": {
    "scrolled": false
   },
   "outputs": [],
   "source": [
    "s =  hcat(sol(T).u...)\n",
    "ŝ =  hcat(mean.(estimation_state)...)\n",
    "\n",
    "plt = plot(layout = (2, 1), legend = :bottomright)\n",
    "plot!(plt[1], T, s[1,1:end], linewidth = 3, label = \"truth\")\n",
    "plot!(plt[1], Tsub, ŝ[1,1:end-1], linewidth = 3, markersize = 2, label = \"EnKF mean\", xlabel = \"t\", ylabel = \"x\", linestyle =:dash,title=\"Xp1 location\",ylim=(0,2.5))\n",
    "\n",
    "plot!(plt[2], T, s[5,1:end], linewidth = 3, label = \"truth\")\n",
    "plot!(plt[2], Tsub, ŝ[5,1:end-1], linewidth = 3, markersize = 2, label = \"EnKF mean\", xlabel = \"t\", ylabel = \"y\", linestyle =:dash,title=\"M1\",ylim=(0,2.5))"
   ]
  },
  {
   "cell_type": "code",
   "execution_count": null,
   "metadata": {},
   "outputs": [],
   "source": [
    "plot(s[1,:], s[5,:], linewidth = 3, label = \"truth\", legend = true)\n",
    "plot!(ŝ[1,1:end-1], ŝ[5,1:end-1], linewidth = 3, label = \"EnKF mean\", xlabel = \"x\", \n",
    "    ylabel = \"y\", linestyle = :dash, legend = false)#:bottomleft)"
   ]
  },
  {
   "cell_type": "code",
   "execution_count": null,
   "metadata": {},
   "outputs": [],
   "source": [
    "mean(abs.((s[1,1:end]-ŝ[1,1:end])./s[1,1:end]))"
   ]
  },
  {
   "cell_type": "code",
   "execution_count": null,
   "metadata": {},
   "outputs": [],
   "source": [
    "mean(abs.((s[5,1:end]-ŝ[5,1:end])./s[5,1:end]))"
   ]
  },
  {
   "cell_type": "code",
   "execution_count": null,
   "metadata": {},
   "outputs": [],
   "source": [
    "ens.S"
   ]
  }
 ],
 "metadata": {
  "kernelspec": {
   "display_name": "Julia 1.3.1",
   "language": "julia",
   "name": "julia-1.3"
  },
  "language_info": {
   "file_extension": ".jl",
   "mimetype": "application/julia",
   "name": "julia",
   "version": "1.3.1"
  }
 },
 "nbformat": 4,
 "nbformat_minor": 2
}
