{
 "cells": [
  {
   "cell_type": "markdown",
   "metadata": {},
   "source": [
    "## U shape PHP dynamics"
   ]
  },
  {
   "cell_type": "code",
   "execution_count": 1,
   "metadata": {
    "scrolled": true
   },
   "outputs": [
    {
     "data": {
      "text/plain": [
       "Plots.PyPlotBackend()"
      ]
     },
     "execution_count": 1,
     "metadata": {},
     "output_type": "execute_result"
    }
   ],
   "source": [
    "using Plots\n",
    "pyplot()"
   ]
  },
  {
   "cell_type": "code",
   "execution_count": null,
   "metadata": {},
   "outputs": [],
   "source": [
    "using Revise\n",
    "using EnKF\n",
    "using Distributions\n",
    "using DocStringExtensions\n",
    "using LinearAlgebra\n",
    "using ProgressMeter\n",
    "using DifferentialEquations"
   ]
  },
  {
   "cell_type": "code",
   "execution_count": null,
   "metadata": {},
   "outputs": [],
   "source": [
    "cd(dirname(pwd()))\n",
    "cd(dirname(pwd()))\n",
    "cd(\"src\") \n",
    "\n",
    "\n",
    "include(\"Systems.jl\")\n",
    "using ..Systems\n",
    "\n",
    "include(\"Tools.jl\")\n",
    "using ..Tools\n",
    "\n",
    "\n",
    "include(\"Thermomodel.jl\")\n",
    "using ..Thermomodel\n",
    "\n",
    "include(\"Postprocessing.jl\")\n",
    "using ..Postprocessing\n"
   ]
  },
  {
   "cell_type": "markdown",
   "metadata": {},
   "source": [
    "## Initialization"
   ]
  },
  {
   "cell_type": "code",
   "execution_count": null,
   "metadata": {},
   "outputs": [],
   "source": [
    "    ω0 = [sqrt(1.2e004)];\n",
    "    ℘ = [1.2e005];\n",
    "\n",
    "\n",
    "    Θ = 0.15;\n",
    "    θe = 1 + Θ;\n",
    "    θc = 1 - Θ;\n",
    "    \n",
    "    He = 3000.0;\n",
    "    Hc = 3000.0;\n",
    "\n",
    "\n",
    "    γ = 1.3;#not 1.4!!!!! maybe 1.33?"
   ]
  },
  {
   "cell_type": "code",
   "execution_count": null,
   "metadata": {},
   "outputs": [],
   "source": [
    "    L = 4.0  # total length of the pipe when streched to a 1D pipe\n",
    "    L2D = 2.0 # the actual length of the bended pipe in the real world\n",
    "    alpha = pi/2 # inclination angle "
   ]
  },
  {
   "cell_type": "code",
   "execution_count": null,
   "metadata": {},
   "outputs": [],
   "source": [
    "tube = Tube(L,L2D,alpha)"
   ]
  },
  {
   "cell_type": "code",
   "execution_count": null,
   "metadata": {},
   "outputs": [],
   "source": [
    "Xe = map(tuple, [0.0; 3.0], [1.0; 4.0])\n",
    "evap = Evaporator(He,θe,Xe)"
   ]
  },
  {
   "cell_type": "code",
   "execution_count": null,
   "metadata": {},
   "outputs": [],
   "source": [
    "Xc = map(tuple, [1.0], [3.0])\n",
    "cond = Condenser(Hc,θc,Xc)"
   ]
  },
  {
   "cell_type": "code",
   "execution_count": null,
   "metadata": {},
   "outputs": [],
   "source": [
    "X0 = [(1.5,3.5)]\n",
    "dXdt0 = [(0.0,0.0)]\n",
    "liquids=LiquidSlug(γ,ω0,℘,X0,dXdt0)"
   ]
  },
  {
   "cell_type": "code",
   "execution_count": null,
   "metadata": {},
   "outputs": [],
   "source": [
    "P = [1.0,1.0]\n",
    "\n",
    "vapors=VaporPlug(γ,P)"
   ]
  },
  {
   "cell_type": "code",
   "execution_count": null,
   "metadata": {},
   "outputs": [],
   "source": [
    "sys0 = PHPSystem(tube,evap,cond,liquids,vapors)"
   ]
  },
  {
   "cell_type": "markdown",
   "metadata": {},
   "source": [
    "## Get numerical solution"
   ]
  },
  {
   "cell_type": "code",
   "execution_count": null,
   "metadata": {
    "scrolled": true
   },
   "outputs": [],
   "source": [
    "Lvaporplug = XptoLvaporplug(X0,L)\n",
    "M = P.^(1/γ).* Lvaporplug\n",
    "\n",
    "u=vcat(XMtovec(sys0.liquidslug.Xp,sys0.liquidslug.dXdt,M), He...)"
   ]
  },
  {
   "cell_type": "markdown",
   "metadata": {},
   "source": [
    "## EnKF PropagationFunction"
   ]
  },
  {
   "cell_type": "code",
   "execution_count": null,
   "metadata": {},
   "outputs": [],
   "source": [
    "function zhang2002modelEnKF!(du::Array{Float64,1},uEnKF::Array{Float64,1},p::PHPSystem,t::Float64)\n",
    "\n",
    "    sys = p\n",
    "\n",
    "    # added He as a state vector entry\n",
    "    u = uEnKF[1:end-1]\n",
    "    uHe = deepcopy(uEnKF[end])\n",
    "\n",
    "    numofliquidslug =  Integer( (length(u) - 1)/5 )\n",
    "    \n",
    "    (Xp,dXdt0,M)=vectoXM(u)\n",
    "\n",
    "    γ = sys.liquidslug.γ\n",
    "    ω0 = sys.liquidslug.ω0\n",
    "    ℘ = sys.liquidslug.℘\n",
    "    Lvaporplug = XptoLvaporplug(Xp,sys.tube.L)\n",
    "#     Lliquidslug = XptoLliquidslug(Xp)\n",
    "    height = getheight(Xp,sys.tube.L2D,sys.tube.alpha)\n",
    "    Xpvapor = getXpvapor(Xp,sys.tube.L)\n",
    "\n",
    "\n",
    "    P = real.((M./Lvaporplug .+ 0im).^(γ))\n",
    "\n",
    "    θ = real.((P .+ 0im).^((γ-1)/γ))\n",
    "\n",
    "\n",
    "    for i = 1:numofliquidslug\n",
    "        du[2*i-1] = u[2*numofliquidslug+2*i-1]\n",
    "        du[2*i] = du[2*i-1]\n",
    "\n",
    "        du[2*numofliquidslug + 2*i-1] = -32*u[2*numofliquidslug + 2*i-1] - (ω0[i]^2)*(0.5*(height[i][end]-height[i][1])) + ℘[i]*(P[i]-P[i+1])\n",
    "        du[2*numofliquidslug + 2*i] = du[2*numofliquidslug + 2*i-1]\n",
    "\n",
    "    end\n",
    "\n",
    "\n",
    "        du[4*numofliquidslug+1:5*numofliquidslug+1] .= dMdtzhang2002modelEnKF(Xpvapor,θ,sys,uHe)\n",
    "    \n",
    "    du[end]=0.0\n",
    "\n",
    "    return du\n",
    "\n",
    "end\n",
    "\n",
    "\n",
    "function dMdtzhang2002modelEnKF(Xpvapor::Array{Tuple{Float64,Float64},1},θ::Array{Float64,1},sys::PHPSystem,uHe)\n",
    "\n",
    "    dMdt=zeros(length(Xpvapor))\n",
    "\n",
    "\n",
    "    Xe = sys.evaporator.Xe\n",
    "    He = uHe\n",
    "    θe = sys.evaporator.θe\n",
    "\n",
    "    Xc = sys.condenser.Xc\n",
    "    Hc = sys.condenser.Hc\n",
    "    θc = sys.condenser.θc\n",
    "\n",
    "    Levapoverlap=XpvaportoLoverlap(Xpvapor,Xe)\n",
    "    Lcondoverlap=XpvaportoLoverlap(Xpvapor,Xc)\n",
    "\n",
    "\n",
    "    # May not be right for multi liquid flow\n",
    "    for i = 1:length(Xpvapor)\n",
    "        if Lcondoverlap[i] < 1e-8\n",
    "            dMdt[i] = He * Levapoverlap[i] * (θe-θ[i])\n",
    "        else\n",
    "            dMdt[i] = -Hc * Lcondoverlap[i] * (θ[i]-θc)\n",
    "        end\n",
    "    end\n",
    "\n",
    "    return dMdt\n",
    "\n",
    "end"
   ]
  },
  {
   "cell_type": "code",
   "execution_count": null,
   "metadata": {},
   "outputs": [],
   "source": [
    "tstep=1.0e-5\n",
    "\n",
    "p = sys0\n",
    "tspan = (0.0, 0.1);\n",
    "T = tspan[1]:tstep:tspan[end]\n",
    "\n",
    "prob = ODEProblem(zhang2002modelEnKF!, u, tspan, p)\n",
    "sol = solve(prob, RK4(), adaptive=false, dt=tstep);\n",
    "integrator = init(prob, RK4(), adaptive =false, dt = tstep, save_everystep=false)"
   ]
  },
  {
   "cell_type": "markdown",
   "metadata": {},
   "source": [
    "## EnKF"
   ]
  },
  {
   "cell_type": "code",
   "execution_count": null,
   "metadata": {},
   "outputs": [],
   "source": [
    "newHe = 10000.0"
   ]
  },
  {
   "cell_type": "code",
   "execution_count": null,
   "metadata": {},
   "outputs": [],
   "source": [
    "function (::PropagationFunction)(t::Float64, ENS::EnsembleState{N, TS}) where {N, TS}\n",
    "    for (i,s) in enumerate(ENS.S)\n",
    "        \n",
    "        set_t!(integrator, deepcopy(t))\n",
    "        set_u!(integrator, deepcopy(s))\n",
    "#         for j=1:10\n",
    "        step!(integrator)\n",
    "#         end\n",
    "        ENS.S[i] = deepcopy(integrator.u)\n",
    "\n",
    "    end\n",
    "    \n",
    "    return ENS\n",
    "end"
   ]
  },
  {
   "cell_type": "code",
   "execution_count": null,
   "metadata": {
    "scrolled": true
   },
   "outputs": [],
   "source": [
    "fprop = PropagationFunction()"
   ]
  },
  {
   "cell_type": "code",
   "execution_count": null,
   "metadata": {},
   "outputs": [],
   "source": [
    "function (::MeasurementFunction)(t::Float64, s::TS) where TS\n",
    "    result=soltoResult(s[1:end-1],sys0);\n",
    "#     return [s[3]]\n",
    "    return [deepcopy(result.θ[1]),deepcopy(result.θ[2])]\n",
    "end"
   ]
  },
  {
   "cell_type": "code",
   "execution_count": null,
   "metadata": {},
   "outputs": [],
   "source": [
    "function (::MeasurementFunction)(t::Float64) \n",
    "#     return reshape([0.0, 0.0, 1.0, 0.0, 0.0, 0.0],(1,6))\n",
    "    return reshape([1.0, 0.0, 0.0, 1.0, 0.0, 0.0, 0.0, 0.0, 0.0, 0.0, 0.0, 0.0,0.0,0.0],(2,7))\n",
    "end"
   ]
  },
  {
   "cell_type": "code",
   "execution_count": null,
   "metadata": {},
   "outputs": [],
   "source": [
    "m = MeasurementFunction()"
   ]
  },
  {
   "cell_type": "code",
   "execution_count": null,
   "metadata": {},
   "outputs": [],
   "source": [
    "function (::RealMeasurementFunction)(t::Float64, ENS::EnsembleState{N, TZ}) where {N, TZ}\n",
    "    let s = sol(t)\n",
    "#     fill!(ENS, [deepcopy(s[3])])\n",
    "        result=soltoResult(s[1:end-1],sys0);\n",
    "    fill!(ENS, [deepcopy(result.θ[1]),deepcopy(result.θ[2])])\n",
    "    end\n",
    "    return ENS\n",
    "end"
   ]
  },
  {
   "cell_type": "code",
   "execution_count": null,
   "metadata": {},
   "outputs": [],
   "source": [
    "z = RealMeasurementFunction()"
   ]
  },
  {
   "cell_type": "code",
   "execution_count": null,
   "metadata": {},
   "outputs": [],
   "source": [
    "# A = MultiAdditiveInflation(2, 1.05, MvNormal(zeros(1), 2.0*I))\n",
    "A = MultiAdditiveInflation(7, 1.001, MvNormal(zeros(7), 0.0001*Diagonal([0.1,0.1,10.0,10.0,0.1,0.1,8000.0])))\n",
    "# A = IdentityInflation()"
   ]
  },
  {
   "cell_type": "code",
   "execution_count": null,
   "metadata": {},
   "outputs": [],
   "source": [
    "# this is measurement noise!!!!!!!!\n",
    "# ϵ = AdditiveInflation(MvNormal(zeros(1), 1.0*I))\n",
    "ϵ = AdditiveInflation(MvNormal(zeros(2), 0.0001*Diagonal([0.1,0.1])))"
   ]
  },
  {
   "cell_type": "code",
   "execution_count": null,
   "metadata": {},
   "outputs": [],
   "source": [
    "N = 50\n",
    "# NZ = 1\n",
    "NZ = 2\n",
    "isinflated = false\n",
    "isfiltered = false\n",
    "isaugmented = true"
   ]
  },
  {
   "cell_type": "code",
   "execution_count": null,
   "metadata": {},
   "outputs": [],
   "source": [
    "x₀ = [1.0, 3.0, 0.0, 0.0, 1.0, 1.0, newHe]\n",
    "ens = initialize(N, MvNormal(x₀, 0.1*Diagonal([1.0,1.0,100.0,100.0,1.0,1.0,80000.0])))\n",
    "estimation_state = [deepcopy(ens.S)]\n",
    "\n",
    "true_state = [deepcopy(x₀)]\n",
    "covs = []"
   ]
  },
  {
   "cell_type": "code",
   "execution_count": null,
   "metadata": {},
   "outputs": [],
   "source": [
    "g = FilteringFunction()"
   ]
  },
  {
   "cell_type": "code",
   "execution_count": null,
   "metadata": {},
   "outputs": [],
   "source": [
    "enkf = ENKF(N, NZ, fprop, A, g, m, z, ϵ, isinflated, isfiltered, isaugmented)"
   ]
  },
  {
   "cell_type": "code",
   "execution_count": null,
   "metadata": {},
   "outputs": [],
   "source": [
    "Δt = 1e-5\n",
    "Tsub = 0.0:Δt:0.1-Δt\n",
    "\n",
    "for (n,t) in enumerate(Tsub)\n",
    "\n",
    "    global ens\n",
    "    \n",
    "    t, ens, cov = enkf(t, Δt, ens)\n",
    "    \n",
    "    push!(estimation_state, deepcopy(ens.S))\n",
    "    push!(covs, deepcopy(cov))\n",
    "    \n",
    "\n",
    "end"
   ]
  },
  {
   "cell_type": "markdown",
   "metadata": {},
   "source": [
    "## Show the results"
   ]
  },
  {
   "cell_type": "code",
   "execution_count": null,
   "metadata": {},
   "outputs": [],
   "source": [
    "s =  hcat(sol(T).u...)\n",
    "ŝ =  hcat(mean.(estimation_state)...)\n",
    "# ŝ =  hcat(solEnKF(T).u...)\n",
    "\n",
    "results=soltoResult(sol[1:end-1,:],sys0);\n",
    "resultŝ=soltoResult(ŝ[1:end-1,:],sys0);\n",
    "# resultŝ=soltoResult(solEnKF[1:end-1,:],sys0);\n",
    "\n"
   ]
  },
  {
   "cell_type": "code",
   "execution_count": null,
   "metadata": {
    "scrolled": true
   },
   "outputs": [],
   "source": [
    "plt1 = plot(layout = (2, 1), legend = :bottomright)\n",
    "plot!(plt1[1], T, results.Xp[1][1:end-1], linewidth = 3, label = \"truth\")\n",
    "plot!(plt1[1], Tsub, resultŝ.Xp[1][1:end-1], linewidth = 3, markersize = 2, label = \"EnKF mean\", xlabel = \"t\", ylabel = \"x\", linestyle =:dash,title=\"Xp1 location\")\n",
    "\n",
    "plot!(plt1[2], T, results.M[1][1:end-1], linewidth = 3, label = \"truth\")\n",
    "plot!(plt1[2], Tsub, resultŝ.M[1][1:end-1], linewidth = 3, markersize = 2, label = \"EnKF mean\", xlabel = \"t\", ylabel = \"y\", linestyle =:dash,title=\"M1\")"
   ]
  },
  {
   "cell_type": "code",
   "execution_count": null,
   "metadata": {
    "scrolled": true
   },
   "outputs": [],
   "source": [
    "plt2 = plot(layout = (2, 1), legend = :bottomright)\n",
    "\n",
    "plot!(plt2[1], T, results.θ[1][1:end-1], linewidth = 3, label = \"truth\")\n",
    "plot!(plt2[1], Tsub, resultŝ.θ[1][1:end-1], linewidth = 3, markersize = 2, label = \"EnKF mean\", xlabel = \"t\", ylabel = \"x\", linestyle =:dash,title=\"Temperature 1\")\n",
    "\n",
    "plot!(plt2[2], T, [3000,3000], linewidth = 3, label = \"truth\")\n",
    "plot!(plt2[2], Tsub, ŝ[7,1:end-1], linewidth = 3, markersize = 2, label = \"EnKF mean\", xlabel = \"t\", ylabel = \"y\", linestyle =:dash,title=\"He\")"
   ]
  },
  {
   "cell_type": "code",
   "execution_count": null,
   "metadata": {},
   "outputs": [],
   "source": [
    "plot(Tsub, map(covs) do P  \n",
    "        P[1,1]+ eps() end, yscale = :log10, linewidth = 3, label = \"1\")\n",
    "plot!(Tsub, map(covs) do P\n",
    "        P[5,5]+ eps() end, yscale = :log10, linewidth = 3, xlabel = \"t\", label = \"5\")"
   ]
  },
  {
   "cell_type": "code",
   "execution_count": null,
   "metadata": {},
   "outputs": [],
   "source": [
    "ens.S"
   ]
  },
  {
   "cell_type": "code",
   "execution_count": null,
   "metadata": {},
   "outputs": [],
   "source": [
    "ŝ[7,1:end-1]"
   ]
  },
  {
   "cell_type": "code",
   "execution_count": null,
   "metadata": {},
   "outputs": [],
   "source": []
  }
 ],
 "metadata": {
  "kernelspec": {
   "display_name": "Julia 1.3.1",
   "language": "julia",
   "name": "julia-1.3"
  },
  "language_info": {
   "file_extension": ".jl",
   "mimetype": "application/julia",
   "name": "julia",
   "version": "1.3.1"
  }
 },
 "nbformat": 4,
 "nbformat_minor": 2
}
