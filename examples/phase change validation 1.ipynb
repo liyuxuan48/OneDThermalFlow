{
 "cells": [
  {
   "cell_type": "code",
   "execution_count": 1,
   "metadata": {
    "scrolled": true
   },
   "outputs": [
    {
     "data": {
      "text/plain": [
       "Plots.PyPlotBackend()"
      ]
     },
     "execution_count": 1,
     "metadata": {},
     "output_type": "execute_result"
    }
   ],
   "source": [
    "using Plots\n",
    "pyplot()"
   ]
  },
  {
   "cell_type": "code",
   "execution_count": 2,
   "metadata": {},
   "outputs": [],
   "source": [
    "using DifferentialEquations"
   ]
  },
  {
   "cell_type": "code",
   "execution_count": 3,
   "metadata": {},
   "outputs": [],
   "source": [
    "cd(dirname(pwd()))\n",
    "cd(\"src\") \n",
    "\n",
    "\n",
    "include(\"Systems.jl\")\n",
    "using ..Systems\n",
    "\n",
    "include(\"Tools.jl\")\n",
    "using ..Tools\n",
    "\n",
    "\n",
    "include(\"Thermomodel.jl\")\n",
    "using ..Thermomodel\n"
   ]
  },
  {
   "cell_type": "markdown",
   "metadata": {},
   "source": [
    "## Initialization"
   ]
  },
  {
   "cell_type": "code",
   "execution_count": 4,
   "metadata": {},
   "outputs": [],
   "source": [
    "    ω0 = [sqrt(1.2e004)];\n",
    "#     ℘ = [1.2e005];\n",
    "\n",
    "    ℘ = [1.2e10];\n",
    "\n",
    "\n",
    "    Θ = 0.15;\n",
    "    θe = 1 + Θ;\n",
    "    θc = 1 - Θ;\n",
    "    \n",
    "    He = 3000.0;\n",
    "    Hc = 3000.0;\n",
    "\n",
    "\n",
    "    γ = 1.30;"
   ]
  },
  {
   "cell_type": "code",
   "execution_count": 5,
   "metadata": {},
   "outputs": [
    {
     "data": {
      "text/plain": [
       "0"
      ]
     },
     "execution_count": 5,
     "metadata": {},
     "output_type": "execute_result"
    }
   ],
   "source": [
    "    L = 100000.0  # total length of the pipe when streched to a 1D pipe    \n",
    "    # L = 4.0  \n",
    "\n",
    "    L2D = 2.0 # the actual length of the bended pipe in the real world\n",
    "\n",
    "    #inclination angle \n",
    "    alpha = 0 # pi/2\n"
   ]
  },
  {
   "cell_type": "code",
   "execution_count": 6,
   "metadata": {},
   "outputs": [
    {
     "data": {
      "text/plain": [
       "Tube(100000.0, 2.0, 0.0)"
      ]
     },
     "execution_count": 6,
     "metadata": {},
     "output_type": "execute_result"
    }
   ],
   "source": [
    "tube = Tube(L,L2D,alpha)"
   ]
  },
  {
   "cell_type": "code",
   "execution_count": 7,
   "metadata": {},
   "outputs": [
    {
     "data": {
      "text/plain": [
       "Evaporator(3000.0, 1.15, Tuple{Float64,Float64}[(0.0, 1.0)])"
      ]
     },
     "execution_count": 7,
     "metadata": {},
     "output_type": "execute_result"
    }
   ],
   "source": [
    "Xe = map(tuple, [0.0], [1.0])\n",
    "evap = Evaporator(He,θe,Xe)"
   ]
  },
  {
   "cell_type": "code",
   "execution_count": 8,
   "metadata": {},
   "outputs": [
    {
     "data": {
      "text/plain": [
       "Condenser(3000.0, 0.85, Tuple{Float64,Float64}[(0.0, 0.0)])"
      ]
     },
     "execution_count": 8,
     "metadata": {},
     "output_type": "execute_result"
    }
   ],
   "source": [
    "Xc = map(tuple, [0.0], [0.0])\n",
    "cond = Condenser(Hc,θc,Xc)"
   ]
  },
  {
   "cell_type": "code",
   "execution_count": 9,
   "metadata": {},
   "outputs": [
    {
     "data": {
      "text/plain": [
       "LiquidSlug(1.3, [109.54451150103323], [1.2e10], Tuple{Float64,Float64}[(1.0, 1.00001)], Tuple{Float64,Float64}[(0.0, 0.0)])"
      ]
     },
     "execution_count": 9,
     "metadata": {},
     "output_type": "execute_result"
    }
   ],
   "source": [
    "X0 = [(1.0,1.0+1e-5)]\n",
    "dXdt0 = [(0.0,0.0)]\n",
    "liquids=LiquidSlug(γ,ω0,℘,X0,dXdt0)"
   ]
  },
  {
   "cell_type": "code",
   "execution_count": 10,
   "metadata": {},
   "outputs": [
    {
     "data": {
      "text/plain": [
       "VaporPlug(1.3, [1.0, 1.0])"
      ]
     },
     "execution_count": 10,
     "metadata": {},
     "output_type": "execute_result"
    }
   ],
   "source": [
    "P = [1.0,1.0]\n",
    "Lvaporplug = XptoLvaporplug(X0,L)\n",
    "M = P.^(1/γ).* Lvaporplug\n",
    "\n",
    "vapors=VaporPlug(γ,P)"
   ]
  },
  {
   "cell_type": "code",
   "execution_count": 11,
   "metadata": {},
   "outputs": [
    {
     "data": {
      "text/plain": [
       "PHPSystem(Tube(100000.0, 2.0, 0.0), Evaporator(3000.0, 1.15, Tuple{Float64,Float64}[(0.0, 1.0)]), Condenser(3000.0, 0.85, Tuple{Float64,Float64}[(0.0, 0.0)]), LiquidSlug(1.3, [109.54451150103323], [1.2e10], Tuple{Float64,Float64}[(1.0, 1.00001)], Tuple{Float64,Float64}[(0.0, 0.0)]), VaporPlug(1.3, [1.0, 1.0]))"
      ]
     },
     "execution_count": 11,
     "metadata": {},
     "output_type": "execute_result"
    }
   ],
   "source": [
    "sys0 = PHPSystem(tube,evap,cond,liquids,vapors)"
   ]
  },
  {
   "cell_type": "code",
   "execution_count": 12,
   "metadata": {},
   "outputs": [
    {
     "data": {
      "text/plain": [
       "PHPSystem"
      ]
     },
     "execution_count": 12,
     "metadata": {},
     "output_type": "execute_result"
    }
   ],
   "source": [
    "typeof(sys0)"
   ]
  },
  {
   "cell_type": "markdown",
   "metadata": {},
   "source": [
    "## Get numerical solution"
   ]
  },
  {
   "cell_type": "code",
   "execution_count": 13,
   "metadata": {},
   "outputs": [
    {
     "data": {
      "text/plain": [
       "1-element Array{Tuple{Float64,Float64},1}:\n",
       " (0.0, 0.0)"
      ]
     },
     "execution_count": 13,
     "metadata": {},
     "output_type": "execute_result"
    }
   ],
   "source": [
    "sys0.liquidslug.Xp\n",
    "sys0.liquidslug.dXdt"
   ]
  },
  {
   "cell_type": "code",
   "execution_count": 14,
   "metadata": {
    "scrolled": true
   },
   "outputs": [
    {
     "data": {
      "text/plain": [
       "6-element Array{Float64,1}:\n",
       "     1.0    \n",
       "     1.00001\n",
       "     0.0    \n",
       "     0.0    \n",
       "     1.0    \n",
       " 99998.99999"
      ]
     },
     "execution_count": 14,
     "metadata": {},
     "output_type": "execute_result"
    }
   ],
   "source": [
    "u=XMtovec(sys0.liquidslug.Xp,sys0.liquidslug.dXdt,M)"
   ]
  },
  {
   "cell_type": "code",
   "execution_count": 15,
   "metadata": {},
   "outputs": [
    {
     "data": {
      "text/plain": [
       "(Tuple{Float64,Float64}[(1.0, 1.00001)], Tuple{Float64,Float64}[(0.0, 0.0)], [1.0, 99998.99999])"
      ]
     },
     "execution_count": 15,
     "metadata": {},
     "output_type": "execute_result"
    }
   ],
   "source": [
    "vectoXM(u)"
   ]
  },
  {
   "cell_type": "code",
   "execution_count": 16,
   "metadata": {},
   "outputs": [],
   "source": [
    "p = sys0\n",
    "tspan = (0.0, 0.01);\n",
    "prob = ODEProblem(zhang2002model!, u, tspan, p)\n",
    "sol = solve(prob, RK4(), adaptive=false, dt=1.0e-5);"
   ]
  },
  {
   "cell_type": "code",
   "execution_count": 17,
   "metadata": {},
   "outputs": [],
   "source": [
    "X1hist=zeros(length(sol));\n",
    "X2hist=zeros(length(sol));\n",
    "X3hist=zeros(length(sol));\n",
    "X4hist=zeros(length(sol));\n",
    "M1hist=zeros(length(sol));\n",
    "M2hist=zeros(length(sol));\n",
    "M3hist=zeros(length(sol));\n",
    "thist=zeros(length(sol));\n",
    "\n",
    "for i = 1:length(sol)\n",
    "    X1hist[i]=sol[i][1]\n",
    "    X2hist[i]=sol[i][2]\n",
    "    M1hist[i]=sol[i][5]\n",
    "    M2hist[i]=sol[i][6]\n",
    "    thist[i]=sol.t[i]\n",
    "end"
   ]
  },
  {
   "cell_type": "code",
   "execution_count": 18,
   "metadata": {},
   "outputs": [
    {
     "data": {
      "image/png": "[encoded data removed]"
     },
     "execution_count": 18,
     "metadata": {},
     "output_type": "execute_result"
    }
   ],
   "source": [
    "plot(thist,X1hist,label=\"Xp1\")\n",
    "plot!(thist,X2hist,label=\"Xp2\")"
   ]
  },
  {
   "cell_type": "code",
   "execution_count": 19,
   "metadata": {},
   "outputs": [
    {
     "data": {
      "image/png": "[encoded data removed]"
     },
     "execution_count": 19,
     "metadata": {},
     "output_type": "execute_result"
    }
   ],
   "source": [
    "plot(thist,M1hist,label=\"M1\")\n",
    "plot!(thist,M2hist,label=\"M2\")"
   ]
  },
  {
   "cell_type": "markdown",
   "metadata": {},
   "source": [
    "## Compare the two results"
   ]
  },
  {
   "cell_type": "code",
   "execution_count": 20,
   "metadata": {},
   "outputs": [
    {
     "ename": "UndefVarError",
     "evalue": "UndefVarError: X not defined",
     "output_type": "error",
     "traceback": [
      "UndefVarError: X not defined",
      "",
      "Stacktrace:",
      " [1] top-level scope at In[20]:1"
     ]
    }
   ],
   "source": [
    "\n",
    "plot(thist[1:end-1],real(X), xlim=(0.0,0.1), linestyle = :dash, linewidth=2.0, label=\"Xp analytical\")\n",
    "plot!(thist,Xhist, label=\"Xp numerical\")"
   ]
  },
  {
   "cell_type": "code",
   "execution_count": 21,
   "metadata": {},
   "outputs": [
    {
     "data": {
      "text/plain": [
       "5.499509759059875"
      ]
     },
     "execution_count": 21,
     "metadata": {},
     "output_type": "execute_result"
    }
   ],
   "source": [
    "X2hist[end]"
   ]
  },
  {
   "cell_type": "markdown",
   "metadata": {},
   "source": [
    "## When $X_0 = 0.1$, the error will be more evident as the dynamics from the numerical results become more nonlinear.  It is not shown below but you can set X0 = 0.1 to see it."
   ]
  }
 ],
 "metadata": {
  "kernelspec": {
   "display_name": "Julia 1.3.1",
   "language": "julia",
   "name": "julia-1.3"
  },
  "language_info": {
   "file_extension": ".jl",
   "mimetype": "application/julia",
   "name": "julia",
   "version": "1.3.1"
  }
 },
 "nbformat": 4,
 "nbformat_minor": 2
}
