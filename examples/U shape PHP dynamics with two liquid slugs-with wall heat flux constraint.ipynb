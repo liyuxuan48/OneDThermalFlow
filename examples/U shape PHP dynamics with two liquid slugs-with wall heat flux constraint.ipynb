{
 "cells": [
  {
   "cell_type": "markdown",
   "metadata": {},
   "source": [
    "## U shape PHP dynamics with multiple liquid slugs - with heat transfer"
   ]
  },
  {
   "cell_type": "markdown",
   "metadata": {},
   "source": [
    "## $\\frac{\\partial \\theta }{\\partial \\mathcal{T}} = \\nabla^2 \\theta$"
   ]
  },
  {
   "cell_type": "code",
   "execution_count": 1,
   "metadata": {
    "scrolled": true
   },
   "outputs": [
    {
     "name": "stdout",
     "output_type": "stream",
     "text": [
      " 32.721959 seconds (19.66 M allocations: 1.104 GiB, 5.84% gc time)\n"
     ]
    },
    {
     "data": {
      "text/plain": [
       "Plots.PyPlotBackend()"
      ]
     },
     "execution_count": 1,
     "metadata": {},
     "output_type": "execute_result"
    }
   ],
   "source": [
    "@time using Plots\n",
    "pyplot()"
   ]
  },
  {
   "cell_type": "code",
   "execution_count": 2,
   "metadata": {},
   "outputs": [
    {
     "name": "stdout",
     "output_type": "stream",
     "text": [
      " 83.297978 seconds (53.94 M allocations: 3.103 GiB, 2.40% gc time)\n"
     ]
    }
   ],
   "source": [
    "@time using DifferentialEquations"
   ]
  },
  {
   "cell_type": "code",
   "execution_count": 45,
   "metadata": {},
   "outputs": [
    {
     "name": "stderr",
     "output_type": "stream",
     "text": [
      "WARNING: replacing module Systems.\n",
      "WARNING: using Systems.Mapping in module Main conflicts with an existing identifier.\n",
      "WARNING: using Systems.Tube in module Main conflicts with an existing identifier.\n",
      "WARNING: using Systems.PHPSystem in module Main conflicts with an existing identifier.\n",
      "WARNING: using Systems.Wall in module Main conflicts with an existing identifier.\n",
      "WARNING: using Systems.Liquid in module Main conflicts with an existing identifier.\n",
      "WARNING: using Systems.Vapor in module Main conflicts with an existing identifier.\n",
      "WARNING: using Systems.Evaporator in module Main conflicts with an existing identifier.\n",
      "WARNING: using Systems.Condenser in module Main conflicts with an existing identifier.\n",
      "WARNING: replacing module Tools.\n",
      "WARNING: using Tools.settemperature! in module Main conflicts with an existing identifier.\n",
      "WARNING: using Tools.constructmapping in module Main conflicts with an existing identifier.\n",
      "WARNING: using Tools.duliquidθtovec in module Main conflicts with an existing identifier.\n",
      "WARNING: using Tools.duwallθtovec in module Main conflicts with an existing identifier.\n",
      "WARNING: using Tools.XMδtovec in module Main conflicts with an existing identifier.\n",
      "WARNING: using Tools.liquidθtovec in module Main conflicts with an existing identifier.\n",
      "WARNING: using Tools.wallmodel in module Main conflicts with an existing identifier.\n",
      "WARNING: using Tools.XptoLvaporplug in module Main conflicts with an existing identifier.\n",
      "WARNING: using Tools.liquidmodel in module Main conflicts with an existing identifier.\n",
      "WARNING: using Tools.getcurrentsys in module Main conflicts with an existing identifier.\n",
      "WARNING: using Tools.constructXarrays in module Main conflicts with an existing identifier.\n",
      "WARNING: using Tools.wallθtovec in module Main conflicts with an existing identifier.\n",
      "WARNING: replacing module Thermomodel.\n",
      "WARNING: using Thermomodel.dynamicsmodel in module Main conflicts with an existing identifier.\n",
      "WARNING: replacing module Postprocessing.\n",
      "WARNING: using Postprocessing.soltoMatrxResult in module Main conflicts with an existing identifier.\n"
     ]
    }
   ],
   "source": [
    "cd(dirname(pwd()))\n",
    "cd(\"src\") \n",
    "\n",
    "\n",
    "include(\"Systems.jl\")\n",
    "using ..Systems\n",
    "\n",
    "include(\"Tools.jl\")\n",
    "using ..Tools\n",
    "\n",
    "\n",
    "include(\"Thermomodel.jl\")\n",
    "using ..Thermomodel\n",
    "\n",
    "include(\"Postprocessing.jl\")\n",
    "using ..Postprocessing\n",
    "\n",
    "include(\"Boiling.jl\")\n",
    "using ..Boiling\n",
    "\n",
    "cd(dirname(pwd()))\n",
    "cd(\"src\") "
   ]
  },
  {
   "cell_type": "markdown",
   "metadata": {},
   "source": [
    "## Parameters of the PHP"
   ]
  },
  {
   "cell_type": "code",
   "execution_count": 46,
   "metadata": {},
   "outputs": [],
   "source": [
    "    ω0 = [sqrt(1.2e004)];\n",
    "    ℘ = [1.2e005];\n",
    "\n",
    "    θinitial=1.0\n",
    "    θ  = 0.15;\n",
    "    θe = 1 + θ;\n",
    "    θc = 1 - θ;\n",
    "    \n",
    "    He = 3000.0;\n",
    "    Hc = 3000.0;\n",
    "    Hₗ =  3000.0; # liquid wall heat transfer coeffcient\n",
    "\n",
    "    \n",
    "    X0 = 0.5;\n",
    "\n",
    "    γ = 1.4;"
   ]
  },
  {
   "cell_type": "code",
   "execution_count": 47,
   "metadata": {},
   "outputs": [
    {
     "data": {
      "text/plain": [
       "1.5707963267948966"
      ]
     },
     "execution_count": 47,
     "metadata": {},
     "output_type": "execute_result"
    }
   ],
   "source": [
    "    \n",
    "    d = 1/30 # dimensionless diameter\n",
    "    L = 8.0  # total length of the pipe when streched to a 1D pipe\n",
    "    L2D = 2.0 # the actual length of the bended pipe in the real world\n",
    "    angle = pi/2 # inclination angle \n"
   ]
  },
  {
   "cell_type": "markdown",
   "metadata": {},
   "source": [
    "## Pipe definition"
   ]
  },
  {
   "cell_type": "code",
   "execution_count": 48,
   "metadata": {},
   "outputs": [
    {
     "data": {
      "text/plain": [
       "Tube(0.03333333333333333, 8.0, 2.0, 1.5707963267948966)"
      ]
     },
     "execution_count": 48,
     "metadata": {},
     "output_type": "execute_result"
    }
   ],
   "source": [
    "tube = Tube(d,L,L2D,angle)"
   ]
  },
  {
   "cell_type": "markdown",
   "metadata": {},
   "source": [
    "## Evaporator and condenser definition"
   ]
  },
  {
   "cell_type": "code",
   "execution_count": 49,
   "metadata": {},
   "outputs": [
    {
     "data": {
      "text/plain": [
       "Evaporator(3000.0, 1.15, [(0.0, 1.0), (3.0, 5.0), (7.0, 8.0)])"
      ]
     },
     "execution_count": 49,
     "metadata": {},
     "output_type": "execute_result"
    }
   ],
   "source": [
    "Xe = map(tuple, [0.0; 3.0; 7.0], [1.0; 5.0; 8.0])\n",
    "evap = Evaporator(He,θe,Xe)"
   ]
  },
  {
   "cell_type": "code",
   "execution_count": 50,
   "metadata": {},
   "outputs": [
    {
     "data": {
      "text/plain": [
       "Condenser(3000.0, 0.85, [(1.0, 3.0), (5.0, 7.0)])"
      ]
     },
     "execution_count": 50,
     "metadata": {},
     "output_type": "execute_result"
    }
   ],
   "source": [
    "Xc = map(tuple, [1.0; 5.0], [3.0; 7.0])\n",
    "cond = Condenser(Hc,θc,Xc)"
   ]
  },
  {
   "cell_type": "markdown",
   "metadata": {},
   "source": [
    "## Vapor plug and liquid slug initialization"
   ]
  },
  {
   "cell_type": "code",
   "execution_count": 51,
   "metadata": {},
   "outputs": [
    {
     "data": {
      "text/plain": [
       "Liquid(1.4, 3000.0, 1000.0, [109.54451150103323], [120000.0], [(0.5, 2.5), (5.0, 7.0)], [(0.0, 0.0), (0.0, 0.0)], [[0.5, 0.5080321285140562, 0.5160642570281124, 0.5240963855421686, 0.5321285140562249, 0.5401606425702812, 0.5481927710843374, 0.5562248995983936, 0.5642570281124498, 0.572289156626506  …  2.427710843373494, 2.4357429718875503, 2.4437751004016066, 2.4518072289156625, 2.459839357429719, 2.467871485943775, 2.4759036144578315, 2.4839357429718874, 2.4919678714859437, 2.5], [5.0, 5.008032128514056, 5.016064257028113, 5.024096385542169, 5.032128514056225, 5.040160642570281, 5.048192771084337, 5.056224899598393, 5.06425702811245, 5.072289156626506  …  6.927710843373494, 6.93574297188755, 6.943775100401607, 6.951807228915663, 6.959839357429719, 6.967871485943775, 6.975903614457831, 6.983935742971887, 6.991967871485944, 7.0]], [[1.0, 1.0, 1.0, 1.0, 1.0, 1.0, 1.0, 1.0, 1.0, 1.0  …  1.0, 1.0, 1.0, 1.0, 1.0, 1.0, 1.0, 1.0, 1.0, 1.0], [1.0, 1.0, 1.0, 1.0, 1.0, 1.0, 1.0, 1.0, 1.0, 1.0  …  1.0, 1.0, 1.0, 1.0, 1.0, 1.0, 1.0, 1.0, 1.0, 1.0]])"
      ]
     },
     "execution_count": 51,
     "metadata": {},
     "output_type": "execute_result"
    }
   ],
   "source": [
    "N=1000\n",
    "X0 = [(0.5,2.5),(5.0,7.0)]\n",
    "dXdt0 = [(0.0,0.0),(0.0,0.0)]\n",
    "ρₗ = 1000\n",
    "Xarrays,θarrays = constructXarrays(X0,N,θinitial,L)\n",
    "liquids=Liquid(γ,Hₗ,ρₗ,ω0,℘,X0,dXdt0,Xarrays,θarrays)"
   ]
  },
  {
   "cell_type": "code",
   "execution_count": 52,
   "metadata": {},
   "outputs": [
    {
     "data": {
      "text/plain": [
       "Vapor(1.4, [1.0, 1.0, 1.0], [0.05, 0.05, 0.05])"
      ]
     },
     "execution_count": 52,
     "metadata": {},
     "output_type": "execute_result"
    }
   ],
   "source": [
    "P = [1.0,1.0,1.0];\n",
    "δ = 0.05*P;\n",
    "vapors=Vapor(γ,P,δ)"
   ]
  },
  {
   "cell_type": "code",
   "execution_count": 53,
   "metadata": {},
   "outputs": [
    {
     "data": {
      "text/plain": [
       "Wall(1.0, [0.0, 0.008008008008008008, 0.016016016016016016, 0.024024024024024024, 0.03203203203203203, 0.04004004004004004, 0.04804804804804805, 0.056056056056056056, 0.06406406406406406, 0.07207207207207207  …  7.927927927927928, 7.935935935935936, 7.943943943943944, 7.951951951951952, 7.95995995995996, 7.967967967967968, 7.975975975975976, 7.983983983983984, 7.991991991991992, 8.0], [1.0, 1.0, 1.0, 1.0, 1.0, 1.0, 1.0, 1.0, 1.0, 1.0  …  1.0, 1.0, 1.0, 1.0, 1.0, 1.0, 1.0, 1.0, 1.0, 1.0])"
      ]
     },
     "execution_count": 53,
     "metadata": {},
     "output_type": "execute_result"
    }
   ],
   "source": [
    "α = 1 # nondimensional thermal diffusivity = (αₐ d^2) / (νₗ height^2)\n",
    "Xwallarray,θwallarray = constructXarrays(L,N,θinitial)\n",
    "\n",
    "wall = Wall(α,Xwallarray,θwallarray)"
   ]
  },
  {
   "cell_type": "code",
   "execution_count": 54,
   "metadata": {},
   "outputs": [],
   "source": [
    "# struct Mapping\n",
    "#     walltoliquid::Array{Tuple{Int64,Int64},1}\n",
    "#     liquidtowall::Array{Array{Int64,1},1}\n",
    "# end"
   ]
  },
  {
   "cell_type": "code",
   "execution_count": 55,
   "metadata": {},
   "outputs": [
    {
     "data": {
      "text/plain": [
       "Mapping([(1, -1), (1, -1), (1, -1), (1, -1), (1, -1), (1, -1), (1, -1), (1, -1), (1, -1), (1, -1)  …  (3, -1), (3, -1), (3, -1), (3, -1), (3, -1), (3, -1), (3, -1), (3, -1), (3, -1), (3, -1)], [[64, 65, 66, 67, 68, 69, 70, 71, 72, 73  …  305, 306, 307, 308, 309, 310, 311, 312, 313, 314], [626, 627, 628, 629, 630, 631, 632, 633, 634, 635  …  867, 868, 869, 870, 871, 872, 873, 874, 875, 876]])"
      ]
     },
     "execution_count": 55,
     "metadata": {},
     "output_type": "execute_result"
    }
   ],
   "source": [
    "walltoliquid, liquidtowall = constructmapping(Xarrays,Xwallarray)\n",
    "mapping = Mapping(walltoliquid,liquidtowall)"
   ]
  },
  {
   "cell_type": "markdown",
   "metadata": {},
   "source": [
    "## Construct the system"
   ]
  },
  {
   "cell_type": "code",
   "execution_count": 56,
   "metadata": {
    "scrolled": true
   },
   "outputs": [
    {
     "data": {
      "text/plain": [
       "PHPSystem(Tube(0.03333333333333333, 8.0, 2.0, 1.5707963267948966), Evaporator(3000.0, 1.15, [(0.0, 1.0), (3.0, 5.0), (7.0, 8.0)]), Condenser(3000.0, 0.85, [(1.0, 3.0), (5.0, 7.0)]), Liquid(1.4, 3000.0, 1000.0, [109.54451150103323], [120000.0], [(0.5, 2.5), (5.0, 7.0)], [(0.0, 0.0), (0.0, 0.0)], [[0.5, 0.5080321285140562, 0.5160642570281124, 0.5240963855421686, 0.5321285140562249, 0.5401606425702812, 0.5481927710843374, 0.5562248995983936, 0.5642570281124498, 0.572289156626506  …  2.427710843373494, 2.4357429718875503, 2.4437751004016066, 2.4518072289156625, 2.459839357429719, 2.467871485943775, 2.4759036144578315, 2.4839357429718874, 2.4919678714859437, 2.5], [5.0, 5.008032128514056, 5.016064257028113, 5.024096385542169, 5.032128514056225, 5.040160642570281, 5.048192771084337, 5.056224899598393, 5.06425702811245, 5.072289156626506  …  6.927710843373494, 6.93574297188755, 6.943775100401607, 6.951807228915663, 6.959839357429719, 6.967871485943775, 6.975903614457831, 6.983935742971887, 6.991967871485944, 7.0]], [[1.0, 1.0, 1.0, 1.0, 1.0, 1.0, 1.0, 1.0, 1.0, 1.0  …  1.0, 1.0, 1.0, 1.0, 1.0, 1.0, 1.0, 1.0, 1.0, 1.0], [1.0, 1.0, 1.0, 1.0, 1.0, 1.0, 1.0, 1.0, 1.0, 1.0  …  1.0, 1.0, 1.0, 1.0, 1.0, 1.0, 1.0, 1.0, 1.0, 1.0]]), Vapor(1.4, [1.0, 1.0, 1.0], [0.05, 0.05, 0.05]), Wall(1.0, [0.0, 0.008008008008008008, 0.016016016016016016, 0.024024024024024024, 0.03203203203203203, 0.04004004004004004, 0.04804804804804805, 0.056056056056056056, 0.06406406406406406, 0.07207207207207207  …  7.927927927927928, 7.935935935935936, 7.943943943943944, 7.951951951951952, 7.95995995995996, 7.967967967967968, 7.975975975975976, 7.983983983983984, 7.991991991991992, 8.0], [1.0, 1.0, 1.0, 1.0, 1.0, 1.0, 1.0, 1.0, 1.0, 1.0  …  1.0, 1.0, 1.0, 1.0, 1.0, 1.0, 1.0, 1.0, 1.0, 1.0]), Mapping([(1, -1), (1, -1), (1, -1), (1, -1), (1, -1), (1, -1), (1, -1), (1, -1), (1, -1), (1, -1)  …  (3, -1), (3, -1), (3, -1), (3, -1), (3, -1), (3, -1), (3, -1), (3, -1), (3, -1), (3, -1)], [[64, 65, 66, 67, 68, 69, 70, 71, 72, 73  …  305, 306, 307, 308, 309, 310, 311, 312, 313, 314], [626, 627, 628, 629, 630, 631, 632, 633, 634, 635  …  867, 868, 869, 870, 871, 872, 873, 874, 875, 876]]))"
      ]
     },
     "execution_count": 56,
     "metadata": {},
     "output_type": "execute_result"
    }
   ],
   "source": [
    "sys0 = PHPSystem(tube,evap,cond,liquids,vapors,wall,mapping)"
   ]
  },
  {
   "cell_type": "code",
   "execution_count": 57,
   "metadata": {
    "scrolled": false
   },
   "outputs": [
    {
     "data": {
      "text/plain": [
       "PHPSystem"
      ]
     },
     "execution_count": 57,
     "metadata": {},
     "output_type": "execute_result"
    }
   ],
   "source": [
    "typeof(sys0)"
   ]
  },
  {
   "cell_type": "markdown",
   "metadata": {},
   "source": [
    "## Construct U for wall heat function"
   ]
  },
  {
   "cell_type": "markdown",
   "metadata": {},
   "source": [
    "## construct state vector U"
   ]
  },
  {
   "cell_type": "code",
   "execution_count": 58,
   "metadata": {},
   "outputs": [
    {
     "name": "stderr",
     "output_type": "stream",
     "text": [
      "WARNING: both Tools and Tools export \"vectoXMδ\"; uses of it in module Main must be qualified\n"
     ]
    },
    {
     "ename": "LoadError",
     "evalue": "\u001b[91mUndefVarError: vectoXMδ not defined\u001b[39m",
     "output_type": "error",
     "traceback": [
      "\u001b[91mUndefVarError: vectoXMδ not defined\u001b[39m",
      "",
      "Stacktrace:",
      " [1] top-level scope at In[58]:1",
      " [2] include_string(::Function, ::Module, ::String, ::String) at .\\loading.jl:1091"
     ]
    }
   ],
   "source": [
    "vectoXMδ(XMδtovec(X0,dXdt0,M,δ))"
   ]
  },
  {
   "cell_type": "code",
   "execution_count": 59,
   "metadata": {},
   "outputs": [],
   "source": [
    "sys0.wall.θarray = settemperature!.(sys0.wall.θarray,sys0.wall.Xarray,[sys0]);"
   ]
  },
  {
   "cell_type": "code",
   "execution_count": 60,
   "metadata": {},
   "outputs": [],
   "source": [
    "Lvaporplug = XptoLvaporplug(X0,sys0.tube.L)\n",
    "M = P.^(1/γ).* Lvaporplug\n",
    "\n",
    "\n",
    "u=[XMδtovec(X0,dXdt0,M,δ); wallθtovec(sys0.wall.θarray); liquidθtovec(sys0.liquid.θarrays)];"
   ]
  },
  {
   "cell_type": "code",
   "execution_count": 61,
   "metadata": {},
   "outputs": [
    {
     "data": {
      "image/png": "[encoded data removed]"
     },
     "execution_count": 61,
     "metadata": {},
     "output_type": "execute_result"
    }
   ],
   "source": [
    "plot([sys0.wall.Xarray],[sys0.wall.θarray], title=\"initial temperature condition\", labels = \"θ\", xlabel=\"X\", ylabel=\"θ\")"
   ]
  },
  {
   "cell_type": "markdown",
   "metadata": {},
   "source": [
    "## Solve the constructed ODE for U"
   ]
  },
  {
   "cell_type": "markdown",
   "metadata": {},
   "source": [
    "### propagation function"
   ]
  },
  {
   "cell_type": "code",
   "execution_count": 62,
   "metadata": {},
   "outputs": [
    {
     "data": {
      "text/plain": [
       "dfdt (generic function with 1 method)"
      ]
     },
     "execution_count": 62,
     "metadata": {},
     "output_type": "execute_result"
    }
   ],
   "source": [
    "function dfdt(u,p,t)\n",
    "    \n",
    "        p = deepcopy(getcurrentsys(u,p))\n",
    "    \n",
    "        indexes = Int64[]\n",
    "        θliquidtemp = Array[]\n",
    "\n",
    "        for i = 1:length(u)\n",
    "            if abs(u[i]+1e10) <= 10^(-1)\n",
    "                push!(indexes,i)\n",
    "            end\n",
    "        end\n",
    "    \n",
    "\n",
    "    dynamicsdu = dynamicsmodel(u[1:indexes[1]-1],p)\n",
    "    \n",
    "    \n",
    "    \n",
    "    duwalltemp = wallmodel(u[indexes[1]+1:indexes[2]-1],p)\n",
    "    walldu = duwallθtovec(duwalltemp)\n",
    "    \n",
    "    \n",
    "    \n",
    "    for i = 1:length(indexes)-2\n",
    "    push!(θliquidtemp, u[indexes[i+1]+1:indexes[i+2]-1])\n",
    "    end\n",
    "    push!(θliquidtemp, u[indexes[end]+1:end])\n",
    "    duliquidtemp = zero.(deepcopy(θliquidtemp))\n",
    "    duliquidtemp = liquidmodel(θliquidtemp,p)\n",
    "    liquiddu = duliquidθtovec(duliquidtemp)\n",
    "    \n",
    "    du = [dynamicsdu;walldu;liquiddu]\n",
    "\n",
    "    return(du)\n",
    "\n",
    "end"
   ]
  },
  {
   "cell_type": "markdown",
   "metadata": {},
   "source": [
    "### condition"
   ]
  },
  {
   "cell_type": "code",
   "execution_count": 63,
   "metadata": {},
   "outputs": [],
   "source": [
    "# function condition(u,t,integrator)\n",
    "#     return (integrator.t > 0.1)\n",
    "# end"
   ]
  },
  {
   "cell_type": "markdown",
   "metadata": {},
   "source": [
    "### affect! (with boundary conditions)"
   ]
  },
  {
   "cell_type": "code",
   "execution_count": 64,
   "metadata": {},
   "outputs": [
    {
     "data": {
      "text/plain": [
       "PHPSystem(Tube(0.03333333333333333, 8.0, 2.0, 1.5707963267948966), Evaporator(3000.0, 1.15, [(0.0, 1.0), (3.0, 5.0), (7.0, 8.0)]), Condenser(3000.0, 0.85, [(1.0, 3.0), (5.0, 7.0)]), Liquid(1.4, 3000.0, 1000.0, [109.54451150103323], [120000.0], [(0.5, 2.5), (5.0, 7.0)], [(0.0, 0.0), (0.0, 0.0)], [[0.5, 0.5080321285140562, 0.5160642570281124, 0.5240963855421686, 0.5321285140562249, 0.5401606425702812, 0.5481927710843374, 0.5562248995983936, 0.5642570281124498, 0.572289156626506  …  2.427710843373494, 2.4357429718875503, 2.4437751004016066, 2.4518072289156625, 2.459839357429719, 2.467871485943775, 2.4759036144578315, 2.4839357429718874, 2.4919678714859437, 2.5], [5.0, 5.008032128514056, 5.016064257028113, 5.024096385542169, 5.032128514056225, 5.040160642570281, 5.048192771084337, 5.056224899598393, 5.06425702811245, 5.072289156626506  …  6.927710843373494, 6.93574297188755, 6.943775100401607, 6.951807228915663, 6.959839357429719, 6.967871485943775, 6.975903614457831, 6.983935742971887, 6.991967871485944, 7.0]], [[1.0, 1.0, 1.0, 1.0, 1.0, 1.0, 1.0, 1.0, 1.0, 1.0  …  1.0, 1.0, 1.0, 1.0, 1.0, 1.0, 1.0, 1.0, 1.0, 1.0], [1.0, 1.0, 1.0, 1.0, 1.0, 1.0, 1.0, 1.0, 1.0, 1.0  …  1.0, 1.0, 1.0, 1.0, 1.0, 1.0, 1.0, 1.0, 1.0, 1.0]]), Vapor(1.4, [1.0, 1.0, 1.0], [0.05, 0.05, 0.05]), Wall(1.0, [0.0, 0.008008008008008008, 0.016016016016016016, 0.024024024024024024, 0.03203203203203203, 0.04004004004004004, 0.04804804804804805, 0.056056056056056056, 0.06406406406406406, 0.07207207207207207  …  7.927927927927928, 7.935935935935936, 7.943943943943944, 7.951951951951952, 7.95995995995996, 7.967967967967968, 7.975975975975976, 7.983983983983984, 7.991991991991992, 8.0], [1.15, 1.15, 1.15, 1.15, 1.15, 1.15, 1.15, 1.15, 1.15, 1.15  …  1.15, 1.15, 1.15, 1.15, 1.15, 1.15, 1.15, 1.15, 1.15, 1.15]), Mapping([(1, -1), (1, -1), (1, -1), (1, -1), (1, -1), (1, -1), (1, -1), (1, -1), (1, -1), (1, -1)  …  (3, -1), (3, -1), (3, -1), (3, -1), (3, -1), (3, -1), (3, -1), (3, -1), (3, -1), (3, -1)], [[64, 65, 66, 67, 68, 69, 70, 71, 72, 73  …  305, 306, 307, 308, 309, 310, 311, 312, 313, 314], [626, 627, 628, 629, 630, 631, 632, 633, 634, 635  …  867, 868, 869, 870, 871, 872, 873, 874, 875, 876]]))"
      ]
     },
     "execution_count": 64,
     "metadata": {},
     "output_type": "execute_result"
    }
   ],
   "source": [
    "p"
   ]
  },
  {
   "cell_type": "code",
   "execution_count": 65,
   "metadata": {},
   "outputs": [
    {
     "data": {
      "text/plain": [
       "affect! (generic function with 1 method)"
      ]
     },
     "execution_count": 65,
     "metadata": {},
     "output_type": "execute_result"
    }
   ],
   "source": [
    "function affect!(integrator)\n",
    "    \n",
    "    p = deepcopy(getcurrentsys(integrator.u,integrator.p))\n",
    "    \n",
    "    p = nucleateboiling(p,(1.2,1.4),1.0)\n",
    "    \n",
    "    Lvaporplug = XptoLvaporplug(p.liquid.Xp,p.tube.L)\n",
    "    M = p.vapor.P.^(1/p.vapor.γ).* Lvaporplug\n",
    "    \n",
    "    unew=[XMδtovec(p.liquid.Xp,p.liquid.dXdt,M,p.vapor.δ); wallθtovec(p.wall.θarray); liquidθtovec(p.liquid.θarrays)];\n",
    "        \n",
    "#     set_u!(integrator,  unew)\n",
    "    resize!(integrator.u,length(unew))\n",
    "    integrator.u = deepcopy(unew)\n",
    "    \n",
    "\n",
    "end"
   ]
  },
  {
   "cell_type": "code",
   "execution_count": 66,
   "metadata": {},
   "outputs": [
    {
     "data": {
      "text/plain": [
       "DiscreteCallback{DiffEqCallbacks.var\"#61#64\"{Float64},DiffEqCallbacks.var\"#62#65\"{typeof(affect!)},DiffEqCallbacks.var\"#63#66\"{typeof(DiffEqBase.INITIALIZE_DEFAULT),Bool,Float64,typeof(affect!)},typeof(DiffEqBase.FINALIZE_DEFAULT)}(DiffEqCallbacks.var\"#61#64\"{Float64}(0.1), DiffEqCallbacks.var\"#62#65\"{typeof(affect!)}(affect!), DiffEqCallbacks.var\"#63#66\"{typeof(DiffEqBase.INITIALIZE_DEFAULT),Bool,Float64,typeof(affect!)}(DiffEqBase.INITIALIZE_DEFAULT, true, 0.1, affect!), DiffEqBase.FINALIZE_DEFAULT, Bool[1, 1])"
      ]
     },
     "execution_count": 66,
     "metadata": {},
     "output_type": "execute_result"
    }
   ],
   "source": [
    "cb =  PresetTimeCallback(0.1,affect!)"
   ]
  },
  {
   "cell_type": "code",
   "execution_count": 67,
   "metadata": {},
   "outputs": [
    {
     "ename": "LoadError",
     "evalue": "\u001b[91mMethodError: \u001b[0mCannot `convert` an object of type \u001b[92mMain.Systems.Mapping\u001b[39m\u001b[0m to an object of type \u001b[91mMapping\u001b[39m\u001b[39m\n\u001b[91m\u001b[0mClosest candidates are:\u001b[39m\n\u001b[91m\u001b[0m  convert(::Type{T}, \u001b[91m::T\u001b[39m) where T at essentials.jl:171\u001b[39m\n\u001b[91m\u001b[0m  Mapping(::Any, \u001b[91m::Any\u001b[39m) at C:\\Users\\liyux\\github\\OneDThermalFlow\\src\\Systems.jl:151\u001b[39m",
     "output_type": "error",
     "traceback": [
      "\u001b[91mMethodError: \u001b[0mCannot `convert` an object of type \u001b[92mMain.Systems.Mapping\u001b[39m\u001b[0m to an object of type \u001b[91mMapping\u001b[39m\u001b[39m\n\u001b[91m\u001b[0mClosest candidates are:\u001b[39m\n\u001b[91m\u001b[0m  convert(::Type{T}, \u001b[91m::T\u001b[39m) where T at essentials.jl:171\u001b[39m\n\u001b[91m\u001b[0m  Mapping(::Any, \u001b[91m::Any\u001b[39m) at C:\\Users\\liyux\\github\\OneDThermalFlow\\src\\Systems.jl:151\u001b[39m",
      "",
      "Stacktrace:",
      " [1] setproperty!(::PHPSystem, ::Symbol, ::Main.Systems.Mapping) at .\\Base.jl:34",
      " [2] nucleateboiling(::PHPSystem, ::Tuple{Float64,Float64}, ::Float64) at C:\\Users\\liyux\\github\\OneDThermalFlow\\src\\Boiling.jl:64",
      " [3] affect!(::OrdinaryDiffEq.ODEIntegrator{RK4,false,Array{Float64,1},Nothing,Float64,PHPSystem,Float64,Float64,Float64,Array{Array{Float64,1},1},ODESolution{Float64,2,Array{Array{Float64,1},1},Nothing,Nothing,Array{Float64,1},Array{Array{Array{Float64,1},1},1},ODEProblem{Array{Float64,1},Tuple{Float64,Float64},false,PHPSystem,ODEFunction{false,typeof(dfdt),LinearAlgebra.UniformScaling{Bool},Nothing,Nothing,Nothing,Nothing,Nothing,Nothing,Nothing,Nothing,Nothing,Nothing,Nothing,Nothing,typeof(SciMLBase.DEFAULT_OBSERVED),Nothing},Base.Iterators.Pairs{Union{},Union{},Tuple{},NamedTuple{(),Tuple{}}},SciMLBase.StandardODEProblem},RK4,OrdinaryDiffEq.InterpolationData{ODEFunction{false,typeof(dfdt),LinearAlgebra.UniformScaling{Bool},Nothing,Nothing,Nothing,Nothing,Nothing,Nothing,Nothing,Nothing,Nothing,Nothing,Nothing,Nothing,typeof(SciMLBase.DEFAULT_OBSERVED),Nothing},Array{Array{Float64,1},1},Array{Float64,1},Array{Array{Array{Float64,1},1},1},OrdinaryDiffEq.RK4ConstantCache},DiffEqBase.DEStats},ODEFunction{false,typeof(dfdt),LinearAlgebra.UniformScaling{Bool},Nothing,Nothing,Nothing,Nothing,Nothing,Nothing,Nothing,Nothing,Nothing,Nothing,Nothing,Nothing,typeof(SciMLBase.DEFAULT_OBSERVED),Nothing},OrdinaryDiffEq.RK4ConstantCache,OrdinaryDiffEq.DEOptions{Float64,Float64,Float64,Float64,typeof(DiffEqBase.ODE_DEFAULT_NORM),typeof(LinearAlgebra.opnorm),Nothing,CallbackSet{Tuple{},Tuple{DiscreteCallback{DiffEqCallbacks.var\"#61#64\"{Float64},DiffEqCallbacks.var\"#62#65\"{typeof(affect!)},DiffEqCallbacks.var\"#63#66\"{typeof(DiffEqBase.INITIALIZE_DEFAULT),Bool,Float64,typeof(affect!)},typeof(DiffEqBase.FINALIZE_DEFAULT)}}},typeof(DiffEqBase.ODE_DEFAULT_ISOUTOFDOMAIN),typeof(DiffEqBase.ODE_DEFAULT_PROG_MESSAGE),typeof(DiffEqBase.ODE_DEFAULT_UNSTABLE_CHECK),DataStructures.BinaryHeap{Float64,Base.Order.ForwardOrdering},DataStructures.BinaryHeap{Float64,Base.Order.ForwardOrdering},Nothing,Nothing,Int64,Tuple{},Tuple{},Tuple{}},Array{Float64,1},Float64,Nothing,OrdinaryDiffEq.DefaultInit}) at .\\In[65]:5",
      " [4] (::DiffEqCallbacks.var\"#62#65\"{typeof(affect!)})(::OrdinaryDiffEq.ODEIntegrator{RK4,false,Array{Float64,1},Nothing,Float64,PHPSystem,Float64,Float64,Float64,Array{Array{Float64,1},1},ODESolution{Float64,2,Array{Array{Float64,1},1},Nothing,Nothing,Array{Float64,1},Array{Array{Array{Float64,1},1},1},ODEProblem{Array{Float64,1},Tuple{Float64,Float64},false,PHPSystem,ODEFunction{false,typeof(dfdt),LinearAlgebra.UniformScaling{Bool},Nothing,Nothing,Nothing,Nothing,Nothing,Nothing,Nothing,Nothing,Nothing,Nothing,Nothing,Nothing,typeof(SciMLBase.DEFAULT_OBSERVED),Nothing},Base.Iterators.Pairs{Union{},Union{},Tuple{},NamedTuple{(),Tuple{}}},SciMLBase.StandardODEProblem},RK4,OrdinaryDiffEq.InterpolationData{ODEFunction{false,typeof(dfdt),LinearAlgebra.UniformScaling{Bool},Nothing,Nothing,Nothing,Nothing,Nothing,Nothing,Nothing,Nothing,Nothing,Nothing,Nothing,Nothing,typeof(SciMLBase.DEFAULT_OBSERVED),Nothing},Array{Array{Float64,1},1},Array{Float64,1},Array{Array{Array{Float64,1},1},1},OrdinaryDiffEq.RK4ConstantCache},DiffEqBase.DEStats},ODEFunction{false,typeof(dfdt),LinearAlgebra.UniformScaling{Bool},Nothing,Nothing,Nothing,Nothing,Nothing,Nothing,Nothing,Nothing,Nothing,Nothing,Nothing,Nothing,typeof(SciMLBase.DEFAULT_OBSERVED),Nothing},OrdinaryDiffEq.RK4ConstantCache,OrdinaryDiffEq.DEOptions{Float64,Float64,Float64,Float64,typeof(DiffEqBase.ODE_DEFAULT_NORM),typeof(LinearAlgebra.opnorm),Nothing,CallbackSet{Tuple{},Tuple{DiscreteCallback{DiffEqCallbacks.var\"#61#64\"{Float64},DiffEqCallbacks.var\"#62#65\"{typeof(affect!)},DiffEqCallbacks.var\"#63#66\"{typeof(DiffEqBase.INITIALIZE_DEFAULT),Bool,Float64,typeof(affect!)},typeof(DiffEqBase.FINALIZE_DEFAULT)}}},typeof(DiffEqBase.ODE_DEFAULT_ISOUTOFDOMAIN),typeof(DiffEqBase.ODE_DEFAULT_PROG_MESSAGE),typeof(DiffEqBase.ODE_DEFAULT_UNSTABLE_CHECK),DataStructures.BinaryHeap{Float64,Base.Order.ForwardOrdering},DataStructures.BinaryHeap{Float64,Base.Order.ForwardOrdering},Nothing,Nothing,Int64,Tuple{},Tuple{},Tuple{}},Array{Float64,1},Float64,Nothing,OrdinaryDiffEq.DefaultInit}) at C:\\Users\\liyux\\.julia\\packages\\DiffEqCallbacks\\VjyxU\\src\\preset_time.jl:11",
      " [5] apply_discrete_callback! at C:\\Users\\liyux\\.julia\\packages\\DiffEqBase\\jhLIm\\src\\callbacks.jl:859 [inlined]",
      " [6] handle_callbacks!(::OrdinaryDiffEq.ODEIntegrator{RK4,false,Array{Float64,1},Nothing,Float64,PHPSystem,Float64,Float64,Float64,Array{Array{Float64,1},1},ODESolution{Float64,2,Array{Array{Float64,1},1},Nothing,Nothing,Array{Float64,1},Array{Array{Array{Float64,1},1},1},ODEProblem{Array{Float64,1},Tuple{Float64,Float64},false,PHPSystem,ODEFunction{false,typeof(dfdt),LinearAlgebra.UniformScaling{Bool},Nothing,Nothing,Nothing,Nothing,Nothing,Nothing,Nothing,Nothing,Nothing,Nothing,Nothing,Nothing,typeof(SciMLBase.DEFAULT_OBSERVED),Nothing},Base.Iterators.Pairs{Union{},Union{},Tuple{},NamedTuple{(),Tuple{}}},SciMLBase.StandardODEProblem},RK4,OrdinaryDiffEq.InterpolationData{ODEFunction{false,typeof(dfdt),LinearAlgebra.UniformScaling{Bool},Nothing,Nothing,Nothing,Nothing,Nothing,Nothing,Nothing,Nothing,Nothing,Nothing,Nothing,Nothing,typeof(SciMLBase.DEFAULT_OBSERVED),Nothing},Array{Array{Float64,1},1},Array{Float64,1},Array{Array{Array{Float64,1},1},1},OrdinaryDiffEq.RK4ConstantCache},DiffEqBase.DEStats},ODEFunction{false,typeof(dfdt),LinearAlgebra.UniformScaling{Bool},Nothing,Nothing,Nothing,Nothing,Nothing,Nothing,Nothing,Nothing,Nothing,Nothing,Nothing,Nothing,typeof(SciMLBase.DEFAULT_OBSERVED),Nothing},OrdinaryDiffEq.RK4ConstantCache,OrdinaryDiffEq.DEOptions{Float64,Float64,Float64,Float64,typeof(DiffEqBase.ODE_DEFAULT_NORM),typeof(LinearAlgebra.opnorm),Nothing,CallbackSet{Tuple{},Tuple{DiscreteCallback{DiffEqCallbacks.var\"#61#64\"{Float64},DiffEqCallbacks.var\"#62#65\"{typeof(affect!)},DiffEqCallbacks.var\"#63#66\"{typeof(DiffEqBase.INITIALIZE_DEFAULT),Bool,Float64,typeof(affect!)},typeof(DiffEqBase.FINALIZE_DEFAULT)}}},typeof(DiffEqBase.ODE_DEFAULT_ISOUTOFDOMAIN),typeof(DiffEqBase.ODE_DEFAULT_PROG_MESSAGE),typeof(DiffEqBase.ODE_DEFAULT_UNSTABLE_CHECK),DataStructures.BinaryHeap{Float64,Base.Order.ForwardOrdering},DataStructures.BinaryHeap{Float64,Base.Order.ForwardOrdering},Nothing,Nothing,Int64,Tuple{},Tuple{},Tuple{}},Array{Float64,1},Float64,Nothing,OrdinaryDiffEq.DefaultInit}) at C:\\Users\\liyux\\.julia\\packages\\OrdinaryDiffEq\\vxMSM\\src\\integrators\\integrator_utils.jl:261",
      " [7] _loopfooter!(::OrdinaryDiffEq.ODEIntegrator{RK4,false,Array{Float64,1},Nothing,Float64,PHPSystem,Float64,Float64,Float64,Array{Array{Float64,1},1},ODESolution{Float64,2,Array{Array{Float64,1},1},Nothing,Nothing,Array{Float64,1},Array{Array{Array{Float64,1},1},1},ODEProblem{Array{Float64,1},Tuple{Float64,Float64},false,PHPSystem,ODEFunction{false,typeof(dfdt),LinearAlgebra.UniformScaling{Bool},Nothing,Nothing,Nothing,Nothing,Nothing,Nothing,Nothing,Nothing,Nothing,Nothing,Nothing,Nothing,typeof(SciMLBase.DEFAULT_OBSERVED),Nothing},Base.Iterators.Pairs{Union{},Union{},Tuple{},NamedTuple{(),Tuple{}}},SciMLBase.StandardODEProblem},RK4,OrdinaryDiffEq.InterpolationData{ODEFunction{false,typeof(dfdt),LinearAlgebra.UniformScaling{Bool},Nothing,Nothing,Nothing,Nothing,Nothing,Nothing,Nothing,Nothing,Nothing,Nothing,Nothing,Nothing,typeof(SciMLBase.DEFAULT_OBSERVED),Nothing},Array{Array{Float64,1},1},Array{Float64,1},Array{Array{Array{Float64,1},1},1},OrdinaryDiffEq.RK4ConstantCache},DiffEqBase.DEStats},ODEFunction{false,typeof(dfdt),LinearAlgebra.UniformScaling{Bool},Nothing,Nothing,Nothing,Nothing,Nothing,Nothing,Nothing,Nothing,Nothing,Nothing,Nothing,Nothing,typeof(SciMLBase.DEFAULT_OBSERVED),Nothing},OrdinaryDiffEq.RK4ConstantCache,OrdinaryDiffEq.DEOptions{Float64,Float64,Float64,Float64,typeof(DiffEqBase.ODE_DEFAULT_NORM),typeof(LinearAlgebra.opnorm),Nothing,CallbackSet{Tuple{},Tuple{DiscreteCallback{DiffEqCallbacks.var\"#61#64\"{Float64},DiffEqCallbacks.var\"#62#65\"{typeof(affect!)},DiffEqCallbacks.var\"#63#66\"{typeof(DiffEqBase.INITIALIZE_DEFAULT),Bool,Float64,typeof(affect!)},typeof(DiffEqBase.FINALIZE_DEFAULT)}}},typeof(DiffEqBase.ODE_DEFAULT_ISOUTOFDOMAIN),typeof(DiffEqBase.ODE_DEFAULT_PROG_MESSAGE),typeof(DiffEqBase.ODE_DEFAULT_UNSTABLE_CHECK),DataStructures.BinaryHeap{Float64,Base.Order.ForwardOrdering},DataStructures.BinaryHeap{Float64,Base.Order.ForwardOrdering},Nothing,Nothing,Int64,Tuple{},Tuple{},Tuple{}},Array{Float64,1},Float64,Nothing,OrdinaryDiffEq.DefaultInit}) at C:\\Users\\liyux\\.julia\\packages\\OrdinaryDiffEq\\vxMSM\\src\\integrators\\integrator_utils.jl:221",
      " [8] loopfooter! at C:\\Users\\liyux\\.julia\\packages\\OrdinaryDiffEq\\vxMSM\\src\\integrators\\integrator_utils.jl:168 [inlined]",
      " [9] solve!(::OrdinaryDiffEq.ODEIntegrator{RK4,false,Array{Float64,1},Nothing,Float64,PHPSystem,Float64,Float64,Float64,Array{Array{Float64,1},1},ODESolution{Float64,2,Array{Array{Float64,1},1},Nothing,Nothing,Array{Float64,1},Array{Array{Array{Float64,1},1},1},ODEProblem{Array{Float64,1},Tuple{Float64,Float64},false,PHPSystem,ODEFunction{false,typeof(dfdt),LinearAlgebra.UniformScaling{Bool},Nothing,Nothing,Nothing,Nothing,Nothing,Nothing,Nothing,Nothing,Nothing,Nothing,Nothing,Nothing,typeof(SciMLBase.DEFAULT_OBSERVED),Nothing},Base.Iterators.Pairs{Union{},Union{},Tuple{},NamedTuple{(),Tuple{}}},SciMLBase.StandardODEProblem},RK4,OrdinaryDiffEq.InterpolationData{ODEFunction{false,typeof(dfdt),LinearAlgebra.UniformScaling{Bool},Nothing,Nothing,Nothing,Nothing,Nothing,Nothing,Nothing,Nothing,Nothing,Nothing,Nothing,Nothing,typeof(SciMLBase.DEFAULT_OBSERVED),Nothing},Array{Array{Float64,1},1},Array{Float64,1},Array{Array{Array{Float64,1},1},1},OrdinaryDiffEq.RK4ConstantCache},DiffEqBase.DEStats},ODEFunction{false,typeof(dfdt),LinearAlgebra.UniformScaling{Bool},Nothing,Nothing,Nothing,Nothing,Nothing,Nothing,Nothing,Nothing,Nothing,Nothing,Nothing,Nothing,typeof(SciMLBase.DEFAULT_OBSERVED),Nothing},OrdinaryDiffEq.RK4ConstantCache,OrdinaryDiffEq.DEOptions{Float64,Float64,Float64,Float64,typeof(DiffEqBase.ODE_DEFAULT_NORM),typeof(LinearAlgebra.opnorm),Nothing,CallbackSet{Tuple{},Tuple{DiscreteCallback{DiffEqCallbacks.var\"#61#64\"{Float64},DiffEqCallbacks.var\"#62#65\"{typeof(affect!)},DiffEqCallbacks.var\"#63#66\"{typeof(DiffEqBase.INITIALIZE_DEFAULT),Bool,Float64,typeof(affect!)},typeof(DiffEqBase.FINALIZE_DEFAULT)}}},typeof(DiffEqBase.ODE_DEFAULT_ISOUTOFDOMAIN),typeof(DiffEqBase.ODE_DEFAULT_PROG_MESSAGE),typeof(DiffEqBase.ODE_DEFAULT_UNSTABLE_CHECK),DataStructures.BinaryHeap{Float64,Base.Order.ForwardOrdering},DataStructures.BinaryHeap{Float64,Base.Order.ForwardOrdering},Nothing,Nothing,Int64,Tuple{},Tuple{},Tuple{}},Array{Float64,1},Float64,Nothing,OrdinaryDiffEq.DefaultInit}) at C:\\Users\\liyux\\.julia\\packages\\OrdinaryDiffEq\\vxMSM\\src\\solve.jl:456",
      " [10] #__solve#403 at C:\\Users\\liyux\\.julia\\packages\\OrdinaryDiffEq\\vxMSM\\src\\solve.jl:5 [inlined]",
      " [11] #solve_call#56 at C:\\Users\\liyux\\.julia\\packages\\DiffEqBase\\jhLIm\\src\\solve.jl:61 [inlined]",
      " [12] solve_up(::ODEProblem{Array{Float64,1},Tuple{Float64,Float64},false,PHPSystem,ODEFunction{false,typeof(dfdt),LinearAlgebra.UniformScaling{Bool},Nothing,Nothing,Nothing,Nothing,Nothing,Nothing,Nothing,Nothing,Nothing,Nothing,Nothing,Nothing,typeof(SciMLBase.DEFAULT_OBSERVED),Nothing},Base.Iterators.Pairs{Union{},Union{},Tuple{},NamedTuple{(),Tuple{}}},SciMLBase.StandardODEProblem}, ::Nothing, ::Array{Float64,1}, ::PHPSystem, ::RK4; kwargs::Base.Iterators.Pairs{Symbol,Any,Tuple{Symbol,Symbol,Symbol},NamedTuple{(:adaptive, :dt, :callback),Tuple{Bool,Float64,DiscreteCallback{DiffEqCallbacks.var\"#61#64\"{Float64},DiffEqCallbacks.var\"#62#65\"{typeof(affect!)},DiffEqCallbacks.var\"#63#66\"{typeof(DiffEqBase.INITIALIZE_DEFAULT),Bool,Float64,typeof(affect!)},typeof(DiffEqBase.FINALIZE_DEFAULT)}}}}) at C:\\Users\\liyux\\.julia\\packages\\DiffEqBase\\jhLIm\\src\\solve.jl:82",
      " [13] #solve#57 at C:\\Users\\liyux\\.julia\\packages\\DiffEqBase\\jhLIm\\src\\solve.jl:70 [inlined]",
      " [14] top-level scope at In[67]:11",
      " [15] include_string(::Function, ::Module, ::String, ::String) at .\\loading.jl:1091"
     ]
    }
   ],
   "source": [
    "tstep=4e-5\n",
    "\n",
    "p = sys0\n",
    "tspan = (0.0, 0.2);\n",
    "prob = ODEProblem(dfdt, u, tspan, p)\n",
    "\n",
    "integrator = init(prob, RK4(), adaptive=false, dt=tstep);\n",
    "\n",
    "\n",
    "# sol = solve(prob, RK4(), adaptive=false, dt=tstep);\n",
    "sol = solve(prob, RK4(), adaptive=false,dt=tstep,callback=cb);"
   ]
  },
  {
   "cell_type": "code",
   "execution_count": 68,
   "metadata": {
    "scrolled": false
   },
   "outputs": [
    {
     "ename": "LoadError",
     "evalue": "\u001b[91mUndefVarError: sol not defined\u001b[39m",
     "output_type": "error",
     "traceback": [
      "\u001b[91mUndefVarError: sol not defined\u001b[39m",
      "",
      "Stacktrace:",
      " [1] top-level scope at In[68]:1",
      " [2] include_string(::Function, ::Module, ::String, ::String) at .\\loading.jl:1091"
     ]
    }
   ],
   "source": [
    "sol[end]"
   ]
  },
  {
   "cell_type": "code",
   "execution_count": 69,
   "metadata": {
    "scrolled": true
   },
   "outputs": [
    {
     "data": {
      "text/plain": [
       "([(1, -1), (1, -1), (1, -1), (1, -1), (1, -1), (1, -1), (1, -1), (1, -1), (1, -1), (1, -1)  …  (3, -1), (3, -1), (3, -1), (3, -1), (3, -1), (3, -1), (3, -1), (3, -1), (3, -1), (3, -1)], [[64, 65, 66, 67, 68, 69, 70, 71, 72, 73  …  305, 306, 307, 308, 309, 310, 311, 312, 313, 314], [626, 627, 628, 629, 630, 631, 632, 633, 634, 635  …  867, 868, 869, 870, 871, 872, 873, 874, 875, 876]])"
      ]
     },
     "execution_count": 69,
     "metadata": {},
     "output_type": "execute_result"
    }
   ],
   "source": [
    "constructmapping(Xarrays,Xwallarray)"
   ]
  },
  {
   "cell_type": "code",
   "execution_count": 70,
   "metadata": {},
   "outputs": [
    {
     "ename": "LoadError",
     "evalue": "\u001b[91mUndefVarError: sol not defined\u001b[39m",
     "output_type": "error",
     "traceback": [
      "\u001b[91mUndefVarError: sol not defined\u001b[39m",
      "",
      "Stacktrace:",
      " [1] top-level scope at In[70]:1",
      " [2] include_string(::Function, ::Module, ::String, ::String) at .\\loading.jl:1091"
     ]
    }
   ],
   "source": [
    "sysfinal = getcurrentsys.(sol.u,[sys0])"
   ]
  },
  {
   "cell_type": "code",
   "execution_count": 71,
   "metadata": {},
   "outputs": [
    {
     "ename": "LoadError",
     "evalue": "\u001b[91mUndefVarError: sysfinal not defined\u001b[39m",
     "output_type": "error",
     "traceback": [
      "\u001b[91mUndefVarError: sysfinal not defined\u001b[39m",
      "",
      "Stacktrace:",
      " [1] top-level scope at In[71]:1",
      " [2] include_string(::Function, ::Module, ::String, ::String) at .\\loading.jl:1091"
     ]
    }
   ],
   "source": [
    "sysfinal[end].liquid.Xarrays"
   ]
  },
  {
   "cell_type": "code",
   "execution_count": 72,
   "metadata": {},
   "outputs": [
    {
     "ename": "LoadError",
     "evalue": "\u001b[91mUndefVarError: sol not defined\u001b[39m",
     "output_type": "error",
     "traceback": [
      "\u001b[91mUndefVarError: sol not defined\u001b[39m",
      "",
      "Stacktrace:",
      " [1] top-level scope at In[72]:1",
      " [2] include_string(::Function, ::Module, ::String, ::String) at .\\loading.jl:1091"
     ]
    }
   ],
   "source": [
    "result1=soltoMatrxResult(sol,sys0);"
   ]
  },
  {
   "cell_type": "code",
   "execution_count": 73,
   "metadata": {},
   "outputs": [
    {
     "ename": "LoadError",
     "evalue": "\u001b[91mUndefVarError: sol not defined\u001b[39m",
     "output_type": "error",
     "traceback": [
      "\u001b[91mUndefVarError: sol not defined\u001b[39m",
      "",
      "Stacktrace:",
      " [1] top-level scope at C:\\Users\\liyux\\.julia\\packages\\Plots\\kyYZF\\src\\animation.jl:183 [inlined]",
      " [2] top-level scope at .\\In[73]:0",
      " [3] include_string(::Function, ::Module, ::String, ::String) at .\\loading.jl:1091"
     ]
    }
   ],
   "source": [
    "@gif for i=1:size(sol,2)\n",
    "plot([x],[sol[i][13:1012]], labels = \"θ\", xlabel=\"X\", ylabel=\"θ\", title=(\"dimensionless temperature along the wall\"), ylim=(0.85,1.15))\n",
    "    vline!([0,1,3,5,7,8], color = [:red])\n",
    "    end every 50"
   ]
  },
  {
   "cell_type": "code",
   "execution_count": 74,
   "metadata": {},
   "outputs": [
    {
     "ename": "LoadError",
     "evalue": "\u001b[91mUndefVarError: sol not defined\u001b[39m",
     "output_type": "error",
     "traceback": [
      "\u001b[91mUndefVarError: sol not defined\u001b[39m",
      "",
      "Stacktrace:",
      " [1] top-level scope at C:\\Users\\liyux\\.julia\\packages\\Plots\\kyYZF\\src\\animation.jl:183 [inlined]",
      " [2] top-level scope at .\\In[74]:0",
      " [3] include_string(::Function, ::Module, ::String, ::String) at .\\loading.jl:1091"
     ]
    }
   ],
   "source": [
    "@gif for i=1:size(sol,2)\n",
    "plot([sysfinal[i].liquid.Xarrays[1]],[sysfinal[i].liquid.θarrays[1]], labels = \"θ\", xlabel=\"X\", ylabel=\"θ\", title=(\"dimensionless temperature along liquid 1\"),xlim=(0,8), ylim=(0.9,1.1))\n",
    "plot!([sysfinal[i].liquid.Xarrays[2]],[sysfinal[i].liquid.θarrays[2]], labels = \"θ\", xlabel=\"X\", ylabel=\"θ\", title=(\"dimensionless temperature along liquid 1\"),xlim=(0,8), ylim=(0.9,1.1))\n",
    "    if i >2502\n",
    "        plot!([sysfinal[i].liquid.Xarrays[3]],[sysfinal[i].liquid.θarrays[3]], labels = \"θ\", xlabel=\"X\", ylabel=\"θ\", title=(\"dimensionless temperature along liquid 1\"),xlim=(0,8), ylim=(0.9,1.1))\n",
    "    end\n",
    "    end every 50"
   ]
  },
  {
   "cell_type": "code",
   "execution_count": 75,
   "metadata": {},
   "outputs": [],
   "source": [
    "# MatrxXp, MatrxdXdt, MatrxM, Matrxδ=soltoMatrxResult(sol[1:2502],sys0);\n",
    "\n",
    "# ΔMatrxXp = zeros(size(MatrxXp,1)+1,size(MatrxXp,2))\n",
    "# ΔMatrxXp[1,:] = MatrxXp[1,:]\n",
    "# ΔMatrxXp[end,:] .= sys0.tube.L .- MatrxXp[end,:]\n",
    "# for i = 2:size(MatrxXp,1)\n",
    "#     ΔMatrxXp[i,:] = MatrxXp[i,:]-MatrxXp[i-1,:]\n",
    "# end\n",
    "\n",
    "# MatrxXp"
   ]
  },
  {
   "cell_type": "code",
   "execution_count": 76,
   "metadata": {},
   "outputs": [
    {
     "ename": "LoadError",
     "evalue": "\u001b[91mUndefVarError: sol not defined\u001b[39m",
     "output_type": "error",
     "traceback": [
      "\u001b[91mUndefVarError: sol not defined\u001b[39m",
      "",
      "Stacktrace:",
      " [1] top-level scope at In[76]:1",
      " [2] include_string(::Function, ::Module, ::String, ::String) at .\\loading.jl:1091"
     ]
    }
   ],
   "source": [
    "MatrxXp1, MatrxdXdt1, MatrxM1, Matrxδ1=soltoMatrxResult(sol[1:2502],sys0);\n",
    "\n",
    "ΔMatrxXp1 = zeros(size(MatrxXp1,1)+1,size(MatrxXp1,2))\n",
    "ΔMatrxXp1[1,:] = MatrxXp1[1,:]\n",
    "ΔMatrxXp1[end,:] .= sys0.tube.L .- MatrxXp1[end,:]\n",
    "for i = 2:size(MatrxXp1,1)\n",
    "    ΔMatrxXp1[i,:] = MatrxXp1[i,:]-MatrxXp1[i-1,:]\n",
    "end\n",
    "\n",
    "ΔMatrxXp1"
   ]
  },
  {
   "cell_type": "code",
   "execution_count": 77,
   "metadata": {},
   "outputs": [
    {
     "ename": "LoadError",
     "evalue": "\u001b[91mUndefVarError: sol not defined\u001b[39m",
     "output_type": "error",
     "traceback": [
      "\u001b[91mUndefVarError: sol not defined\u001b[39m",
      "",
      "Stacktrace:",
      " [1] top-level scope at In[77]:1",
      " [2] include_string(::Function, ::Module, ::String, ::String) at .\\loading.jl:1091"
     ]
    }
   ],
   "source": [
    "MatrxXp2, MatrxdXdt2, MatrxM2, Matrxδ2=soltoMatrxResult(sol[2503:end],sys0);\n",
    "\n",
    "ΔMatrxXp2 = zeros(size(MatrxXp2,1)+1,size(MatrxXp2,2))\n",
    "ΔMatrxXp2[1,:] = MatrxXp2[1,:]\n",
    "ΔMatrxXp2[end,:] .= sys0.tube.L .- MatrxXp2[end,:]\n",
    "for i = 2:size(MatrxXp2,1)\n",
    "    ΔMatrxXp2[i,:] = MatrxXp2[i,:]-MatrxXp2[i-1,:]\n",
    "end\n",
    "\n",
    "ΔMatrxXp2"
   ]
  },
  {
   "cell_type": "code",
   "execution_count": 78,
   "metadata": {},
   "outputs": [
    {
     "ename": "LoadError",
     "evalue": "\u001b[91mUndefVarError: MatrxXp1 not defined\u001b[39m",
     "output_type": "error",
     "traceback": [
      "\u001b[91mUndefVarError: MatrxXp1 not defined\u001b[39m",
      "",
      "Stacktrace:",
      " [1] top-level scope",
      " [2] include_string(::Function, ::Module, ::String, ::String) at .\\loading.jl:1091"
     ]
    }
   ],
   "source": [
    "MatrxXp1"
   ]
  },
  {
   "cell_type": "code",
   "execution_count": 79,
   "metadata": {},
   "outputs": [
    {
     "ename": "LoadError",
     "evalue": "\u001b[91mUndefVarError: MatrxXp2 not defined\u001b[39m",
     "output_type": "error",
     "traceback": [
      "\u001b[91mUndefVarError: MatrxXp2 not defined\u001b[39m",
      "",
      "Stacktrace:",
      " [1] top-level scope",
      " [2] include_string(::Function, ::Module, ::String, ::String) at .\\loading.jl:1091"
     ]
    }
   ],
   "source": [
    "MatrxXp2"
   ]
  },
  {
   "cell_type": "code",
   "execution_count": 80,
   "metadata": {},
   "outputs": [
    {
     "ename": "LoadError",
     "evalue": "\u001b[91mUndefVarError: sol not defined\u001b[39m",
     "output_type": "error",
     "traceback": [
      "\u001b[91mUndefVarError: sol not defined\u001b[39m",
      "",
      "Stacktrace:",
      " [1] top-level scope at In[80]:1",
      " [2] include_string(::Function, ::Module, ::String, ::String) at .\\loading.jl:1091"
     ]
    }
   ],
   "source": [
    "length(sol.t[2503:end])"
   ]
  },
  {
   "cell_type": "code",
   "execution_count": 81,
   "metadata": {},
   "outputs": [
    {
     "ename": "LoadError",
     "evalue": "\u001b[91mUndefVarError: ΔMatrxXp1 not defined\u001b[39m",
     "output_type": "error",
     "traceback": [
      "\u001b[91mUndefVarError: ΔMatrxXp1 not defined\u001b[39m",
      "",
      "Stacktrace:",
      " [1] top-level scope at In[81]:1",
      " [2] include_string(::Function, ::Module, ::String, ::String) at .\\loading.jl:1091"
     ]
    }
   ],
   "source": [
    "portfoliocomposition(ΔMatrxXp1', sol.t[1:2502], legend = :outertopleft, color = [:lightgrey :blue],ylabel=\"t\", xlabel=\"X\", labels = [\"vapor bubble\" \"liquid slug\"])\n",
    "portfoliocomposition!(ΔMatrxXp2',sol.t[2503:end], color = [:lightgrey :blue])\n",
    "vline!([0,1,3,5,7,8], color = [:red])"
   ]
  },
  {
   "cell_type": "code",
   "execution_count": null,
   "metadata": {},
   "outputs": [],
   "source": []
  },
  {
   "cell_type": "code",
   "execution_count": 82,
   "metadata": {},
   "outputs": [],
   "source": [
    "# portfoliocomposition(MatrxM', sol.t, legend = :outertopleft, labels = (\"mass of vapor bubble\"), ylabel=\"t\", xlabel=\"mass\")"
   ]
  },
  {
   "cell_type": "code",
   "execution_count": 83,
   "metadata": {},
   "outputs": [],
   "source": [
    "# result1 = soltoResult(sol[1:11,:],sys0)\n",
    "# plot(sol.t, result1.θ[1], title=\"temperatures for three vapor bubbles\")\n",
    "# plot!(sol.t, result1.θ[2])\n",
    "# plot!(sol.t, result1.θ[3])"
   ]
  },
  {
   "cell_type": "code",
   "execution_count": 84,
   "metadata": {},
   "outputs": [
    {
     "data": {
      "text/plain": [
       "1.1"
      ]
     },
     "execution_count": 84,
     "metadata": {},
     "output_type": "execute_result"
    }
   ],
   "source": [
    "Xpvapornew = (1.5,1.6)\n",
    "Pvapornew = 1.1"
   ]
  },
  {
   "cell_type": "code",
   "execution_count": 85,
   "metadata": {},
   "outputs": [
    {
     "ename": "LoadError",
     "evalue": "\u001b[91mMethodError: \u001b[0mCannot `convert` an object of type \u001b[92mMain.Systems.Mapping\u001b[39m\u001b[0m to an object of type \u001b[91mMapping\u001b[39m\u001b[39m\n\u001b[91m\u001b[0mClosest candidates are:\u001b[39m\n\u001b[91m\u001b[0m  convert(::Type{T}, \u001b[91m::T\u001b[39m) where T at essentials.jl:171\u001b[39m\n\u001b[91m\u001b[0m  Mapping(::Any, \u001b[91m::Any\u001b[39m) at C:\\Users\\liyux\\github\\OneDThermalFlow\\src\\Systems.jl:151\u001b[39m",
     "output_type": "error",
     "traceback": [
      "\u001b[91mMethodError: \u001b[0mCannot `convert` an object of type \u001b[92mMain.Systems.Mapping\u001b[39m\u001b[0m to an object of type \u001b[91mMapping\u001b[39m\u001b[39m\n\u001b[91m\u001b[0mClosest candidates are:\u001b[39m\n\u001b[91m\u001b[0m  convert(::Type{T}, \u001b[91m::T\u001b[39m) where T at essentials.jl:171\u001b[39m\n\u001b[91m\u001b[0m  Mapping(::Any, \u001b[91m::Any\u001b[39m) at C:\\Users\\liyux\\github\\OneDThermalFlow\\src\\Systems.jl:151\u001b[39m",
      "",
      "Stacktrace:",
      " [1] setproperty!(::PHPSystem, ::Symbol, ::Main.Systems.Mapping) at .\\Base.jl:34",
      " [2] nucleateboiling(::PHPSystem, ::Tuple{Float64,Float64}, ::Float64) at C:\\Users\\liyux\\github\\OneDThermalFlow\\src\\Boiling.jl:64",
      " [3] top-level scope at In[85]:1",
      " [4] include_string(::Function, ::Module, ::String, ::String) at .\\loading.jl:1091"
     ]
    }
   ],
   "source": [
    "sysnew = nucleateboiling(sys0,Xpvapornew,Pvapornew)"
   ]
  },
  {
   "cell_type": "code",
   "execution_count": 86,
   "metadata": {},
   "outputs": [
    {
     "data": {
      "text/plain": [
       "3-element Array{Float64,1}:\n",
       " 0.05\n",
       " 0.05\n",
       " 0.05"
      ]
     },
     "execution_count": 86,
     "metadata": {},
     "output_type": "execute_result"
    }
   ],
   "source": [
    "sys0.vapor.δ"
   ]
  }
 ],
 "metadata": {
  "kernelspec": {
   "display_name": "Julia 1.5.4",
   "language": "julia",
   "name": "julia-1.5"
  },
  "language_info": {
   "file_extension": ".jl",
   "mimetype": "application/julia",
   "name": "julia",
   "version": "1.5.4"
  }
 },
 "nbformat": 4,
 "nbformat_minor": 2
}
