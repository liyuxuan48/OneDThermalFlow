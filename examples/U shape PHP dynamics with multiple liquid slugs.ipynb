{
 "cells": [
  {
   "cell_type": "markdown",
   "metadata": {},
   "source": [
    "## U shape PHP dynamics with multiple liquid slugs - (no heat transfer currently)"
   ]
  },
  {
   "cell_type": "code",
   "execution_count": 1,
   "metadata": {
    "scrolled": true
   },
   "outputs": [
    {
     "data": {
      "text/plain": [
       "Plots.PyPlotBackend()"
      ]
     },
     "execution_count": 1,
     "metadata": {},
     "output_type": "execute_result"
    }
   ],
   "source": [
    "using Plots\n",
    "pyplot()"
   ]
  },
  {
   "cell_type": "code",
   "execution_count": 2,
   "metadata": {},
   "outputs": [],
   "source": [
    "using DifferentialEquations"
   ]
  },
  {
   "cell_type": "code",
   "execution_count": 3,
   "metadata": {},
   "outputs": [],
   "source": [
    "using DelimitedFiles"
   ]
  },
  {
   "cell_type": "code",
   "execution_count": 4,
   "metadata": {},
   "outputs": [],
   "source": [
    "cd(dirname(pwd()))\n",
    "cd(\"src\")\n",
    "\n",
    "include(\"Systems.jl\")\n",
    "include(\"Tools.jl\")\n",
    "\n",
    "using ..Systems\n",
    "using ..Tools"
   ]
  },
  {
   "cell_type": "markdown",
   "metadata": {},
   "source": [
    "## Parameters of the PHP"
   ]
  },
  {
   "cell_type": "code",
   "execution_count": 20,
   "metadata": {},
   "outputs": [],
   "source": [
    "    ω0 = [sqrt(1.2e004), sqrt(1.2e004)];\n",
    "    ℘ = [1.2e005, 1.2e005];\n",
    "\n",
    "\n",
    "    Θ = 0.15;\n",
    "    θe = 1 + Θ;\n",
    "    θc = 1 - Θ;\n",
    "    \n",
    "    He = 3000.0;\n",
    "    Hc = 3000.0;\n",
    "    \n",
    "    X0 = 0.5;\n",
    "\n",
    "    γ = 1.4;"
   ]
  },
  {
   "cell_type": "code",
   "execution_count": 21,
   "metadata": {},
   "outputs": [
    {
     "data": {
      "text/plain": [
       "1.5707963267948966"
      ]
     },
     "execution_count": 21,
     "metadata": {},
     "output_type": "execute_result"
    }
   ],
   "source": [
    "    L = 8.0  # total length of the pipe when streched to a 1D pipe\n",
    "    L2D = 2.0 # the actual length of the bended pipe in the real world\n",
    "    alpha = pi/2 # inclination angle "
   ]
  },
  {
   "cell_type": "markdown",
   "metadata": {},
   "source": [
    "## Pipe definition"
   ]
  },
  {
   "cell_type": "code",
   "execution_count": 22,
   "metadata": {},
   "outputs": [
    {
     "data": {
      "text/plain": [
       "Tube(8.0, 2.0, 1.5707963267948966)"
      ]
     },
     "execution_count": 22,
     "metadata": {},
     "output_type": "execute_result"
    }
   ],
   "source": [
    "tube = Tube(L,L2D,alpha)"
   ]
  },
  {
   "cell_type": "markdown",
   "metadata": {},
   "source": [
    "## Evaporator and condenser definition"
   ]
  },
  {
   "cell_type": "code",
   "execution_count": 23,
   "metadata": {},
   "outputs": [
    {
     "data": {
      "text/plain": [
       "Evaporator(3000.0, 1.15, Tuple{Float64,Float64}[(0.0, 1.0), (3.0, 5.0), (7.0, 8.0)])"
      ]
     },
     "execution_count": 23,
     "metadata": {},
     "output_type": "execute_result"
    }
   ],
   "source": [
    "Xe = map(tuple, [0.0; 3.0; 7.0], [1.0; 5.0; 8.0])\n",
    "evap = Evaporator(He,θe,Xe)"
   ]
  },
  {
   "cell_type": "code",
   "execution_count": 24,
   "metadata": {},
   "outputs": [
    {
     "data": {
      "text/plain": [
       "Condenser(3000.0, 0.85, Tuple{Float64,Float64}[(1.0, 3.0), (5.0, 7.0)])"
      ]
     },
     "execution_count": 24,
     "metadata": {},
     "output_type": "execute_result"
    }
   ],
   "source": [
    "Xc = map(tuple, [1.0; 5.0], [3.0; 7.0])\n",
    "cond = Condenser(Hc,θc,Xc)"
   ]
  },
  {
   "cell_type": "markdown",
   "metadata": {},
   "source": [
    "## Vapor plug and liquid slug initialization"
   ]
  },
  {
   "cell_type": "code",
   "execution_count": 25,
   "metadata": {},
   "outputs": [
    {
     "data": {
      "text/plain": [
       "LiquidSlug(1.4, [109.54451150103323, 109.54451150103323], [120000.0, 120000.0], Tuple{Float64,Float64}[(1.0, 3.0), (5.5, 6.0)], Tuple{Float64,Float64}[(0.0, 0.0), (0.0, 0.0)])"
      ]
     },
     "execution_count": 25,
     "metadata": {},
     "output_type": "execute_result"
    }
   ],
   "source": [
    "X0 = [(1.0,3.0),(5.5,6.0)]\n",
    "dXdt0 = [(0.0,0.0),(0.0,0.0)]\n",
    "liquids=LiquidSlug(γ,ω0,℘,X0,dXdt0)"
   ]
  },
  {
   "cell_type": "code",
   "execution_count": 26,
   "metadata": {},
   "outputs": [
    {
     "data": {
      "text/plain": [
       "VaporPlug(1.4, [1.0, 1.0, 1.0])"
      ]
     },
     "execution_count": 26,
     "metadata": {},
     "output_type": "execute_result"
    }
   ],
   "source": [
    "P = [1.0,1.0,1.0];\n",
    "vapors=VaporPlug(γ,P)"
   ]
  },
  {
   "cell_type": "markdown",
   "metadata": {},
   "source": [
    "## Construct the system"
   ]
  },
  {
   "cell_type": "code",
   "execution_count": 27,
   "metadata": {},
   "outputs": [
    {
     "data": {
      "text/plain": [
       "PHPSystem(Tube(8.0, 2.0, 1.5707963267948966), Evaporator(3000.0, 1.15, Tuple{Float64,Float64}[(0.0, 1.0), (3.0, 5.0), (7.0, 8.0)]), Condenser(3000.0, 0.85, Tuple{Float64,Float64}[(1.0, 3.0), (5.0, 7.0)]), LiquidSlug(1.4, [109.54451150103323, 109.54451150103323], [120000.0, 120000.0], Tuple{Float64,Float64}[(1.0, 3.0), (5.5, 6.0)], Tuple{Float64,Float64}[(0.0, 0.0), (0.0, 0.0)]), VaporPlug(1.4, [1.0, 1.0, 1.0]))"
      ]
     },
     "execution_count": 27,
     "metadata": {},
     "output_type": "execute_result"
    }
   ],
   "source": [
    "sys0 = PHPSystem(tube,evap,cond,liquids,vapors)"
   ]
  },
  {
   "cell_type": "code",
   "execution_count": 28,
   "metadata": {
    "scrolled": false
   },
   "outputs": [
    {
     "data": {
      "text/plain": [
       "PHPSystem"
      ]
     },
     "execution_count": 28,
     "metadata": {},
     "output_type": "execute_result"
    }
   ],
   "source": [
    "typeof(sys0)"
   ]
  },
  {
   "cell_type": "markdown",
   "metadata": {},
   "source": [
    "## Construct the state vector U"
   ]
  },
  {
   "cell_type": "code",
   "execution_count": 29,
   "metadata": {},
   "outputs": [
    {
     "data": {
      "text/plain": [
       "11-element Array{Float64,1}:\n",
       " 1.0\n",
       " 3.0\n",
       " 5.5\n",
       " 6.0\n",
       " 0.0\n",
       " 0.0\n",
       " 0.0\n",
       " 0.0\n",
       " 1.0\n",
       " 2.5\n",
       " 2.0"
      ]
     },
     "execution_count": 29,
     "metadata": {},
     "output_type": "execute_result"
    }
   ],
   "source": [
    "Lvaporplug = XptoLvaporplug(X0,sys0.tube.L)\n",
    "M = P.^(1/γ).* Lvaporplug\n",
    "u=XMtovec(X0,dXdt0,M)"
   ]
  },
  {
   "cell_type": "markdown",
   "metadata": {},
   "source": [
    " ## $\\textbf{U}=\\left(\\begin{array}{c}  X_{p1}   \\\\  X_{p2} \\\\  X_{p3} \\\\  X_{p4} \\\\ \\frac{\\mathrm{d} X_{p1}}{\\mathrm{d} \\tau}  \\\\ \\frac{\\mathrm{d} X_{p2}}{\\mathrm{d} \\tau}   \\\\ \\frac{\\mathrm{d} X_{p3}}{\\mathrm{d} \\tau}   \\\\ \\frac{\\mathrm{d} X_{p4}}{\\mathrm{d} \\tau} \\\\ M_{1} \\\\ M_{2} \\\\ M_{3} \\end{array}\\right)$."
   ]
  },
  {
   "cell_type": "markdown",
   "metadata": {},
   "source": [
    "## Construct the time marching of U"
   ]
  },
  {
   "cell_type": "code",
   "execution_count": 30,
   "metadata": {},
   "outputs": [
    {
     "data": {
      "text/plain": [
       "solve! (generic function with 1 method)"
      ]
     },
     "execution_count": 30,
     "metadata": {},
     "output_type": "execute_result"
    }
   ],
   "source": [
    "function solve!(du,u,p,t)\n",
    "    \n",
    "\n",
    "    (Xp,dXdt0,M)=vectoXM(u)\n",
    "\n",
    "    \n",
    "    numofliquidslug = Integer( (length(u) + 1)/3/2 )\n",
    "    sys0 = p\n",
    "    \n",
    "    γ = sys0.liquidslug.γ\n",
    "    ω0 = sys0.liquidslug.ω0\n",
    "    ℘ = sys0.liquidslug.℘\n",
    "    Lvaporplug = XptoLvaporplug(Xp,sys0.tube.L)\n",
    "#     Lliquidslug = XptoLliquidslug(Xp)\n",
    "    height = getheight(Xp,L2D,alpha)\n",
    "\n",
    "    \n",
    "    \n",
    "    # get P from M and γ\n",
    "    P = (M./Lvaporplug).^(γ) \n",
    "    \n",
    "    \n",
    "    # get θ from P and γ\n",
    "    θ = P.^((γ-1)/γ)\n",
    "\n",
    "    \n",
    "    for i = 1:numofliquidslug\n",
    "        du[2*i-1] = u[2*numofliquidslug+2*i-1]\n",
    "        du[2*i] = du[2*i-1]\n",
    "        \n",
    "        du[2*numofliquidslug + 2*i-1] = -32*u[2*numofliquidslug + 2*i-1] - (ω0[i]^2)*(0.5*(height[i][end]-height[i][1])) + ℘[i]*(P[i]-P[i+1])\n",
    "        du[2*numofliquidslug + 2*i] = du[2*numofliquidslug + 2*i-1]\n",
    "    end\n",
    "\n",
    "    return du\n",
    "    \n",
    "end"
   ]
  },
  {
   "cell_type": "markdown",
   "metadata": {},
   "source": [
    "## Solve the constructed ODE for U"
   ]
  },
  {
   "cell_type": "code",
   "execution_count": 31,
   "metadata": {},
   "outputs": [],
   "source": [
    "p = sys0\n",
    "tspan = (0.0, 0.1);\n",
    "prob = ODEProblem(solve!, u, tspan, p)\n",
    "sol = solve(prob, RK4(), adaptive=false, dt=1.0e-5);"
   ]
  },
  {
   "cell_type": "markdown",
   "metadata": {},
   "source": [
    "## Convert and plot the results"
   ]
  },
  {
   "cell_type": "code",
   "execution_count": 32,
   "metadata": {},
   "outputs": [],
   "source": [
    "X1hist=zeros(length(sol));\n",
    "X2hist=zeros(length(sol));\n",
    "X3hist=zeros(length(sol));\n",
    "X4hist=zeros(length(sol));\n",
    "M2hist=zeros(length(sol));\n",
    "thist=zeros(length(sol));\n",
    "\n",
    "for i = 1:length(sol)\n",
    "    X1hist[i]=sol[i][1]\n",
    "    X2hist[i]=sol[i][2]\n",
    "    X3hist[i]=sol[i][3]\n",
    "    X4hist[i]=sol[i][4]\n",
    "    thist[i]=sol.t[i]\n",
    "end"
   ]
  },
  {
   "cell_type": "code",
   "execution_count": 33,
   "metadata": {},
   "outputs": [
    {
     "data": {
      "image/png": "[encoded data removed]"
     },
     "execution_count": 33,
     "metadata": {},
     "output_type": "execute_result"
    }
   ],
   "source": [
    "plot(thist,X1hist,label=\"Xp1\")"
   ]
  },
  {
   "cell_type": "code",
   "execution_count": null,
   "metadata": {},
   "outputs": [],
   "source": []
  }
 ],
 "metadata": {
  "kernelspec": {
   "display_name": "Julia 1.3.1",
   "language": "julia",
   "name": "julia-1.3"
  },
  "language_info": {
   "file_extension": ".jl",
   "mimetype": "application/julia",
   "name": "julia",
   "version": "1.3.1"
  }
 },
 "nbformat": 4,
 "nbformat_minor": 2
}
