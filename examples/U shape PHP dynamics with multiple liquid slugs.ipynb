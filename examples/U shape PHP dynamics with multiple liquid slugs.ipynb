{
 "cells": [
  {
   "cell_type": "markdown",
   "metadata": {},
   "source": [
    "## U shape PHP dynamics with multiple liquid slugs - (under construction)"
   ]
  },
  {
   "cell_type": "code",
   "execution_count": 1,
   "metadata": {
    "scrolled": true
   },
   "outputs": [],
   "source": [
    "# using Plots\n",
    "# pyplot()"
   ]
  },
  {
   "cell_type": "code",
   "execution_count": 2,
   "metadata": {},
   "outputs": [],
   "source": [
    "# using DifferentialEquations"
   ]
  },
  {
   "cell_type": "code",
   "execution_count": 3,
   "metadata": {},
   "outputs": [],
   "source": [
    "# using DelimitedFiles"
   ]
  },
  {
   "cell_type": "code",
   "execution_count": 4,
   "metadata": {},
   "outputs": [],
   "source": [
    "cd(dirname(pwd()))\n",
    "cd(\"src\")\n",
    "\n",
    "include(\"Systems.jl\")\n",
    "include(\"Tools.jl\")\n",
    "\n",
    "using ..Systems\n",
    "using ..Tools"
   ]
  },
  {
   "cell_type": "markdown",
   "metadata": {},
   "source": [
    "## Parameters of the PHP"
   ]
  },
  {
   "cell_type": "code",
   "execution_count": 5,
   "metadata": {},
   "outputs": [],
   "source": [
    "    ω0 = [sqrt(1.2e004), sqrt(1.2e004)];\n",
    "    ℘ = [1.2e005, 1.2e005];\n",
    "\n",
    "\n",
    "    Θ = 0.15;\n",
    "    θe = 1 + Θ;\n",
    "    θc = 1 - Θ;\n",
    "    \n",
    "    He = 3000.0;\n",
    "    Hc = 3000.0;\n",
    "    \n",
    "    X0 = 0.5;\n",
    "\n",
    "    γ = 1.4;"
   ]
  },
  {
   "cell_type": "code",
   "execution_count": 6,
   "metadata": {},
   "outputs": [
    {
     "data": {
      "text/plain": [
       "1.5707963267948966"
      ]
     },
     "execution_count": 6,
     "metadata": {},
     "output_type": "execute_result"
    }
   ],
   "source": [
    "    L = 8.0  # total length of the pipe when streched to a 1D pipe\n",
    "    L2D = 2.0 # the actual length of the bended pipe in the real world\n",
    "    alpha = pi/2 # inclination angle "
   ]
  },
  {
   "cell_type": "markdown",
   "metadata": {},
   "source": [
    "## Pipe definition"
   ]
  },
  {
   "cell_type": "code",
   "execution_count": 7,
   "metadata": {},
   "outputs": [
    {
     "data": {
      "text/plain": [
       "Tube(8.0, 2.0, 1.5707963267948966)"
      ]
     },
     "execution_count": 7,
     "metadata": {},
     "output_type": "execute_result"
    }
   ],
   "source": [
    "tube = Tube(L,L2D,alpha)"
   ]
  },
  {
   "cell_type": "markdown",
   "metadata": {},
   "source": [
    "## Evaporator and condenser definition"
   ]
  },
  {
   "cell_type": "code",
   "execution_count": 8,
   "metadata": {},
   "outputs": [
    {
     "data": {
      "text/plain": [
       "Evaporator(3000.0, 1.15, Tuple{Float64,Float64}[(0.0, 1.0), (3.0, 5.0), (7.0, 8.0)])"
      ]
     },
     "execution_count": 8,
     "metadata": {},
     "output_type": "execute_result"
    }
   ],
   "source": [
    "Xe = map(tuple, [0.0; 3.0; 7.0], [1.0; 5.0; 8.0])\n",
    "evap = Evaporator(He,θe,Xe)"
   ]
  },
  {
   "cell_type": "code",
   "execution_count": 9,
   "metadata": {},
   "outputs": [
    {
     "data": {
      "text/plain": [
       "Condenser(3000.0, 0.85, Tuple{Float64,Float64}[(1.0, 3.0), (5.0, 7.0)])"
      ]
     },
     "execution_count": 9,
     "metadata": {},
     "output_type": "execute_result"
    }
   ],
   "source": [
    "Xc = map(tuple, [1.0; 5.0], [3.0; 7.0])\n",
    "cond = Condenser(Hc,θc,Xc)"
   ]
  },
  {
   "cell_type": "markdown",
   "metadata": {},
   "source": [
    "## Vapor plug and liquid slug initialization"
   ]
  },
  {
   "cell_type": "code",
   "execution_count": 20,
   "metadata": {},
   "outputs": [
    {
     "data": {
      "text/plain": [
       "LiquidSlug(1.4, [109.54451150103323, 109.54451150103323], [120000.0, 120000.0], Tuple{Float64,Float64}[(1.5, 3.5), (5.7, 7.7)], Tuple{Float64,Float64}[(0.5, 0.5), (0.0, 0.0)])"
      ]
     },
     "execution_count": 20,
     "metadata": {},
     "output_type": "execute_result"
    }
   ],
   "source": [
    "\n",
    "X0 = [(1.5,3.5),(5.7,7.7)]\n",
    "dXdt0 = [(0.5,0.5),(0.0,0.0)]\n",
    "liquids=LiquidSlug(γ,ω0,℘,X0,dXdt0)"
   ]
  },
  {
   "cell_type": "code",
   "execution_count": 21,
   "metadata": {},
   "outputs": [
    {
     "data": {
      "text/plain": [
       "1.5"
      ]
     },
     "execution_count": 21,
     "metadata": {},
     "output_type": "execute_result"
    }
   ],
   "source": [
    "X0[1][1]"
   ]
  },
  {
   "cell_type": "code",
   "execution_count": 30,
   "metadata": {},
   "outputs": [
    {
     "data": {
      "text/plain": [
       "VaporPlug(1.4, [1.0, 1.0, 1.0])"
      ]
     },
     "execution_count": 30,
     "metadata": {},
     "output_type": "execute_result"
    }
   ],
   "source": [
    "    P = [1.0,1.0,1.0];\n",
    "    θ = [1.0,1.0,1.0];\n",
    "    \n",
    "    # only good for one liquid slug\n",
    "    M = zeros(size(θ))\n",
    "    M[1] = P[1].^(1/γ).*(X0[1][1]);\n",
    "    M[2] = P[2].^(1/γ).*(X0[2][1]-X0[1][2]);\n",
    "    M[3] = P[3].^(1/γ).*(L-X0[2][2]);\n",
    "\n",
    "    vapors=VaporPlug(γ,P)"
   ]
  },
  {
   "cell_type": "code",
   "execution_count": 31,
   "metadata": {},
   "outputs": [
    {
     "data": {
      "text/plain": [
       "PHPSystem(Tube(8.0, 2.0, 1.5707963267948966), Evaporator(3000.0, 1.15, Tuple{Float64,Float64}[(0.0, 1.0), (3.0, 5.0), (7.0, 8.0)]), Condenser(3000.0, 0.85, Tuple{Float64,Float64}[(1.0, 3.0), (5.0, 7.0)]), LiquidSlug(1.4, [109.54451150103323, 109.54451150103323], [120000.0, 120000.0], Tuple{Float64,Float64}[(1.5, 3.5), (5.7, 7.7)], Tuple{Float64,Float64}[(0.5, 0.5), (0.0, 0.0)]), VaporPlug(1.4, [1.0, 1.0, 1.0]))"
      ]
     },
     "execution_count": 31,
     "metadata": {},
     "output_type": "execute_result"
    }
   ],
   "source": [
    "sys0 = PHPSystem(tube,evap,cond,liquids,vapors)"
   ]
  },
  {
   "cell_type": "code",
   "execution_count": 32,
   "metadata": {},
   "outputs": [
    {
     "data": {
      "text/plain": [
       "PHPSystem"
      ]
     },
     "execution_count": 32,
     "metadata": {},
     "output_type": "execute_result"
    }
   ],
   "source": [
    "typeof(sys0)"
   ]
  },
  {
   "cell_type": "code",
   "execution_count": 33,
   "metadata": {},
   "outputs": [
    {
     "data": {
      "text/plain": [
       "2-element Array{Tuple{Float64,Float64},1}:\n",
       " (0.5, 1.5)                              \n",
       " (0.2999999999999998, 1.7000000000000002)"
      ]
     },
     "execution_count": 33,
     "metadata": {},
     "output_type": "execute_result"
    }
   ],
   "source": [
    "getheight(sys0)"
   ]
  },
  {
   "cell_type": "markdown",
   "metadata": {},
   "source": [
    " ## $\\textbf{U}=\\left(\\begin{array}{c}  X_{p1}   \\\\  X_{p2} \\\\  X_{p3} \\\\  X_{p4} \\\\ \\frac{\\mathrm{d} X_{p1}}{\\mathrm{d} \\tau}  \\\\ \\frac{\\mathrm{d} X_{p2}}{\\mathrm{d} \\tau}   \\\\ \\frac{\\mathrm{d} X_{p3}}{\\mathrm{d} \\tau}   \\\\ \\frac{\\mathrm{d} X_{p4}}{\\mathrm{d} \\tau} \\\\ M_{1} \\\\ M_{2} \\\\ M_{3} \\end{array}\\right)$."
   ]
  },
  {
   "cell_type": "code",
   "execution_count": 34,
   "metadata": {},
   "outputs": [
    {
     "data": {
      "text/plain": [
       "solve! (generic function with 1 method)"
      ]
     },
     "execution_count": 34,
     "metadata": {},
     "output_type": "execute_result"
    }
   ],
   "source": [
    "function solve!(du,u,p,t)\n",
    "    \n",
    "    sys0 = p\n",
    "    \n",
    "    γ = sys0.liquidslug.γ\n",
    "    ω0 = sys0.liquidslug.ω0\n",
    "    ℘ = sys0.liquidslug.℘\n",
    "    Lvaporplug = XptoLvaporplug(sys0,Xp)\n",
    "    \n",
    "    \n",
    "    (Xp,dXdt0,M)=vectoXM(u)\n",
    "    \n",
    "    \n",
    "    # get P from M and γ\n",
    "    P = (M./Lvaporplug).^(γ) \n",
    "    \n",
    "    \n",
    "    # get θ from P and γ\n",
    "    θ = P.^((γ-1)/γ)\n",
    "\n",
    "    \n",
    "    du[1] = u[2]\n",
    "    du[2] = -32*u[2] - (ω0^2)*u[1] + ζ*(P[1]-P[2])\n",
    "    u[1] > 0 ? du[3] = -Hc*u[1]*(θ[1] - θc) : du[3] = He*(1 + u[1])*(θe - θ[1]) \n",
    "    u[1] > 0 ? du[4] = He*(1-u[1])*(θe - θ[2]) : du[4] = Hc*u[1]*(θ[2] - θc)\n",
    "    \n",
    "    return du\n",
    "    \n",
    "end"
   ]
  },
  {
   "cell_type": "code",
   "execution_count": 35,
   "metadata": {},
   "outputs": [
    {
     "data": {
      "text/plain": [
       "systovec (generic function with 1 method)"
      ]
     },
     "execution_count": 35,
     "metadata": {},
     "output_type": "execute_result"
    }
   ],
   "source": [
    "function systovec(sys0,Xp,dXdt,M)\n",
    "    if (length(Xp) == length(dXdt)) && (2 * length(Xp) == length(M) + 1)\n",
    "        \n",
    "        u=zeros(3*2*length(Xp)-1)\n",
    "        \n",
    "        for i = 1:length(Xp)\n",
    "            \n",
    "            # input Xp\n",
    "            u[2*i-1] = Xp[i][1]\n",
    "            u[2*i] = Xp[i][end]\n",
    "            \n",
    "            # input dXdt\n",
    "            u[2*length(Xp) + 2*i-1] = dXdt[i][1]\n",
    "            u[2*length(Xp) + 2*i] = dXdt[i][end]           \n",
    "        end\n",
    "        \n",
    "        for i = 1:length(M)            \n",
    "            # input M\n",
    "            u[4*length(Xp) + i] = M[i]\n",
    "        end\n",
    "    else\n",
    "        println(\"the lengthes of X and dXdt and M do not match!\")\n",
    "    end\n",
    "    \n",
    "    return u\n",
    "            \n",
    "end"
   ]
  },
  {
   "cell_type": "code",
   "execution_count": 74,
   "metadata": {},
   "outputs": [
    {
     "data": {
      "text/plain": [
       "vectoXM (generic function with 1 method)"
      ]
     },
     "execution_count": 74,
     "metadata": {},
     "output_type": "execute_result"
    }
   ],
   "source": [
    "function vectoXM(sys0,u)\n",
    "    \n",
    "    maxindex = Integer( (length(u) + 1)/3/2 )\n",
    "    \n",
    "    Xp = map(tuple, zeros(maxindex), zeros(maxindex))\n",
    "    dXdt = map(tuple, zeros(maxindex), zeros(maxindex))\n",
    "    M = zeros(2*maxindex-1)\n",
    "    \n",
    "    for i = 1:maxindex\n",
    "        \n",
    "        # input Xp\n",
    "        Xp[i] = (u[2*i-1],u[2*i])\n",
    "        \n",
    "        # input dXdt\n",
    "        dXdt[i] = (u[2*maxindex + 2*i-1],u[2*maxindex + 2*i])\n",
    "    end\n",
    "    \n",
    "    for i = 1:(2*maxindex-1)\n",
    "        \n",
    "        # input M\n",
    "        M[i] = u[4*maxindex + i]\n",
    "\n",
    "    end\n",
    "    \n",
    "    return Xp,dXdt,M\n",
    "            \n",
    "end"
   ]
  },
  {
   "cell_type": "code",
   "execution_count": 81,
   "metadata": {},
   "outputs": [
    {
     "data": {
      "text/plain": [
       "XptoLvaporplug (generic function with 1 method)"
      ]
     },
     "execution_count": 81,
     "metadata": {},
     "output_type": "execute_result"
    }
   ],
   "source": [
    "function XptoLvaporplug(sys0,Xp)\n",
    "    \n",
    "    L = sys0.tube.L\n",
    "    \n",
    "    maxindex = length(Xp) + 1\n",
    "    Lvaporplug = zeros(maxindex)\n",
    "\n",
    "    Lvaporplug[1] = Xp[1][1]-0.0\n",
    "    Lvaporplug[end] = L-Xp[end][end]\n",
    "    \n",
    "    if maxindex > 2\n",
    "        for i = 2:maxindex-1\n",
    "        \n",
    "            Lvaporplug[i] = Xp[i][1] - Xp[i-1][end]\n",
    "            \n",
    "        end    \n",
    "    end\n",
    "  \n",
    "    return Lvaporplug\n",
    "            \n",
    "end"
   ]
  },
  {
   "cell_type": "code",
   "execution_count": 76,
   "metadata": {},
   "outputs": [
    {
     "data": {
      "text/plain": [
       "11-element Array{Float64,1}:\n",
       " 1.5               \n",
       " 3.5               \n",
       " 5.7               \n",
       " 7.7               \n",
       " 0.5               \n",
       " 0.5               \n",
       " 0.0               \n",
       " 0.0               \n",
       " 1.5               \n",
       " 2.2               \n",
       " 0.2999999999999998"
      ]
     },
     "execution_count": 76,
     "metadata": {},
     "output_type": "execute_result"
    }
   ],
   "source": [
    "u=systovec(X0,dXdt0,M)"
   ]
  },
  {
   "cell_type": "code",
   "execution_count": 77,
   "metadata": {},
   "outputs": [
    {
     "data": {
      "text/plain": [
       "(Tuple{Float64,Float64}[(1.5, 3.5), (5.7, 7.7)], Tuple{Float64,Float64}[(0.5, 0.5), (0.0, 0.0)], [1.5, 2.2, 0.2999999999999998])"
      ]
     },
     "execution_count": 77,
     "metadata": {},
     "output_type": "execute_result"
    }
   ],
   "source": [
    "(Xp,dXdt0,M)=vectoXM(u)"
   ]
  },
  {
   "cell_type": "code",
   "execution_count": 84,
   "metadata": {},
   "outputs": [
    {
     "data": {
      "text/plain": [
       "3-element Array{Float64,1}:\n",
       " 1.5               \n",
       " 2.2               \n",
       " 0.2999999999999998"
      ]
     },
     "execution_count": 84,
     "metadata": {},
     "output_type": "execute_result"
    }
   ],
   "source": [
    "Lvaporplug=XptoLvaporplug(sys0,X0)"
   ]
  },
  {
   "cell_type": "code",
   "execution_count": 85,
   "metadata": {},
   "outputs": [
    {
     "data": {
      "text/plain": [
       "3-element Array{Float64,1}:\n",
       " 1.0\n",
       " 1.0\n",
       " 1.0"
      ]
     },
     "execution_count": 85,
     "metadata": {},
     "output_type": "execute_result"
    }
   ],
   "source": [
    "P = (M./Lvaporplug).^(γ) "
   ]
  },
  {
   "cell_type": "code",
   "execution_count": 86,
   "metadata": {},
   "outputs": [
    {
     "data": {
      "text/plain": [
       "3-element Array{Float64,1}:\n",
       " 1.0\n",
       " 1.0\n",
       " 1.0"
      ]
     },
     "execution_count": 86,
     "metadata": {},
     "output_type": "execute_result"
    }
   ],
   "source": [
    " θ = P.^((γ-1)/γ)"
   ]
  },
  {
   "cell_type": "code",
   "execution_count": 87,
   "metadata": {},
   "outputs": [
    {
     "data": {
      "text/plain": [
       "11-element Array{Float64,1}:\n",
       " 0.0\n",
       " 0.0\n",
       " 0.0\n",
       " 0.0\n",
       " 0.0\n",
       " 0.0\n",
       " 0.0\n",
       " 0.0\n",
       " 0.0\n",
       " 0.0\n",
       " 0.0"
      ]
     },
     "execution_count": 87,
     "metadata": {},
     "output_type": "execute_result"
    }
   ],
   "source": [
    "du=zeros(size(u))"
   ]
  }
 ],
 "metadata": {
  "kernelspec": {
   "display_name": "Julia 1.3.1",
   "language": "julia",
   "name": "julia-1.3"
  },
  "language_info": {
   "file_extension": ".jl",
   "mimetype": "application/julia",
   "name": "julia",
   "version": "1.3.1"
  }
 },
 "nbformat": 4,
 "nbformat_minor": 2
}
