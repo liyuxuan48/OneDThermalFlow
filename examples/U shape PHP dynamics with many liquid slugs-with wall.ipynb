{
 "cells": [
  {
   "cell_type": "markdown",
   "metadata": {},
   "source": [
    "## U shape PHP dynamics with multiple liquid slugs - with heat transfer"
   ]
  },
  {
   "cell_type": "code",
   "execution_count": 1,
   "metadata": {
    "scrolled": true
   },
   "outputs": [
    {
     "data": {
      "text/plain": [
       "Plots.PyPlotBackend()"
      ]
     },
     "execution_count": 1,
     "metadata": {},
     "output_type": "execute_result"
    }
   ],
   "source": [
    "using Plots\n",
    "pyplot()"
   ]
  },
  {
   "cell_type": "code",
   "execution_count": 2,
   "metadata": {},
   "outputs": [],
   "source": [
    "using DifferentialEquations"
   ]
  },
  {
   "cell_type": "code",
   "execution_count": 6,
   "metadata": {},
   "outputs": [],
   "source": [
    "using CartesianGrids"
   ]
  },
  {
   "cell_type": "code",
   "execution_count": 3,
   "metadata": {},
   "outputs": [],
   "source": [
    "cd(dirname(pwd()))\n",
    "cd(\"src\") \n",
    "\n",
    "\n",
    "include(\"Systems.jl\")\n",
    "using ..Systems\n",
    "\n",
    "include(\"Tools.jl\")\n",
    "using ..Tools\n",
    "\n",
    "\n",
    "include(\"Thermomodel.jl\")\n",
    "using ..Thermomodel\n",
    "\n",
    "include(\"Postprocessing.jl\")\n",
    "using ..Postprocessing\n",
    "\n",
    "cd(dirname(pwd()))"
   ]
  },
  {
   "cell_type": "markdown",
   "metadata": {},
   "source": [
    "## Parameters of the PHP"
   ]
  },
  {
   "cell_type": "code",
   "execution_count": 4,
   "metadata": {},
   "outputs": [],
   "source": [
    "    ω0 = [sqrt(1.2e004), sqrt(1.2e004),sqrt(1.2e004), sqrt(1.2e004),sqrt(1.2e004), sqrt(1.2e004),sqrt(1.2e004), sqrt(1.2e004)];\n",
    "    ℘ = [1.2e005, 1.2e005,1.2e005, 1.2e005,1.2e005, 1.2e005,1.2e005, 1.2e005];\n",
    "\n",
    "\n",
    "     Θ = 0.15;\n",
    "    θe = 1 + Θ;\n",
    "    θc = 1 - Θ;\n",
    "    \n",
    "    He = 3000.0;\n",
    "    Hc = 3000.0;\n",
    "    \n",
    "    X0 = 0.5;\n",
    "\n",
    "    γ = 1.4;"
   ]
  },
  {
   "cell_type": "code",
   "execution_count": 5,
   "metadata": {},
   "outputs": [
    {
     "data": {
      "text/plain": [
       "1.5707963267948966"
      ]
     },
     "execution_count": 5,
     "metadata": {},
     "output_type": "execute_result"
    }
   ],
   "source": [
    "    L = 24.0  # total length of the pipe when streched to a 1D pipe\n",
    "    L2D = 2.0 # the actual length of the bended pipe in the real world\n",
    "    alpha = pi/2 # inclination angle "
   ]
  },
  {
   "cell_type": "markdown",
   "metadata": {},
   "source": [
    "## Pipe definition"
   ]
  },
  {
   "cell_type": "code",
   "execution_count": 7,
   "metadata": {},
   "outputs": [
    {
     "data": {
      "text/plain": [
       "Tube(24.0, 2.0, 1.5707963267948966)"
      ]
     },
     "execution_count": 7,
     "metadata": {},
     "output_type": "execute_result"
    }
   ],
   "source": [
    "tube = Tube(L,L2D,alpha)"
   ]
  },
  {
   "cell_type": "markdown",
   "metadata": {},
   "source": [
    "## Evaporator and condenser definition"
   ]
  },
  {
   "cell_type": "code",
   "execution_count": 8,
   "metadata": {},
   "outputs": [
    {
     "data": {
      "text/plain": [
       "Evaporator(3000.0, 1.15, Tuple{Float64,Float64}[(0.0, 1.0), (3.0, 5.0), (7.0, 9.0), (11.0, 13.0), (15.0, 17.0), (19.0, 21.0), (23.0, 24.0)])"
      ]
     },
     "execution_count": 8,
     "metadata": {},
     "output_type": "execute_result"
    }
   ],
   "source": [
    "Xe = map(tuple, [0.0; 3.0; 7.0; 11.0; 15.0; 19.0; 23.0], [1.0; 5.0; 9.0; 13.0; 17.0; 21.0; 24.0])\n",
    "evap = Evaporator(He,θe,Xe)"
   ]
  },
  {
   "cell_type": "code",
   "execution_count": 9,
   "metadata": {},
   "outputs": [
    {
     "data": {
      "text/plain": [
       "Condenser(3000.0, 0.85, Tuple{Float64,Float64}[(1.0, 3.0), (5.0, 7.0), (9.0, 11.0), (13.0, 15.0), (17.0, 19.0), (21.0, 23.0)])"
      ]
     },
     "execution_count": 9,
     "metadata": {},
     "output_type": "execute_result"
    }
   ],
   "source": [
    "Xc = map(tuple, [1.0; 5.0; 9.0; 13.0; 17.0; 21.0], [3.0; 7.0; 11.0; 15.0; 19.0; 23.0])\n",
    "cond = Condenser(Hc,θc,Xc)"
   ]
  },
  {
   "cell_type": "markdown",
   "metadata": {},
   "source": [
    "## Vapor plug and liquid slug initialization"
   ]
  },
  {
   "cell_type": "code",
   "execution_count": 10,
   "metadata": {},
   "outputs": [
    {
     "data": {
      "text/plain": [
       "LiquidSlug(1.4, [109.54451150103323, 109.54451150103323, 109.54451150103323, 109.54451150103323, 109.54451150103323, 109.54451150103323, 109.54451150103323, 109.54451150103323], [120000.0, 120000.0, 120000.0, 120000.0, 120000.0, 120000.0, 120000.0, 120000.0], Tuple{Float64,Float64}[(0.5, 2.5), (5.0, 7.0), (7.5, 8.0), (9.0, 12.0), (14.0, 15.0), (16.2, 17.6), (20.0, 21.0), (21.6, 23.2)], Tuple{Float64,Float64}[(0.0, 0.0), (0.0, 0.0), (0.0, 0.0), (0.0, 0.0), (0.0, 0.0), (0.0, 0.0), (0.0, 0.0), (0.0, 0.0)])"
      ]
     },
     "execution_count": 10,
     "metadata": {},
     "output_type": "execute_result"
    }
   ],
   "source": [
    "X0 = [(0.5,2.5),(5.0,7.0),(7.5,8.0),(9.0,12.0),(14.0,15.0),(16.2,17.6),(20.0,21.0),(21.6,23.2)]\n",
    "dXdt0 = [(0.0,0.0),(0.0,0.0),(0.0,0.0),(0.0,0.0),(0.0,0.0),(0.0,0.0),(0.0,0.0),(0.0,0.0)]\n",
    "liquids=LiquidSlug(γ,ω0,℘,X0,dXdt0)"
   ]
  },
  {
   "cell_type": "code",
   "execution_count": 11,
   "metadata": {},
   "outputs": [
    {
     "data": {
      "text/plain": [
       "VaporPlug(1.4, [1.0, 1.0, 1.0, 1.0, 1.0, 1.0, 1.0, 1.0, 1.0])"
      ]
     },
     "execution_count": 11,
     "metadata": {},
     "output_type": "execute_result"
    }
   ],
   "source": [
    "P = [1.0,1.0,1.0,1.0,1.0,1.0,1.0,1.0,1.0];\n",
    "vapors=VaporPlug(γ,P)"
   ]
  },
  {
   "cell_type": "markdown",
   "metadata": {},
   "source": [
    "## Construct the system"
   ]
  },
  {
   "cell_type": "code",
   "execution_count": 12,
   "metadata": {
    "scrolled": true
   },
   "outputs": [
    {
     "data": {
      "text/plain": [
       "PHPSystem(Tube(24.0, 2.0, 1.5707963267948966), Evaporator(3000.0, 1.15, Tuple{Float64,Float64}[(0.0, 1.0), (3.0, 5.0), (7.0, 9.0), (11.0, 13.0), (15.0, 17.0), (19.0, 21.0), (23.0, 24.0)]), Condenser(3000.0, 0.85, Tuple{Float64,Float64}[(1.0, 3.0), (5.0, 7.0), (9.0, 11.0), (13.0, 15.0), (17.0, 19.0), (21.0, 23.0)]), LiquidSlug(1.4, [109.54451150103323, 109.54451150103323, 109.54451150103323, 109.54451150103323, 109.54451150103323, 109.54451150103323, 109.54451150103323, 109.54451150103323], [120000.0, 120000.0, 120000.0, 120000.0, 120000.0, 120000.0, 120000.0, 120000.0], Tuple{Float64,Float64}[(0.5, 2.5), (5.0, 7.0), (7.5, 8.0), (9.0, 12.0), (14.0, 15.0), (16.2, 17.6), (20.0, 21.0), (21.6, 23.2)], Tuple{Float64,Float64}[(0.0, 0.0), (0.0, 0.0), (0.0, 0.0), (0.0, 0.0), (0.0, 0.0), (0.0, 0.0), (0.0, 0.0), (0.0, 0.0)]), VaporPlug(1.4, [1.0, 1.0, 1.0, 1.0, 1.0, 1.0, 1.0, 1.0, 1.0]))"
      ]
     },
     "execution_count": 12,
     "metadata": {},
     "output_type": "execute_result"
    }
   ],
   "source": [
    "sys0 = PHPSystem(tube,evap,cond,liquids,vapors)"
   ]
  },
  {
   "cell_type": "code",
   "execution_count": 13,
   "metadata": {
    "scrolled": false
   },
   "outputs": [
    {
     "data": {
      "text/plain": [
       "PHPSystem"
      ]
     },
     "execution_count": 13,
     "metadata": {},
     "output_type": "execute_result"
    }
   ],
   "source": [
    "typeof(sys0)"
   ]
  },
  {
   "cell_type": "markdown",
   "metadata": {},
   "source": [
    "## Heat diffusivity"
   ]
  },
  {
   "cell_type": "code",
   "execution_count": 14,
   "metadata": {},
   "outputs": [],
   "source": [
    "α = 1;"
   ]
  },
  {
   "cell_type": "markdown",
   "metadata": {},
   "source": [
    "## Construct U for wall heat function"
   ]
  },
  {
   "cell_type": "code",
   "execution_count": 52,
   "metadata": {},
   "outputs": [
    {
     "data": {
      "text/plain": [
       "ifamongone (generic function with 1 method)"
      ]
     },
     "execution_count": 52,
     "metadata": {},
     "output_type": "execute_result"
    }
   ],
   "source": [
    "function ifamongone(value::Float64, range::Tuple{Float64,Float64})\n",
    "    return (value > range[1]) && (value < range[2]) ? true : false\n",
    "end"
   ]
  },
  {
   "cell_type": "code",
   "execution_count": 67,
   "metadata": {},
   "outputs": [
    {
     "data": {
      "text/plain": [
       "ifamong (generic function with 3 methods)"
      ]
     },
     "execution_count": 67,
     "metadata": {},
     "output_type": "execute_result"
    }
   ],
   "source": [
    "function ifamong(value::Float64, X::Array{Tuple{Float64,Float64},1})\n",
    "    \n",
    "    return Bool(sum(ifamongone.(value,X)))\n",
    "end"
   ]
  },
  {
   "cell_type": "code",
   "execution_count": 68,
   "metadata": {},
   "outputs": [
    {
     "data": {
      "text/plain": [
       "true"
      ]
     },
     "execution_count": 68,
     "metadata": {},
     "output_type": "execute_result"
    }
   ],
   "source": [
    "ifamong(0.6, sys0.evaporator.Xe)"
   ]
  },
  {
   "cell_type": "code",
   "execution_count": 73,
   "metadata": {},
   "outputs": [
    {
     "data": {
      "text/plain": [
       "false"
      ]
     },
     "execution_count": 73,
     "metadata": {},
     "output_type": "execute_result"
    }
   ],
   "source": [
    "ifamong(0.6, sys0.condenser.Xc)"
   ]
  },
  {
   "cell_type": "code",
   "execution_count": 76,
   "metadata": {},
   "outputs": [
    {
     "data": {
      "text/plain": [
       "Foo (generic function with 1 method)"
      ]
     },
     "execution_count": 76,
     "metadata": {},
     "output_type": "execute_result"
    }
   ],
   "source": [
    "function settemperature!(Θᵣ,x,sys0)\n",
    "               \n",
    "    Θᵣ = 1;\n",
    "    \n",
    "    if ifamong(xvalue, sys0.evaporator.Xe)\n",
    "        Θᵣ = sys0.evaporator.Θe\n",
    "    elseif ifamong(xvalue, sys0.condenser.Xc)\n",
    "        Θᵣ = sys0.condenser.Θc\n",
    "        else Θᵣ = 1\n",
    "    end\n",
    "    \n",
    "    return Θᵣ\n",
    "            end"
   ]
  },
  {
   "cell_type": "code",
   "execution_count": 80,
   "metadata": {},
   "outputs": [
    {
     "ename": "MethodError",
     "evalue": "MethodError: no method matching length(::PHPSystem)\nClosest candidates are:\n  length(!Matched::Core.SimpleVector) at essentials.jl:593\n  length(!Matched::Base.MethodList) at reflection.jl:849\n  length(!Matched::Core.MethodTable) at reflection.jl:923\n  ...",
     "output_type": "error",
     "traceback": [
      "MethodError: no method matching length(::PHPSystem)\nClosest candidates are:\n  length(!Matched::Core.SimpleVector) at essentials.jl:593\n  length(!Matched::Base.MethodList) at reflection.jl:849\n  length(!Matched::Core.MethodTable) at reflection.jl:923\n  ...",
      "",
      "Stacktrace:",
      " [1] _similar_for(::UnitRange{Int64}, ::Type{Any}, ::PHPSystem, ::Base.HasLength) at .\\array.jl:533",
      " [2] _collect(::UnitRange{Int64}, ::PHPSystem, ::Base.HasEltype, ::Base.HasLength) at .\\array.jl:566",
      " [3] collect(::PHPSystem) at .\\array.jl:560",
      " [4] broadcastable(::PHPSystem) at .\\broadcast.jl:664",
      " [5] broadcasted(::Function, ::Nodes{Dual,100,1,Float64,Array{Float64,2}}, ::PHPSystem) at .\\broadcast.jl:1235",
      " [6] top-level scope at In[80]:1"
     ]
    }
   ],
   "source": [
    "settemperature!(Θᵣ,x,sys0)"
   ]
  },
  {
   "cell_type": "code",
   "execution_count": 78,
   "metadata": {},
   "outputs": [
    {
     "data": {
      "text/plain": [
       "0.0"
      ]
     },
     "execution_count": 78,
     "metadata": {},
     "output_type": "execute_result"
    }
   ],
   "source": [
    "x = Nodes(Dual,(100,1))\n",
    "u0[50]\n",
    "# "
   ]
  },
  {
   "cell_type": "code",
   "execution_count": 24,
   "metadata": {},
   "outputs": [
    {
     "data": {
      "text/plain": [
       "Nodes{Dual,100,1,Float64,Array{Float64,2}} data\n",
       "Printing in grid orientation (lower left is (1,1))\n",
       "1×100 Array{Float64,2}:\n",
       " 0.0  0.0  0.0  0.0  0.0  0.0  0.0  0.0  …  0.0  0.0  0.0  0.0  0.0  0.0  0.0"
      ]
     },
     "execution_count": 24,
     "metadata": {},
     "output_type": "execute_result"
    }
   ],
   "source": [
    "laplacian(u0)"
   ]
  },
  {
   "cell_type": "markdown",
   "metadata": {},
   "source": [
    "## Solve the constructed ODE for U"
   ]
  },
  {
   "cell_type": "code",
   "execution_count": 37,
   "metadata": {},
   "outputs": [],
   "source": [
    "tstep=1.0e-5\n",
    "\n",
    "p = sys0\n",
    "tspan = (0.0, 0.05);\n",
    "prob = ODEProblem(zhang2002model!, u, tspan, p)\n",
    "sol = solve(prob, RK4(), adaptive=false, dt=tstep);\n",
    "# sol = solve(prob, RK4(), adaptive=false, dt=tstep, callback=cb);"
   ]
  }
 ],
 "metadata": {
  "kernelspec": {
   "display_name": "Julia 1.3.1",
   "language": "julia",
   "name": "julia-1.3"
  },
  "language_info": {
   "file_extension": ".jl",
   "mimetype": "application/julia",
   "name": "julia",
   "version": "1.3.1"
  }
 },
 "nbformat": 4,
 "nbformat_minor": 2
}
