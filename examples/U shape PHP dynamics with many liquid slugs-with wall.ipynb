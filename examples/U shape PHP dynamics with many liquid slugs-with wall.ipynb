{
 "cells": [
  {
   "cell_type": "markdown",
   "metadata": {},
   "source": [
    "## U shape PHP dynamics with multiple liquid slugs - with heat transfer"
   ]
  },
  {
   "cell_type": "code",
   "execution_count": 1,
   "metadata": {
    "scrolled": true
   },
   "outputs": [
    {
     "data": {
      "text/plain": [
       "Plots.PyPlotBackend()"
      ]
     },
     "execution_count": 1,
     "metadata": {},
     "output_type": "execute_result"
    }
   ],
   "source": [
    "using Plots\n",
    "pyplot()"
   ]
  },
  {
   "cell_type": "code",
   "execution_count": 2,
   "metadata": {},
   "outputs": [],
   "source": [
    "using DifferentialEquations"
   ]
  },
  {
   "cell_type": "code",
   "execution_count": 3,
   "metadata": {},
   "outputs": [],
   "source": [
    "using CartesianGrids"
   ]
  },
  {
   "cell_type": "code",
   "execution_count": 4,
   "metadata": {},
   "outputs": [],
   "source": [
    "cd(dirname(pwd()))\n",
    "cd(\"src\") \n",
    "\n",
    "\n",
    "include(\"Systems.jl\")\n",
    "using ..Systems\n",
    "\n",
    "include(\"Tools.jl\")\n",
    "using ..Tools\n",
    "\n",
    "\n",
    "include(\"Thermomodel.jl\")\n",
    "using ..Thermomodel\n",
    "\n",
    "include(\"Postprocessing.jl\")\n",
    "using ..Postprocessing\n",
    "\n",
    "cd(dirname(pwd()))"
   ]
  },
  {
   "cell_type": "markdown",
   "metadata": {},
   "source": [
    "## Parameters of the PHP"
   ]
  },
  {
   "cell_type": "code",
   "execution_count": 5,
   "metadata": {},
   "outputs": [],
   "source": [
    "    ω0 = [sqrt(1.2e004), sqrt(1.2e004),sqrt(1.2e004), sqrt(1.2e004),sqrt(1.2e004), sqrt(1.2e004),sqrt(1.2e004), sqrt(1.2e004)];\n",
    "    ℘ = [1.2e005, 1.2e005,1.2e005, 1.2e005,1.2e005, 1.2e005,1.2e005, 1.2e005];\n",
    "\n",
    "\n",
    "     θ = 0.15;\n",
    "    θe = 1 + θ;\n",
    "    θc = 1 - θ;\n",
    "    \n",
    "    He = 3000.0;\n",
    "    Hc = 3000.0;\n",
    "    \n",
    "    X0 = 0.5;\n",
    "\n",
    "    γ = 1.4;"
   ]
  },
  {
   "cell_type": "code",
   "execution_count": 6,
   "metadata": {},
   "outputs": [
    {
     "data": {
      "text/plain": [
       "1.5707963267948966"
      ]
     },
     "execution_count": 6,
     "metadata": {},
     "output_type": "execute_result"
    }
   ],
   "source": [
    "    L = 24.0  # total length of the pipe when streched to a 1D pipe\n",
    "    L2D = 2.0 # the actual length of the bended pipe in the real world\n",
    "    alpha = pi/2 # inclination angle "
   ]
  },
  {
   "cell_type": "markdown",
   "metadata": {},
   "source": [
    "## Pipe definition"
   ]
  },
  {
   "cell_type": "code",
   "execution_count": 7,
   "metadata": {},
   "outputs": [
    {
     "data": {
      "text/plain": [
       "Tube(24.0, 2.0, 1.5707963267948966)"
      ]
     },
     "execution_count": 7,
     "metadata": {},
     "output_type": "execute_result"
    }
   ],
   "source": [
    "tube = Tube(L,L2D,alpha)"
   ]
  },
  {
   "cell_type": "markdown",
   "metadata": {},
   "source": [
    "## Evaporator and condenser definition"
   ]
  },
  {
   "cell_type": "code",
   "execution_count": 223,
   "metadata": {},
   "outputs": [
    {
     "data": {
      "text/plain": [
       "Evaporator(3000.0, 1.15, Tuple{Float64,Float64}[(0.0, 0.25), (3.75, 4.25), (7.75, 8.25), (11.75, 12.25), (15.75, 16.25), (19.75, 20.25), (23.75, 24.0)])"
      ]
     },
     "execution_count": 223,
     "metadata": {},
     "output_type": "execute_result"
    }
   ],
   "source": [
    "Xe = map(tuple, [0.0; 3.75; 7.75; 11.75; 15.75; 19.75; 23.75], [0.25; 4.25; 8.25; 12.25; 16.25; 20.25; 24.0])\n",
    "evap = Evaporator(He,θe,Xe)"
   ]
  },
  {
   "cell_type": "code",
   "execution_count": 224,
   "metadata": {},
   "outputs": [
    {
     "data": {
      "text/plain": [
       "Condenser(3000.0, 0.85, Tuple{Float64,Float64}[(1.75, 2.25), (5.75, 6.25), (9.75, 10.25), (13.75, 14.25), (17.75, 18.25), (21.75, 22.25)])"
      ]
     },
     "execution_count": 224,
     "metadata": {},
     "output_type": "execute_result"
    }
   ],
   "source": [
    "Xc = map(tuple, [1.75; 5.75; 9.75; 13.75; 17.75; 21.75], [2.25; 6.25; 10.25; 14.25; 18.25; 22.25])\n",
    "cond = Condenser(Hc,θc,Xc)"
   ]
  },
  {
   "cell_type": "markdown",
   "metadata": {},
   "source": [
    "## Vapor plug and liquid slug initialization"
   ]
  },
  {
   "cell_type": "code",
   "execution_count": 225,
   "metadata": {},
   "outputs": [
    {
     "data": {
      "text/plain": [
       "LiquidSlug(1.4, [109.54451150103323, 109.54451150103323, 109.54451150103323, 109.54451150103323, 109.54451150103323, 109.54451150103323, 109.54451150103323, 109.54451150103323], [120000.0, 120000.0, 120000.0, 120000.0, 120000.0, 120000.0, 120000.0, 120000.0], Tuple{Float64,Float64}[(0.5, 2.5), (5.0, 7.0), (7.5, 8.0), (9.0, 12.0), (14.0, 15.0), (16.2, 17.6), (20.0, 21.0), (21.6, 23.2)], Tuple{Float64,Float64}[(0.0, 0.0), (0.0, 0.0), (0.0, 0.0), (0.0, 0.0), (0.0, 0.0), (0.0, 0.0), (0.0, 0.0), (0.0, 0.0)])"
      ]
     },
     "execution_count": 225,
     "metadata": {},
     "output_type": "execute_result"
    }
   ],
   "source": [
    "X0 = [(0.5,2.5),(5.0,7.0),(7.5,8.0),(9.0,12.0),(14.0,15.0),(16.2,17.6),(20.0,21.0),(21.6,23.2)]\n",
    "dXdt0 = [(0.0,0.0),(0.0,0.0),(0.0,0.0),(0.0,0.0),(0.0,0.0),(0.0,0.0),(0.0,0.0),(0.0,0.0)]\n",
    "liquids=LiquidSlug(γ,ω0,℘,X0,dXdt0)"
   ]
  },
  {
   "cell_type": "code",
   "execution_count": 226,
   "metadata": {},
   "outputs": [
    {
     "data": {
      "text/plain": [
       "VaporPlug(1.4, [1.0, 1.0, 1.0, 1.0, 1.0, 1.0, 1.0, 1.0, 1.0])"
      ]
     },
     "execution_count": 226,
     "metadata": {},
     "output_type": "execute_result"
    }
   ],
   "source": [
    "P = [1.0,1.0,1.0,1.0,1.0,1.0,1.0,1.0,1.0];\n",
    "vapors=VaporPlug(γ,P)"
   ]
  },
  {
   "cell_type": "markdown",
   "metadata": {},
   "source": [
    "## Construct the system"
   ]
  },
  {
   "cell_type": "code",
   "execution_count": 227,
   "metadata": {
    "scrolled": true
   },
   "outputs": [
    {
     "data": {
      "text/plain": [
       "PHPSystem(Tube(24.0, 2.0, 1.5707963267948966), Evaporator(3000.0, 1.15, Tuple{Float64,Float64}[(0.0, 0.25), (3.75, 4.25), (7.75, 8.25), (11.75, 12.25), (15.75, 16.25), (19.75, 20.25), (23.75, 24.0)]), Condenser(3000.0, 0.85, Tuple{Float64,Float64}[(1.75, 2.25), (5.75, 6.25), (9.75, 10.25), (13.75, 14.25), (17.75, 18.25), (21.75, 22.25)]), LiquidSlug(1.4, [109.54451150103323, 109.54451150103323, 109.54451150103323, 109.54451150103323, 109.54451150103323, 109.54451150103323, 109.54451150103323, 109.54451150103323], [120000.0, 120000.0, 120000.0, 120000.0, 120000.0, 120000.0, 120000.0, 120000.0], Tuple{Float64,Float64}[(0.5, 2.5), (5.0, 7.0), (7.5, 8.0), (9.0, 12.0), (14.0, 15.0), (16.2, 17.6), (20.0, 21.0), (21.6, 23.2)], Tuple{Float64,Float64}[(0.0, 0.0), (0.0, 0.0), (0.0, 0.0), (0.0, 0.0), (0.0, 0.0), (0.0, 0.0), (0.0, 0.0), (0.0, 0.0)]), VaporPlug(1.4, [1.0, 1.0, 1.0, 1.0, 1.0, 1.0, 1.0, 1.0, 1.0]))"
      ]
     },
     "execution_count": 227,
     "metadata": {},
     "output_type": "execute_result"
    }
   ],
   "source": [
    "sys0 = PHPSystem(tube,evap,cond,liquids,vapors)"
   ]
  },
  {
   "cell_type": "code",
   "execution_count": 228,
   "metadata": {
    "scrolled": false
   },
   "outputs": [
    {
     "data": {
      "text/plain": [
       "PHPSystem"
      ]
     },
     "execution_count": 228,
     "metadata": {},
     "output_type": "execute_result"
    }
   ],
   "source": [
    "typeof(sys0)"
   ]
  },
  {
   "cell_type": "markdown",
   "metadata": {},
   "source": [
    "## Heat diffusivity"
   ]
  },
  {
   "cell_type": "code",
   "execution_count": 229,
   "metadata": {},
   "outputs": [],
   "source": [
    "α = 1;"
   ]
  },
  {
   "cell_type": "markdown",
   "metadata": {},
   "source": [
    "## Construct U for wall heat function"
   ]
  },
  {
   "cell_type": "code",
   "execution_count": 230,
   "metadata": {},
   "outputs": [
    {
     "data": {
      "text/plain": [
       "ifamongone (generic function with 1 method)"
      ]
     },
     "execution_count": 230,
     "metadata": {},
     "output_type": "execute_result"
    }
   ],
   "source": [
    "function ifamongone(value::Float64, range::Tuple{Float64,Float64})\n",
    "    return (value >= range[1]) && (value <= range[2]) ? true : false\n",
    "end"
   ]
  },
  {
   "cell_type": "code",
   "execution_count": 231,
   "metadata": {},
   "outputs": [
    {
     "data": {
      "text/plain": [
       "ifamong (generic function with 1 method)"
      ]
     },
     "execution_count": 231,
     "metadata": {},
     "output_type": "execute_result"
    }
   ],
   "source": [
    "function ifamong(value::Float64, X::Array{Tuple{Float64,Float64},1})\n",
    "    \n",
    "    return Bool(sum(ifamongone.(value,X)))\n",
    "end"
   ]
  },
  {
   "cell_type": "code",
   "execution_count": 232,
   "metadata": {},
   "outputs": [
    {
     "data": {
      "text/plain": [
       "false"
      ]
     },
     "execution_count": 232,
     "metadata": {},
     "output_type": "execute_result"
    }
   ],
   "source": [
    "ifamong(0.6, sys0.evaporator.Xe)"
   ]
  },
  {
   "cell_type": "code",
   "execution_count": 233,
   "metadata": {},
   "outputs": [
    {
     "data": {
      "text/plain": [
       "false"
      ]
     },
     "execution_count": 233,
     "metadata": {},
     "output_type": "execute_result"
    }
   ],
   "source": [
    "ifamong(0.6, sys0.condenser.Xc)"
   ]
  },
  {
   "cell_type": "code",
   "execution_count": 274,
   "metadata": {},
   "outputs": [
    {
     "data": {
      "text/plain": [
       "settemperature! (generic function with 1 method)"
      ]
     },
     "execution_count": 274,
     "metadata": {},
     "output_type": "execute_result"
    }
   ],
   "source": [
    "function settemperature!(θᵣ,xvalue,sys0)\n",
    "    \n",
    "    if ifamong(xvalue, sys0.evaporator.Xe)\n",
    "        θᵣ = sys0.evaporator.θe\n",
    "\n",
    "    elseif ifamong(xvalue, sys0.condenser.Xc)\n",
    "        θᵣ = sys0.condenser.θc\n",
    "    end\n",
    "\n",
    "    return θᵣ\n",
    "    \n",
    "end"
   ]
  },
  {
   "cell_type": "code",
   "execution_count": 275,
   "metadata": {},
   "outputs": [
    {
     "data": {
      "text/plain": [
       "(1000, 1)"
      ]
     },
     "execution_count": 275,
     "metadata": {},
     "output_type": "execute_result"
    }
   ],
   "source": [
    "size(x)"
   ]
  },
  {
   "cell_type": "code",
   "execution_count": 276,
   "metadata": {},
   "outputs": [
    {
     "data": {
      "text/plain": [
       "Nodes{Dual,1000,1,Float64,Array{Float64,2}} data\n",
       "Printing in grid orientation (lower left is (1,1))\n",
       "1×1000 Array{Float64,2}:\n",
       " 1.15  1.15  1.15  1.15  1.15  1.15  …  1.15  1.15  1.15  1.15  1.15  1.15"
      ]
     },
     "execution_count": 276,
     "metadata": {},
     "output_type": "execute_result"
    }
   ],
   "source": [
    "N = 1000\n",
    "\n",
    "x = Nodes(Dual,(N,1))\n",
    "θᵣ = Nodes(Dual,(N,1))\n",
    "θᵣ .= reshape(ones(N),N,1)\n",
    "\n",
    "x .= LinRange(0, sys0.tube.L, N)\n",
    "\n",
    "\n",
    "θᵣ .= settemperature!.(θᵣ,x,[sys0])"
   ]
  },
  {
   "cell_type": "code",
   "execution_count": 277,
   "metadata": {},
   "outputs": [
    {
     "data": {
      "image/png": "[encoded data removed]"
     },
     "execution_count": 277,
     "metadata": {},
     "output_type": "execute_result"
    }
   ],
   "source": [
    "plot([θᵣ])"
   ]
  },
  {
   "cell_type": "code",
   "execution_count": 278,
   "metadata": {},
   "outputs": [
    {
     "data": {
      "text/plain": [
       "oneDlaplacian (generic function with 1 method)"
      ]
     },
     "execution_count": 278,
     "metadata": {},
     "output_type": "execute_result"
    }
   ],
   "source": [
    "function oneDlaplacian(x)\n",
    "    N = size(x,1)\n",
    "    twoDx =  Nodes(Dual,(N,5))\n",
    "    \n",
    "    twoDx[:,1] = x\n",
    "    twoDx[:,2] = twoDx[:,1]\n",
    "    twoDx[:,3] = twoDx[:,1]\n",
    "    twoDx[:,4] = twoDx[:,1]\n",
    "    twoDx[:,5] = twoDx[:,1]\n",
    "    \n",
    "    laptwoDx = Nodes(Dual,(N,5))\n",
    "    laponeDx = Nodes(Dual,(N,1))\n",
    "    \n",
    "    laptwoDx = laplacian(twoDx)\n",
    "    \n",
    "    laponeDx .= laptwoDx[:,3]\n",
    "    \n",
    "    return laponeDx\n",
    "end"
   ]
  },
  {
   "cell_type": "code",
   "execution_count": 26,
   "metadata": {},
   "outputs": [
    {
     "data": {
      "text/plain": [
       "Nodes{Dual,1000,1,Float64,Array{Float64,2}} data\n",
       "Printing in grid orientation (lower left is (1,1))\n",
       "1×1000 Array{Float64,2}:\n",
       " 0.0  0.0  0.0  0.0  0.0  0.0  0.0  0.0  …  0.0  0.0  0.0  0.0  0.0  0.0  0.0"
      ]
     },
     "execution_count": 26,
     "metadata": {},
     "output_type": "execute_result"
    }
   ],
   "source": [
    "lapθᵣ = oneDlaplacian(θᵣ)"
   ]
  },
  {
   "cell_type": "code",
   "execution_count": 27,
   "metadata": {},
   "outputs": [
    {
     "data": {
      "image/png": "[encoded data removed]"
     },
     "execution_count": 27,
     "metadata": {},
     "output_type": "execute_result"
    }
   ],
   "source": [
    "plot([lapθᵣ])\n",
    "# plot([θᵣ])"
   ]
  },
  {
   "cell_type": "markdown",
   "metadata": {},
   "source": [
    "## Solve the constructed ODE for U"
   ]
  },
  {
   "cell_type": "code",
   "execution_count": 243,
   "metadata": {},
   "outputs": [
    {
     "data": {
      "text/plain": [
       "dfdt (generic function with 1 method)"
      ]
     },
     "execution_count": 243,
     "metadata": {},
     "output_type": "execute_result"
    }
   ],
   "source": [
    "function dfdt(u,p,t)\n",
    "\n",
    "\n",
    " du = oneDlaplacian(u)\n",
    "\n",
    "    return du\n",
    "\n",
    "end\n"
   ]
  },
  {
   "cell_type": "code",
   "execution_count": 251,
   "metadata": {},
   "outputs": [],
   "source": [
    "tstep=0.1\n",
    "\n",
    "p = sys0\n",
    "tspan = (0.0, 0.05);\n",
    "prob = ODEProblem(dfdt, θᵣ, tspan, p)\n",
    "\n",
    "integrator = init(prob, RK4(), adaptive=false, dt=tstep, save_everystep=false);"
   ]
  },
  {
   "cell_type": "code",
   "execution_count": 257,
   "metadata": {},
   "outputs": [
    {
     "data": {
      "text/plain": [
       "Nodes{Dual,1000,1,Float64,Array{Float64,2}} data\n",
       "Printing in grid orientation (lower left is (1,1))\n",
       "1×1000 Array{Float64,2}:\n",
       " 1.15  1.15  1.15  1.15  1.15  1.15  …  1.15  1.15  1.15  1.15  1.15  1.15"
      ]
     },
     "execution_count": 257,
     "metadata": {},
     "output_type": "execute_result"
    }
   ],
   "source": [
    "integrator.u"
   ]
  },
  {
   "cell_type": "code",
   "execution_count": 264,
   "metadata": {},
   "outputs": [
    {
     "data": {
      "text/plain": [
       "Nodes{Dual,1000,1,Float64,Array{Float64,2}} data\n",
       "Printing in grid orientation (lower left is (1,1))\n",
       "1×1000 Array{Float64,2}:\n",
       " 1.15  1.15  1.15  1.15  1.15  1.15  …  1.15  1.15  1.15  1.15  1.15  1.15"
      ]
     },
     "execution_count": 264,
     "metadata": {},
     "output_type": "execute_result"
    }
   ],
   "source": []
  },
  {
   "cell_type": "code",
   "execution_count": 271,
   "metadata": {},
   "outputs": [],
   "source": [
    "for i=1:100\n",
    "    step!(integrator)\n",
    "    \n",
    "    θᵣ .= settemperature!.(integrator.u,x,[sys0])\n",
    "    \n",
    "    set_u!(integrator,  θᵣ)\n",
    "end"
   ]
  },
  {
   "cell_type": "code",
   "execution_count": 272,
   "metadata": {},
   "outputs": [
    {
     "data": {
      "text/plain": [
       "505.1500000000806"
      ]
     },
     "execution_count": 272,
     "metadata": {},
     "output_type": "execute_result"
    }
   ],
   "source": [
    "integrator.t"
   ]
  },
  {
   "cell_type": "code",
   "execution_count": 273,
   "metadata": {},
   "outputs": [
    {
     "data": {
      "image/png": "[encoded data removed]"
     },
     "execution_count": 273,
     "metadata": {},
     "output_type": "execute_result"
    }
   ],
   "source": [
    "plot([integrator.u])"
   ]
  },
  {
   "cell_type": "code",
   "execution_count": 270,
   "metadata": {},
   "outputs": [
    {
     "data": {
      "image/png": "[encoded data removed]"
     },
     "execution_count": 270,
     "metadata": {},
     "output_type": "execute_result"
    }
   ],
   "source": [
    "plot([oneDlaplacian(u)])"
   ]
  },
  {
   "cell_type": "code",
   "execution_count": null,
   "metadata": {},
   "outputs": [],
   "source": []
  }
 ],
 "metadata": {
  "kernelspec": {
   "display_name": "Julia 1.3.1",
   "language": "julia",
   "name": "julia-1.3"
  },
  "language_info": {
   "file_extension": ".jl",
   "mimetype": "application/julia",
   "name": "julia",
   "version": "1.3.1"
  }
 },
 "nbformat": 4,
 "nbformat_minor": 2
}
