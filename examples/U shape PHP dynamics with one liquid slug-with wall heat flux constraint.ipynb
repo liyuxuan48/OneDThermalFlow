{
 "cells": [
  {
   "cell_type": "markdown",
   "metadata": {},
   "source": [
    "## U shape PHP dynamics with multiple liquid slugs - with heat transfer"
   ]
  },
  {
   "cell_type": "markdown",
   "metadata": {},
   "source": [
    "## $\\frac{\\partial \\theta }{\\partial \\mathcal{T}} = \\nabla^2 \\theta$"
   ]
  },
  {
   "cell_type": "code",
   "execution_count": 2,
   "metadata": {
    "scrolled": true
   },
   "outputs": [
    {
     "name": "stdout",
     "output_type": "stream",
     "text": [
      " 37.848269 seconds (19.66 M allocations: 1.104 GiB, 4.41% gc time)\n"
     ]
    },
    {
     "data": {
      "text/plain": [
       "Plots.PyPlotBackend()"
      ]
     },
     "execution_count": 2,
     "metadata": {},
     "output_type": "execute_result"
    }
   ],
   "source": [
    "@time using Plots\n",
    "pyplot()"
   ]
  },
  {
   "cell_type": "code",
   "execution_count": 3,
   "metadata": {},
   "outputs": [
    {
     "name": "stdout",
     "output_type": "stream",
     "text": [
      " 99.446193 seconds (53.94 M allocations: 3.104 GiB, 2.28% gc time)\n"
     ]
    }
   ],
   "source": [
    "@time using DifferentialEquations"
   ]
  },
  {
   "cell_type": "code",
   "execution_count": 4,
   "metadata": {},
   "outputs": [],
   "source": [
    "cd(dirname(pwd()))\n",
    "cd(\"src\") \n",
    "\n",
    "\n",
    "include(\"Systems.jl\")\n",
    "using ..Systems\n",
    "\n",
    "include(\"Tools.jl\")\n",
    "using ..Tools\n",
    "\n",
    "\n",
    "include(\"Thermomodel.jl\")\n",
    "using ..Thermomodel\n",
    "\n",
    "include(\"Postprocessing.jl\")\n",
    "using ..Postprocessing\n",
    "\n",
    "include(\"Boiling.jl\")\n",
    "using ..Boiling\n",
    "\n",
    "cd(dirname(pwd()))\n",
    "cd(\"src\") "
   ]
  },
  {
   "cell_type": "markdown",
   "metadata": {},
   "source": [
    "## Parameters of the PHP"
   ]
  },
  {
   "cell_type": "code",
   "execution_count": 5,
   "metadata": {},
   "outputs": [],
   "source": [
    "    ω0 = [sqrt(1.2e004)];\n",
    "    ℘ = [1.2e005];\n",
    "\n",
    "    θinitial=1.0\n",
    "    θ  = 0.15;\n",
    "    θe = 1 + θ;\n",
    "    θc = 1 - θ;\n",
    "\n",
    "    We = [600.0,600.0]\n",
    "    \n",
    "    He  = 3000.0; # H for wall and vapor\n",
    "    Hc  = 3000.0; # depreciated\n",
    "    Hwc = 3000.0; # H for wall and condenser liquid\n",
    "    Hₗ   =  3000.0; # liquid wall heat transfer coeffcient\n",
    "\n",
    "    \n",
    "    X0 = 0.5;\n",
    "\n",
    "    γ = 1.4;"
   ]
  },
  {
   "cell_type": "code",
   "execution_count": 6,
   "metadata": {},
   "outputs": [
    {
     "data": {
      "text/plain": [
       "true"
      ]
     },
     "execution_count": 6,
     "metadata": {},
     "output_type": "execute_result"
    }
   ],
   "source": [
    "    \n",
    "    d = 1/30 # dimensionless diameter\n",
    "    L = 4.0  # total length of the pipe when streched to a 1D pipe\n",
    "    L2D = 2.0 # the actual length of the bended pipe in the real world\n",
    "    angle = pi/2 # inclination angle \n",
    "    closed = true"
   ]
  },
  {
   "cell_type": "markdown",
   "metadata": {},
   "source": [
    "## Pipe definition"
   ]
  },
  {
   "cell_type": "code",
   "execution_count": 7,
   "metadata": {},
   "outputs": [
    {
     "ename": "LoadError",
     "evalue": "\u001b[91mMethodError: no method matching Tube(::Float64, ::Float64, ::Float64, ::Float64)\u001b[39m\n\u001b[91m\u001b[0mClosest candidates are:\u001b[39m\n\u001b[91m\u001b[0m  Tube(::Float64, ::Float64, ::Float64, ::Float64, \u001b[91m::Bool\u001b[39m) at C:\\Users\\liyux\\github\\OneDThermalFlow\\src\\Systems.jl:22\u001b[39m\n\u001b[91m\u001b[0m  Tube(::Any, ::Any, ::Any, ::Any, \u001b[91m::Any\u001b[39m) at C:\\Users\\liyux\\github\\OneDThermalFlow\\src\\Systems.jl:22\u001b[39m",
     "output_type": "error",
     "traceback": [
      "\u001b[91mMethodError: no method matching Tube(::Float64, ::Float64, ::Float64, ::Float64)\u001b[39m\n\u001b[91m\u001b[0mClosest candidates are:\u001b[39m\n\u001b[91m\u001b[0m  Tube(::Float64, ::Float64, ::Float64, ::Float64, \u001b[91m::Bool\u001b[39m) at C:\\Users\\liyux\\github\\OneDThermalFlow\\src\\Systems.jl:22\u001b[39m\n\u001b[91m\u001b[0m  Tube(::Any, ::Any, ::Any, ::Any, \u001b[91m::Any\u001b[39m) at C:\\Users\\liyux\\github\\OneDThermalFlow\\src\\Systems.jl:22\u001b[39m",
      "",
      "Stacktrace:",
      " [1] top-level scope at In[7]:1",
      " [2] include_string(::Function, ::Module, ::String, ::String) at .\\loading.jl:1091"
     ]
    }
   ],
   "source": [
    "tube = Tube(d,L,L2D,angle)"
   ]
  },
  {
   "cell_type": "markdown",
   "metadata": {},
   "source": [
    "## Evaporator and condenser definition"
   ]
  },
  {
   "cell_type": "code",
   "execution_count": 8,
   "metadata": {},
   "outputs": [
    {
     "data": {
      "text/plain": [
       "Evaporator(3000.0, 1.15, [(0.0, 2.0)], [600.0, 600.0])"
      ]
     },
     "execution_count": 8,
     "metadata": {},
     "output_type": "execute_result"
    }
   ],
   "source": [
    "Xe = map(tuple, [0.0], [2.0])\n",
    "evap = Evaporator(He,θe,Xe,We)"
   ]
  },
  {
   "cell_type": "code",
   "execution_count": 9,
   "metadata": {},
   "outputs": [
    {
     "data": {
      "text/plain": [
       "Condenser(3000.0, 0.85, [(2.0, 4.0)], 3000.0)"
      ]
     },
     "execution_count": 9,
     "metadata": {},
     "output_type": "execute_result"
    }
   ],
   "source": [
    "Xc = map(tuple, [2.0], [4.0])\n",
    "cond = Condenser(Hc,θc,Xc,Hwc)"
   ]
  },
  {
   "cell_type": "markdown",
   "metadata": {},
   "source": [
    "## Vapor plug and liquid slug initialization"
   ]
  },
  {
   "cell_type": "code",
   "execution_count": 10,
   "metadata": {},
   "outputs": [
    {
     "data": {
      "text/plain": [
       "Liquid(1.4, 3000.0, 1000.0, [109.54451150103323], [120000.0], [(0.5, 2.5)], [(0.0, 0.0)], [[0.5, 0.5080321285140562, 0.5160642570281124, 0.5240963855421686, 0.5321285140562249, 0.5401606425702812, 0.5481927710843374, 0.5562248995983936, 0.5642570281124498, 0.572289156626506  …  2.427710843373494, 2.4357429718875503, 2.4437751004016066, 2.4518072289156625, 2.459839357429719, 2.467871485943775, 2.4759036144578315, 2.4839357429718874, 2.4919678714859437, 2.5]], [[1.0, 1.0, 1.0, 1.0, 1.0, 1.0, 1.0, 1.0, 1.0, 1.0  …  1.0, 1.0, 1.0, 1.0, 1.0, 1.0, 1.0, 1.0, 1.0, 1.0]])"
      ]
     },
     "execution_count": 10,
     "metadata": {},
     "output_type": "execute_result"
    }
   ],
   "source": [
    "N=500\n",
    "X0 = [(0.5,2.5)]\n",
    "dXdt0 = [(0.0,0.0)]\n",
    "ρₗ = 1000\n",
    "Xarrays,θarrays = constructXarrays(X0,N,θinitial,L)\n",
    "liquids=Liquid(γ,Hₗ,ρₗ,ω0,℘,X0,dXdt0,Xarrays,θarrays)"
   ]
  },
  {
   "cell_type": "code",
   "execution_count": 11,
   "metadata": {},
   "outputs": [
    {
     "data": {
      "text/plain": [
       "Vapor(1.4, [2.0, 1.0], [0.1, 0.05])"
      ]
     },
     "execution_count": 11,
     "metadata": {},
     "output_type": "execute_result"
    }
   ],
   "source": [
    "P = [2.0,1.0];\n",
    "δ = 0.05*P;\n",
    "vapors=Vapor(γ,P,δ)"
   ]
  },
  {
   "cell_type": "code",
   "execution_count": 12,
   "metadata": {},
   "outputs": [
    {
     "data": {
      "text/plain": [
       "Wall(1.0, [0.0, 0.008016032064128256, 0.01603206412825651, 0.02404809619238477, 0.03206412825651302, 0.04008016032064128, 0.04809619238476954, 0.056112224448897796, 0.06412825651302605, 0.07214428857715431  …  3.9278557114228456, 3.935871743486974, 3.943887775551102, 3.9519038076152304, 3.9599198396793587, 3.967935871743487, 3.975951903807615, 3.9839679358717435, 3.9919839679358717, 4.0], [1.0, 1.0, 1.0, 1.0, 1.0, 1.0, 1.0, 1.0, 1.0, 1.0  …  1.0, 1.0, 1.0, 1.0, 1.0, 1.0, 1.0, 1.0, 1.0, 1.0])"
      ]
     },
     "execution_count": 12,
     "metadata": {},
     "output_type": "execute_result"
    }
   ],
   "source": [
    "α = 1 # nondimensional thermal diffusivity = (αₐ d^2) / (νₗ height^2)\n",
    "Xwallarray,θwallarray = constructXarrays(L,N,θinitial)\n",
    "\n",
    "wall = Wall(α,Xwallarray,θwallarray)"
   ]
  },
  {
   "cell_type": "code",
   "execution_count": 13,
   "metadata": {},
   "outputs": [],
   "source": [
    "# struct Mapping\n",
    "#     walltoliquid::Array{Tuple{Int64,Int64},1}\n",
    "#     liquidtowall::Array{Array{Int64,1},1}\n",
    "# end"
   ]
  },
  {
   "cell_type": "code",
   "execution_count": 14,
   "metadata": {},
   "outputs": [
    {
     "data": {
      "text/plain": [
       "Mapping([(1, -1), (1, -1), (1, -1), (1, -1), (1, -1), (1, -1), (1, -1), (1, -1), (1, -1), (1, -1)  …  (2, -1), (2, -1), (2, -1), (2, -1), (2, -1), (2, -1), (2, -1), (2, -1), (2, -1), (2, -1)], [[64, 65, 66, 67, 68, 69, 70, 71, 72, 73  …  304, 305, 306, 307, 308, 309, 310, 311, 312, 313]])"
      ]
     },
     "execution_count": 14,
     "metadata": {},
     "output_type": "execute_result"
    }
   ],
   "source": [
    "walltoliquid, liquidtowall = constructmapping(Xarrays,Xwallarray)\n",
    "mapping = Mapping(walltoliquid,liquidtowall)"
   ]
  },
  {
   "cell_type": "markdown",
   "metadata": {},
   "source": [
    "## Construct the system"
   ]
  },
  {
   "cell_type": "code",
   "execution_count": 15,
   "metadata": {
    "scrolled": true
   },
   "outputs": [
    {
     "ename": "LoadError",
     "evalue": "\u001b[91mUndefVarError: tube not defined\u001b[39m",
     "output_type": "error",
     "traceback": [
      "\u001b[91mUndefVarError: tube not defined\u001b[39m",
      "",
      "Stacktrace:",
      " [1] top-level scope at In[15]:1",
      " [2] include_string(::Function, ::Module, ::String, ::String) at .\\loading.jl:1091"
     ]
    }
   ],
   "source": [
    "sys0 = PHPSystem(tube,evap,cond,liquids,vapors,wall,mapping)"
   ]
  },
  {
   "cell_type": "code",
   "execution_count": 16,
   "metadata": {
    "scrolled": false
   },
   "outputs": [
    {
     "ename": "LoadError",
     "evalue": "\u001b[91mUndefVarError: sys0 not defined\u001b[39m",
     "output_type": "error",
     "traceback": [
      "\u001b[91mUndefVarError: sys0 not defined\u001b[39m",
      "",
      "Stacktrace:",
      " [1] top-level scope at In[16]:1",
      " [2] include_string(::Function, ::Module, ::String, ::String) at .\\loading.jl:1091"
     ]
    }
   ],
   "source": [
    "typeof(sys0)"
   ]
  },
  {
   "cell_type": "markdown",
   "metadata": {},
   "source": [
    "## Construct U for wall heat function"
   ]
  },
  {
   "cell_type": "markdown",
   "metadata": {},
   "source": [
    "## construct state vector U"
   ]
  },
  {
   "cell_type": "code",
   "execution_count": 17,
   "metadata": {},
   "outputs": [
    {
     "ename": "LoadError",
     "evalue": "\u001b[91mUndefVarError: M not defined\u001b[39m",
     "output_type": "error",
     "traceback": [
      "\u001b[91mUndefVarError: M not defined\u001b[39m",
      "",
      "Stacktrace:",
      " [1] top-level scope at In[17]:1",
      " [2] include_string(::Function, ::Module, ::String, ::String) at .\\loading.jl:1091"
     ]
    }
   ],
   "source": [
    "vectoXMδ(XMδtovec(X0,dXdt0,M,δ))"
   ]
  },
  {
   "cell_type": "code",
   "execution_count": 18,
   "metadata": {},
   "outputs": [],
   "source": [
    "# sys0.wall.θarray = settemperature!.(sys0.wall.θarray,sys0.wall.Xarray,[sys0]);"
   ]
  },
  {
   "cell_type": "code",
   "execution_count": 19,
   "metadata": {},
   "outputs": [
    {
     "ename": "LoadError",
     "evalue": "\u001b[91mUndefVarError: sys0 not defined\u001b[39m",
     "output_type": "error",
     "traceback": [
      "\u001b[91mUndefVarError: sys0 not defined\u001b[39m",
      "",
      "Stacktrace:",
      " [1] top-level scope at In[19]:1",
      " [2] include_string(::Function, ::Module, ::String, ::String) at .\\loading.jl:1091"
     ]
    }
   ],
   "source": [
    "Lvaporplug = XptoLvaporplug(X0,sys0.tube.L)\n",
    "M = P.^(1/γ).* Lvaporplug\n",
    "\n",
    "\n",
    "u=[XMδtovec(X0,dXdt0,M,δ); wallθtovec(sys0.wall.θarray); liquidθtovec(sys0.liquid.θarrays)];"
   ]
  },
  {
   "cell_type": "code",
   "execution_count": 20,
   "metadata": {},
   "outputs": [
    {
     "ename": "LoadError",
     "evalue": "\u001b[91mUndefVarError: sys0 not defined\u001b[39m",
     "output_type": "error",
     "traceback": [
      "\u001b[91mUndefVarError: sys0 not defined\u001b[39m",
      "",
      "Stacktrace:",
      " [1] top-level scope at In[20]:1",
      " [2] include_string(::Function, ::Module, ::String, ::String) at .\\loading.jl:1091"
     ]
    }
   ],
   "source": [
    "plot([sys0.wall.Xarray],[sys0.wall.θarray], title=\"initial temperature condition\", labels = \"θ\", xlabel=\"X\", ylabel=\"θ\")"
   ]
  },
  {
   "cell_type": "markdown",
   "metadata": {},
   "source": [
    "## Solve the constructed ODE for U"
   ]
  },
  {
   "cell_type": "markdown",
   "metadata": {},
   "source": [
    "### propagation function"
   ]
  },
  {
   "cell_type": "code",
   "execution_count": 21,
   "metadata": {},
   "outputs": [
    {
     "data": {
      "text/plain": [
       "dfdt (generic function with 1 method)"
      ]
     },
     "execution_count": 21,
     "metadata": {},
     "output_type": "execute_result"
    }
   ],
   "source": [
    "function dfdt(u,p,t)\n",
    "    \n",
    "        p = deepcopy(getcurrentsys(u,p))\n",
    "    \n",
    "        indexes = Int64[]\n",
    "        θliquidtemp = Array[]\n",
    "\n",
    "        for i = 1:length(u)\n",
    "            if abs(u[i]+1e10) <= 10^(-1)\n",
    "                push!(indexes,i)\n",
    "            end\n",
    "        end\n",
    "    \n",
    "\n",
    "    dynamicsdu = dynamicsmodel(u[1:indexes[1]-1],p)\n",
    "    \n",
    "    \n",
    "    \n",
    "    duwalltemp = wallmodel(u[indexes[1]+1:indexes[2]-1],p)\n",
    "    walldu = duwallθtovec(duwalltemp)\n",
    "    \n",
    "    \n",
    "    \n",
    "    for i = 1:length(indexes)-2\n",
    "    push!(θliquidtemp, u[indexes[i+1]+1:indexes[i+2]-1])\n",
    "    end\n",
    "    push!(θliquidtemp, u[indexes[end]+1:end])\n",
    "    duliquidtemp = zero.(deepcopy(θliquidtemp))\n",
    "    duliquidtemp = liquidmodel(θliquidtemp,p)\n",
    "    liquiddu = duliquidθtovec(duliquidtemp)\n",
    "    \n",
    "    du = [dynamicsdu;walldu;liquiddu]\n",
    "\n",
    "    return(du)\n",
    "\n",
    "end"
   ]
  },
  {
   "cell_type": "markdown",
   "metadata": {},
   "source": [
    "### condition"
   ]
  },
  {
   "cell_type": "code",
   "execution_count": 22,
   "metadata": {},
   "outputs": [],
   "source": [
    "# function condition(u,t,integrator)\n",
    "#     return (integrator.t > 0.1)\n",
    "# end"
   ]
  },
  {
   "cell_type": "markdown",
   "metadata": {},
   "source": [
    "### affect! (with boundary conditions)"
   ]
  },
  {
   "cell_type": "code",
   "execution_count": 23,
   "metadata": {},
   "outputs": [
    {
     "ename": "LoadError",
     "evalue": "\u001b[91mUndefVarError: p not defined\u001b[39m",
     "output_type": "error",
     "traceback": [
      "\u001b[91mUndefVarError: p not defined\u001b[39m",
      "",
      "Stacktrace:",
      " [1] top-level scope",
      " [2] include_string(::Function, ::Module, ::String, ::String) at .\\loading.jl:1091"
     ]
    }
   ],
   "source": [
    "p"
   ]
  },
  {
   "cell_type": "code",
   "execution_count": 24,
   "metadata": {},
   "outputs": [
    {
     "data": {
      "text/plain": [
       "affect! (generic function with 1 method)"
      ]
     },
     "execution_count": 24,
     "metadata": {},
     "output_type": "execute_result"
    }
   ],
   "source": [
    "function affect!(integrator)\n",
    "    \n",
    "    p = deepcopy(getcurrentsys(integrator.u,integrator.p))\n",
    "    \n",
    "    p = nucleateboiling(p,(1.2,1.4),1.0)\n",
    "    \n",
    "    Lvaporplug = XptoLvaporplug(p.liquid.Xp,p.tube.L)\n",
    "    M = p.vapor.P.^(1/p.vapor.γ).* Lvaporplug\n",
    "    \n",
    "    unew=[XMδtovec(p.liquid.Xp,p.liquid.dXdt,M,p.vapor.δ); wallθtovec(p.wall.θarray); liquidθtovec(p.liquid.θarrays)];\n",
    "        \n",
    "#     set_u!(integrator,  unew)\n",
    "    resize!(integrator.u,length(unew))\n",
    "    integrator.u = deepcopy(unew)\n",
    "    \n",
    "\n",
    "end"
   ]
  },
  {
   "cell_type": "code",
   "execution_count": 25,
   "metadata": {},
   "outputs": [
    {
     "data": {
      "text/plain": [
       "DiscreteCallback{DiffEqCallbacks.var\"#61#64\"{Float64},DiffEqCallbacks.var\"#62#65\"{typeof(affect!)},DiffEqCallbacks.var\"#63#66\"{typeof(DiffEqBase.INITIALIZE_DEFAULT),Bool,Float64,typeof(affect!)},typeof(DiffEqBase.FINALIZE_DEFAULT)}(DiffEqCallbacks.var\"#61#64\"{Float64}(0.1), DiffEqCallbacks.var\"#62#65\"{typeof(affect!)}(affect!), DiffEqCallbacks.var\"#63#66\"{typeof(DiffEqBase.INITIALIZE_DEFAULT),Bool,Float64,typeof(affect!)}(DiffEqBase.INITIALIZE_DEFAULT, true, 0.1, affect!), DiffEqBase.FINALIZE_DEFAULT, Bool[1, 1])"
      ]
     },
     "execution_count": 25,
     "metadata": {},
     "output_type": "execute_result"
    }
   ],
   "source": [
    "cb =  PresetTimeCallback(0.1,affect!)"
   ]
  },
  {
   "cell_type": "code",
   "execution_count": 26,
   "metadata": {},
   "outputs": [
    {
     "ename": "LoadError",
     "evalue": "\u001b[91mUndefVarError: sys0 not defined\u001b[39m",
     "output_type": "error",
     "traceback": [
      "\u001b[91mUndefVarError: sys0 not defined\u001b[39m",
      "",
      "Stacktrace:",
      " [1] top-level scope at In[26]:3",
      " [2] include_string(::Function, ::Module, ::String, ::String) at .\\loading.jl:1091"
     ]
    }
   ],
   "source": [
    "tstep=2e-5\n",
    "\n",
    "p = sys0\n",
    "tspan = (0.0, 1.0);\n",
    "prob = ODEProblem(dfdt, u, tspan, p)\n",
    "\n",
    "integrator = init(prob, RK4(), adaptive=false, dt=tstep);\n",
    "\n",
    "\n",
    "sol = solve(prob, RK4(), adaptive=false, dt=tstep);\n",
    "# sol = solve(prob, RK4(), adaptive=false,dt=tstep,callback=cb);"
   ]
  },
  {
   "cell_type": "code",
   "execution_count": 27,
   "metadata": {
    "scrolled": false
   },
   "outputs": [
    {
     "ename": "LoadError",
     "evalue": "\u001b[91mUndefVarError: sol not defined\u001b[39m",
     "output_type": "error",
     "traceback": [
      "\u001b[91mUndefVarError: sol not defined\u001b[39m",
      "",
      "Stacktrace:",
      " [1] top-level scope at In[27]:1",
      " [2] include_string(::Function, ::Module, ::String, ::String) at .\\loading.jl:1091"
     ]
    }
   ],
   "source": [
    "sol[end]"
   ]
  },
  {
   "cell_type": "code",
   "execution_count": 28,
   "metadata": {
    "scrolled": true
   },
   "outputs": [
    {
     "data": {
      "text/plain": [
       "([(1, -1), (1, -1), (1, -1), (1, -1), (1, -1), (1, -1), (1, -1), (1, -1), (1, -1), (1, -1)  …  (2, -1), (2, -1), (2, -1), (2, -1), (2, -1), (2, -1), (2, -1), (2, -1), (2, -1), (2, -1)], [[64, 65, 66, 67, 68, 69, 70, 71, 72, 73  …  304, 305, 306, 307, 308, 309, 310, 311, 312, 313]])"
      ]
     },
     "execution_count": 28,
     "metadata": {},
     "output_type": "execute_result"
    }
   ],
   "source": [
    "constructmapping(Xarrays,Xwallarray)"
   ]
  },
  {
   "cell_type": "code",
   "execution_count": 29,
   "metadata": {},
   "outputs": [
    {
     "ename": "LoadError",
     "evalue": "\u001b[91mUndefVarError: sol not defined\u001b[39m",
     "output_type": "error",
     "traceback": [
      "\u001b[91mUndefVarError: sol not defined\u001b[39m",
      "",
      "Stacktrace:",
      " [1] top-level scope at In[29]:1",
      " [2] include_string(::Function, ::Module, ::String, ::String) at .\\loading.jl:1091"
     ]
    }
   ],
   "source": [
    "sysfinal = getcurrentsys.(sol.u,[sys0])"
   ]
  },
  {
   "cell_type": "code",
   "execution_count": 30,
   "metadata": {},
   "outputs": [
    {
     "ename": "LoadError",
     "evalue": "\u001b[91mUndefVarError: sysfinal not defined\u001b[39m",
     "output_type": "error",
     "traceback": [
      "\u001b[91mUndefVarError: sysfinal not defined\u001b[39m",
      "",
      "Stacktrace:",
      " [1] top-level scope at In[30]:1",
      " [2] include_string(::Function, ::Module, ::String, ::String) at .\\loading.jl:1091"
     ]
    }
   ],
   "source": [
    "sysfinal[end].wall.θarray"
   ]
  },
  {
   "cell_type": "code",
   "execution_count": 31,
   "metadata": {},
   "outputs": [
    {
     "ename": "LoadError",
     "evalue": "\u001b[91mUndefVarError: sol not defined\u001b[39m",
     "output_type": "error",
     "traceback": [
      "\u001b[91mUndefVarError: sol not defined\u001b[39m",
      "",
      "Stacktrace:",
      " [1] top-level scope at In[31]:1",
      " [2] include_string(::Function, ::Module, ::String, ::String) at .\\loading.jl:1091"
     ]
    }
   ],
   "source": [
    "result1=soltoMatrxResult(sol,sys0);"
   ]
  },
  {
   "cell_type": "code",
   "execution_count": 32,
   "metadata": {},
   "outputs": [
    {
     "ename": "LoadError",
     "evalue": "\u001b[91mUndefVarError: sol not defined\u001b[39m",
     "output_type": "error",
     "traceback": [
      "\u001b[91mUndefVarError: sol not defined\u001b[39m",
      "",
      "Stacktrace:",
      " [1] top-level scope at C:\\Users\\liyux\\.julia\\packages\\Plots\\kyYZF\\src\\animation.jl:183 [inlined]",
      " [2] top-level scope at .\\In[32]:0",
      " [3] include_string(::Function, ::Module, ::String, ::String) at .\\loading.jl:1091"
     ]
    }
   ],
   "source": [
    "@gif for i=1:size(sol,2)\n",
    "plot([sysfinal[i].wall.Xarray],[sysfinal[i].wall.θarray], labels = \"θ\", xlabel=\"X\", ylabel=\"θ\", title=(\"dimensionless temperature along liquid 1\"),xlim=(0,8), ylim=(0.8,2.0))\n",
    "    end every 200"
   ]
  },
  {
   "cell_type": "code",
   "execution_count": 33,
   "metadata": {},
   "outputs": [
    {
     "ename": "LoadError",
     "evalue": "\u001b[91mUndefVarError: sol not defined\u001b[39m",
     "output_type": "error",
     "traceback": [
      "\u001b[91mUndefVarError: sol not defined\u001b[39m",
      "",
      "Stacktrace:",
      " [1] top-level scope at C:\\Users\\liyux\\.julia\\packages\\Plots\\kyYZF\\src\\animation.jl:183 [inlined]",
      " [2] top-level scope at .\\In[33]:0",
      " [3] include_string(::Function, ::Module, ::String, ::String) at .\\loading.jl:1091"
     ]
    }
   ],
   "source": [
    "@gif for i=1:size(sol,2)\n",
    "plot([sysfinal[i].liquid.Xarrays[1]],[sysfinal[i].liquid.θarrays[1]], labels = \"θ\", xlabel=\"X\", ylabel=\"θ\", title=(\"dimensionless temperature along liquid 1\"),xlim=(0,4), ylim=(0.8,2.0))\n",
    "# plot!([sysfinal[i].liquid.Xarrays[2]],[sysfinal[i].liquid.θarrays[2]], labels = \"θ\", xlabel=\"X\", ylabel=\"θ\", title=(\"dimensionless temperature along liquid 1\"),xlim=(0,8), ylim=(0.8,1.2))\n",
    "    end every 200"
   ]
  },
  {
   "cell_type": "code",
   "execution_count": 34,
   "metadata": {},
   "outputs": [
    {
     "ename": "LoadError",
     "evalue": "\u001b[91mUndefVarError: sysfinal not defined\u001b[39m",
     "output_type": "error",
     "traceback": [
      "\u001b[91mUndefVarError: sysfinal not defined\u001b[39m",
      "",
      "Stacktrace:",
      " [1] top-level scope at In[34]:1",
      " [2] include_string(::Function, ::Module, ::String, ::String) at .\\loading.jl:1091"
     ]
    }
   ],
   "source": [
    "(sysfinal[end].vapor.P).^((γ-1)/γ)"
   ]
  },
  {
   "cell_type": "code",
   "execution_count": 35,
   "metadata": {},
   "outputs": [],
   "source": [
    "# @gif for i=1:size(sol,2)\n",
    "# plot([sysfinal[i].liquid.Xarrays[1]],[sysfinal[i].liquid.θarrays[1]], labels = \"θ\", xlabel=\"X\", ylabel=\"θ\", title=(\"dimensionless temperature along liquid 1\"),xlim=(0,8), ylim=(0.9,1.1))\n",
    "# plot!([sysfinal[i].liquid.Xarrays[2]],[sysfinal[i].liquid.θarrays[2]], labels = \"θ\", xlabel=\"X\", ylabel=\"θ\", title=(\"dimensionless temperature along liquid 1\"),xlim=(0,8), ylim=(0.9,1.1))\n",
    "#     if i >2502\n",
    "#         plot!([sysfinal[i].liquid.Xarrays[3]],[sysfinal[i].liquid.θarrays[3]], labels = \"θ\", xlabel=\"X\", ylabel=\"θ\", title=(\"dimensionless temperature along liquid 1\"),xlim=(0,8), ylim=(0.9,1.1))\n",
    "#     end\n",
    "#     end every 50"
   ]
  },
  {
   "cell_type": "code",
   "execution_count": 36,
   "metadata": {},
   "outputs": [
    {
     "ename": "LoadError",
     "evalue": "\u001b[91mUndefVarError: sol not defined\u001b[39m",
     "output_type": "error",
     "traceback": [
      "\u001b[91mUndefVarError: sol not defined\u001b[39m",
      "",
      "Stacktrace:",
      " [1] top-level scope at In[36]:1",
      " [2] include_string(::Function, ::Module, ::String, ::String) at .\\loading.jl:1091"
     ]
    }
   ],
   "source": [
    "MatrxXp, MatrxdXdt, MatrxM, Matrxδ=soltoMatrxResult(sol,sys0);\n",
    "\n",
    "ΔMatrxXp = zeros(size(MatrxXp,1)+1,size(MatrxXp,2))\n",
    "ΔMatrxXp[1,:] = MatrxXp[1,:]\n",
    "ΔMatrxXp[end,:] .= sys0.tube.L .- MatrxXp[end,:]\n",
    "for i = 2:size(MatrxXp,1)\n",
    "    ΔMatrxXp[i,:] = MatrxXp[i,:]-MatrxXp[i-1,:]\n",
    "end\n",
    "\n",
    "MatrxXp"
   ]
  },
  {
   "cell_type": "code",
   "execution_count": 37,
   "metadata": {},
   "outputs": [
    {
     "ename": "LoadError",
     "evalue": "\u001b[91mUndefVarError: ΔMatrxXp not defined\u001b[39m",
     "output_type": "error",
     "traceback": [
      "\u001b[91mUndefVarError: ΔMatrxXp not defined\u001b[39m",
      "",
      "Stacktrace:",
      " [1] top-level scope at In[37]:1",
      " [2] include_string(::Function, ::Module, ::String, ::String) at .\\loading.jl:1091"
     ]
    }
   ],
   "source": [
    "portfoliocomposition(ΔMatrxXp', sol.t, legend = :outertopleft, color = [:lightgrey :blue],ylabel=\"t\", xlabel=\"X\", labels = [\"vapor bubble\" \"liquid slug\"])\n",
    "\n",
    "vline!([0,1,3,4], color = [:red])"
   ]
  },
  {
   "cell_type": "code",
   "execution_count": 38,
   "metadata": {},
   "outputs": [],
   "source": [
    "# MatrxXp1, MatrxdXdt1, MatrxM1, Matrxδ1=soltoMatrxResult(sol[1:2502],sys0);\n",
    "\n",
    "# ΔMatrxXp1 = zeros(size(MatrxXp1,1)+1,size(MatrxXp1,2))\n",
    "# ΔMatrxXp1[1,:] = MatrxXp1[1,:]\n",
    "# ΔMatrxXp1[end,:] .= sys0.tube.L .- MatrxXp1[end,:]\n",
    "# for i = 2:size(MatrxXp1,1)\n",
    "#     ΔMatrxXp1[i,:] = MatrxXp1[i,:]-MatrxXp1[i-1,:]\n",
    "# end\n",
    "\n",
    "# ΔMatrxXp1"
   ]
  },
  {
   "cell_type": "code",
   "execution_count": 39,
   "metadata": {},
   "outputs": [],
   "source": [
    "# MatrxXp2, MatrxdXdt2, MatrxM2, Matrxδ2=soltoMatrxResult(sol[2503:end],sys0);\n",
    "\n",
    "# ΔMatrxXp2 = zeros(size(MatrxXp2,1)+1,size(MatrxXp2,2))\n",
    "# ΔMatrxXp2[1,:] = MatrxXp2[1,:]\n",
    "# ΔMatrxXp2[end,:] .= sys0.tube.L .- MatrxXp2[end,:]\n",
    "# for i = 2:size(MatrxXp2,1)\n",
    "#     ΔMatrxXp2[i,:] = MatrxXp2[i,:]-MatrxXp2[i-1,:]\n",
    "# end\n",
    "\n",
    "# ΔMatrxXp2"
   ]
  },
  {
   "cell_type": "code",
   "execution_count": 40,
   "metadata": {},
   "outputs": [],
   "source": [
    "# portfoliocomposition(ΔMatrxXp1', sol.t[1:2502], legend = :outertopleft, color = [:lightgrey :blue],ylabel=\"t\", xlabel=\"X\", labels = [\"vapor bubble\" \"liquid slug\"])\n",
    "# portfoliocomposition!(ΔMatrxXp2',sol.t[2503:end], color = [:lightgrey :blue])\n",
    "# vline!([0,1,3,5,7,8], color = [:red])"
   ]
  },
  {
   "cell_type": "code",
   "execution_count": null,
   "metadata": {},
   "outputs": [],
   "source": []
  },
  {
   "cell_type": "code",
   "execution_count": 41,
   "metadata": {},
   "outputs": [],
   "source": [
    "# portfoliocomposition(MatrxM', sol.t, legend = :outertopleft, labels = (\"mass of vapor bubble\"), ylabel=\"t\", xlabel=\"mass\")"
   ]
  },
  {
   "cell_type": "code",
   "execution_count": 42,
   "metadata": {},
   "outputs": [],
   "source": [
    "# result1 = soltoResult(sol[1:11,:],sys0)\n",
    "# plot(sol.t, result1.θ[1], title=\"temperatures for three vapor bubbles\")\n",
    "# plot!(sol.t, result1.θ[2])\n",
    "# plot!(sol.t, result1.θ[3])"
   ]
  },
  {
   "cell_type": "code",
   "execution_count": 43,
   "metadata": {},
   "outputs": [
    {
     "data": {
      "text/plain": [
       "1.1"
      ]
     },
     "execution_count": 43,
     "metadata": {},
     "output_type": "execute_result"
    }
   ],
   "source": [
    "Xpvapornew = (1.5,1.6)\n",
    "Pvapornew = 1.1"
   ]
  },
  {
   "cell_type": "code",
   "execution_count": 44,
   "metadata": {},
   "outputs": [
    {
     "ename": "LoadError",
     "evalue": "\u001b[91mUndefVarError: sys0 not defined\u001b[39m",
     "output_type": "error",
     "traceback": [
      "\u001b[91mUndefVarError: sys0 not defined\u001b[39m",
      "",
      "Stacktrace:",
      " [1] top-level scope at In[44]:1",
      " [2] include_string(::Function, ::Module, ::String, ::String) at .\\loading.jl:1091"
     ]
    }
   ],
   "source": [
    "sysnew = nucleateboiling(sys0,Xpvapornew,Pvapornew)"
   ]
  },
  {
   "cell_type": "code",
   "execution_count": 45,
   "metadata": {},
   "outputs": [
    {
     "ename": "LoadError",
     "evalue": "\u001b[91mUndefVarError: p not defined\u001b[39m",
     "output_type": "error",
     "traceback": [
      "\u001b[91mUndefVarError: p not defined\u001b[39m",
      "",
      "Stacktrace:",
      " [1] top-level scope at In[45]:1",
      " [2] include_string(::Function, ::Module, ::String, ::String) at .\\loading.jl:1091"
     ]
    }
   ],
   "source": [
    "p.wall.Xarray"
   ]
  },
  {
   "cell_type": "code",
   "execution_count": 46,
   "metadata": {},
   "outputs": [
    {
     "data": {
      "text/plain": [
       "getwallWe (generic function with 1 method)"
      ]
     },
     "execution_count": 46,
     "metadata": {},
     "output_type": "execute_result"
    }
   ],
   "source": [
    "function getwallWe(Xarray,p::PHPSystem)\n",
    "\n",
    "    Wearray = zero(deepcopy(Xarray))\n",
    "\n",
    "\n",
    "    for i = 1:length(Xarray)\n",
    "        for j = 1:length(p.evaporator.Xe)\n",
    "            if ifamongone(Xarray[i],p.evaporator.Xe[j])\n",
    "                Wearray[i] = p.evaporator.We[j]\n",
    "            end\n",
    "        end\n",
    "    end\n",
    "\n",
    "    return Wearray\n",
    "end"
   ]
  },
  {
   "cell_type": "code",
   "execution_count": 47,
   "metadata": {},
   "outputs": [
    {
     "ename": "LoadError",
     "evalue": "\u001b[91mUndefVarError: p not defined\u001b[39m",
     "output_type": "error",
     "traceback": [
      "\u001b[91mUndefVarError: p not defined\u001b[39m",
      "",
      "Stacktrace:",
      " [1] top-level scope at In[47]:1",
      " [2] include_string(::Function, ::Module, ::String, ::String) at .\\loading.jl:1091"
     ]
    }
   ],
   "source": [
    "plot(getwallWe(p.wall.Xarray,sys0::PHPSystem))"
   ]
  },
  {
   "cell_type": "code",
   "execution_count": 48,
   "metadata": {},
   "outputs": [
    {
     "ename": "LoadError",
     "evalue": "\u001b[91mUndefVarError: sys0 not defined\u001b[39m",
     "output_type": "error",
     "traceback": [
      "\u001b[91mUndefVarError: sys0 not defined\u001b[39m",
      "",
      "Stacktrace:",
      " [1] top-level scope at In[48]:1",
      " [2] include_string(::Function, ::Module, ::String, ::String) at .\\loading.jl:1091"
     ]
    }
   ],
   "source": [
    "sys0.mapping.walltoliquid[1001]"
   ]
  }
 ],
 "metadata": {
  "kernelspec": {
   "display_name": "Julia 1.5.4",
   "language": "julia",
   "name": "julia-1.5"
  },
  "language_info": {
   "file_extension": ".jl",
   "mimetype": "application/julia",
   "name": "julia",
   "version": "1.5.4"
  }
 },
 "nbformat": 4,
 "nbformat_minor": 2
}
