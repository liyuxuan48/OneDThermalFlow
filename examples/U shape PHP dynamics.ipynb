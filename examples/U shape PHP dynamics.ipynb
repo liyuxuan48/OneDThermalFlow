{
 "cells": [
  {
   "cell_type": "markdown",
   "metadata": {},
   "source": [
    "## U shape PHP dynamics"
   ]
  },
  {
   "cell_type": "markdown",
   "metadata": {},
   "source": [
    "\n",
    "We solve a set of governing equations: (Zhang et al., 2002)\n",
    "\n",
    "1. Momentum equation:\n",
    " ## $\\frac{\\mathrm{d}^{2} X_{p}}{\\mathrm{d} \\tau^{2}}+32 \\frac{\\mathrm{d} X_{p}}{\\mathrm{d} \\tau}+\\omega_{0}^{2} X_{p}=\\wp\\left(P_{1}-P_{2}\\right)$\n",
    " \n",
    "2. Perfect gas law combined with first law of thermodynamics:\n",
    "\n",
    " ## $M_{1}=P_{1}^{1 / \\gamma}\\left(1+X_{p}\\right)$\n",
    " \n",
    " ## $M_{2}=P_{2}^{1 / \\gamma}\\left(1-X_{p}\\right)$\n",
    " \n",
    " ## $\\theta_{1}=P_{1}^{(\\gamma-1) / \\gamma}$\n",
    " \n",
    " ## $\\theta_{2}=P_{2}^{(\\gamma-1) / \\gamma}$\n",
    "\n",
    "3. The phase change relations between the mass of vapor and the heat transfer from the wall\n",
    " ## $\\frac{\\mathrm{d} M_{1}}{\\mathrm{d} \\tau}=\\left\\{\\begin{array}{ll}\n",
    "-H_{\\mathrm{c}} X_{p}\\left(\\theta_{1}-\\theta_{\\mathrm{c}}\\right), & X_{p}>0 \\\\\n",
    "-H_{\\mathrm{e}}\\left(1+X_{p}\\right)\\left(\\theta_{\\mathrm{e}}-\\theta_{1}\\right), & X_{p}<0\n",
    "\\end{array}\\right.$\n",
    " \n",
    " ## $\\frac{\\mathrm{d} M_{2}}{\\mathrm{d} \\tau}=\\left\\{\\begin{array}{ll}\n",
    "H_{\\mathrm{e}}\\left(1-X_{p}\\right)\\left(\\theta_{\\mathrm{e}}-\\theta_{2}\\right), & X_{p}>0 \\\\\n",
    "H_{\\mathrm{c}} X_{p}\\left(\\theta_{2}-\\theta_{\\mathrm{c}}\\right), & X_{p}<0\n",
    "\\end{array}\\right.$\n",
    "\n",
    " So there are 7 euqations for seven non-dimensional variables: \n",
    " \n",
    " $X_p$, the dimensionless position of the left end of the liquid slug.\n",
    " \n",
    " $M_{1}$, the dimensionless mass of the left vapor plug.\n",
    " \n",
    " $M_{2}$, the dimensionless mass of the right vapor plug.\n",
    " \n",
    " $\\theta_{1}$, the dimensionless temperature of the left vapor plug.\n",
    " \n",
    " $\\theta_{2}$, the dimensionless temperature of the right vapor plug.\n",
    " \n",
    " $P_{1}$, the dimensionless static pressure of the left vapor plug.\n",
    " \n",
    " $P_{2}$, the dimensionless static pressure of the left vapor plug.\n",
    " \n",
    " \n",
    "So how to solve them?"
   ]
  },
  {
   "cell_type": "markdown",
   "metadata": {},
   "source": [
    "We actrually solve this system of ODE with four variables:\n",
    "\n",
    " ## $\\begin{equation}\n",
    "     \\frac{\\mathrm{d} \\textbf{U}}{\\mathrm{d} \\tau}=f(\\textbf{U})\n",
    " \\end{equation}$,\n",
    " \n",
    " where\n",
    "\n",
    " ## $\\begin{equation}\n",
    "     \\textbf{U}=\\left(\\begin{array}{c}  X_{p}  \\\\ \\frac{\\mathrm{d} X_{p}}{\\mathrm{d} \\tau} \\\\ M_{1} \\\\ M_{2} \\end{array}\\right)\n",
    " \\end{equation}$.\n",
    " \n",
    " The details are as below: ( $\\omega_{0}, \\zeta, \\theta_{\\mathrm{e}}, \\theta_{\\mathrm{c}}, H_{\\mathrm{c}}, H_{\\mathrm{e}}$ are all known constant. $\\tau$ is the dimensionless time, and $\\gamma$ is the specific heat ratio。)\n",
    " \n",
    " ## $\\begin{equation} \\frac{\\mathrm{d} \\textbf{U}}{\\mathrm{d} \\tau}= \\left(\\begin{array}{c}  \\frac{\\mathrm{d} X_{p}}{\\mathrm{d} \\tau} \\\\ -32 \\frac{\\mathrm{d} X_{p}}{\\mathrm{d} \\tau} - \\omega_{0}^2 X_{p} +\\zeta (P_{1} - P_{2}) \\\\ -H_{\\mathrm{c}} X_{p}\\left(\\theta_{1}-\\theta_{\\mathrm{c}}\\right)  \\\\ H_{\\mathrm{e}}\\left(1-X_{p}\\right)\\left(\\theta_{\\mathrm{e}}-\\theta_{2}\\right) \\end{array} \\right) ,  X_{p}> 0 \\end{equation} $\n",
    " \n",
    "  ## $\\begin{equation} \\frac{\\mathrm{d} \\textbf{U}}{\\mathrm{d} \\tau}= \\left(\\begin{array}{c}  \\frac{\\mathrm{d} X_{p}}{\\mathrm{d} \\tau} \\\\ -32 \\frac{\\mathrm{d} X_{p}}{\\mathrm{d} \\tau} - \\omega_{0}^2 X_{p} +\\zeta (P_{1} - P_{2}) \\\\ -H_{\\mathrm{e}}\\left(1+X_{p}\\right)\\left(\\theta_{\\mathrm{e}}-\\theta_{1}\\right)  \\\\ H_{\\mathrm{c}} X_{p}\\left(\\theta_{2}-\\theta_{\\mathrm{c}}\\right) \\end{array} \\right) ,  X_{p}< 0 \\end{equation} $\n",
    "  \n",
    " where\n",
    " \n",
    " ## $P_{1} = (\\frac{M_{1}}{1+X_{p}})^{\\gamma}, P_{2} = (\\frac{M_{2}}{1+X_{p}})^{\\gamma}$\n",
    " \n",
    " ## $\\theta_{1} = P_{1}^{\\frac{\\gamma-1}{\\gamma}}, \\theta_{2} = P_{2}^{\\frac{\\gamma-1}{\\gamma}}$\n",
    "\n",
    " "
   ]
  },
  {
   "cell_type": "code",
   "execution_count": 1,
   "metadata": {
    "scrolled": true
   },
   "outputs": [
    {
     "data": {
      "text/plain": [
       "Plots.PyPlotBackend()"
      ]
     },
     "execution_count": 1,
     "metadata": {},
     "output_type": "execute_result"
    }
   ],
   "source": [
    "using Plots\n",
    "pyplot()"
   ]
  },
  {
   "cell_type": "code",
   "execution_count": 2,
   "metadata": {},
   "outputs": [],
   "source": [
    "using DifferentialEquations"
   ]
  },
  {
   "cell_type": "code",
   "execution_count": 3,
   "metadata": {},
   "outputs": [],
   "source": [
    "using DelimitedFiles"
   ]
  },
  {
   "cell_type": "markdown",
   "metadata": {},
   "source": [
    "## Parameters of the PHP"
   ]
  },
  {
   "cell_type": "code",
   "execution_count": 4,
   "metadata": {},
   "outputs": [],
   "source": [
    "    ω0 = sqrt(1.2e004);\n",
    "    ζ = 1.2e005;\n",
    "\n",
    "\n",
    "    Θ = 0.15;\n",
    "    θe = 1 + Θ;\n",
    "    θc = 1 - Θ;\n",
    "    \n",
    "    He = 3000.0;\n",
    "    Hc = 3000.0;\n",
    "    \n",
    "    X0 = 0.5;"
   ]
  },
  {
   "cell_type": "markdown",
   "metadata": {},
   "source": [
    "## Set up the ODE equations"
   ]
  },
  {
   "cell_type": "code",
   "execution_count": 5,
   "metadata": {},
   "outputs": [
    {
     "ename": "UndefVarError",
     "evalue": "UndefVarError: γ not defined",
     "output_type": "error",
     "traceback": [
      "UndefVarError: γ not defined",
      "",
      "Stacktrace:",
      " [1] top-level scope at In[5]:1"
     ]
    }
   ],
   "source": [
    "    p = (γ,Hc,He,θc,θe,ω0,ζ);\n",
    "\n",
    "function php!(du,u,p,t)\n",
    "    \n",
    "    γ,Hc,He,θc,θe,ω0,ζ  = p\n",
    "    \n",
    "    P[1] = (u[3]/(1+u[1]))^(γ) \n",
    "    P[2] = (u[4]/(1-u[1]))^(γ) \n",
    "    θ[1] = P[1]^((γ-1)/γ)\n",
    "    θ[2] = P[2]^((γ-1)/γ)\n",
    "    \n",
    "    du[1] = u[2]\n",
    "    du[2] = -32*u[2] - (ω0^2)*u[1] + ζ*(P[1]-P[2])\n",
    "    u[1] > 0 ? du[3] = -Hc*u[1]*(θ[1] - θc) : du[3] = He*(1 + u[1])*(θe - θ[1]) \n",
    "    u[1] > 0 ? du[4] = He*(1-u[1])*(θe - θ[2]) : du[4] = Hc*u[1]*(θ[2] - θc)\n",
    "    \n",
    "    return du\n",
    "end"
   ]
  },
  {
   "cell_type": "markdown",
   "metadata": {},
   "source": [
    "## Initialization of the PHP"
   ]
  },
  {
   "cell_type": "code",
   "execution_count": 6,
   "metadata": {},
   "outputs": [],
   "source": [
    "    γ = 1.4;\n",
    "    X = X0;\n",
    "    P = [1.0,1.0];\n",
    "    θ = [1.0,1.0];\n",
    "    \n",
    "    # only good for one liquid slug\n",
    "    M = zeros(size(θ))\n",
    "    M[1] = P[1].^(1/γ).*(1 + X);\n",
    "    M[2] = P[2].^(1/γ).*(1 - X);"
   ]
  },
  {
   "cell_type": "markdown",
   "metadata": {},
   "source": [
    "## Solve the ODE equations"
   ]
  },
  {
   "cell_type": "code",
   "execution_count": 7,
   "metadata": {},
   "outputs": [
    {
     "ename": "UndefVarError",
     "evalue": "UndefVarError: php! not defined",
     "output_type": "error",
     "traceback": [
      "UndefVarError: php! not defined",
      "",
      "Stacktrace:",
      " [1] top-level scope at In[7]:3"
     ]
    }
   ],
   "source": [
    "u0 =  [0.5,0.0,M[1],M[2]]\n",
    "tspan = (0.0, 0.1);\n",
    "prob = ODEProblem(php!, u0, tspan, p)\n",
    "sol = solve(prob, RK4(), adaptive=false, dt=1.0e-5);"
   ]
  },
  {
   "cell_type": "markdown",
   "metadata": {},
   "source": [
    "## Plot the ODE results"
   ]
  },
  {
   "cell_type": "code",
   "execution_count": 8,
   "metadata": {},
   "outputs": [
    {
     "ename": "UndefVarError",
     "evalue": "UndefVarError: sol not defined",
     "output_type": "error",
     "traceback": [
      "UndefVarError: sol not defined",
      "",
      "Stacktrace:",
      " [1] top-level scope at In[8]:1"
     ]
    }
   ],
   "source": [
    "Xhist=zeros(length(sol));\n",
    "M1hist=zeros(length(sol));\n",
    "M2hist=zeros(length(sol));\n",
    "thist=zeros(length(sol));\n",
    "\n",
    "for i = 1:length(sol)\n",
    "    Xhist[i]=sol[i][1]\n",
    "    M1hist[i]=sol[i][3]\n",
    "    M2hist[i]=sol[i][4]\n",
    "    thist[i]=sol.t[i]\n",
    "end"
   ]
  },
  {
   "cell_type": "code",
   "execution_count": 9,
   "metadata": {},
   "outputs": [],
   "source": [
    "cd(dirname(pwd()))\n",
    "\n",
    "cd(\"data\")"
   ]
  },
  {
   "cell_type": "code",
   "execution_count": 10,
   "metadata": {},
   "outputs": [
    {
     "ename": "UndefVarError",
     "evalue": "UndefVarError: thist not defined",
     "output_type": "error",
     "traceback": [
      "UndefVarError: thist not defined",
      "",
      "Stacktrace:",
      " [1] top-level scope at In[10]:2"
     ]
    }
   ],
   "source": [
    "Xprefmatrix = readdlm(\"Xp.txt\",Float64)\n",
    "plot(thist,Xhist,label=\"X\")\n",
    "plot!(Xprefmatrix[:,1],Xprefmatrix[:,2], line=:dash, label=\"Xref\",ylim=(-1.0,1.0))"
   ]
  },
  {
   "cell_type": "code",
   "execution_count": 11,
   "metadata": {},
   "outputs": [
    {
     "ename": "UndefVarError",
     "evalue": "UndefVarError: thist not defined",
     "output_type": "error",
     "traceback": [
      "UndefVarError: thist not defined",
      "",
      "Stacktrace:",
      " [1] top-level scope at In[11]:2"
     ]
    }
   ],
   "source": [
    "M1refmatrix = readdlm(\"M1.txt\", ',', Float64)\n",
    "plot(thist,M1hist,label=\"M1\")\n",
    "plot!(M1refmatrix[:,1],M1refmatrix[:,2], line=:dash, label=\"M1ref\",ylim=(0.5,1.5))"
   ]
  },
  {
   "cell_type": "code",
   "execution_count": 12,
   "metadata": {},
   "outputs": [
    {
     "ename": "UndefVarError",
     "evalue": "UndefVarError: thist not defined",
     "output_type": "error",
     "traceback": [
      "UndefVarError: thist not defined",
      "",
      "Stacktrace:",
      " [1] top-level scope at In[12]:2"
     ]
    }
   ],
   "source": [
    "M2refmatrix = readdlm(\"M2.txt\", ',', Float64)\n",
    "plot(thist,M2hist,label=\"M2\")\n",
    "plot!(M2refmatrix[:,1],M2refmatrix[:,2], line=:dash, label=\"M2ref\",ylim=(0.5,1.5))"
   ]
  }
 ],
 "metadata": {
  "kernelspec": {
   "display_name": "Julia 1.3.1",
   "language": "julia",
   "name": "julia-1.3"
  },
  "language_info": {
   "file_extension": ".jl",
   "mimetype": "application/julia",
   "name": "julia",
   "version": "1.3.1"
  }
 },
 "nbformat": 4,
 "nbformat_minor": 2
}
