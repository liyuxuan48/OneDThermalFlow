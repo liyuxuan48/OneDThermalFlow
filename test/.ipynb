{
 "cells": [
  {
   "cell_type": "code",
   "execution_count": 1,
   "metadata": {},
   "outputs": [],
   "source": [
    "using DelimitedFiles"
   ]
  },
  {
   "cell_type": "code",
   "execution_count": 9,
   "metadata": {},
   "outputs": [
    {
     "ename": "ArgumentError",
     "evalue": "ArgumentError: Package ForwardDiff not found in current path:\n- Run `import Pkg; Pkg.add(\"ForwardDiff\")` to install the ForwardDiff package.\n",
     "output_type": "error",
     "traceback": [
      "ArgumentError: Package ForwardDiff not found in current path:\n- Run `import Pkg; Pkg.add(\"ForwardDiff\")` to install the ForwardDiff package.\n",
      "",
      "Stacktrace:",
      " [1] require(::Module, ::Symbol) at .\\loading.jl:887",
      " [2] top-level scope at In[9]:1"
     ]
    }
   ],
   "source": [
    "using ForwardDiff"
   ]
  },
  {
   "cell_type": "code",
   "execution_count": 3,
   "metadata": {},
   "outputs": [],
   "source": [
    "cd(dirname(pwd()))\n",
    "\n",
    "cd(\"data\")"
   ]
  },
  {
   "cell_type": "code",
   "execution_count": 8,
   "metadata": {},
   "outputs": [
    {
     "data": {
      "text/plain": [
       "71×2 Array{Float64,2}:\n",
       " 0.000588796  5.06781e-5\n",
       " 0.00156926   5.15755e-5\n",
       " 0.00272047   5.26959e-5\n",
       " 0.00476278   5.39757e-5\n",
       " 0.00684977   5.50992e-5\n",
       " 0.00998026   5.6161e-5 \n",
       " 0.0141542    5.71867e-5\n",
       " 0.0187456    5.78006e-5\n",
       " 0.023337     5.7955e-5 \n",
       " 0.0279284    5.79133e-5\n",
       " 0.0325198    5.76574e-5\n",
       " 0.0371112    5.72366e-5\n",
       " 0.0417026    5.67177e-5\n",
       " ⋮                      \n",
       " 0.232871     1.44464e-5\n",
       " 0.234958     1.32192e-5\n",
       " 0.236836     1.21099e-5\n",
       " 0.238536     1.07917e-5\n",
       " 0.240176     9.54548e-6\n",
       " 0.241636     8.45345e-6\n",
       " 0.242889     7.40647e-6\n",
       " 0.244141     6.17961e-6\n",
       " 0.245226     4.83671e-6\n",
       " 0.246168     3.2904e-6 \n",
       " 0.246923     1.68177e-6\n",
       " 0.247063     9.7e-7    "
      ]
     },
     "execution_count": 8,
     "metadata": {},
     "output_type": "execute_result"
    }
   ],
   "source": [
    "filmT = readdlm(\"film thickness.txt\",Float64)"
   ]
  },
  {
   "cell_type": "code",
   "execution_count": 5,
   "metadata": {},
   "outputs": [
    {
     "data": {
      "text/plain": [
       "\"C:\\\\Users\\\\liyux\\\\Documents\\\\GitHub\\\\OneDThermalFlow\\\\data\""
      ]
     },
     "execution_count": 5,
     "metadata": {},
     "output_type": "execute_result"
    }
   ],
   "source": [
    "pwd()"
   ]
  }
 ],
 "metadata": {
  "kernelspec": {
   "display_name": "Julia 1.3.1",
   "language": "julia",
   "name": "julia-1.3"
  },
  "language_info": {
   "file_extension": ".jl",
   "mimetype": "application/julia",
   "name": "julia",
   "version": "1.3.1"
  }
 },
 "nbformat": 4,
 "nbformat_minor": 4
}
