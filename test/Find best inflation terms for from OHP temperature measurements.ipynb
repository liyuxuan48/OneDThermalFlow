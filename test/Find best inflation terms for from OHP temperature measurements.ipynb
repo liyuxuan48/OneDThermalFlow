{
 "cells": [
  {
   "cell_type": "markdown",
   "metadata": {},
   "source": [
    "## U shape PHP dynamics"
   ]
  },
  {
   "cell_type": "code",
   "execution_count": 1,
   "metadata": {
    "scrolled": true
   },
   "outputs": [
    {
     "data": {
      "text/plain": [
       "Plots.PyPlotBackend()"
      ]
     },
     "execution_count": 1,
     "metadata": {},
     "output_type": "execute_result"
    }
   ],
   "source": [
    "using Plots\n",
    "pyplot()"
   ]
  },
  {
   "cell_type": "code",
   "execution_count": 2,
   "metadata": {},
   "outputs": [],
   "source": [
    "using Revise\n",
    "using EnKF\n",
    "using Distributions\n",
    "using DocStringExtensions\n",
    "using LinearAlgebra\n",
    "using ProgressMeter\n",
    "using DifferentialEquations"
   ]
  },
  {
   "cell_type": "code",
   "execution_count": 3,
   "metadata": {},
   "outputs": [],
   "source": [
    "using DelimitedFiles"
   ]
  },
  {
   "cell_type": "code",
   "execution_count": 4,
   "metadata": {},
   "outputs": [],
   "source": [
    "cd(dirname(pwd()))\n",
    "cd(\"src\") \n",
    "\n",
    "\n",
    "include(\"Systems.jl\")\n",
    "using ..Systems\n",
    "\n",
    "include(\"Tools.jl\")\n",
    "using ..Tools\n",
    "\n",
    "\n",
    "include(\"Thermomodel.jl\")\n",
    "using ..Thermomodel\n",
    "\n",
    "include(\"Postprocessing.jl\")\n",
    "using ..Postprocessing\n"
   ]
  },
  {
   "cell_type": "markdown",
   "metadata": {},
   "source": [
    "## Initialization"
   ]
  },
  {
   "cell_type": "code",
   "execution_count": 5,
   "metadata": {},
   "outputs": [],
   "source": [
    "    ω0 = [sqrt(1.2e004)];\n",
    "    ℘ = [1.2e005];\n",
    "\n",
    "\n",
    "    Θ = 0.15;\n",
    "    θe = 1 + Θ;\n",
    "    θc = 1 - Θ;\n",
    "    \n",
    "    He = 3000.0;\n",
    "    Hc = 3000.0;\n",
    "\n",
    "\n",
    "    γ = 1.3;#not 1.4!!!!! maybe 1.33?"
   ]
  },
  {
   "cell_type": "code",
   "execution_count": 6,
   "metadata": {},
   "outputs": [
    {
     "data": {
      "text/plain": [
       "1.5707963267948966"
      ]
     },
     "execution_count": 6,
     "metadata": {},
     "output_type": "execute_result"
    }
   ],
   "source": [
    "    L = 4.0  # total length of the pipe when streched to a 1D pipe\n",
    "    L2D = 2.0 # the actual length of the bended pipe in the real world\n",
    "    alpha = pi/2 # inclination angle "
   ]
  },
  {
   "cell_type": "code",
   "execution_count": 7,
   "metadata": {},
   "outputs": [
    {
     "data": {
      "text/plain": [
       "Tube(4.0, 2.0, 1.5707963267948966)"
      ]
     },
     "execution_count": 7,
     "metadata": {},
     "output_type": "execute_result"
    }
   ],
   "source": [
    "tube = Tube(L,L2D,alpha)"
   ]
  },
  {
   "cell_type": "code",
   "execution_count": 8,
   "metadata": {},
   "outputs": [
    {
     "data": {
      "text/plain": [
       "Evaporator(3000.0, 1.15, Tuple{Float64,Float64}[(0.0, 1.0), (3.0, 4.0)])"
      ]
     },
     "execution_count": 8,
     "metadata": {},
     "output_type": "execute_result"
    }
   ],
   "source": [
    "Xe = map(tuple, [0.0; 3.0], [1.0; 4.0])\n",
    "evap = Evaporator(He,θe,Xe)"
   ]
  },
  {
   "cell_type": "code",
   "execution_count": 9,
   "metadata": {},
   "outputs": [
    {
     "data": {
      "text/plain": [
       "Condenser(3000.0, 0.85, Tuple{Float64,Float64}[(1.0, 3.0)])"
      ]
     },
     "execution_count": 9,
     "metadata": {},
     "output_type": "execute_result"
    }
   ],
   "source": [
    "Xc = map(tuple, [1.0], [3.0])\n",
    "cond = Condenser(Hc,θc,Xc)"
   ]
  },
  {
   "cell_type": "code",
   "execution_count": 10,
   "metadata": {},
   "outputs": [
    {
     "data": {
      "text/plain": [
       "LiquidSlug(1.3, [109.54451150103323], [120000.0], Tuple{Float64,Float64}[(1.5, 3.5)], Tuple{Float64,Float64}[(0.0, 0.0)])"
      ]
     },
     "execution_count": 10,
     "metadata": {},
     "output_type": "execute_result"
    }
   ],
   "source": [
    "X0 = [(1.5,3.5)]\n",
    "dXdt0 = [(0.0,0.0)]\n",
    "liquids=LiquidSlug(γ,ω0,℘,X0,dXdt0)"
   ]
  },
  {
   "cell_type": "code",
   "execution_count": 11,
   "metadata": {},
   "outputs": [
    {
     "data": {
      "text/plain": [
       "VaporPlug(1.3, [1.0, 1.0])"
      ]
     },
     "execution_count": 11,
     "metadata": {},
     "output_type": "execute_result"
    }
   ],
   "source": [
    "P = [1.0,1.0]\n",
    "\n",
    "vapors=VaporPlug(γ,P)"
   ]
  },
  {
   "cell_type": "code",
   "execution_count": 12,
   "metadata": {},
   "outputs": [
    {
     "data": {
      "text/plain": [
       "PHPSystem(Tube(4.0, 2.0, 1.5707963267948966), Evaporator(3000.0, 1.15, Tuple{Float64,Float64}[(0.0, 1.0), (3.0, 4.0)]), Condenser(3000.0, 0.85, Tuple{Float64,Float64}[(1.0, 3.0)]), LiquidSlug(1.3, [109.54451150103323], [120000.0], Tuple{Float64,Float64}[(1.5, 3.5)], Tuple{Float64,Float64}[(0.0, 0.0)]), VaporPlug(1.3, [1.0, 1.0]))"
      ]
     },
     "execution_count": 12,
     "metadata": {},
     "output_type": "execute_result"
    }
   ],
   "source": [
    "sys0 = PHPSystem(tube,evap,cond,liquids,vapors)"
   ]
  },
  {
   "cell_type": "markdown",
   "metadata": {},
   "source": [
    "## Get numerical solution"
   ]
  },
  {
   "cell_type": "code",
   "execution_count": 13,
   "metadata": {
    "scrolled": true
   },
   "outputs": [
    {
     "data": {
      "text/plain": [
       "6-element Array{Float64,1}:\n",
       " 1.5\n",
       " 3.5\n",
       " 0.0\n",
       " 0.0\n",
       " 1.5\n",
       " 0.5"
      ]
     },
     "execution_count": 13,
     "metadata": {},
     "output_type": "execute_result"
    }
   ],
   "source": [
    "Lvaporplug = XptoLvaporplug(X0,L)\n",
    "M = P.^(1/γ).* Lvaporplug\n",
    "\n",
    "u=XMtovec(sys0.liquidslug.Xp,sys0.liquidslug.dXdt,M)"
   ]
  },
  {
   "cell_type": "code",
   "execution_count": 14,
   "metadata": {},
   "outputs": [
    {
     "data": {
      "text/plain": [
       "t: 0.0\n",
       "u: 6-element Array{Float64,1}:\n",
       " 1.5\n",
       " 3.5\n",
       " 0.0\n",
       " 0.0\n",
       " 1.5\n",
       " 0.5"
      ]
     },
     "execution_count": 14,
     "metadata": {},
     "output_type": "execute_result"
    }
   ],
   "source": [
    "tstep=1.0e-5\n",
    "\n",
    "p = sys0\n",
    "tspan = (0.0, 0.05);\n",
    "T = tspan[1]:tstep:tspan[end]\n",
    "\n",
    "prob = ODEProblem(zhang2002model!, u, tspan, p)\n",
    "sol = solve(prob, RK4(), adaptive=false, dt=tstep);\n",
    "integrator = init(prob, RK4(), adaptive =false, dt = tstep, save_everystep=false)"
   ]
  },
  {
   "cell_type": "markdown",
   "metadata": {},
   "source": [
    "## EnKF function"
   ]
  },
  {
   "cell_type": "code",
   "execution_count": 15,
   "metadata": {},
   "outputs": [
    {
     "data": {
      "text/plain": [
       "dMdtzhang2002modelEnKF (generic function with 1 method)"
      ]
     },
     "execution_count": 15,
     "metadata": {},
     "output_type": "execute_result"
    }
   ],
   "source": [
    "\"\"\"\n",
    "    This function is required by \"DifferentialEquation.jl\" Package.\n",
    "        du :: an empty state vector to be derived at the end of this function.\n",
    "        u  :: the state vector input from the last time step.\n",
    "        p  :: some important parameters which do not belong to u\n",
    "        t  :: the current time\n",
    "\n",
    "    This approach solves the same set of dimensionless governing equations as\n",
    "    \"https://doi.org/10.1016/S0017-9310(01)00348-9\"(Zhang et al. 2002)\n",
    "    Instead of solving them piece by piece. Our current approach solve them as a whole system.\n",
    "\"\"\"\n",
    "\n",
    "function zhang2002modelEnKF!(du::Array{Float64,1},uEnKF::Array{Float64,1},p::PHPSystem,t::Float64)\n",
    "\n",
    "    sys = deepcopy(p)\n",
    "\n",
    "    # added He as a state vector entry\n",
    "    u = uEnKF[1:end-1]\n",
    "    sys.evaporator.He = uEnKF[end]\n",
    "\n",
    "    numofliquidslug =  Integer( (length(u) - 1)/5 )\n",
    "    \n",
    "    (Xp,dXdt0,M)=vectoXM(u)\n",
    "\n",
    "    γ = sys.liquidslug.γ\n",
    "    ω0 = sys.liquidslug.ω0\n",
    "    ℘ = sys.liquidslug.℘\n",
    "    Lvaporplug = XptoLvaporplug(Xp,sys.tube.L)\n",
    "#     Lliquidslug = XptoLliquidslug(Xp)\n",
    "    height = getheight(Xp,sys.tube.L2D,sys.tube.alpha)\n",
    "    Xpvapor = getXpvapor(Xp,sys.tube.L)\n",
    "\n",
    "\n",
    "\n",
    "    # get P from M and γ\n",
    "    # P = (M./Lvaporplug).^(γ)\n",
    "    # P = zeros(size(M))\n",
    "    # for i in length(M)\n",
    "    #        P[i] = M[i] > 0 ? (M[i]./Lvaporplug[i]).^(γ) : -(-M[i]./Lvaporplug[i]).^(γ)\n",
    "    #    end\n",
    "    P = real.((M./Lvaporplug .+ 0im).^(γ))\n",
    "\n",
    "    # get θ from P and γ\n",
    "    # θ = zeros(size(P))\n",
    "    # for i in length(P)\n",
    "    #        θ[i] = P[i] > 0 ? P[i].^((γ-1)/γ) : -(-P[i]).^((γ-1)/γ)\n",
    "    #    end\n",
    "    θ = real.((P .+ 0im).^((γ-1)/γ))\n",
    "    # θ = P.^((γ-1)/γ)\n",
    "\n",
    "\n",
    "    for i = 1:numofliquidslug\n",
    "        du[2*i-1] = u[2*numofliquidslug+2*i-1]\n",
    "        du[2*i] = du[2*i-1]\n",
    "\n",
    "        du[2*numofliquidslug + 2*i-1] = -32*u[2*numofliquidslug + 2*i-1] - (ω0[i]^2)*(0.5*(height[i][end]-height[i][1])) + ℘[i]*(P[i]-P[i+1])\n",
    "        du[2*numofliquidslug + 2*i] = du[2*numofliquidslug + 2*i-1]\n",
    "\n",
    "    end\n",
    "\n",
    "\n",
    "        du[4*numofliquidslug+1:5*numofliquidslug+1] .= dMdtzhang2002model(Xpvapor,θ,sys)\n",
    "    \n",
    "        du[end]=0\n",
    "\n",
    "    return du\n",
    "\n",
    "end\n",
    "\n",
    "\"\"\"\n",
    "    This function is a sub-function of zhang2002model. This function is the phase change part,\n",
    "        Xpvapor ::  storing the location of two ends of each vapor\n",
    "        θ       ::  the temperature in each vapor.\n",
    "        sys    ::  the struct that stores every needed initial conditions and boundary conditions\n",
    "\n",
    "    In this case. He and Hc are preset constants.\n",
    "\"\"\"\n",
    "\n",
    "function dMdtzhang2002modelEnKF(Xpvapor::Array{Tuple{Float64,Float64},1},θ::Array{Float64,1},sys::PHPSystem)\n",
    "\n",
    "    dMdt=zeros(length(Xpvapor))\n",
    "\n",
    "\n",
    "    Xe = sys.evaporator.Xe\n",
    "    He = sys.evaporator.He\n",
    "    θe = sys.evaporator.θe\n",
    "\n",
    "    Xc = sys.condenser.Xc\n",
    "    Hc = sys.condenser.Hc\n",
    "    θc = sys.condenser.θc\n",
    "\n",
    "    Levapoverlap=XpvaportoLoverlap(Xpvapor,Xe)\n",
    "    Lcondoverlap=XpvaportoLoverlap(Xpvapor,Xc)\n",
    "\n",
    "\n",
    "    # May not be right for multi liquid flow\n",
    "    for i = 1:length(Xpvapor)\n",
    "        if Lcondoverlap[i] < 1e-8\n",
    "            dMdt[i] = He * Levapoverlap[i] * (θe-θ[i])\n",
    "        else\n",
    "            dMdt[i] = -Hc * Lcondoverlap[i] * (θ[i]-θc)\n",
    "        end\n",
    "    end\n",
    "\n",
    "    return dMdt\n",
    "\n",
    "end"
   ]
  },
  {
   "cell_type": "markdown",
   "metadata": {},
   "source": [
    "## EnKF"
   ]
  },
  {
   "cell_type": "code",
   "execution_count": 16,
   "metadata": {},
   "outputs": [
    {
     "data": {
      "text/plain": [
       "7-element Array{Float64,1}:\n",
       "    1.5\n",
       "    3.5\n",
       "    0.0\n",
       "    0.0\n",
       "    1.5\n",
       "    0.5\n",
       " 3000.0"
      ]
     },
     "execution_count": 16,
     "metadata": {},
     "output_type": "execute_result"
    }
   ],
   "source": [
    "uEnKF = push!(deepcopy(u),3000.0)"
   ]
  },
  {
   "cell_type": "code",
   "execution_count": 17,
   "metadata": {},
   "outputs": [
    {
     "data": {
      "text/plain": [
       "t: 0.0\n",
       "u: 7-element Array{Float64,1}:\n",
       "    1.5\n",
       "    3.5\n",
       "    0.0\n",
       "    0.0\n",
       "    1.5\n",
       "    0.5\n",
       " 3000.0"
      ]
     },
     "execution_count": 17,
     "metadata": {},
     "output_type": "execute_result"
    }
   ],
   "source": [
    "tstep=1.0e-5\n",
    "\n",
    "p = sys0\n",
    "tspan = (0.0, 0.05);\n",
    "T = tspan[1]:tstep:tspan[end]\n",
    "\n",
    "probEnKF = ODEProblem(zhang2002modelEnKF!, uEnKF, tspan, p)\n",
    "solEnKF = solve(probEnKF, RK4(), adaptive=false, dt=tstep);\n",
    "integrator = init(probEnKF, RK4(), adaptive =false, dt = tstep, save_everystep=false)"
   ]
  },
  {
   "cell_type": "code",
   "execution_count": 18,
   "metadata": {},
   "outputs": [],
   "source": [
    "function (::PropagationFunction)(t::Float64, ENS::EnsembleState{N, TS}) where {N, TS}\n",
    "    for (i,s) in enumerate(ENS.S)\n",
    "        \n",
    "        set_t!(integrator, deepcopy(t))\n",
    "        set_u!(integrator, deepcopy(s))\n",
    "#         for j=1:10\n",
    "        step!(integrator)\n",
    "#         end\n",
    "        ENS.S[i] = deepcopy(integrator.u)\n",
    "\n",
    "    end\n",
    "    \n",
    "    return ENS\n",
    "end"
   ]
  },
  {
   "cell_type": "code",
   "execution_count": 19,
   "metadata": {
    "scrolled": true
   },
   "outputs": [
    {
     "data": {
      "text/plain": [
       "PropagationFunction()"
      ]
     },
     "execution_count": 19,
     "metadata": {},
     "output_type": "execute_result"
    }
   ],
   "source": [
    "fprop = PropagationFunction()"
   ]
  },
  {
   "cell_type": "code",
   "execution_count": 20,
   "metadata": {},
   "outputs": [],
   "source": [
    "function (::MeasurementFunction)(t::Float64, s::TS) where TS\n",
    "    result=soltoResult(s[1:end-1],sys0);\n",
    "#     return [s[3]]\n",
    "    return [result.θ[1],result.θ[2]]\n",
    "end"
   ]
  },
  {
   "cell_type": "code",
   "execution_count": 21,
   "metadata": {},
   "outputs": [],
   "source": [
    "function (::MeasurementFunction)(t::Float64) \n",
    "#     return reshape([0.0, 0.0, 1.0, 0.0, 0.0, 0.0],(1,6))\n",
    "    return reshape([1.0, 0.0, 0.0, 1.0, 0.0, 0.0, 0.0, 0.0, 0.0, 0.0, 0.0, 0.0,0.0,0.0],(2,7))\n",
    "end"
   ]
  },
  {
   "cell_type": "code",
   "execution_count": 22,
   "metadata": {},
   "outputs": [
    {
     "data": {
      "text/plain": [
       "MeasurementFunction()"
      ]
     },
     "execution_count": 22,
     "metadata": {},
     "output_type": "execute_result"
    }
   ],
   "source": [
    "m = MeasurementFunction()"
   ]
  },
  {
   "cell_type": "code",
   "execution_count": 23,
   "metadata": {},
   "outputs": [],
   "source": [
    "function (::RealMeasurementFunction)(t::Float64, ENS::EnsembleState{N, TZ}) where {N, TZ}\n",
    "    let s = sol(t)\n",
    "#     fill!(ENS, [deepcopy(s[3])])\n",
    "    result=soltoResult(s,sys0);\n",
    "    fill!(ENS, [deepcopy(result.θ[1]),deepcopy(result.θ[2])])\n",
    "    end\n",
    "    return ENS\n",
    "end"
   ]
  },
  {
   "cell_type": "code",
   "execution_count": 24,
   "metadata": {},
   "outputs": [
    {
     "data": {
      "text/plain": [
       "RealMeasurementFunction()"
      ]
     },
     "execution_count": 24,
     "metadata": {},
     "output_type": "execute_result"
    }
   ],
   "source": [
    "z = RealMeasurementFunction()"
   ]
  },
  {
   "cell_type": "code",
   "execution_count": 25,
   "metadata": {
    "scrolled": true
   },
   "outputs": [
    {
     "data": {
      "text/plain": [
       "MultiAdditiveInflation{7}(1.001, DiagNormal(\n",
       "dim: 7\n",
       "μ: [0.0, 0.0, 0.0, 0.0, 0.0, 0.0, 0.0]\n",
       "Σ: [0.001 0.0 … 0.0 0.0; 0.0 0.001 … 0.0 0.0; … ; 0.0 0.0 … 0.001 0.0; 0.0 0.0 … 0.0 1.0]\n",
       ")\n",
       ")"
      ]
     },
     "execution_count": 25,
     "metadata": {},
     "output_type": "execute_result"
    }
   ],
   "source": [
    "# A = MultiAdditiveInflation(2, 1.05, MvNormal(zeros(1), 2.0*I))\n",
    "A = MultiAdditiveInflation(7, 1.001, MvNormal(zeros(7), 0.01*Diagonal([0.1,0.1,10.0,10.0,0.1,0.1,100.0])))\n",
    "# A = IdentityInflation()"
   ]
  },
  {
   "cell_type": "code",
   "execution_count": 26,
   "metadata": {},
   "outputs": [
    {
     "data": {
      "text/plain": [
       "AdditiveInflation{2}(DiagNormal(\n",
       "dim: 2\n",
       "μ: [0.0, 0.0]\n",
       "Σ: [0.010000000000000002 0.0; 0.0 0.010000000000000002]\n",
       ")\n",
       ")"
      ]
     },
     "execution_count": 26,
     "metadata": {},
     "output_type": "execute_result"
    }
   ],
   "source": [
    "# ϵ = AdditiveInflation(MvNormal(zeros(1), 1.0*I))\n",
    "ϵ = AdditiveInflation(MvNormal(zeros(2), 0.1*Diagonal([0.1,0.1])))"
   ]
  },
  {
   "cell_type": "code",
   "execution_count": 27,
   "metadata": {},
   "outputs": [
    {
     "data": {
      "text/plain": [
       "true"
      ]
     },
     "execution_count": 27,
     "metadata": {},
     "output_type": "execute_result"
    }
   ],
   "source": [
    "N = 50\n",
    "# NZ = 1\n",
    "NZ = 2\n",
    "isinflated = true\n",
    "isfiltered = false\n",
    "isaugmented = true"
   ]
  },
  {
   "cell_type": "code",
   "execution_count": 28,
   "metadata": {},
   "outputs": [
    {
     "data": {
      "text/plain": [
       "0-element Array{Any,1}"
      ]
     },
     "execution_count": 28,
     "metadata": {},
     "output_type": "execute_result"
    }
   ],
   "source": [
    "x₀ = [0.5, 2.5, 0.0, 0.0, 0.5, 1.5, 300.0]\n",
    "ens = initialize(N, MvNormal(x₀, 0.1*Diagonal([0.1,0.1,10.0,10.0,0.1,0.1,100.0])))\n",
    "estimation_state = [deepcopy(ens.S)]\n",
    "\n",
    "true_state = [deepcopy(x₀)]\n",
    "covs = []"
   ]
  },
  {
   "cell_type": "code",
   "execution_count": 29,
   "metadata": {},
   "outputs": [
    {
     "data": {
      "text/plain": [
       "FilteringFunction()"
      ]
     },
     "execution_count": 29,
     "metadata": {},
     "output_type": "execute_result"
    }
   ],
   "source": [
    "g = FilteringFunction()"
   ]
  },
  {
   "cell_type": "code",
   "execution_count": 30,
   "metadata": {},
   "outputs": [
    {
     "data": {
      "text/plain": [
       "ENKF{50,2}(PropagationFunction(), MultiAdditiveInflation{7}(1.001, DiagNormal(\n",
       "dim: 7\n",
       "μ: [0.0, 0.0, 0.0, 0.0, 0.0, 0.0, 0.0]\n",
       "Σ: [0.001 0.0 … 0.0 0.0; 0.0 0.001 … 0.0 0.0; … ; 0.0 0.0 … 0.001 0.0; 0.0 0.0 … 0.0 1.0]\n",
       ")\n",
       "), FilteringFunction(), MeasurementFunction(), RealMeasurementFunction(), AdditiveInflation{2}(DiagNormal(\n",
       "dim: 2\n",
       "μ: [0.0, 0.0]\n",
       "Σ: [0.010000000000000002 0.0; 0.0 0.010000000000000002]\n",
       ")\n",
       "), true, false, true)"
      ]
     },
     "execution_count": 30,
     "metadata": {},
     "output_type": "execute_result"
    }
   ],
   "source": [
    "enkf = ENKF(N, NZ, fprop, A, g, m, z, ϵ, isinflated, isfiltered, isaugmented)"
   ]
  },
  {
   "cell_type": "code",
   "execution_count": 31,
   "metadata": {},
   "outputs": [],
   "source": [
    "Δt = 1e-5\n",
    "Tsub = 0.0:Δt:0.05-Δt\n",
    "\n",
    "for (n,t) in enumerate(Tsub)\n",
    "\n",
    "    global ens\n",
    "    \n",
    "    t, ens, cov = enkf(t, Δt, ens)\n",
    "    \n",
    "    push!(estimation_state, deepcopy(ens.S))\n",
    "    push!(covs, deepcopy(cov))\n",
    "    \n",
    "\n",
    "end"
   ]
  },
  {
   "cell_type": "code",
   "execution_count": 77,
   "metadata": {},
   "outputs": [
    {
     "name": "stdout",
     "output_type": "stream",
     "text": [
      "[1, 1]=1.0 1.0001\n",
      "errorHe=1.1178590674298703\n",
      "[1, 2]=1.0 1.00025\n",
      "errorHe=1.608374262624908\n",
      "[1, 3]=1.0 1.0005\n",
      "errorHe=0.8002405835105388\n",
      "[1, 4]=1.0 1.001\n",
      "errorHe=2.9091521746774207\n",
      "[1, 5]=1.0 1.0025\n",
      "errorHe=249.57305611003397\n",
      "[1, 6]=1.0 1.005\n",
      "errorHe=2.2792181888051134e7\n",
      "[1, 7]=1.0 1.01\n",
      "errorHe=7.183977184156854e17\n",
      "[1, 8]=1.0 1.025\n",
      "errorHe=1.7368111259598854e49\n",
      "[1, 9]=1.0 1.05\n",
      "errorHe=1.0755836532109537e100\n",
      "[2, 1]=2.5 1.0001\n",
      "errorHe=1.2923027085612415\n",
      "[2, 2]=2.5 1.00025\n",
      "errorHe=1.6559932153390409\n",
      "[2, 3]=2.5 1.0005\n",
      "errorHe=0.5550895258092228\n",
      "[2, 4]=2.5 1.001\n",
      "errorHe=1.9801718242461053\n",
      "[2, 5]=2.5 1.0025\n",
      "errorHe=317.61838117808895\n",
      "[2, 6]=2.5 1.005\n",
      "errorHe=5.463192792714874e7\n",
      "[2, 7]=2.5 1.01\n",
      "errorHe=4.264877307759183e17\n",
      "[2, 8]=2.5 1.025\n",
      "errorHe=2.649280181814995e47\n",
      "[2, 9]=2.5 1.05\n",
      "errorHe=6.203001591244449e99\n",
      "[3, 1]=5.0 1.0001\n",
      "errorHe=1.1502990667531654\n",
      "[3, 2]=5.0 1.00025\n",
      "errorHe=1.2095645081171358\n",
      "[3, 3]=5.0 1.0005\n",
      "errorHe=0.5655594485209955\n",
      "[3, 4]=5.0 1.001\n",
      "errorHe=4.423521983126927\n",
      "[3, 5]=5.0 1.0025\n",
      "errorHe=633.9020407782252\n",
      "[3, 6]=5.0 1.005\n",
      "errorHe=5.4310282852621704e7\n",
      "[3, 7]=5.0 1.01\n",
      "errorHe=6.766949645713659e17\n",
      "[3, 8]=5.0 1.025\n",
      "errorHe=8.99659229960241e47\n",
      "[3, 9]=5.0 1.05\n",
      "errorHe=4.046991636560252e98\n",
      "[4, 1]=10.0 1.0001\n",
      "errorHe=1.134511324651112\n",
      "[4, 2]=10.0 1.00025\n",
      "errorHe=0.6913014616888307\n",
      "[4, 3]=10.0 1.0005\n",
      "errorHe=0.8891718129867863\n",
      "[4, 4]=10.0 1.001\n",
      "errorHe=2.342641146041228\n",
      "[4, 5]=10.0 1.0025\n",
      "errorHe=3184.3560887487547\n",
      "[4, 6]=10.0 1.005\n",
      "errorHe=1.835681991763084e7\n",
      "[4, 7]=10.0 1.01\n",
      "errorHe=1.3649823083429051e17\n",
      "[4, 8]=10.0 1.025\n",
      "errorHe=6.623507810731648e48\n",
      "[4, 9]=10.0 1.05\n",
      "errorHe=2.2624379982350846e99\n"
     ]
    }
   ],
   "source": [
    "# s =  hcat(sol(T).u...)\n",
    "# ϵₗ=Vector(0.001:0.001:0.002)\n",
    "# βₗ=Vector(1.001:0.001:1.002)\n",
    "\n",
    "# ϵₗ=[1e-6,2.5e-6,5e-6,1e-5,2.5e-5,5e-5,1e-4,2.5e-4,5e-4,1e-3,2.5e-3,5e-3,1e-2,2.5e-2,5e-2,1e-1,2.5e-1,5e-1]\n",
    "ϵₗ=[1e0, 2.5e0, 5e0, 1e1]\n",
    "βₗ=[1e-4,2.5e-4,5e-4,1e-3,2.5e-3,5e-3,1e-2,2.5e-2,5e-2].+1\n",
    "\n",
    "ErrHe=zeros(length(ϵₗ),length(βₗ))\n",
    "\n",
    "for (i,ϵᵢ) in enumerate(ϵₗ)\n",
    "    for (j,βⱼ) in enumerate(βₗ)\n",
    "        ϵ = AdditiveInflation(MvNormal(zeros(2), ϵᵢ.*Diagonal([1.0,1.0])))\n",
    "        A = MultiAdditiveInflation(7, βⱼ, MvNormal(zeros(7), ϵᵢ.*Diagonal([1.0,1.0,100.0,100.0,1.0,1.0,1000.0])))\n",
    "        \n",
    "        \n",
    "        ens = initialize(N, MvNormal(x₀, ϵᵢ.*Diagonal([1.0,1.0,100.0,100.0,1.0,1.0,1000.0])))\n",
    "        estimation_state = [deepcopy(ens.S)]\n",
    "        \n",
    "        true_state = [deepcopy(x₀)]\n",
    "        covs = []\n",
    "        \n",
    "        enkf = ENKF(N, NZ, fprop, A, g, m, z, ϵ, isinflated, isfiltered, isaugmented)\n",
    "        \n",
    "         Δt = 1e-5\n",
    "        Tsub = 0.0:Δt:0.05-Δt\n",
    "        \n",
    "        for (n,t) in enumerate(Tsub)\n",
    "            \n",
    "            global ens\n",
    "            \n",
    "            t, ens, cov = enkf(t, Δt, ens)\n",
    "            \n",
    "            push!(estimation_state, deepcopy(ens.S))\n",
    "            push!(covs, deepcopy(cov))\n",
    "            \n",
    "         end\n",
    "        \n",
    "         ŝ =  hcat(mean.(estimation_state)...)\n",
    "        \n",
    "         ErrHe[i,j]=mean(abs.((3000.0 .- ŝ[7,1:end]) ./ 3000.0))\n",
    "        \n",
    "         println([i,j],'=',ϵᵢ,' ',βⱼ)\n",
    "         println(\"errorHe=\",ErrHe[i,j])\n",
    "        \n",
    "    end\n",
    "end"
   ]
  },
  {
   "cell_type": "code",
   "execution_count": 78,
   "metadata": {},
   "outputs": [],
   "source": [
    "open(\"ErrHe.txt\", \"w\") do io\n",
    "           writedlm(io, ErrHe)\n",
    "       end;"
   ]
  },
  {
   "cell_type": "code",
   "execution_count": 79,
   "metadata": {},
   "outputs": [],
   "source": [
    "open(\"epsilonbeta.txt\", \"w\") do io\n",
    "           writedlm(io, ϵₗ)\n",
    "           writedlm(io, βₗ)\n",
    "       end;"
   ]
  },
  {
   "cell_type": "code",
   "execution_count": 86,
   "metadata": {},
   "outputs": [
    {
     "ename": "ErrorException",
     "evalue": "at row 0, column 0 : ArgumentError(\"number of rows in dims must be > 0, got 0\")",
     "output_type": "error",
     "traceback": [
      "at row 0, column 0 : ArgumentError(\"number of rows in dims must be > 0, got 0\")",
      "",
      "Stacktrace:",
      " [1] error(::String) at .\\error.jl:33",
      " [2] dlm_fill(::DataType, ::Array{Array{Int64,1},1}, ::Tuple{Int64,Int64}, ::Bool, ::String, ::Bool, ::Char) at C:\\Users\\julia\\AppData\\Local\\Julia-1.3.1\\share\\julia\\stdlib\\v1.3\\DelimitedFiles\\src\\DelimitedFiles.jl:514",
      " [3] readdlm_string(::String, ::Char, ::Type, ::Char, ::Bool, ::Dict{Symbol,Union{Char, Integer, Tuple{Integer,Integer}}}) at C:\\Users\\julia\\AppData\\Local\\Julia-1.3.1\\share\\julia\\stdlib\\v1.3\\DelimitedFiles\\src\\DelimitedFiles.jl:470",
      " [4] #readdlm_auto#9(::Base.Iterators.Pairs{Union{},Union{},Tuple{},NamedTuple{(),Tuple{}}}, ::typeof(DelimitedFiles.readdlm_auto), ::String, ::Char, ::Type, ::Char, ::Bool) at C:\\Users\\julia\\AppData\\Local\\Julia-1.3.1\\share\\julia\\stdlib\\v1.3\\DelimitedFiles\\src\\DelimitedFiles.jl:246",
      " [5] readdlm_auto at C:\\Users\\julia\\AppData\\Local\\Julia-1.3.1\\share\\julia\\stdlib\\v1.3\\DelimitedFiles\\src\\DelimitedFiles.jl:233 [inlined]",
      " [6] #readdlm#6 at C:\\Users\\julia\\AppData\\Local\\Julia-1.3.1\\share\\julia\\stdlib\\v1.3\\DelimitedFiles\\src\\DelimitedFiles.jl:225 [inlined]",
      " [7] readdlm(::String, ::Char, ::Type, ::Char) at C:\\Users\\julia\\AppData\\Local\\Julia-1.3.1\\share\\julia\\stdlib\\v1.3\\DelimitedFiles\\src\\DelimitedFiles.jl:225",
      " [8] top-level scope at In[86]:1"
     ]
    }
   ],
   "source": [
    "readdlm(\"ErrHe.txt\", '\\t', Float64,'\\n')"
   ]
  },
  {
   "cell_type": "code",
   "execution_count": 76,
   "metadata": {},
   "outputs": [
    {
     "data": {
      "image/png": "[encoded data removed]"
     },
     "execution_count": 76,
     "metadata": {},
     "output_type": "execute_result"
    }
   ],
   "source": [
    "contour(βₗ.-1,ϵₗ,ErrHe, fill = true)\n",
    "yaxis!(\"ϵ\", :log10)\n",
    "xaxis!(\"β-1\", :log10)"
   ]
  }
 ],
 "metadata": {
  "kernelspec": {
   "display_name": "Julia 1.3.1",
   "language": "julia",
   "name": "julia-1.3"
  },
  "language_info": {
   "file_extension": ".jl",
   "mimetype": "application/julia",
   "name": "julia",
   "version": "1.3.1"
  }
 },
 "nbformat": 4,
 "nbformat_minor": 2
}
