{
 "cells": [
  {
   "cell_type": "markdown",
   "metadata": {},
   "source": [
    "## U shape PHP dynamics"
   ]
  },
  {
   "cell_type": "code",
   "execution_count": 1,
   "metadata": {
    "scrolled": true
   },
   "outputs": [
    {
     "data": {
      "text/plain": [
       "Plots.PyPlotBackend()"
      ]
     },
     "execution_count": 1,
     "metadata": {},
     "output_type": "execute_result"
    }
   ],
   "source": [
    "using Plots\n",
    "pyplot()"
   ]
  },
  {
   "cell_type": "code",
   "execution_count": 2,
   "metadata": {},
   "outputs": [],
   "source": [
    "using Revise\n",
    "using EnKF\n",
    "using Distributions\n",
    "using DocStringExtensions\n",
    "using LinearAlgebra\n",
    "using ProgressMeter\n",
    "using DifferentialEquations"
   ]
  },
  {
   "cell_type": "code",
   "execution_count": 3,
   "metadata": {},
   "outputs": [],
   "source": [
    "cd(dirname(pwd()))\n",
    "cd(\"src\") \n",
    "\n",
    "\n",
    "include(\"Systems.jl\")\n",
    "using ..Systems\n",
    "\n",
    "include(\"Tools.jl\")\n",
    "using ..Tools\n",
    "\n",
    "\n",
    "include(\"Thermomodel.jl\")\n",
    "using ..Thermomodel\n",
    "\n",
    "include(\"Postprocessing.jl\")\n",
    "using ..Postprocessing\n"
   ]
  },
  {
   "cell_type": "markdown",
   "metadata": {},
   "source": [
    "## Initialization"
   ]
  },
  {
   "cell_type": "code",
   "execution_count": 60,
   "metadata": {},
   "outputs": [],
   "source": [
    "    ω0 = [sqrt(1.2e004)];\n",
    "    ℘ = [1.2e005];\n",
    "\n",
    "\n",
    "    Θ = 0.15;\n",
    "    θe = 1 + Θ;\n",
    "    θc = 1 - Θ;\n",
    "    \n",
    "    He = 3000.0;\n",
    "    Hc = 3000.0;\n",
    "\n",
    "\n",
    "    γ = 1.3;#not 1.4!!!!! maybe 1.33?"
   ]
  },
  {
   "cell_type": "code",
   "execution_count": 61,
   "metadata": {},
   "outputs": [
    {
     "data": {
      "text/plain": [
       "1.5707963267948966"
      ]
     },
     "execution_count": 61,
     "metadata": {},
     "output_type": "execute_result"
    }
   ],
   "source": [
    "    L = 4.0  # total length of the pipe when streched to a 1D pipe\n",
    "    L2D = 2.0 # the actual length of the bended pipe in the real world\n",
    "    alpha = pi/2 # inclination angle "
   ]
  },
  {
   "cell_type": "code",
   "execution_count": 62,
   "metadata": {},
   "outputs": [
    {
     "data": {
      "text/plain": [
       "Tube(4.0, 2.0, 1.5707963267948966)"
      ]
     },
     "execution_count": 62,
     "metadata": {},
     "output_type": "execute_result"
    }
   ],
   "source": [
    "tube = Tube(L,L2D,alpha)"
   ]
  },
  {
   "cell_type": "code",
   "execution_count": 63,
   "metadata": {},
   "outputs": [
    {
     "data": {
      "text/plain": [
       "Evaporator(3000.0, 1.15, Tuple{Float64,Float64}[(0.0, 1.0), (3.0, 4.0)])"
      ]
     },
     "execution_count": 63,
     "metadata": {},
     "output_type": "execute_result"
    }
   ],
   "source": [
    "Xe = map(tuple, [0.0; 3.0], [1.0; 4.0])\n",
    "evap = Evaporator(He,θe,Xe)"
   ]
  },
  {
   "cell_type": "code",
   "execution_count": 64,
   "metadata": {},
   "outputs": [
    {
     "data": {
      "text/plain": [
       "Condenser(3000.0, 0.85, Tuple{Float64,Float64}[(1.0, 3.0)])"
      ]
     },
     "execution_count": 64,
     "metadata": {},
     "output_type": "execute_result"
    }
   ],
   "source": [
    "Xc = map(tuple, [1.0], [3.0])\n",
    "cond = Condenser(Hc,θc,Xc)"
   ]
  },
  {
   "cell_type": "code",
   "execution_count": 65,
   "metadata": {},
   "outputs": [
    {
     "data": {
      "text/plain": [
       "LiquidSlug(1.3, [109.54451150103323], [120000.0], Tuple{Float64,Float64}[(1.5, 3.5)], Tuple{Float64,Float64}[(0.0, 0.0)])"
      ]
     },
     "execution_count": 65,
     "metadata": {},
     "output_type": "execute_result"
    }
   ],
   "source": [
    "X0 = [(1.5,3.5)]\n",
    "dXdt0 = [(0.0,0.0)]\n",
    "liquids=LiquidSlug(γ,ω0,℘,X0,dXdt0)"
   ]
  },
  {
   "cell_type": "code",
   "execution_count": 66,
   "metadata": {},
   "outputs": [
    {
     "data": {
      "text/plain": [
       "VaporPlug(1.3, [1.0, 1.0])"
      ]
     },
     "execution_count": 66,
     "metadata": {},
     "output_type": "execute_result"
    }
   ],
   "source": [
    "P = [1.0,1.0]\n",
    "\n",
    "vapors=VaporPlug(γ,P)"
   ]
  },
  {
   "cell_type": "code",
   "execution_count": 67,
   "metadata": {},
   "outputs": [
    {
     "data": {
      "text/plain": [
       "PHPSystem(Tube(4.0, 2.0, 1.5707963267948966), Evaporator(3000.0, 1.15, Tuple{Float64,Float64}[(0.0, 1.0), (3.0, 4.0)]), Condenser(3000.0, 0.85, Tuple{Float64,Float64}[(1.0, 3.0)]), LiquidSlug(1.3, [109.54451150103323], [120000.0], Tuple{Float64,Float64}[(1.5, 3.5)], Tuple{Float64,Float64}[(0.0, 0.0)]), VaporPlug(1.3, [1.0, 1.0]))"
      ]
     },
     "execution_count": 67,
     "metadata": {},
     "output_type": "execute_result"
    }
   ],
   "source": [
    "sys0 = PHPSystem(tube,evap,cond,liquids,vapors)"
   ]
  },
  {
   "cell_type": "markdown",
   "metadata": {},
   "source": [
    "## Get numerical solution"
   ]
  },
  {
   "cell_type": "code",
   "execution_count": 68,
   "metadata": {
    "scrolled": true
   },
   "outputs": [
    {
     "data": {
      "text/plain": [
       "6-element Array{Float64,1}:\n",
       " 1.5\n",
       " 3.5\n",
       " 0.0\n",
       " 0.0\n",
       " 1.5\n",
       " 0.5"
      ]
     },
     "execution_count": 68,
     "metadata": {},
     "output_type": "execute_result"
    }
   ],
   "source": [
    "Lvaporplug = XptoLvaporplug(X0,L)\n",
    "M = P.^(1/γ).* Lvaporplug\n",
    "\n",
    "u=XMtovec(sys0.liquidslug.Xp,sys0.liquidslug.dXdt,M)"
   ]
  },
  {
   "cell_type": "code",
   "execution_count": 69,
   "metadata": {},
   "outputs": [
    {
     "data": {
      "text/plain": [
       "t: 0.0\n",
       "u: 6-element Array{Float64,1}:\n",
       " 1.5\n",
       " 3.5\n",
       " 0.0\n",
       " 0.0\n",
       " 1.5\n",
       " 0.5"
      ]
     },
     "execution_count": 69,
     "metadata": {},
     "output_type": "execute_result"
    }
   ],
   "source": [
    "tstep=1.0e-5\n",
    "\n",
    "p = sys0\n",
    "tspan = (0.0, 0.05);\n",
    "T = tspan[1]:tstep:tspan[end]\n",
    "\n",
    "prob = ODEProblem(zhang2002model!, u, tspan, p)\n",
    "sol = solve(prob, RK4(), adaptive=false, dt=tstep);\n",
    "integrator = init(prob, RK4(), adaptive =false, dt = tstep, save_everystep=false)"
   ]
  },
  {
   "cell_type": "markdown",
   "metadata": {},
   "source": [
    "## EnKF PropagationFunction"
   ]
  },
  {
   "cell_type": "code",
   "execution_count": 70,
   "metadata": {},
   "outputs": [
    {
     "data": {
      "text/plain": [
       "dMdtzhang2002modelEnKF (generic function with 1 method)"
      ]
     },
     "execution_count": 70,
     "metadata": {},
     "output_type": "execute_result"
    }
   ],
   "source": [
    "function zhang2002modelEnKF!(du::Array{Float64,1},uEnKF::Array{Float64,1},p::PHPSystem,t::Float64)\n",
    "\n",
    "    sys = p\n",
    "\n",
    "    # added He as a state vector entry\n",
    "    u = uEnKF[1:end-1]\n",
    "    sys.evaporator.He = uEnKF[end]\n",
    "\n",
    "    numofliquidslug =  Integer( (length(u) - 1)/5 )\n",
    "    \n",
    "    (Xp,dXdt0,M)=vectoXM(u)\n",
    "\n",
    "    γ = sys.liquidslug.γ\n",
    "    ω0 = sys.liquidslug.ω0\n",
    "    ℘ = sys.liquidslug.℘\n",
    "    Lvaporplug = XptoLvaporplug(Xp,sys.tube.L)\n",
    "#     Lliquidslug = XptoLliquidslug(Xp)\n",
    "    height = getheight(Xp,sys.tube.L2D,sys.tube.alpha)\n",
    "    Xpvapor = getXpvapor(Xp,sys.tube.L)\n",
    "\n",
    "\n",
    "    P = real.((M./Lvaporplug .+ 0im).^(γ))\n",
    "\n",
    "    θ = real.((P .+ 0im).^((γ-1)/γ))\n",
    "\n",
    "\n",
    "    for i = 1:numofliquidslug\n",
    "        du[2*i-1] = u[2*numofliquidslug+2*i-1]\n",
    "        du[2*i] = du[2*i-1]\n",
    "\n",
    "        du[2*numofliquidslug + 2*i-1] = -32*u[2*numofliquidslug + 2*i-1] - (ω0[i]^2)*(0.5*(height[i][end]-height[i][1])) + ℘[i]*(P[i]-P[i+1])\n",
    "        du[2*numofliquidslug + 2*i] = du[2*numofliquidslug + 2*i-1]\n",
    "\n",
    "    end\n",
    "\n",
    "\n",
    "        du[4*numofliquidslug+1:5*numofliquidslug+1] .= dMdtzhang2002modelEnKF(Xpvapor,θ,sys)\n",
    "    \n",
    "    du[end]=0.00001\n",
    "\n",
    "    return du\n",
    "\n",
    "end\n",
    "\n",
    "\n",
    "function dMdtzhang2002modelEnKF(Xpvapor::Array{Tuple{Float64,Float64},1},θ::Array{Float64,1},sys::PHPSystem)\n",
    "\n",
    "    dMdt=zeros(length(Xpvapor))\n",
    "\n",
    "\n",
    "    Xe = sys.evaporator.Xe\n",
    "    He = sys.evaporator.He\n",
    "    θe = sys.evaporator.θe\n",
    "\n",
    "    Xc = sys.condenser.Xc\n",
    "    Hc = sys.condenser.Hc\n",
    "    θc = sys.condenser.θc\n",
    "\n",
    "    Levapoverlap=XpvaportoLoverlap(Xpvapor,Xe)\n",
    "    Lcondoverlap=XpvaportoLoverlap(Xpvapor,Xc)\n",
    "\n",
    "\n",
    "    # May not be right for multi liquid flow\n",
    "    for i = 1:length(Xpvapor)\n",
    "        if Lcondoverlap[i] < 1e-8\n",
    "            dMdt[i] = He * Levapoverlap[i] * (θe-θ[i])\n",
    "        else\n",
    "            dMdt[i] = -Hc * Lcondoverlap[i] * (θ[i]-θc)\n",
    "        end\n",
    "    end\n",
    "\n",
    "    return dMdt\n",
    "\n",
    "end"
   ]
  },
  {
   "cell_type": "markdown",
   "metadata": {},
   "source": [
    "## EnKF"
   ]
  },
  {
   "cell_type": "code",
   "execution_count": 218,
   "metadata": {},
   "outputs": [
    {
     "data": {
      "text/plain": [
       "300.0"
      ]
     },
     "execution_count": 218,
     "metadata": {},
     "output_type": "execute_result"
    }
   ],
   "source": [
    "newHe = 300.0"
   ]
  },
  {
   "cell_type": "code",
   "execution_count": 219,
   "metadata": {},
   "outputs": [
    {
     "data": {
      "text/plain": [
       "7-element Array{Float64,1}:\n",
       "   1.5\n",
       "   3.5\n",
       "   0.0\n",
       "   0.0\n",
       "   1.5\n",
       "   0.5\n",
       " 300.0"
      ]
     },
     "execution_count": 219,
     "metadata": {},
     "output_type": "execute_result"
    }
   ],
   "source": [
    "uEnKF = push!(deepcopy(u),newHe)"
   ]
  },
  {
   "cell_type": "code",
   "execution_count": 220,
   "metadata": {},
   "outputs": [
    {
     "data": {
      "text/plain": [
       "t: 0.0\n",
       "u: 7-element Array{Float64,1}:\n",
       "   1.5\n",
       "   3.5\n",
       "   0.0\n",
       "   0.0\n",
       "   1.5\n",
       "   0.5\n",
       " 300.0"
      ]
     },
     "execution_count": 220,
     "metadata": {},
     "output_type": "execute_result"
    }
   ],
   "source": [
    "tstep=1.0e-5\n",
    "\n",
    "p = sys0\n",
    "tspan = (0.0, 0.05);\n",
    "T = tspan[1]:tstep:tspan[end]\n",
    "\n",
    "probEnKF = ODEProblem(zhang2002modelEnKF!, uEnKF, tspan, p)\n",
    "solEnKF = solve(probEnKF, RK4(), adaptive=false, dt=tstep);\n",
    "integrator = init(probEnKF, RK4(), adaptive =false, dt = tstep, save_everystep=false)"
   ]
  },
  {
   "cell_type": "code",
   "execution_count": 221,
   "metadata": {},
   "outputs": [],
   "source": [
    "function (::PropagationFunction)(t::Float64, ENS::EnsembleState{N, TS}) where {N, TS}\n",
    "    for (i,s) in enumerate(ENS.S)\n",
    "        \n",
    "        set_t!(integrator, deepcopy(t))\n",
    "        set_u!(integrator, deepcopy(s))\n",
    "#         for j=1:10\n",
    "        step!(integrator)\n",
    "#         end\n",
    "        ENS.S[i] = deepcopy(integrator.u)\n",
    "\n",
    "    end\n",
    "    \n",
    "    return ENS\n",
    "end"
   ]
  },
  {
   "cell_type": "code",
   "execution_count": 222,
   "metadata": {
    "scrolled": true
   },
   "outputs": [
    {
     "data": {
      "text/plain": [
       "PropagationFunction()"
      ]
     },
     "execution_count": 222,
     "metadata": {},
     "output_type": "execute_result"
    }
   ],
   "source": [
    "fprop = PropagationFunction()"
   ]
  },
  {
   "cell_type": "code",
   "execution_count": 223,
   "metadata": {},
   "outputs": [],
   "source": [
    "function (::MeasurementFunction)(t::Float64, s::TS) where TS\n",
    "    result=soltoResult(s[1:end-1],sys0);\n",
    "#     return [s[3]]\n",
    "    return [result.θ[1],result.θ[2]]\n",
    "end"
   ]
  },
  {
   "cell_type": "code",
   "execution_count": 224,
   "metadata": {},
   "outputs": [],
   "source": [
    "function (::MeasurementFunction)(t::Float64) \n",
    "#     return reshape([0.0, 0.0, 1.0, 0.0, 0.0, 0.0],(1,6))\n",
    "    return reshape([1.0, 0.0, 0.0, 1.0, 0.0, 0.0, 0.0, 0.0, 0.0, 0.0, 0.0, 0.0,0.0,0.0],(2,7))\n",
    "end"
   ]
  },
  {
   "cell_type": "code",
   "execution_count": 225,
   "metadata": {},
   "outputs": [
    {
     "data": {
      "text/plain": [
       "MeasurementFunction()"
      ]
     },
     "execution_count": 225,
     "metadata": {},
     "output_type": "execute_result"
    }
   ],
   "source": [
    "m = MeasurementFunction()"
   ]
  },
  {
   "cell_type": "code",
   "execution_count": 226,
   "metadata": {},
   "outputs": [],
   "source": [
    "function (::RealMeasurementFunction)(t::Float64, ENS::EnsembleState{N, TZ}) where {N, TZ}\n",
    "    let s = sol(t)\n",
    "#     fill!(ENS, [deepcopy(s[3])])\n",
    "    result=soltoResult(s,sys0);\n",
    "    fill!(ENS, [deepcopy(result.θ[1]),deepcopy(result.θ[2])])\n",
    "    end\n",
    "    return ENS\n",
    "end"
   ]
  },
  {
   "cell_type": "code",
   "execution_count": 227,
   "metadata": {},
   "outputs": [
    {
     "data": {
      "text/plain": [
       "RealMeasurementFunction()"
      ]
     },
     "execution_count": 227,
     "metadata": {},
     "output_type": "execute_result"
    }
   ],
   "source": [
    "z = RealMeasurementFunction()"
   ]
  },
  {
   "cell_type": "code",
   "execution_count": 228,
   "metadata": {},
   "outputs": [
    {
     "data": {
      "text/plain": [
       "MultiAdditiveInflation{7}(1.001, DiagNormal(\n",
       "dim: 7\n",
       "μ: [0.0, 0.0, 0.0, 0.0, 0.0, 0.0, 0.0]\n",
       "Σ: [0.001 0.0 … 0.0 0.0; 0.0 0.001 … 0.0 0.0; … ; 0.0 0.0 … 0.001 0.0; 0.0 0.0 … 0.0 1.0]\n",
       ")\n",
       ")"
      ]
     },
     "execution_count": 228,
     "metadata": {},
     "output_type": "execute_result"
    }
   ],
   "source": [
    "# A = MultiAdditiveInflation(2, 1.05, MvNormal(zeros(1), 2.0*I))\n",
    "A = MultiAdditiveInflation(7, 1.001, MvNormal(zeros(7), 0.01*Diagonal([0.1,0.1,10.0,10.0,0.1,0.1,100.0])))\n",
    "# A = IdentityInflation()"
   ]
  },
  {
   "cell_type": "code",
   "execution_count": 229,
   "metadata": {},
   "outputs": [
    {
     "data": {
      "text/plain": [
       "AdditiveInflation{2}(DiagNormal(\n",
       "dim: 2\n",
       "μ: [0.0, 0.0]\n",
       "Σ: [0.1 0.0; 0.0 0.1]\n",
       ")\n",
       ")"
      ]
     },
     "execution_count": 229,
     "metadata": {},
     "output_type": "execute_result"
    }
   ],
   "source": [
    "# this is measurement noise!!!!!!!!\n",
    "# ϵ = AdditiveInflation(MvNormal(zeros(1), 1.0*I))\n",
    "ϵ = AdditiveInflation(MvNormal(zeros(2), 1*Diagonal([0.1,0.1])))"
   ]
  },
  {
   "cell_type": "code",
   "execution_count": 230,
   "metadata": {},
   "outputs": [
    {
     "data": {
      "text/plain": [
       "true"
      ]
     },
     "execution_count": 230,
     "metadata": {},
     "output_type": "execute_result"
    }
   ],
   "source": [
    "N = 50\n",
    "# NZ = 1\n",
    "NZ = 2\n",
    "isinflated = true\n",
    "isfiltered = false\n",
    "isaugmented = true"
   ]
  },
  {
   "cell_type": "code",
   "execution_count": 231,
   "metadata": {},
   "outputs": [
    {
     "data": {
      "text/plain": [
       "0-element Array{Any,1}"
      ]
     },
     "execution_count": 231,
     "metadata": {},
     "output_type": "execute_result"
    }
   ],
   "source": [
    "x₀ = [1.0, 3.0, 0.0, 0.0, 0.5, 1.5, newHe]\n",
    "ens = initialize(N, MvNormal(x₀, 1*Diagonal([0.1,0.1,10.0,10.0,0.1,0.1,100.0])))\n",
    "estimation_state = [deepcopy(ens.S)]\n",
    "\n",
    "true_state = [deepcopy(x₀)]\n",
    "covs = []"
   ]
  },
  {
   "cell_type": "code",
   "execution_count": 232,
   "metadata": {},
   "outputs": [
    {
     "data": {
      "text/plain": [
       "FilteringFunction()"
      ]
     },
     "execution_count": 232,
     "metadata": {},
     "output_type": "execute_result"
    }
   ],
   "source": [
    "g = FilteringFunction()"
   ]
  },
  {
   "cell_type": "code",
   "execution_count": 233,
   "metadata": {},
   "outputs": [
    {
     "data": {
      "text/plain": [
       "ENKF{50,2}(PropagationFunction(), MultiAdditiveInflation{7}(1.001, DiagNormal(\n",
       "dim: 7\n",
       "μ: [0.0, 0.0, 0.0, 0.0, 0.0, 0.0, 0.0]\n",
       "Σ: [0.001 0.0 … 0.0 0.0; 0.0 0.001 … 0.0 0.0; … ; 0.0 0.0 … 0.001 0.0; 0.0 0.0 … 0.0 1.0]\n",
       ")\n",
       "), FilteringFunction(), MeasurementFunction(), RealMeasurementFunction(), AdditiveInflation{2}(DiagNormal(\n",
       "dim: 2\n",
       "μ: [0.0, 0.0]\n",
       "Σ: [0.1 0.0; 0.0 0.1]\n",
       ")\n",
       "), true, false, true)"
      ]
     },
     "execution_count": 233,
     "metadata": {},
     "output_type": "execute_result"
    }
   ],
   "source": [
    "enkf = ENKF(N, NZ, fprop, A, g, m, z, ϵ, isinflated, isfiltered, isaugmented)"
   ]
  },
  {
   "cell_type": "code",
   "execution_count": 234,
   "metadata": {},
   "outputs": [],
   "source": [
    "Δt = 1e-5\n",
    "Tsub = 0.0:Δt:0.05-Δt\n",
    "\n",
    "for (n,t) in enumerate(Tsub)\n",
    "\n",
    "    global ens\n",
    "    \n",
    "    t, ens, cov = enkf(t, Δt, ens)\n",
    "    \n",
    "    push!(estimation_state, deepcopy(ens.S))\n",
    "    push!(covs, deepcopy(cov))\n",
    "    \n",
    "\n",
    "end"
   ]
  },
  {
   "cell_type": "markdown",
   "metadata": {},
   "source": [
    "## Show the results"
   ]
  },
  {
   "cell_type": "code",
   "execution_count": 244,
   "metadata": {},
   "outputs": [],
   "source": [
    "# s =  hcat(sol(T).u...)\n",
    "ŝ =  hcat(mean.(estimation_state)...)\n",
    "\n",
    "results=soltoResult(sol,sys0);\n",
    "resultŝ=soltoResult(ŝ[1:end-1,:],sys0);\n",
    "# resultŝ=soltoResult(solEnKF[1:end-1,:],sys0);\n",
    "\n"
   ]
  },
  {
   "cell_type": "code",
   "execution_count": 241,
   "metadata": {
    "scrolled": true
   },
   "outputs": [
    {
     "data": {
      "image/png": "[encoded data removed]"
     },
     "execution_count": 241,
     "metadata": {},
     "output_type": "execute_result"
    }
   ],
   "source": [
    "plt1 = plot(layout = (2, 1), legend = :bottomright)\n",
    "plot!(plt1[1], T, results.Xp[1][1:end-1], linewidth = 3, label = \"truth\")\n",
    "plot!(plt1[1], Tsub, resultŝ.Xp[1][1:end-1], linewidth = 3, markersize = 2, label = \"EnKF mean\", xlabel = \"t\", ylabel = \"x\", linestyle =:dash,title=\"Xp1 location\")\n",
    "\n",
    "plot!(plt1[2], T, results.M[1][1:end-1], linewidth = 3, label = \"truth\")\n",
    "plot!(plt1[2], Tsub, resultŝ.M[1][1:end-1], linewidth = 3, markersize = 2, label = \"EnKF mean\", xlabel = \"t\", ylabel = \"y\", linestyle =:dash,title=\"M1\")"
   ]
  },
  {
   "cell_type": "code",
   "execution_count": 242,
   "metadata": {
    "scrolled": true
   },
   "outputs": [
    {
     "data": {
      "image/png": "[encoded data removed]"
     },
     "execution_count": 242,
     "metadata": {},
     "output_type": "execute_result"
    }
   ],
   "source": [
    "plt2 = plot(layout = (2, 1), legend = :bottomright)\n",
    "\n",
    "plot!(plt2[1], T, results.θ[1][1:end-1], linewidth = 3, label = \"truth\")\n",
    "plot!(plt2[1], Tsub, resultŝ.θ[1][1:end-1], linewidth = 3, markersize = 2, label = \"EnKF mean\", xlabel = \"t\", ylabel = \"x\", linestyle =:dash,title=\"Temperature 1\")\n",
    "\n",
    "# plot!(plt2[2], T, s[5,1:end], linewidth = 3, label = \"truth\")\n",
    "plot!(plt2[2], Tsub, ŝ[7,1:end-1], linewidth = 3, markersize = 2, label = \"EnKF mean\", xlabel = \"t\", ylabel = \"y\", linestyle =:dash,title=\"He\")"
   ]
  },
  {
   "cell_type": "code",
   "execution_count": 238,
   "metadata": {},
   "outputs": [
    {
     "data": {
      "text/plain": [
       "50-element Array{Array{Float64,1},1}:\n",
       " [1.3268828674994977, 3.5464590601988193, 109.36959469511848, 82.90225631760758, 0.8055908542355313, 0.8918887095772079, 293.6538971656108]    \n",
       " [1.5097505804362297, 3.3287757106405453, -244.99424340674508, -256.87112035623335, 1.0837672099197369, 1.7720291280682883, 275.1416435512789] \n",
       " [1.3475354068377356, 3.5472008090931513, -147.97744764591346, -147.6823503471352, 0.6395866082633703, 1.075647799029486, 267.1297119707329]   \n",
       " [1.5167113507077274, 3.555264451454609, 285.46092149737, 267.71236397516515, 0.9562543869989184, 0.6118706638128486, 274.43805150306054]      \n",
       " [1.569277721060011, 3.5401236406718595, 58.521340753213515, 67.06757050206153, 0.7785200733709888, 1.1703067396545288, 286.4142797340128]     \n",
       " [1.4446799453574055, 3.335105725011543, 175.8044173662527, 163.10118298161757, 0.9473128378778202, 0.7295383585257635, 308.79814287335444]    \n",
       " [1.5208102637001781, 3.3451209363818375, 66.48349261963867, 62.903332025223904, 0.788752217683316, 0.8090917517186655, 305.285289544923]      \n",
       " [1.2860794137111247, 3.3990970768710347, -243.68713285428626, -260.1086218796592, 0.5463405331150946, 1.1269303031932376, 310.3209141942728]  \n",
       " [1.4889671628972279, 3.499838769193633, 282.28875631788117, 274.67694039439175, 1.1167645652916105, 0.8208485931219536, 306.18458298740063]   \n",
       " [1.410785418236427, 3.4079142406344016, -37.198781503186744, -49.99881824599466, 0.7180347220455671, 0.7259758988210258, 286.4823787951165]   \n",
       " [1.3342113662910284, 3.5577009710645062, -21.48811248849725, -25.780399663842424, 0.8010483296274212, 1.2188275040755654, 335.23825107813883] \n",
       " [1.5757139556408613, 3.5020572755151975, 73.66199489805756, 70.58409827796362, 0.8445285636420953, 0.3765310523841488, 297.2945441709503]     \n",
       " [1.4456701371677516, 3.441301304844366, -233.35981306965553, -237.35699786594395, 0.4807888172585307, 1.6392905079548925, 279.7085730861842]  \n",
       " ⋮                                                                                                                                             \n",
       " [1.5718269955814401, 3.3667927370081814, 60.209061584836505, 62.29967053737587, 0.8658442152807293, 1.089141235164072, 279.6470643733402]     \n",
       " [1.394959312149983, 3.4874525124075055, -160.31782965523257, -172.8029162434546, 1.0673645650294326, 1.6264357239534073, 313.52135702092346]  \n",
       " [1.3757740331869144, 3.6276947321192408, -189.36474730037568, -186.9863381547543, 0.6382014475823086, 1.4171337067159007, 272.1694966961473]  \n",
       " [1.4983608289895947, 3.369275358413584, 48.18728688126593, 23.718227585149425, 1.0747372337348116, 1.2549348867109622, 292.97110019208816]    \n",
       " [1.5107206162158837, 3.6552355145437527, 99.93493713772152, 74.667419987162, 0.8059796186436737, 0.6642030378952124, 281.48693528897303]      \n",
       " [1.5482117740303256, 3.6015124376497014, 178.8571113835104, 162.37284238596294, 1.44213296589185, 0.8449303626038377, 290.51510375692675]     \n",
       " [1.3814339470519068, 3.3342529316382303, -143.27571576615165, -149.39003498937737, 0.7056011900019807, 0.7664208549613064, 307.9631230234684] \n",
       " [1.6382688135655628, 3.451103074312129, -10.173807527721099, -14.707767187888521, 0.9950378010046312, 0.4581936348687349, 315.4419931050827]  \n",
       " [1.4587626799938, 3.392095901155537, 152.13444647910643, 154.23508960778935, 1.226402713621132, 0.5691236708333075, 295.07735828816504]       \n",
       " [1.5457581584591973, 3.374260310340691, -320.00964464140645, -308.30582500342297, 0.41160463392920815, 1.0792598027925442, 304.5369851615163] \n",
       " [1.4478062428071483, 3.3693493178757956, 481.49289107274006, 473.28395862782054, 1.4529084971519006, -0.015048353373373624, 324.0962830275202]\n",
       " [1.4870230529115094, 3.4544596160824703, 170.5270841435957, 171.09832339118142, 0.809092429412844, 0.402660297271708, 284.1557899139134]      "
      ]
     },
     "execution_count": 238,
     "metadata": {},
     "output_type": "execute_result"
    }
   ],
   "source": [
    "ens.S"
   ]
  }
 ],
 "metadata": {
  "kernelspec": {
   "display_name": "Julia 1.3.1",
   "language": "julia",
   "name": "julia-1.3"
  },
  "language_info": {
   "file_extension": ".jl",
   "mimetype": "application/julia",
   "name": "julia",
   "version": "1.3.1"
  }
 },
 "nbformat": 4,
 "nbformat_minor": 2
}
