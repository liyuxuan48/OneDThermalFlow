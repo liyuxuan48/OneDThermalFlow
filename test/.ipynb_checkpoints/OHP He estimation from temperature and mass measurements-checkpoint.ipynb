{
 "cells": [
  {
   "cell_type": "markdown",
   "metadata": {},
   "source": [
    "## U shape PHP dynamics"
   ]
  },
  {
   "cell_type": "code",
   "execution_count": 1,
   "metadata": {
    "scrolled": true
   },
   "outputs": [
    {
     "data": {
      "text/plain": [
       "Plots.PyPlotBackend()"
      ]
     },
     "execution_count": 1,
     "metadata": {},
     "output_type": "execute_result"
    }
   ],
   "source": [
    "using Plots\n",
    "pyplot()"
   ]
  },
  {
   "cell_type": "code",
   "execution_count": 2,
   "metadata": {},
   "outputs": [],
   "source": [
    "using Revise\n",
    "using EnKF\n",
    "using Distributions\n",
    "using DocStringExtensions\n",
    "using LinearAlgebra\n",
    "using ProgressMeter\n",
    "using DifferentialEquations"
   ]
  },
  {
   "cell_type": "code",
   "execution_count": 3,
   "metadata": {},
   "outputs": [],
   "source": [
    "cd(dirname(pwd()))\n",
    "cd(\"src\") \n",
    "\n",
    "\n",
    "include(\"Systems.jl\")\n",
    "using ..Systems\n",
    "\n",
    "include(\"Tools.jl\")\n",
    "using ..Tools\n",
    "\n",
    "\n",
    "include(\"Thermomodel.jl\")\n",
    "using ..Thermomodel\n",
    "\n",
    "include(\"Postprocessing.jl\")\n",
    "using ..Postprocessing\n"
   ]
  },
  {
   "cell_type": "markdown",
   "metadata": {},
   "source": [
    "## Initialization"
   ]
  },
  {
   "cell_type": "code",
   "execution_count": 4,
   "metadata": {},
   "outputs": [],
   "source": [
    "    ω0 = [sqrt(1.2e004)];\n",
    "    ℘ = [1.2e005];\n",
    "\n",
    "\n",
    "    Θ = 0.15;\n",
    "    θe = 1 + Θ;\n",
    "    θc = 1 - Θ;\n",
    "    \n",
    "    He = 3000.0;\n",
    "    Hc = 3000.0;\n",
    "\n",
    "\n",
    "    γ = 1.3;#not 1.4!!!!! maybe 1.33?"
   ]
  },
  {
   "cell_type": "code",
   "execution_count": 5,
   "metadata": {},
   "outputs": [
    {
     "data": {
      "text/plain": [
       "1.5707963267948966"
      ]
     },
     "execution_count": 5,
     "metadata": {},
     "output_type": "execute_result"
    }
   ],
   "source": [
    "    L = 4.0  # total length of the pipe when streched to a 1D pipe\n",
    "    L2D = 2.0 # the actual length of the bended pipe in the real world\n",
    "    alpha = pi/2 # inclination angle "
   ]
  },
  {
   "cell_type": "code",
   "execution_count": 6,
   "metadata": {},
   "outputs": [
    {
     "data": {
      "text/plain": [
       "Tube(4.0, 2.0, 1.5707963267948966)"
      ]
     },
     "execution_count": 6,
     "metadata": {},
     "output_type": "execute_result"
    }
   ],
   "source": [
    "tube = Tube(L,L2D,alpha)"
   ]
  },
  {
   "cell_type": "code",
   "execution_count": 7,
   "metadata": {},
   "outputs": [
    {
     "data": {
      "text/plain": [
       "Evaporator(3000.0, 1.15, Tuple{Float64,Float64}[(0.0, 1.0), (3.0, 4.0)])"
      ]
     },
     "execution_count": 7,
     "metadata": {},
     "output_type": "execute_result"
    }
   ],
   "source": [
    "Xe = map(tuple, [0.0; 3.0], [1.0; 4.0])\n",
    "evap = Evaporator(He,θe,Xe)"
   ]
  },
  {
   "cell_type": "code",
   "execution_count": 8,
   "metadata": {},
   "outputs": [
    {
     "data": {
      "text/plain": [
       "Condenser(3000.0, 0.85, Tuple{Float64,Float64}[(1.0, 3.0)])"
      ]
     },
     "execution_count": 8,
     "metadata": {},
     "output_type": "execute_result"
    }
   ],
   "source": [
    "Xc = map(tuple, [1.0], [3.0])\n",
    "cond = Condenser(Hc,θc,Xc)"
   ]
  },
  {
   "cell_type": "code",
   "execution_count": 9,
   "metadata": {},
   "outputs": [
    {
     "data": {
      "text/plain": [
       "LiquidSlug(1.3, [109.54451150103323], [120000.0], Tuple{Float64,Float64}[(1.5, 3.5)], Tuple{Float64,Float64}[(0.0, 0.0)])"
      ]
     },
     "execution_count": 9,
     "metadata": {},
     "output_type": "execute_result"
    }
   ],
   "source": [
    "X0 = [(1.5,3.5)]\n",
    "dXdt0 = [(0.0,0.0)]\n",
    "liquids=LiquidSlug(γ,ω0,℘,X0,dXdt0)"
   ]
  },
  {
   "cell_type": "code",
   "execution_count": 10,
   "metadata": {},
   "outputs": [
    {
     "data": {
      "text/plain": [
       "VaporPlug(1.3, [1.0, 1.0])"
      ]
     },
     "execution_count": 10,
     "metadata": {},
     "output_type": "execute_result"
    }
   ],
   "source": [
    "P = [1.0,1.0]\n",
    "\n",
    "vapors=VaporPlug(γ,P)"
   ]
  },
  {
   "cell_type": "code",
   "execution_count": 11,
   "metadata": {},
   "outputs": [
    {
     "data": {
      "text/plain": [
       "PHPSystem(Tube(4.0, 2.0, 1.5707963267948966), Evaporator(3000.0, 1.15, Tuple{Float64,Float64}[(0.0, 1.0), (3.0, 4.0)]), Condenser(3000.0, 0.85, Tuple{Float64,Float64}[(1.0, 3.0)]), LiquidSlug(1.3, [109.54451150103323], [120000.0], Tuple{Float64,Float64}[(1.5, 3.5)], Tuple{Float64,Float64}[(0.0, 0.0)]), VaporPlug(1.3, [1.0, 1.0]))"
      ]
     },
     "execution_count": 11,
     "metadata": {},
     "output_type": "execute_result"
    }
   ],
   "source": [
    "sys0 = PHPSystem(tube,evap,cond,liquids,vapors)"
   ]
  },
  {
   "cell_type": "markdown",
   "metadata": {},
   "source": [
    "## Get numerical solution"
   ]
  },
  {
   "cell_type": "code",
   "execution_count": 12,
   "metadata": {
    "scrolled": true
   },
   "outputs": [
    {
     "data": {
      "text/plain": [
       "6-element Array{Float64,1}:\n",
       " 1.5\n",
       " 3.5\n",
       " 0.0\n",
       " 0.0\n",
       " 1.5\n",
       " 0.5"
      ]
     },
     "execution_count": 12,
     "metadata": {},
     "output_type": "execute_result"
    }
   ],
   "source": [
    "Lvaporplug = XptoLvaporplug(X0,L)\n",
    "M = P.^(1/γ).* Lvaporplug\n",
    "\n",
    "u=XMtovec(sys0.liquidslug.Xp,sys0.liquidslug.dXdt,M)"
   ]
  },
  {
   "cell_type": "code",
   "execution_count": 13,
   "metadata": {},
   "outputs": [
    {
     "data": {
      "text/plain": [
       "t: 0.0\n",
       "u: 6-element Array{Float64,1}:\n",
       " 1.5\n",
       " 3.5\n",
       " 0.0\n",
       " 0.0\n",
       " 1.5\n",
       " 0.5"
      ]
     },
     "execution_count": 13,
     "metadata": {},
     "output_type": "execute_result"
    }
   ],
   "source": [
    "tstep=1.0e-5\n",
    "\n",
    "p = sys0\n",
    "tspan = (0.0, 0.1);\n",
    "T = tspan[1]:tstep:tspan[end]\n",
    "\n",
    "prob = ODEProblem(zhang2002model!, u, tspan, p)\n",
    "sol = solve(prob, RK4(), adaptive=false, dt=tstep);\n",
    "integrator = init(prob, RK4(), adaptive =false, dt = tstep, save_everystep=false)"
   ]
  },
  {
   "cell_type": "markdown",
   "metadata": {},
   "source": [
    "## EnKF PropagationFunction"
   ]
  },
  {
   "cell_type": "code",
   "execution_count": 14,
   "metadata": {},
   "outputs": [
    {
     "data": {
      "text/plain": [
       "dMdtzhang2002modelEnKF (generic function with 1 method)"
      ]
     },
     "execution_count": 14,
     "metadata": {},
     "output_type": "execute_result"
    }
   ],
   "source": [
    "function zhang2002modelEnKF!(du::Array{Float64,1},uEnKF::Array{Float64,1},p::PHPSystem,t::Float64)\n",
    "\n",
    "    sys = p\n",
    "\n",
    "    # added He as a state vector entry\n",
    "    u = uEnKF[1:end-1]\n",
    "    sys.evaporator.He = uEnKF[end]\n",
    "\n",
    "    numofliquidslug =  Integer( (length(u) - 1)/5 )\n",
    "    \n",
    "    (Xp,dXdt0,M)=vectoXM(u)\n",
    "\n",
    "    γ = sys.liquidslug.γ\n",
    "    ω0 = sys.liquidslug.ω0\n",
    "    ℘ = sys.liquidslug.℘\n",
    "    Lvaporplug = XptoLvaporplug(Xp,sys.tube.L)\n",
    "#     Lliquidslug = XptoLliquidslug(Xp)\n",
    "    height = getheight(Xp,sys.tube.L2D,sys.tube.alpha)\n",
    "    Xpvapor = getXpvapor(Xp,sys.tube.L)\n",
    "\n",
    "\n",
    "    P = real.((M./Lvaporplug .+ 0im).^(γ))\n",
    "\n",
    "    θ = real.((P .+ 0im).^((γ-1)/γ))\n",
    "\n",
    "\n",
    "    for i = 1:numofliquidslug\n",
    "        du[2*i-1] = u[2*numofliquidslug+2*i-1]\n",
    "        du[2*i] = du[2*i-1]\n",
    "\n",
    "        du[2*numofliquidslug + 2*i-1] = -32*u[2*numofliquidslug + 2*i-1] - (ω0[i]^2)*(0.5*(height[i][end]-height[i][1])) + ℘[i]*(P[i]-P[i+1])\n",
    "        du[2*numofliquidslug + 2*i] = du[2*numofliquidslug + 2*i-1]\n",
    "\n",
    "    end\n",
    "\n",
    "\n",
    "        du[4*numofliquidslug+1:5*numofliquidslug+1] .= dMdtzhang2002modelEnKF(Xpvapor,θ,sys)\n",
    "    \n",
    "        du[end]=0\n",
    "\n",
    "    return du\n",
    "\n",
    "end\n",
    "\n",
    "\n",
    "function dMdtzhang2002modelEnKF(Xpvapor::Array{Tuple{Float64,Float64},1},θ::Array{Float64,1},sys::PHPSystem)\n",
    "\n",
    "    dMdt=zeros(length(Xpvapor))\n",
    "\n",
    "\n",
    "    Xe = sys.evaporator.Xe\n",
    "    He = sys.evaporator.He\n",
    "    θe = sys.evaporator.θe\n",
    "\n",
    "    Xc = sys.condenser.Xc\n",
    "    Hc = sys.condenser.Hc\n",
    "    θc = sys.condenser.θc\n",
    "\n",
    "    Levapoverlap=XpvaportoLoverlap(Xpvapor,Xe)\n",
    "    Lcondoverlap=XpvaportoLoverlap(Xpvapor,Xc)\n",
    "\n",
    "\n",
    "    # May not be right for multi liquid flow\n",
    "    for i = 1:length(Xpvapor)\n",
    "        if Lcondoverlap[i] < 1e-8\n",
    "            dMdt[i] = He * Levapoverlap[i] * (θe-θ[i])\n",
    "        else\n",
    "            dMdt[i] = -Hc * Lcondoverlap[i] * (θ[i]-θc)\n",
    "        end\n",
    "    end\n",
    "\n",
    "    return dMdt\n",
    "\n",
    "end"
   ]
  },
  {
   "cell_type": "markdown",
   "metadata": {},
   "source": [
    "## EnKF"
   ]
  },
  {
   "cell_type": "code",
   "execution_count": 79,
   "metadata": {},
   "outputs": [
    {
     "data": {
      "text/plain": [
       "300.0"
      ]
     },
     "execution_count": 79,
     "metadata": {},
     "output_type": "execute_result"
    }
   ],
   "source": [
    "newHe = 300.0"
   ]
  },
  {
   "cell_type": "code",
   "execution_count": 80,
   "metadata": {},
   "outputs": [
    {
     "data": {
      "text/plain": [
       "7-element Array{Float64,1}:\n",
       "   1.5\n",
       "   3.5\n",
       "   0.0\n",
       "   0.0\n",
       "   1.5\n",
       "   0.5\n",
       " 300.0"
      ]
     },
     "execution_count": 80,
     "metadata": {},
     "output_type": "execute_result"
    }
   ],
   "source": [
    "uEnKF = push!(deepcopy(u),newHe)"
   ]
  },
  {
   "cell_type": "code",
   "execution_count": 81,
   "metadata": {},
   "outputs": [
    {
     "data": {
      "text/plain": [
       "t: 0.0\n",
       "u: 7-element Array{Float64,1}:\n",
       "   1.5\n",
       "   3.5\n",
       "   0.0\n",
       "   0.0\n",
       "   1.5\n",
       "   0.5\n",
       " 300.0"
      ]
     },
     "execution_count": 81,
     "metadata": {},
     "output_type": "execute_result"
    }
   ],
   "source": [
    "tstep=1.0e-5\n",
    "\n",
    "p = sys0\n",
    "tspan = (0.0, 0.1);\n",
    "T = tspan[1]:tstep:tspan[end]\n",
    "\n",
    "probEnKF = ODEProblem(zhang2002modelEnKF!, uEnKF, tspan, p)\n",
    "solEnKF = solve(probEnKF, RK4(), adaptive=false, dt=tstep);\n",
    "integrator = init(probEnKF, RK4(), adaptive =false, dt = tstep, save_everystep=false)"
   ]
  },
  {
   "cell_type": "code",
   "execution_count": 82,
   "metadata": {},
   "outputs": [],
   "source": [
    "function (::PropagationFunction)(t::Float64, ENS::EnsembleState{N, TS}) where {N, TS}\n",
    "    for (i,s) in enumerate(ENS.S)\n",
    "        \n",
    "        set_t!(integrator, deepcopy(t))\n",
    "        set_u!(integrator, deepcopy(s))\n",
    "#         for j=1:10\n",
    "        step!(integrator)\n",
    "#         end\n",
    "        ENS.S[i] = deepcopy(integrator.u)\n",
    "\n",
    "    end\n",
    "    \n",
    "    return ENS\n",
    "end"
   ]
  },
  {
   "cell_type": "code",
   "execution_count": 83,
   "metadata": {
    "scrolled": true
   },
   "outputs": [
    {
     "data": {
      "text/plain": [
       "PropagationFunction()"
      ]
     },
     "execution_count": 83,
     "metadata": {},
     "output_type": "execute_result"
    }
   ],
   "source": [
    "fprop = PropagationFunction()"
   ]
  },
  {
   "cell_type": "code",
   "execution_count": 84,
   "metadata": {},
   "outputs": [],
   "source": [
    "function (::MeasurementFunction)(t::Float64, s::TS) where TS\n",
    "    result=soltoResult(s[1:end-1],sys0);\n",
    "#     return [s[3]]\n",
    "    return [result.θ[1],result.θ[2],result.M[1],result.M[2]]\n",
    "end"
   ]
  },
  {
   "cell_type": "code",
   "execution_count": 85,
   "metadata": {},
   "outputs": [],
   "source": [
    "function (::MeasurementFunction)(t::Float64) \n",
    "#     return reshape([0.0, 0.0, 1.0, 0.0, 0.0, 0.0],(1,6))\n",
    "    return reshape([1.0, 0.0, 0.0, 1.0, 0.0, 0.0, 0.0, 0.0, 0.0, 0.0, 0.0, 0.0,0.0,0.0],(2,7))\n",
    "end"
   ]
  },
  {
   "cell_type": "code",
   "execution_count": 86,
   "metadata": {},
   "outputs": [
    {
     "data": {
      "text/plain": [
       "MeasurementFunction()"
      ]
     },
     "execution_count": 86,
     "metadata": {},
     "output_type": "execute_result"
    }
   ],
   "source": [
    "m = MeasurementFunction()"
   ]
  },
  {
   "cell_type": "code",
   "execution_count": 87,
   "metadata": {},
   "outputs": [],
   "source": [
    "function (::RealMeasurementFunction)(t::Float64, ENS::EnsembleState{N, TZ}) where {N, TZ}\n",
    "    let s = sol(t)\n",
    "#     fill!(ENS, [deepcopy(s[3])])\n",
    "    result=soltoResult(s,sys0);\n",
    "    fill!(ENS, [deepcopy(result.θ[1]),deepcopy(result.θ[2]),deepcopy(result.M[1]),deepcopy(result.M[2])])\n",
    "    end\n",
    "    return ENS\n",
    "end"
   ]
  },
  {
   "cell_type": "code",
   "execution_count": 88,
   "metadata": {},
   "outputs": [
    {
     "data": {
      "text/plain": [
       "RealMeasurementFunction()"
      ]
     },
     "execution_count": 88,
     "metadata": {},
     "output_type": "execute_result"
    }
   ],
   "source": [
    "z = RealMeasurementFunction()"
   ]
  },
  {
   "cell_type": "code",
   "execution_count": 89,
   "metadata": {},
   "outputs": [
    {
     "data": {
      "text/plain": [
       "MultiAdditiveInflation{7}(1.001, DiagNormal(\n",
       "dim: 7\n",
       "μ: [0.0, 0.0, 0.0, 0.0, 0.0, 0.0, 0.0]\n",
       "Σ: [0.1 0.0 … 0.0 0.0; 0.0 0.1 … 0.0 0.0; … ; 0.0 0.0 … 0.1 0.0; 0.0 0.0 … 0.0 100.0]\n",
       ")\n",
       ")"
      ]
     },
     "execution_count": 89,
     "metadata": {},
     "output_type": "execute_result"
    }
   ],
   "source": [
    "# A = MultiAdditiveInflation(2, 1.05, MvNormal(zeros(1), 2.0*I))\n",
    "A = MultiAdditiveInflation(7, 1.001, MvNormal(zeros(7), 1*Diagonal([0.1,0.1,10.0,10.0,0.1,0.1,100.0])))\n",
    "# A = IdentityInflation()"
   ]
  },
  {
   "cell_type": "code",
   "execution_count": 90,
   "metadata": {},
   "outputs": [
    {
     "data": {
      "text/plain": [
       "AdditiveInflation{4}(DiagNormal(\n",
       "dim: 4\n",
       "μ: [0.0, 0.0, 0.0, 0.0]\n",
       "Σ: [0.0001 0.0 0.0 0.0; 0.0 0.0001 0.0 0.0; 0.0 0.0 0.0001 0.0; 0.0 0.0 0.0 0.0001]\n",
       ")\n",
       ")"
      ]
     },
     "execution_count": 90,
     "metadata": {},
     "output_type": "execute_result"
    }
   ],
   "source": [
    "# this is measurement noise!!!!!!!!\n",
    "# ϵ = AdditiveInflation(MvNormal(zeros(1), 1.0*I))\n",
    "ϵ = AdditiveInflation(MvNormal(zeros(4), 0.001*Diagonal([0.1,0.1,0.1,0.1])))"
   ]
  },
  {
   "cell_type": "code",
   "execution_count": 91,
   "metadata": {},
   "outputs": [
    {
     "data": {
      "text/plain": [
       "true"
      ]
     },
     "execution_count": 91,
     "metadata": {},
     "output_type": "execute_result"
    }
   ],
   "source": [
    "N = 50\n",
    "# NZ = 1\n",
    "NZ = 4\n",
    "isinflated = true\n",
    "isfiltered = false\n",
    "isaugmented = true"
   ]
  },
  {
   "cell_type": "code",
   "execution_count": 92,
   "metadata": {},
   "outputs": [
    {
     "data": {
      "text/plain": [
       "0-element Array{Any,1}"
      ]
     },
     "execution_count": 92,
     "metadata": {},
     "output_type": "execute_result"
    }
   ],
   "source": [
    "x₀ = [1.0, 3.0, 0.0, 0.0, 0.5, 1.5, newHe]\n",
    "ens = initialize(N, MvNormal(x₀, 1*Diagonal([0.1,0.1,10.0,10.0,0.1,0.1,100.0])))\n",
    "estimation_state = [deepcopy(ens.S)]\n",
    "\n",
    "true_state = [deepcopy(x₀)]\n",
    "covs = []"
   ]
  },
  {
   "cell_type": "code",
   "execution_count": 93,
   "metadata": {},
   "outputs": [
    {
     "data": {
      "text/plain": [
       "FilteringFunction()"
      ]
     },
     "execution_count": 93,
     "metadata": {},
     "output_type": "execute_result"
    }
   ],
   "source": [
    "g = FilteringFunction()"
   ]
  },
  {
   "cell_type": "code",
   "execution_count": 94,
   "metadata": {},
   "outputs": [
    {
     "data": {
      "text/plain": [
       "ENKF{50,4}(PropagationFunction(), MultiAdditiveInflation{7}(1.001, DiagNormal(\n",
       "dim: 7\n",
       "μ: [0.0, 0.0, 0.0, 0.0, 0.0, 0.0, 0.0]\n",
       "Σ: [0.1 0.0 … 0.0 0.0; 0.0 0.1 … 0.0 0.0; … ; 0.0 0.0 … 0.1 0.0; 0.0 0.0 … 0.0 100.0]\n",
       ")\n",
       "), FilteringFunction(), MeasurementFunction(), RealMeasurementFunction(), AdditiveInflation{4}(DiagNormal(\n",
       "dim: 4\n",
       "μ: [0.0, 0.0, 0.0, 0.0]\n",
       "Σ: [0.0001 0.0 0.0 0.0; 0.0 0.0001 0.0 0.0; 0.0 0.0 0.0001 0.0; 0.0 0.0 0.0 0.0001]\n",
       ")\n",
       "), true, false, true)"
      ]
     },
     "execution_count": 94,
     "metadata": {},
     "output_type": "execute_result"
    }
   ],
   "source": [
    "enkf = ENKF(N, NZ, fprop, A, g, m, z, ϵ, isinflated, isfiltered, isaugmented)"
   ]
  },
  {
   "cell_type": "code",
   "execution_count": 95,
   "metadata": {},
   "outputs": [],
   "source": [
    "Δt = 1e-5\n",
    "Tsub = 0.0:Δt:0.1-Δt\n",
    "\n",
    "for (n,t) in enumerate(Tsub)\n",
    "\n",
    "    global ens\n",
    "    \n",
    "    t, ens, cov = enkf(t, Δt, ens)\n",
    "    \n",
    "    push!(estimation_state, deepcopy(ens.S))\n",
    "    push!(covs, deepcopy(cov))\n",
    "    \n",
    "\n",
    "end"
   ]
  },
  {
   "cell_type": "markdown",
   "metadata": {},
   "source": [
    "## Show the results"
   ]
  },
  {
   "cell_type": "code",
   "execution_count": 96,
   "metadata": {},
   "outputs": [],
   "source": [
    "# s =  hcat(sol(T).u...)\n",
    "ŝ =  hcat(mean.(estimation_state)...)\n",
    "\n",
    "results=soltoResult(sol,sys0);\n",
    "resultŝ=soltoResult(ŝ[1:end-1,:],sys0);\n"
   ]
  },
  {
   "cell_type": "code",
   "execution_count": 97,
   "metadata": {
    "scrolled": true
   },
   "outputs": [
    {
     "data": {
      "image/png": "[encoded data removed]"
     },
     "execution_count": 97,
     "metadata": {},
     "output_type": "execute_result"
    }
   ],
   "source": [
    "plt1 = plot(layout = (2, 1), legend = :bottomright)\n",
    "plot!(plt1[1], T, results.Xp[1][1:end-1], linewidth = 3, label = \"truth\")\n",
    "plot!(plt1[1], Tsub, resultŝ.Xp[1][1:end-1], linewidth = 3, markersize = 2, label = \"EnKF mean\", xlabel = \"t\", ylabel = \"x\", linestyle =:dash,title=\"Xp1 location\")\n",
    "\n",
    "plot!(plt1[2], T, results.M[1][1:end-1], linewidth = 3, label = \"truth\")\n",
    "plot!(plt1[2], Tsub, resultŝ.M[1][1:end-1], linewidth = 3, markersize = 2, label = \"EnKF mean\", xlabel = \"t\", ylabel = \"y\", linestyle =:dash,title=\"M1\")"
   ]
  },
  {
   "cell_type": "code",
   "execution_count": 98,
   "metadata": {
    "scrolled": true
   },
   "outputs": [
    {
     "data": {
      "image/png": "[encoded data removed]"
     },
     "execution_count": 98,
     "metadata": {},
     "output_type": "execute_result"
    }
   ],
   "source": [
    "plt2 = plot(layout = (2, 1), legend = :bottomright)\n",
    "\n",
    "plot!(plt2[1], T, results.θ[1][1:end-1], linewidth = 3, label = \"truth\")\n",
    "plot!(plt2[1], Tsub, resultŝ.θ[1][1:end-1], linewidth = 3, markersize = 2, label = \"EnKF mean\", xlabel = \"t\", ylabel = \"x\", linestyle =:dash,title=\"Temperature 1\")\n",
    "\n",
    "# plot!(plt2[2], T, s[5,1:end], linewidth = 3, label = \"truth\")\n",
    "plot!(plt2[2], Tsub, ŝ[7,1:end-1], linewidth = 3, markersize = 2, label = \"EnKF mean\", xlabel = \"t\", ylabel = \"y\", linestyle =:dash,title=\"He\")"
   ]
  },
  {
   "cell_type": "code",
   "execution_count": 99,
   "metadata": {},
   "outputs": [
    {
     "data": {
      "text/plain": [
       "50-element Array{Array{Float64,1},1}:\n",
       " [-0.716892138966327, 3.3370033032446678, -3267.4165946381327, -2797.918331065448, 0.9154753273479904, 1.0546468320907962, 851.3821971906908]  \n",
       " [-0.6503035400780564, 0.29331621738404967, 443.3643430427592, 874.6685429264098, 0.9407621282201257, 1.059930032290675, 847.9892789244634]    \n",
       " [-0.352642385343388, 2.3328679667365186, 4418.369449211642, 4903.186957507609, 0.9257716013057788, 1.0574142336930585, 828.7751173850189]     \n",
       " [-0.31394264925806414, 6.016743175818859, -1770.5346831665029, -1280.0446347112306, 0.9227039111565177, 1.0633494931089875, 824.6694068314694]\n",
       " [-0.3802125416645047, 3.299983485606623, 6096.440777773812, 6561.467346702266, 0.9201741152505416, 1.0621299826040502, 852.8398446003756]     \n",
       " [-0.5411513718552576, 3.0702276536222413, 6013.2150369852025, 6463.202622885066, 0.915936046438156, 1.0519822438020885, 838.4198737290199]    \n",
       " [-0.30026969654805974, 3.204887776524354, -3277.73198022392, -2807.6670909493973, 0.9191847083824274, 1.0571922860687906, 784.7312240643262]  \n",
       " [-0.36865949149670896, 1.4517630101508592, -1703.0528571119635, -1179.728713723155, 0.9221631126058694, 1.0690851991138224, 811.5795528261967]\n",
       " [-1.0623493147720295, 3.470253172627344, -5454.334967927176, -4978.054842599402, 0.9186478800838953, 1.0474173484851974, 841.7526254608937]   \n",
       " [-0.5493317248354008, 2.571317868097463, -5556.375430611976, -5100.167078265349, 0.9068326208082189, 1.0697077627507194, 817.0949461735108]   \n",
       " [-0.42636543359707885, 2.5306271866699013, -1126.251673431284, -678.9288357526594, 0.9266746666447586, 1.05848208389586, 814.3967025910289]   \n",
       " [-0.33111868459927063, 4.313598630455105, 9997.217741805218, 10479.18547622138, 0.9265504657007723, 1.0668303558134566, 767.4527509066753]    \n",
       " [-0.32898693093374454, 3.7509743469504735, 143.64696349156202, 602.8863734853139, 0.9288882329912871, 1.0746736604536755, 921.7638402627806]  \n",
       " ⋮                                                                                                                                             \n",
       " [-0.5195335574004913, 2.9883802173731793, -1792.185566630601, -1343.7131025908511, 0.9190104491496393, 1.0599665624105132, 811.0210022938206] \n",
       " [-0.40233363307486647, 4.472998877795904, 1346.460112946576, 1818.3482574197437, 0.9131591805981837, 1.0463459842729579, 848.6006834982197]   \n",
       " [-0.36780996654444126, 2.3250352525289006, -2559.6972787226923, -2121.3500101222394, 0.8978602718701838, 1.062828856041651, 815.1976884459568]\n",
       " [-0.4615186219088486, 3.6230571226216615, 4210.254682542711, 4707.8545645086615, 0.9178819016357138, 1.0631919400679477, 894.3288460590262]   \n",
       " [-0.5456889354286361, 2.4991954926780093, 5572.111815682665, 6007.574073364948, 0.9222578244319695, 1.0605262927363641, 843.0759981893659]    \n",
       " [-0.4722854466808411, 2.466601204002511, -7435.1655054240255, -6970.988042099612, 0.9156614050563705, 1.070617448128147, 870.7106572729475]   \n",
       " [-0.6498793598449165, 3.3456934680424357, -4089.531534456966, -3617.851809591594, 0.9040750104707717, 1.0545063485653152, 814.4279027348363]  \n",
       " [-0.9658838859134412, 2.367765482660835, -2959.8331348639144, -2466.9287416851516, 0.9021942636128591, 1.0414687672306084, 814.3604006726614] \n",
       " [-0.4785191235742546, 1.892050959866649, -3910.5139213599714, -3421.630727233664, 0.924163174940028, 1.0604524474274744, 822.7580443047456]   \n",
       " [-0.653902949152607, 2.64657338870914, -2043.2022364829554, -1585.1825621786927, 0.9214697850121105, 1.0644778154616903, 854.7744323558329]   \n",
       " [0.9419151672839288, 0.7805827700333063, -2150.5030635253, -1687.831264167362, 0.9050486664319617, 1.0610787859983442, 862.0454296849558]     \n",
       " [-0.26307706152060784, 2.358076010761927, 494.135627967177, 982.2279626339507, 0.9294809894355216, 1.0582308521833876, 833.551129454456]      "
      ]
     },
     "execution_count": 99,
     "metadata": {},
     "output_type": "execute_result"
    }
   ],
   "source": [
    "ens.S"
   ]
  },
  {
   "cell_type": "code",
   "execution_count": null,
   "metadata": {},
   "outputs": [],
   "source": []
  }
 ],
 "metadata": {
  "kernelspec": {
   "display_name": "Julia 1.3.1",
   "language": "julia",
   "name": "julia-1.3"
  },
  "language_info": {
   "file_extension": ".jl",
   "mimetype": "application/julia",
   "name": "julia",
   "version": "1.3.1"
  }
 },
 "nbformat": 4,
 "nbformat_minor": 2
}
