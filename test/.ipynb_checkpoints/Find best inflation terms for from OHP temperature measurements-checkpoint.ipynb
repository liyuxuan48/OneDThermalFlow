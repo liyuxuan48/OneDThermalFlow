{
 "cells": [
  {
   "cell_type": "markdown",
   "metadata": {},
   "source": [
    "## U shape PHP dynamics"
   ]
  },
  {
   "cell_type": "code",
   "execution_count": 1,
   "metadata": {
    "scrolled": true
   },
   "outputs": [
    {
     "data": {
      "text/plain": [
       "Plots.PyPlotBackend()"
      ]
     },
     "execution_count": 1,
     "metadata": {},
     "output_type": "execute_result"
    }
   ],
   "source": [
    "using Plots\n",
    "pyplot()"
   ]
  },
  {
   "cell_type": "code",
   "execution_count": 2,
   "metadata": {},
   "outputs": [],
   "source": [
    "using Revise\n",
    "using EnKF\n",
    "using Distributions\n",
    "using DocStringExtensions\n",
    "using LinearAlgebra\n",
    "using ProgressMeter\n",
    "using DifferentialEquations"
   ]
  },
  {
   "cell_type": "code",
   "execution_count": 3,
   "metadata": {},
   "outputs": [],
   "source": [
    "using DelimitedFiles"
   ]
  },
  {
   "cell_type": "code",
   "execution_count": 4,
   "metadata": {},
   "outputs": [],
   "source": [
    "cd(dirname(pwd()))\n",
    "cd(\"src\") \n",
    "\n",
    "\n",
    "include(\"Systems.jl\")\n",
    "using ..Systems\n",
    "\n",
    "include(\"Tools.jl\")\n",
    "using ..Tools\n",
    "\n",
    "\n",
    "include(\"Thermomodel.jl\")\n",
    "using ..Thermomodel\n",
    "\n",
    "include(\"Postprocessing.jl\")\n",
    "using ..Postprocessing\n"
   ]
  },
  {
   "cell_type": "markdown",
   "metadata": {},
   "source": [
    "## Initialization"
   ]
  },
  {
   "cell_type": "code",
   "execution_count": 5,
   "metadata": {},
   "outputs": [],
   "source": [
    "    ω0 = [sqrt(1.2e004)];\n",
    "    ℘ = [1.2e005];\n",
    "\n",
    "\n",
    "    Θ = 0.15;\n",
    "    θe = 1 + Θ;\n",
    "    θc = 1 - Θ;\n",
    "    \n",
    "    He = 3000.0;\n",
    "    Hc = 3000.0;\n",
    "\n",
    "\n",
    "    γ = 1.3;#not 1.4!!!!! maybe 1.33?"
   ]
  },
  {
   "cell_type": "code",
   "execution_count": 6,
   "metadata": {},
   "outputs": [
    {
     "data": {
      "text/plain": [
       "1.5707963267948966"
      ]
     },
     "execution_count": 6,
     "metadata": {},
     "output_type": "execute_result"
    }
   ],
   "source": [
    "    L = 4.0  # total length of the pipe when streched to a 1D pipe\n",
    "    L2D = 2.0 # the actual length of the bended pipe in the real world\n",
    "    alpha = pi/2 # inclination angle "
   ]
  },
  {
   "cell_type": "code",
   "execution_count": 7,
   "metadata": {},
   "outputs": [
    {
     "data": {
      "text/plain": [
       "Tube(4.0, 2.0, 1.5707963267948966)"
      ]
     },
     "execution_count": 7,
     "metadata": {},
     "output_type": "execute_result"
    }
   ],
   "source": [
    "tube = Tube(L,L2D,alpha)"
   ]
  },
  {
   "cell_type": "code",
   "execution_count": 8,
   "metadata": {},
   "outputs": [
    {
     "data": {
      "text/plain": [
       "Evaporator(3000.0, 1.15, Tuple{Float64,Float64}[(0.0, 1.0), (3.0, 4.0)])"
      ]
     },
     "execution_count": 8,
     "metadata": {},
     "output_type": "execute_result"
    }
   ],
   "source": [
    "Xe = map(tuple, [0.0; 3.0], [1.0; 4.0])\n",
    "evap = Evaporator(He,θe,Xe)"
   ]
  },
  {
   "cell_type": "code",
   "execution_count": 9,
   "metadata": {},
   "outputs": [
    {
     "data": {
      "text/plain": [
       "Condenser(3000.0, 0.85, Tuple{Float64,Float64}[(1.0, 3.0)])"
      ]
     },
     "execution_count": 9,
     "metadata": {},
     "output_type": "execute_result"
    }
   ],
   "source": [
    "Xc = map(tuple, [1.0], [3.0])\n",
    "cond = Condenser(Hc,θc,Xc)"
   ]
  },
  {
   "cell_type": "code",
   "execution_count": 10,
   "metadata": {},
   "outputs": [
    {
     "data": {
      "text/plain": [
       "LiquidSlug(1.3, [109.54451150103323], [120000.0], Tuple{Float64,Float64}[(1.5, 3.5)], Tuple{Float64,Float64}[(0.0, 0.0)])"
      ]
     },
     "execution_count": 10,
     "metadata": {},
     "output_type": "execute_result"
    }
   ],
   "source": [
    "X0 = [(1.5,3.5)]\n",
    "dXdt0 = [(0.0,0.0)]\n",
    "liquids=LiquidSlug(γ,ω0,℘,X0,dXdt0)"
   ]
  },
  {
   "cell_type": "code",
   "execution_count": 11,
   "metadata": {},
   "outputs": [
    {
     "data": {
      "text/plain": [
       "VaporPlug(1.3, [1.0, 1.0])"
      ]
     },
     "execution_count": 11,
     "metadata": {},
     "output_type": "execute_result"
    }
   ],
   "source": [
    "P = [1.0,1.0]\n",
    "\n",
    "vapors=VaporPlug(γ,P)"
   ]
  },
  {
   "cell_type": "code",
   "execution_count": 12,
   "metadata": {},
   "outputs": [
    {
     "data": {
      "text/plain": [
       "PHPSystem(Tube(4.0, 2.0, 1.5707963267948966), Evaporator(3000.0, 1.15, Tuple{Float64,Float64}[(0.0, 1.0), (3.0, 4.0)]), Condenser(3000.0, 0.85, Tuple{Float64,Float64}[(1.0, 3.0)]), LiquidSlug(1.3, [109.54451150103323], [120000.0], Tuple{Float64,Float64}[(1.5, 3.5)], Tuple{Float64,Float64}[(0.0, 0.0)]), VaporPlug(1.3, [1.0, 1.0]))"
      ]
     },
     "execution_count": 12,
     "metadata": {},
     "output_type": "execute_result"
    }
   ],
   "source": [
    "sys0 = PHPSystem(tube,evap,cond,liquids,vapors)"
   ]
  },
  {
   "cell_type": "markdown",
   "metadata": {},
   "source": [
    "## Get numerical solution"
   ]
  },
  {
   "cell_type": "code",
   "execution_count": 13,
   "metadata": {
    "scrolled": true
   },
   "outputs": [
    {
     "data": {
      "text/plain": [
       "6-element Array{Float64,1}:\n",
       " 1.5\n",
       " 3.5\n",
       " 0.0\n",
       " 0.0\n",
       " 1.5\n",
       " 0.5"
      ]
     },
     "execution_count": 13,
     "metadata": {},
     "output_type": "execute_result"
    }
   ],
   "source": [
    "Lvaporplug = XptoLvaporplug(X0,L)\n",
    "M = P.^(1/γ).* Lvaporplug\n",
    "\n",
    "u=XMtovec(sys0.liquidslug.Xp,sys0.liquidslug.dXdt,M)"
   ]
  },
  {
   "cell_type": "code",
   "execution_count": 14,
   "metadata": {},
   "outputs": [
    {
     "data": {
      "text/plain": [
       "t: 0.0\n",
       "u: 6-element Array{Float64,1}:\n",
       " 1.5\n",
       " 3.5\n",
       " 0.0\n",
       " 0.0\n",
       " 1.5\n",
       " 0.5"
      ]
     },
     "execution_count": 14,
     "metadata": {},
     "output_type": "execute_result"
    }
   ],
   "source": [
    "tstep=1.0e-5\n",
    "\n",
    "p = sys0\n",
    "tspan = (0.0, 0.05);\n",
    "T = tspan[1]:tstep:tspan[end]\n",
    "\n",
    "prob = ODEProblem(zhang2002model!, u, tspan, p)\n",
    "sol = solve(prob, RK4(), adaptive=false, dt=tstep);\n",
    "integrator = init(prob, RK4(), adaptive =false, dt = tstep, save_everystep=false)"
   ]
  },
  {
   "cell_type": "markdown",
   "metadata": {},
   "source": [
    "## EnKF function"
   ]
  },
  {
   "cell_type": "code",
   "execution_count": 15,
   "metadata": {},
   "outputs": [
    {
     "data": {
      "text/plain": [
       "dMdtzhang2002modelEnKF (generic function with 1 method)"
      ]
     },
     "execution_count": 15,
     "metadata": {},
     "output_type": "execute_result"
    }
   ],
   "source": [
    "\"\"\"\n",
    "    This function is required by \"DifferentialEquation.jl\" Package.\n",
    "        du :: an empty state vector to be derived at the end of this function.\n",
    "        u  :: the state vector input from the last time step.\n",
    "        p  :: some important parameters which do not belong to u\n",
    "        t  :: the current time\n",
    "\n",
    "    This approach solves the same set of dimensionless governing equations as\n",
    "    \"https://doi.org/10.1016/S0017-9310(01)00348-9\"(Zhang et al. 2002)\n",
    "    Instead of solving them piece by piece. Our current approach solve them as a whole system.\n",
    "\"\"\"\n",
    "\n",
    "function zhang2002modelEnKF!(du::Array{Float64,1},uEnKF::Array{Float64,1},p::PHPSystem,t::Float64)\n",
    "\n",
    "    sys = deepcopy(p)\n",
    "\n",
    "    # added He as a state vector entry\n",
    "    u = uEnKF[1:end-1]\n",
    "    sys.evaporator.He = uEnKF[end]\n",
    "\n",
    "    numofliquidslug =  Integer( (length(u) - 1)/5 )\n",
    "    \n",
    "    (Xp,dXdt0,M)=vectoXM(u)\n",
    "\n",
    "    γ = sys.liquidslug.γ\n",
    "    ω0 = sys.liquidslug.ω0\n",
    "    ℘ = sys.liquidslug.℘\n",
    "    Lvaporplug = XptoLvaporplug(Xp,sys.tube.L)\n",
    "#     Lliquidslug = XptoLliquidslug(Xp)\n",
    "    height = getheight(Xp,sys.tube.L2D,sys.tube.alpha)\n",
    "    Xpvapor = getXpvapor(Xp,sys.tube.L)\n",
    "\n",
    "\n",
    "\n",
    "    # get P from M and γ\n",
    "    # P = (M./Lvaporplug).^(γ)\n",
    "    # P = zeros(size(M))\n",
    "    # for i in length(M)\n",
    "    #        P[i] = M[i] > 0 ? (M[i]./Lvaporplug[i]).^(γ) : -(-M[i]./Lvaporplug[i]).^(γ)\n",
    "    #    end\n",
    "    P = real.((M./Lvaporplug .+ 0im).^(γ))\n",
    "\n",
    "    # get θ from P and γ\n",
    "    # θ = zeros(size(P))\n",
    "    # for i in length(P)\n",
    "    #        θ[i] = P[i] > 0 ? P[i].^((γ-1)/γ) : -(-P[i]).^((γ-1)/γ)\n",
    "    #    end\n",
    "    θ = real.((P .+ 0im).^((γ-1)/γ))\n",
    "    # θ = P.^((γ-1)/γ)\n",
    "\n",
    "\n",
    "    for i = 1:numofliquidslug\n",
    "        du[2*i-1] = u[2*numofliquidslug+2*i-1]\n",
    "        du[2*i] = du[2*i-1]\n",
    "\n",
    "        du[2*numofliquidslug + 2*i-1] = -32*u[2*numofliquidslug + 2*i-1] - (ω0[i]^2)*(0.5*(height[i][end]-height[i][1])) + ℘[i]*(P[i]-P[i+1])\n",
    "        du[2*numofliquidslug + 2*i] = du[2*numofliquidslug + 2*i-1]\n",
    "\n",
    "    end\n",
    "\n",
    "\n",
    "        du[4*numofliquidslug+1:5*numofliquidslug+1] .= dMdtzhang2002model(Xpvapor,θ,sys)\n",
    "    \n",
    "        du[end]=0\n",
    "\n",
    "    return du\n",
    "\n",
    "end\n",
    "\n",
    "\"\"\"\n",
    "    This function is a sub-function of zhang2002model. This function is the phase change part,\n",
    "        Xpvapor ::  storing the location of two ends of each vapor\n",
    "        θ       ::  the temperature in each vapor.\n",
    "        sys    ::  the struct that stores every needed initial conditions and boundary conditions\n",
    "\n",
    "    In this case. He and Hc are preset constants.\n",
    "\"\"\"\n",
    "\n",
    "function dMdtzhang2002modelEnKF(Xpvapor::Array{Tuple{Float64,Float64},1},θ::Array{Float64,1},sys::PHPSystem)\n",
    "\n",
    "    dMdt=zeros(length(Xpvapor))\n",
    "\n",
    "\n",
    "    Xe = sys.evaporator.Xe\n",
    "    He = sys.evaporator.He\n",
    "    θe = sys.evaporator.θe\n",
    "\n",
    "    Xc = sys.condenser.Xc\n",
    "    Hc = sys.condenser.Hc\n",
    "    θc = sys.condenser.θc\n",
    "\n",
    "    Levapoverlap=XpvaportoLoverlap(Xpvapor,Xe)\n",
    "    Lcondoverlap=XpvaportoLoverlap(Xpvapor,Xc)\n",
    "\n",
    "\n",
    "    # May not be right for multi liquid flow\n",
    "    for i = 1:length(Xpvapor)\n",
    "        if Lcondoverlap[i] < 1e-8\n",
    "            dMdt[i] = He * Levapoverlap[i] * (θe-θ[i])\n",
    "        else\n",
    "            dMdt[i] = -Hc * Lcondoverlap[i] * (θ[i]-θc)\n",
    "        end\n",
    "    end\n",
    "\n",
    "    return dMdt\n",
    "\n",
    "end"
   ]
  },
  {
   "cell_type": "markdown",
   "metadata": {},
   "source": [
    "## EnKF"
   ]
  },
  {
   "cell_type": "code",
   "execution_count": 16,
   "metadata": {},
   "outputs": [
    {
     "data": {
      "text/plain": [
       "7-element Array{Float64,1}:\n",
       "    1.5\n",
       "    3.5\n",
       "    0.0\n",
       "    0.0\n",
       "    1.5\n",
       "    0.5\n",
       " 3000.0"
      ]
     },
     "execution_count": 16,
     "metadata": {},
     "output_type": "execute_result"
    }
   ],
   "source": [
    "uEnKF = push!(deepcopy(u),3000.0)"
   ]
  },
  {
   "cell_type": "code",
   "execution_count": 17,
   "metadata": {},
   "outputs": [
    {
     "data": {
      "text/plain": [
       "t: 0.0\n",
       "u: 7-element Array{Float64,1}:\n",
       "    1.5\n",
       "    3.5\n",
       "    0.0\n",
       "    0.0\n",
       "    1.5\n",
       "    0.5\n",
       " 3000.0"
      ]
     },
     "execution_count": 17,
     "metadata": {},
     "output_type": "execute_result"
    }
   ],
   "source": [
    "tstep=1.0e-5\n",
    "\n",
    "p = sys0\n",
    "tspan = (0.0, 0.05);\n",
    "T = tspan[1]:tstep:tspan[end]\n",
    "\n",
    "probEnKF = ODEProblem(zhang2002modelEnKF!, uEnKF, tspan, p)\n",
    "solEnKF = solve(probEnKF, RK4(), adaptive=false, dt=tstep);\n",
    "integrator = init(probEnKF, RK4(), adaptive =false, dt = tstep, save_everystep=false)"
   ]
  },
  {
   "cell_type": "code",
   "execution_count": 18,
   "metadata": {},
   "outputs": [],
   "source": [
    "function (::PropagationFunction)(t::Float64, ENS::EnsembleState{N, TS}) where {N, TS}\n",
    "    for (i,s) in enumerate(ENS.S)\n",
    "        \n",
    "        set_t!(integrator, deepcopy(t))\n",
    "        set_u!(integrator, deepcopy(s))\n",
    "#         for j=1:10\n",
    "        step!(integrator)\n",
    "#         end\n",
    "        ENS.S[i] = deepcopy(integrator.u)\n",
    "\n",
    "    end\n",
    "    \n",
    "    return ENS\n",
    "end"
   ]
  },
  {
   "cell_type": "code",
   "execution_count": 19,
   "metadata": {
    "scrolled": true
   },
   "outputs": [
    {
     "data": {
      "text/plain": [
       "PropagationFunction()"
      ]
     },
     "execution_count": 19,
     "metadata": {},
     "output_type": "execute_result"
    }
   ],
   "source": [
    "fprop = PropagationFunction()"
   ]
  },
  {
   "cell_type": "code",
   "execution_count": 20,
   "metadata": {},
   "outputs": [],
   "source": [
    "function (::MeasurementFunction)(t::Float64, s::TS) where TS\n",
    "    result=soltoResult(s[1:end-1],sys0);\n",
    "#     return [s[3]]\n",
    "    return [result.θ[1],result.θ[2]]\n",
    "end"
   ]
  },
  {
   "cell_type": "code",
   "execution_count": 21,
   "metadata": {},
   "outputs": [],
   "source": [
    "function (::MeasurementFunction)(t::Float64) \n",
    "#     return reshape([0.0, 0.0, 1.0, 0.0, 0.0, 0.0],(1,6))\n",
    "    return reshape([1.0, 0.0, 0.0, 1.0, 0.0, 0.0, 0.0, 0.0, 0.0, 0.0, 0.0, 0.0,0.0,0.0],(2,7))\n",
    "end"
   ]
  },
  {
   "cell_type": "code",
   "execution_count": 22,
   "metadata": {},
   "outputs": [
    {
     "data": {
      "text/plain": [
       "MeasurementFunction()"
      ]
     },
     "execution_count": 22,
     "metadata": {},
     "output_type": "execute_result"
    }
   ],
   "source": [
    "m = MeasurementFunction()"
   ]
  },
  {
   "cell_type": "code",
   "execution_count": 23,
   "metadata": {},
   "outputs": [],
   "source": [
    "function (::RealMeasurementFunction)(t::Float64, ENS::EnsembleState{N, TZ}) where {N, TZ}\n",
    "    let s = sol(t)\n",
    "#     fill!(ENS, [deepcopy(s[3])])\n",
    "    result=soltoResult(s,sys0);\n",
    "    fill!(ENS, [deepcopy(result.θ[1]),deepcopy(result.θ[2])])\n",
    "    end\n",
    "    return ENS\n",
    "end"
   ]
  },
  {
   "cell_type": "code",
   "execution_count": 24,
   "metadata": {},
   "outputs": [
    {
     "data": {
      "text/plain": [
       "RealMeasurementFunction()"
      ]
     },
     "execution_count": 24,
     "metadata": {},
     "output_type": "execute_result"
    }
   ],
   "source": [
    "z = RealMeasurementFunction()"
   ]
  },
  {
   "cell_type": "code",
   "execution_count": 25,
   "metadata": {
    "scrolled": true
   },
   "outputs": [
    {
     "data": {
      "text/plain": [
       "MultiAdditiveInflation{7}(1.001, DiagNormal(\n",
       "dim: 7\n",
       "μ: [0.0, 0.0, 0.0, 0.0, 0.0, 0.0, 0.0]\n",
       "Σ: [0.001 0.0 … 0.0 0.0; 0.0 0.001 … 0.0 0.0; … ; 0.0 0.0 … 0.001 0.0; 0.0 0.0 … 0.0 1.0]\n",
       ")\n",
       ")"
      ]
     },
     "execution_count": 25,
     "metadata": {},
     "output_type": "execute_result"
    }
   ],
   "source": [
    "# A = MultiAdditiveInflation(2, 1.05, MvNormal(zeros(1), 2.0*I))\n",
    "A = MultiAdditiveInflation(7, 1.001, MvNormal(zeros(7), 0.01*Diagonal([0.1,0.1,10.0,10.0,0.1,0.1,100.0])))\n",
    "# A = IdentityInflation()"
   ]
  },
  {
   "cell_type": "code",
   "execution_count": 26,
   "metadata": {},
   "outputs": [
    {
     "data": {
      "text/plain": [
       "AdditiveInflation{2}(DiagNormal(\n",
       "dim: 2\n",
       "μ: [0.0, 0.0]\n",
       "Σ: [0.010000000000000002 0.0; 0.0 0.010000000000000002]\n",
       ")\n",
       ")"
      ]
     },
     "execution_count": 26,
     "metadata": {},
     "output_type": "execute_result"
    }
   ],
   "source": [
    "# ϵ = AdditiveInflation(MvNormal(zeros(1), 1.0*I))\n",
    "ϵ = AdditiveInflation(MvNormal(zeros(2), 0.1*Diagonal([0.1,0.1])))"
   ]
  },
  {
   "cell_type": "code",
   "execution_count": 27,
   "metadata": {},
   "outputs": [
    {
     "data": {
      "text/plain": [
       "true"
      ]
     },
     "execution_count": 27,
     "metadata": {},
     "output_type": "execute_result"
    }
   ],
   "source": [
    "N = 50\n",
    "# NZ = 1\n",
    "NZ = 2\n",
    "isinflated = true\n",
    "isfiltered = false\n",
    "isaugmented = true"
   ]
  },
  {
   "cell_type": "code",
   "execution_count": 28,
   "metadata": {},
   "outputs": [
    {
     "data": {
      "text/plain": [
       "0-element Array{Any,1}"
      ]
     },
     "execution_count": 28,
     "metadata": {},
     "output_type": "execute_result"
    }
   ],
   "source": [
    "x₀ = [0.5, 2.5, 0.0, 0.0, 0.5, 1.5, 300.0]\n",
    "ens = initialize(N, MvNormal(x₀, 0.1*Diagonal([0.1,0.1,10.0,10.0,0.1,0.1,100.0])))\n",
    "estimation_state = [deepcopy(ens.S)]\n",
    "\n",
    "true_state = [deepcopy(x₀)]\n",
    "covs = []"
   ]
  },
  {
   "cell_type": "code",
   "execution_count": 29,
   "metadata": {},
   "outputs": [
    {
     "data": {
      "text/plain": [
       "FilteringFunction()"
      ]
     },
     "execution_count": 29,
     "metadata": {},
     "output_type": "execute_result"
    }
   ],
   "source": [
    "g = FilteringFunction()"
   ]
  },
  {
   "cell_type": "code",
   "execution_count": 30,
   "metadata": {},
   "outputs": [
    {
     "data": {
      "text/plain": [
       "ENKF{50,2}(PropagationFunction(), MultiAdditiveInflation{7}(1.001, DiagNormal(\n",
       "dim: 7\n",
       "μ: [0.0, 0.0, 0.0, 0.0, 0.0, 0.0, 0.0]\n",
       "Σ: [0.001 0.0 … 0.0 0.0; 0.0 0.001 … 0.0 0.0; … ; 0.0 0.0 … 0.001 0.0; 0.0 0.0 … 0.0 1.0]\n",
       ")\n",
       "), FilteringFunction(), MeasurementFunction(), RealMeasurementFunction(), AdditiveInflation{2}(DiagNormal(\n",
       "dim: 2\n",
       "μ: [0.0, 0.0]\n",
       "Σ: [0.010000000000000002 0.0; 0.0 0.010000000000000002]\n",
       ")\n",
       "), true, false, true)"
      ]
     },
     "execution_count": 30,
     "metadata": {},
     "output_type": "execute_result"
    }
   ],
   "source": [
    "enkf = ENKF(N, NZ, fprop, A, g, m, z, ϵ, isinflated, isfiltered, isaugmented)"
   ]
  },
  {
   "cell_type": "code",
   "execution_count": 42,
   "metadata": {},
   "outputs": [],
   "source": [
    "Δt = 1e-5\n",
    "Tsub = 0.0:Δt:0.05-Δt\n",
    "\n",
    "for (n,t) in enumerate(Tsub)\n",
    "\n",
    "    global ens\n",
    "    \n",
    "    t, ens, cov = enkf(t, Δt, ens)\n",
    "    \n",
    "    push!(estimation_state, deepcopy(ens.S))\n",
    "    push!(covs, deepcopy(cov))\n",
    "    \n",
    "\n",
    "end"
   ]
  },
  {
   "cell_type": "code",
   "execution_count": 58,
   "metadata": {},
   "outputs": [
    {
     "ename": "MethodError",
     "evalue": "MethodError: no method matching *(::Char, ::Float64)\nClosest candidates are:\n  *(::Any, ::Any, !Matched::Any, !Matched::Any...) at operators.jl:529\n  *(!Matched::Bool, ::T) where T<:AbstractFloat at bool.jl:110\n  *(!Matched::Float64, ::Float64) at float.jl:405\n  ...",
     "output_type": "error",
     "traceback": [
      "MethodError: no method matching *(::Char, ::Float64)\nClosest candidates are:\n  *(::Any, ::Any, !Matched::Any, !Matched::Any...) at operators.jl:529\n  *(!Matched::Bool, ::T) where T<:AbstractFloat at bool.jl:110\n  *(!Matched::Float64, ::Float64) at float.jl:405\n  ...",
      "",
      "Stacktrace:",
      " [1] top-level scope at .\\In[58]:45"
     ]
    }
   ],
   "source": [
    "# s =  hcat(sol(T).u...)\n",
    "# ϵₗ=Vector(0.001:0.001:0.002)\n",
    "# βₗ=Vector(1.001:0.001:1.002)\n",
    "\n",
    "ϵₗ=[1e-6,2.5e-6,5e-6,1e-5,2.5e-5,5e-5,1e-4,2.5e-4,5e-4,1e-3,2.5e-3,5e-3,1e-2,2.5e-2,5e-2,1e-1,2.5e-1,5e-1]\n",
    "βₗ=[1e-4,2.5e-4,5e-4,1e-3,2.5e-3,5e-3,1e-2,2.5e-2,5e-2,1e-1,2.5e-1,5e-1].+1\n",
    "\n",
    "ErrHe=zeros(length(ϵₗ),length(βₗ))\n",
    "\n",
    " for (i,ϵᵢ) in enumerate(ϵₗ)\n",
    "    for (j,βⱼ) in enumerate(βₗ)\n",
    "        ϵ = AdditiveInflation(MvNormal(zeros(2), ϵᵢ.*Diagonal([1.0,1.0])))\n",
    "        A = MultiAdditiveInflation(7, βⱼ, MvNormal(zeros(7), ϵᵢ.*Diagonal([1.0,1.0,100.0,100.0,1.0,1.0,1000.0])))\n",
    "        \n",
    "        \n",
    "        ens = initialize(N, MvNormal(x₀, ϵᵢ.*Diagonal([1.0,1.0,100.0,100.0,1.0,1.0,1000.0])))\n",
    "        estimation_state = [deepcopy(ens.S)]\n",
    "\n",
    "        true_state = [deepcopy(x₀)]\n",
    "        covs = []\n",
    "        \n",
    "        enkf = ENKF(N, NZ, fprop, A, g, m, z, ϵ, isinflated, isfiltered, isaugmented)\n",
    "        \n",
    "        Δt = 1e-5\n",
    "        Tsub = 0.0:Δt:0.0.05-Δt\n",
    "\n",
    "        for (n,t) in enumerate(Tsub)\n",
    "\n",
    "            global ens\n",
    "    \n",
    "            t, ens, cov = enkf(t, Δt, ens)\n",
    "    \n",
    "            push!(estimation_state, deepcopy(ens.S))\n",
    "            push!(covs, deepcopy(cov))\n",
    "        \n",
    "\n",
    "        end\n",
    "        \n",
    "        ŝ =  hcat(mean.(estimation_state)...)\n",
    "    \n",
    "        ErrHe[i,j]=mean(abs.((3000.0 .- ŝ[7,1:end]) ./ 3000.0))\n",
    "        \n",
    "            \n",
    "        \n",
    "        println([i,j],'='ϵᵢ,βⱼ)\n",
    "        println(\"errorHe=\",ErrHe[i,j])\n",
    "   \n",
    "    end\n",
    "end\n",
    "\n",
    "\n"
   ]
  },
  {
   "cell_type": "code",
   "execution_count": 59,
   "metadata": {},
   "outputs": [],
   "source": [
    "open(\"ErrHe.txt\", \"w\") do io\n",
    "           writedlm(io, ErrHe)\n",
    "       end;"
   ]
  },
  {
   "cell_type": "code",
   "execution_count": 57,
   "metadata": {},
   "outputs": [],
   "source": [
    "open(\"epsilonbeta.txt\", \"w\") do io\n",
    "           writedlm(io, ϵₗ)\n",
    "           writedlm(io, βₗ)\n",
    "       end;"
   ]
  },
  {
   "cell_type": "code",
   "execution_count": 45,
   "metadata": {
    "scrolled": true
   },
   "outputs": [
    {
     "data": {
      "image/png": "[encoded data removed]"
     },
     "execution_count": 45,
     "metadata": {},
     "output_type": "execute_result"
    }
   ],
   "source": [
    "s =  hcat(sol(T).u...)\n",
    "ŝ =  hcat(mean.(estimation_state)...)\n",
    "\n",
    "plt = plot(layout = (2, 1), legend = :bottomright)\n",
    "plot!(plt[1], T, s[1,1:end], linewidth = 3, label = \"truth\")\n",
    "plot!(plt[1], Tsub, ŝ[1,1:end-1], linewidth = 3, markersize = 2, label = \"EnKF mean\", xlabel = \"t\", ylabel = \"x\", linestyle =:dash,title=\"Xp1 location\")\n",
    "\n",
    "plot!(plt[2], T, s[5,1:end], linewidth = 3, label = \"truth\")\n",
    "plot!(plt[2], Tsub, ŝ[7,1:end-1], linewidth = 3, markersize = 2, label = \"EnKF mean\", xlabel = \"t\", ylabel = \"y\", linestyle =:dash,title=\"M1\")"
   ]
  },
  {
   "cell_type": "code",
   "execution_count": 46,
   "metadata": {
    "scrolled": true
   },
   "outputs": [
    {
     "data": {
      "image/png": "[encoded data removed]"
     },
     "execution_count": 46,
     "metadata": {},
     "output_type": "execute_result"
    }
   ],
   "source": [
    "plot(s[1,:], s[5,:], linewidth = 3, label = \"truth\", legend = true)\n",
    "plot!(ŝ[1,1:end-1], ŝ[5,1:end-1], linewidth = 3, label = \"EnKF mean\", xlabel = \"x\", \n",
    "    ylabel = \"y\", linestyle = :dash, legend = false)#:bottomleft)"
   ]
  },
  {
   "cell_type": "code",
   "execution_count": 47,
   "metadata": {},
   "outputs": [
    {
     "data": {
      "text/plain": [
       "0"
      ]
     },
     "execution_count": 47,
     "metadata": {},
     "output_type": "execute_result"
    }
   ],
   "source": [
    "typeof(sol.t) == Array{Float64,1} ? 0 : 2"
   ]
  },
  {
   "cell_type": "code",
   "execution_count": 48,
   "metadata": {},
   "outputs": [
    {
     "data": {
      "text/plain": [
       "Array{Float64,1}"
      ]
     },
     "execution_count": 48,
     "metadata": {},
     "output_type": "execute_result"
    }
   ],
   "source": [
    "typeof([u[1],u[2]])"
   ]
  },
  {
   "cell_type": "code",
   "execution_count": 49,
   "metadata": {},
   "outputs": [
    {
     "data": {
      "text/plain": [
       "Array{Array{Float64,1},1}"
      ]
     },
     "execution_count": 49,
     "metadata": {},
     "output_type": "execute_result"
    }
   ],
   "source": [
    "typeof([result2.M])"
   ]
  },
  {
   "cell_type": "code",
   "execution_count": 50,
   "metadata": {},
   "outputs": [],
   "source": [
    "result2=soltoResult(u,sys0);"
   ]
  },
  {
   "cell_type": "code",
   "execution_count": 51,
   "metadata": {},
   "outputs": [
    {
     "data": {
      "text/plain": [
       "50-element Array{Array{Float64,1},1}:\n",
       " [-2.4400849085846548, -28.71038979737606, -765.0155639589503, 421.24569577480946, 1.1752716657205124, 19.896406044749916, 90.59685280231797]   \n",
       " [-1.2139743981828501, -33.91318878217134, -829.4591766019134, 423.7484131143303, 0.5606047489157711, 23.05092044095949, 17.415367719876883]    \n",
       " [-3.1395329052974246, -26.781656681820742, -810.2800981477106, 157.1802353825384, 1.5476597839405286, 18.704558846686155, -49.21631365147498]  \n",
       " [-1.5926262094104442, -28.70271319524308, -780.1257212758129, 238.92953907725013, 0.8130361924628943, 19.833878156536557, -61.121019933605666] \n",
       " [-3.3954249873525475, -26.577334821898912, -841.3076673880047, 243.88439640471685, 1.6459383246236332, 18.505222482855583, 56.51488577198647]  \n",
       " [-3.8499807947754867, -25.974683855625067, -788.9892283287222, 455.2403989741628, 1.8764454679462454, 18.116767920392213, 426.7109050933322]   \n",
       " [-2.605652458787544, -25.219194031591165, -764.091619809455, 451.4781247164972, 1.3012210380852673, 17.699782910114646, 319.3188898008407]     \n",
       " [-1.4446431384743, -30.105489291982973, -797.222418553625, 358.18904366851933, 0.701273506103973, 20.603787788581062, 34.15548090373297]       \n",
       " [-3.0536585725408134, -33.03773532247097, -822.4365864552163, 630.2885207687079, 1.4788923745144533, 22.447511924294425, 140.02666991843623]   \n",
       " [-5.149518985327759, -24.83372418477119, -812.6829112866204, 287.4054295132899, 2.605626818761544, 17.481127535175144, 20.133957981989788]     \n",
       " [-1.6640745804105805, -33.034922664987334, -823.1931178810056, 431.2270946614977, 0.7987186155423467, 22.508723580882386, 15.049543253534342]  \n",
       " [-3.3561559002996404, -34.42895132506388, -940.5283474178814, 85.50983175663163, 1.6557867580701966, 23.191243054724538, -219.6539336505672]   \n",
       " [-2.0719487390264137, -36.01070603134804, -813.9410261249941, 570.7776126252, 1.0229255899388816, 24.219262304539498, 192.7518312761816]       \n",
       " ⋮                                                                                                                                              \n",
       " [-2.2839179914538734, -29.860403089897776, -826.7483278295008, 278.29041048229186, 1.0724003542943945, 20.462928166223858, -29.806714019766993]\n",
       " [-1.0139385152934763, -34.668807551715965, -819.3044902755213, 513.0661686994067, 0.5203419479334064, 23.40780686518081, 55.9583981877317]     \n",
       " [-4.561835803872759, -18.86635316602945, -862.7857650411271, 118.43995572531662, 2.2439327118991645, 13.796588905960974, 390.0521607697903]    \n",
       " [-6.687942530882016, -22.24182909014276, -880.9513916658872, 420.3555851997157, 3.220172498199701, 15.890020120553917, 776.5366032972914]      \n",
       " [-1.7608915637592297, -32.84066350043059, -818.4812691152657, 464.26921594633046, 0.8494079399159038, 22.347747106874042, 21.79144656634089]   \n",
       " [-2.236261600884021, -27.439548403932495, -776.0848087514834, 492.42153963567586, 1.1172311984168937, 18.99671867649022, 156.74243113618135]   \n",
       " [-1.915538577552952, -31.863326865906096, -800.8025807199034, 497.7464304036423, 0.9380794087584132, 21.773400678276115, 119.48908667199488]   \n",
       " [-2.0361552981939446, -32.127230339602065, -814.7668525424858, 399.5040928932337, 0.9828097897990785, 21.856699350894132, 111.90766398963837]  \n",
       " [-2.349973142851583, -29.852870393749132, -838.1991761770563, 440.64310989040064, 1.1658902415263313, 20.429969783280526, 108.74071990096527]  \n",
       " [-1.896411963183112, -25.79104054654806, -748.5102253985133, 434.391873840448, 0.8935572784131884, 18.05311730923584, 297.3393233211089]       \n",
       " [-1.8569268491703517, -30.65563641589642, -773.6068769423074, 593.2152281920086, 0.9409661736176046, 21.113211535499648, 215.47182398283053]   \n",
       " [-1.1287194586123401, -33.77523427813266, -834.4269409005101, 332.29748395725807, 0.5639220966386541, 22.95085616252267, -80.7958921539587]    "
      ]
     },
     "execution_count": 51,
     "metadata": {},
     "output_type": "execute_result"
    }
   ],
   "source": [
    "ens.S"
   ]
  },
  {
   "cell_type": "code",
   "execution_count": 41,
   "metadata": {},
   "outputs": [
    {
     "data": {
      "text/plain": [
       "PHPSystem(Tube(4.0, 2.0, 1.5707963267948966), Evaporator(3000.0, 1.15, Tuple{Float64,Float64}[(0.0, 1.0), (3.0, 4.0)]), Condenser(3000.0, 0.85, Tuple{Float64,Float64}[(1.0, 3.0)]), LiquidSlug(1.3, [109.54451150103323], [120000.0], Tuple{Float64,Float64}[(1.5, 3.5)], Tuple{Float64,Float64}[(0.0, 0.0)]), VaporPlug(1.3, [1.0, 1.0]))"
      ]
     },
     "execution_count": 41,
     "metadata": {},
     "output_type": "execute_result"
    }
   ],
   "source": [
    "sys0"
   ]
  },
  {
   "cell_type": "code",
   "execution_count": null,
   "metadata": {},
   "outputs": [],
   "source": []
  }
 ],
 "metadata": {
  "kernelspec": {
   "display_name": "Julia 1.3.1",
   "language": "julia",
   "name": "julia-1.3"
  },
  "language_info": {
   "file_extension": ".jl",
   "mimetype": "application/julia",
   "name": "julia",
   "version": "1.3.1"
  }
 },
 "nbformat": 4,
 "nbformat_minor": 2
}
